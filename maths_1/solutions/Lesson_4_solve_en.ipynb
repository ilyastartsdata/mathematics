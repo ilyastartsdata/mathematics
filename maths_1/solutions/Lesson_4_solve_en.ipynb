{
 "cells": [
  {
   "cell_type": "markdown",
   "metadata": {
    "id": "zz7SDkPIkVlM"
   },
   "source": [
    "# Lesson 4"
   ]
  },
  {
   "cell_type": "markdown",
   "metadata": {
    "id": "p_3vqG5-kVlP"
   },
   "source": [
    "# Review of the homework assignment"
   ]
  },
  {
   "cell_type": "markdown",
   "metadata": {
    "id": "SmdURZ_OkVqQ"
   },
   "source": [
    "__1.__ Find the limit of the sequence:\n",
    "\n",
    "### $$a)\\,\\,\\,\\,\\lim_{x\\to 6} \\frac{x^2-36}{x^2-x-30}$$\n",
    "\n",
    "Solution:\n",
    "\n",
    "### $$\\lim_{x\\to 6} \\frac{x^2-36}{x^2-x-30}=\\Bigl(\\frac{0}{0}\\Bigr)=$$\n",
    "\n",
    "### $$=\\lim_{x\\to 6} \\frac{(x-6)(x+6)}{(x-6)(x+5)}=$$\n",
    "\n",
    "### $$=\\lim_{x\\to 6} \\frac{x+6}{x+5}=\\frac{6+6}{6+5}=\\frac{12}{11}$$"
   ]
  },
  {
   "cell_type": "markdown",
   "metadata": {
    "id": "avdjWYGF7cTz"
   },
   "source": [
    "### $$b)\\,\\,\\,\\,\\lim_{x\\to 7} \\frac{x^2-49}{x^2-13x+42}$$\n",
    "\n",
    "Solution:\n",
    "\n",
    "### $$\\lim_{x\\to 7} \\frac{x^2-49}{x^2-13x+42}=\\Bigl(\\frac{0}{0}\\Bigr)=$$\n",
    "\n",
    "### $$=\\lim_{x\\to 7} \\frac{(x-7)(x+7)}{(x-7)(x-6)}=$$\n",
    "\n",
    "### $$=\\lim_{x\\to 7} \\frac{x+7}{x-6}=\\frac{7+7}{7-6}=14$$"
   ]
  },
  {
   "cell_type": "markdown",
   "metadata": {
    "id": "jndTpZRN7cT0"
   },
   "source": [
    "### $$c^*)\\,\\,\\,\\,\\lim_{x\\to 7} \\frac{\\sqrt{x+2}-\\sqrt[3]{x+20}}{\\sqrt[4]{x+9}-2}$$\n",
    "\n",
    "Solution:\n",
    "\n",
    "### $$\\lim_{x\\to 7} \\frac{\\sqrt{x+2}-\\sqrt[3]{x+20}}{\\sqrt[4]{x+9}-2}=\\Bigl(\\frac{0}{0}\\Bigr)=$$\n",
    "\n",
    "### $$=\\lim_{x\\to 7} \\frac{\\sqrt{x+2}-\\sqrt[3]{x+20}}{\\sqrt[4]{x+9}-2}\\cdot\\frac{\\sqrt{x+2}+\\sqrt[3]{x+20}}{\\sqrt{x+2}+\\sqrt[3]{x+20}}\\cdot\\frac{\\sqrt[4]{x+9}+2}{\\sqrt[4]{x+9}+2}=$$\n",
    "\n",
    "### $$=\\lim_{x\\to 7} \\frac{x+2-\\sqrt[3]{(x+20)^2}}{\\sqrt{x+9}-4}\\cdot\\frac{2+2}{3+3}=$$\n",
    "\n",
    "### $$=\\lim_{x\\to 7} \\frac{x+2-\\sqrt[3]{(x+20)^2}}{\\sqrt{x+9}-4}\\cdot\\frac{2}{3}\\cdot\\frac{(x+2)^2+(x+2)\\sqrt[3]{(x+20)^2}+\\sqrt[3]{(x+20)^4}}{(x+2)^2+(x+2)\\sqrt[3]{(x+20)^2}+\\sqrt[3]{(x+20)^4}}\\cdot\\frac{\\sqrt{x+9}+4}{\\sqrt{x+9}+4}=$$\n",
    "\n",
    "\n",
    "\n",
    "### $$=\\lim_{x\\to 7} \\frac{(x+2)^3-(x+20)^2}{x+9-16}\\cdot\\frac{2}{3}\\cdot\\frac{4+4}{9^2+9\\cdot9+9^2}=$$\n",
    "\n",
    "### $$=\\lim_{x\\to 7} \\frac{(x+2)^3-(x+20)^2}{x+9-16}\\cdot\\frac{2\\cdot8}{3\\cdot243}=$$\n",
    "\n",
    "### $$=\\lim_{x\\to 7} \\frac{x^3+6x^2+12x+8-x^2-40x-400}{x-7}\\cdot\\frac{2\\cdot8}{3\\cdot243}=$$\n",
    "\n",
    "### $$=\\lim_{x\\to 7} \\frac{x^3+5x^2-28x-392}{x-7}\\cdot\\frac{2\\cdot8}{3\\cdot243}=$$\n",
    "\n",
    "### $$=\\lim_{x\\to 7} \\frac{(x-7)(x^2+12x+56)}{x-7}\\cdot\\frac{2\\cdot8}{3\\cdot243}=$$\n",
    "\n",
    "### $$=\\frac{49+84+56}{1}\\cdot\\frac{2\\cdot8}{3\\cdot243}=$$\n",
    "\n",
    "### $$=\\frac{189}{1}\\cdot\\frac{2\\cdot8}{3\\cdot243}=\\frac{112}{27}$$"
   ]
  },
  {
   "cell_type": "markdown",
   "metadata": {
    "id": "qvTO2Bjc7cT1"
   },
   "source": [
    "### $$d)\\,\\,\\,\\,\\lim_{x\\to 0} \\frac{3x\\,\\mbox{tg}\\,4x}{1-\\cos4x}$$\n",
    "\n",
    "Solution:\n",
    "\n",
    "### $$\\lim_{x\\to 0} \\frac{3x\\,\\mbox{tg}\\,4x}{1-\\cos4x}=\\Bigl(\\frac{0}{0}\\Bigr)=$$\n",
    "\n",
    "### $$=\\lim_{x\\to 0} \\frac{3x\\cdot4x}{\\frac{16x^2}{2}}=\\frac{3\\cdot4}{8}=\\frac{3}{2}$$\n"
   ]
  },
  {
   "cell_type": "markdown",
   "metadata": {
    "id": "kDYL5jcB7cT1"
   },
   "source": [
    "### $$e^{**})\\,\\,\\,\\,\\lim_{x\\to 0} \\frac{\\sqrt2x^2\\sin4x}{(1-\\cos2x)^{\\frac{3}{2}}}$$\n",
    "\n",
    "\n",
    "Solution:\n",
    "\n",
    "### $$\\lim_{x\\to 0} \\frac{\\sqrt2x^2\\sin4x}{(1-\\cos2x)^{\\frac{3}{2}}}=\\Bigl(\\frac{0}{0}\\Bigr)=$$\n",
    "\n",
    "### $$=\\lim_{x\\to 0} \\frac{\\sqrt2x^2\\cdot4x}{\\Bigl(\\frac{4x^2}{2}\\Bigr)^{\\frac{3}{2}}}=$$\n",
    "\n",
    "### $$=\\lim_{x\\to 0} \\frac{\\sqrt2x^2\\cdot4x}{\\sqrt{8x^6}}=$$\n",
    "\n",
    "### $$=\\lim_{x\\to 0} \\frac{4\\sqrt2x^3}{2\\sqrt{2}|x^3|}=\\pm2$$\n",
    "\n",
    "If a limit at a point exists, it is the only one. Therefore, in this example the limit at a point does not exist."
   ]
  },
  {
   "cell_type": "markdown",
   "metadata": {
    "id": "szcvyUjb7cT2"
   },
   "source": [
    "### $$f)\\,\\,\\,\\,\\lim_{x\\to \\infty} \\Bigr(\\frac{4x}{4x+3}\\Bigl)^\\frac{5x^2}{7x-1}$$\n",
    "\n",
    "\n",
    "Solution:\n",
    "\n",
    "### $$\\lim_{x\\to \\infty} \\Bigr(\\frac{4x}{4x+3}\\Bigl)^\\frac{5x^2}{7x-1}=(1)^\\infty=$$\n",
    "\n",
    "### $$=e^{\\lim_{x\\to \\infty} \\Bigr(\\frac{4x}{4x+3}-1\\Bigl)\\cdot\\frac{5x^2}{7x-1}}=$$\n",
    "\n",
    "### $$=e^{\\lim_{x\\to \\infty} \\frac{-3}{4x+3}\\cdot\\frac{5x^2}{7x-1}}=$$\n",
    "\n",
    "### $$=e^{\\frac{-3\\cdot5}{4\\cdot7}}=e^{-\\frac{15}{28}}$$"
   ]
  },
  {
   "cell_type": "markdown",
   "metadata": {
    "id": "zR0FthHa7cT2"
   },
   "source": [
    "### $$g^*)\\,\\,\\,\\,\\lim_{x\\to +0} \\frac{5^x-1}{x}$$\n",
    "\n",
    "Solution:\n",
    "\n",
    "### $$\\lim_{x\\to +0} \\frac{5^x-1}{x}=\\Bigl(\\frac{0}{0}\\Bigr)=$$\n",
    "\n",
    "### $$\\lim_{x\\to +0} \\frac{e^{x\\ln5}-1}{x}=$$\n",
    "\n",
    "### $$\\lim_{x\\to +0} \\frac{\\ln5(e^{x\\ln5}-1)}{x\\ln5}=\\ln5$$"
   ]
  },
  {
   "cell_type": "markdown",
   "metadata": {
    "id": "ScAgNiWk7cT2"
   },
   "source": [
    "### $$h^*)\\,\\,\\,\\,\\lim_{x\\to +\\infty} \\frac{\\ln(x^2-x+1)}{\\ln(x^{10}+x+1)}$$\n",
    "\n",
    "Solution:\n",
    "\n",
    "### $$\\lim_{x\\to +\\infty} \\frac{\\ln(x^2-x+1)}{\\ln(x^{10}+x+1)}=\\Bigl(\\frac{\\infty}{\\infty}\\Bigr)=$$\n",
    "\n",
    "### $$\\lim_{x\\to +\\infty} \\frac{\\ln(x^2)+\\ln(1-\\frac{1}{x}+\\frac{1}{x^2})}{\\ln(x^{10})+\\ln(1+\\frac{1}{x^9}+\\frac{1}{x^{10}})}=$$\n",
    "\n",
    "### $$=\\frac{2\\ln(\\infty)}{10\\ln(\\infty)}=\\frac{2}{10}=\\frac{1}{5}$$"
   ]
  },
  {
   "cell_type": "markdown",
   "metadata": {
    "id": "gc9EtMtC7cT3"
   },
   "source": [
    "### Lopital rule\n",
    "\n",
    "If the limit \n",
    "\n",
    "### $$\\lim_{x\\to x_0} \\frac{f(x)}{g(x)}$$\n",
    "\n",
    "has an uncertainty\n",
    "\n",
    "### $$\\Bigl(\\frac{\\infty}{\\infty}\\Bigr) \\,\\mbox{или}\\,\\Bigl(\\frac{0}{0}\\Bigr)$$\n",
    "\n",
    "then:\n",
    "\n",
    "### $$\\lim_{x\\to x_0} \\frac{f(x)}{g(x)}=\\lim_{x\\to x_0} \\frac{f'(x)}{g'(x)}$$"
   ]
  },
  {
   "cell_type": "markdown",
   "metadata": {
    "id": "7CXkUdaD7cT4"
   },
   "source": [
    "__2*.__ In Python, propose an algorithm that calculates numerically the limit of a sequence\n",
    "\n",
    "### $$\\lim_{n\\to +\\infty} \\frac{n}{\\sqrt[n]{n!}}$$"
   ]
  },
  {
   "cell_type": "code",
   "execution_count": null,
   "metadata": {
    "id": "CazC2vZS7cT5"
   },
   "outputs": [],
   "source": [
    "from math import lgamma  #lgamma = ln((n-1)!)\n",
    "import numpy as np\n",
    "import math\n",
    "from decimal import Decimal\n",
    "import time"
   ]
  },
  {
   "cell_type": "code",
   "execution_count": null,
   "metadata": {
    "id": "BC1x2Z1B7cT5",
    "outputId": "db01397e-4d01-4f14-b4b1-8f3b1029cfa8"
   },
   "outputs": [
    {
     "name": "stdout",
     "output_type": "stream",
     "text": [
      "2.684030488771894142063369175 0.000099697432711786705996101 297\n",
      "--- 5.057932615280151 seconds ---\n"
     ]
    }
   ],
   "source": [
    "# Through an embedded factorial\n",
    "start_time = time.time()\n",
    "\n",
    "def f(n):\n",
    "    b = math.factorial(n)\n",
    "    a = n/b**(1/n)\n",
    "    return a\n",
    "acc = 0.0001\n",
    "i=Decimal(2)\n",
    "while(abs(f(i)-f(i-1)))>acc:\n",
    "    i +=1\n",
    "print(f(i), abs(f(i)-f(i-1)), i)\n",
    "print(\"--- %s seconds ---\" % (time.time() - start_time))"
   ]
  },
  {
   "cell_type": "code",
   "execution_count": null,
   "metadata": {
    "id": "JOkIkz-Y7cT7",
    "outputId": "bfcfeadb-1664-41ad-8120-bf41af5f96c8"
   },
   "outputs": [
    {
     "name": "stdout",
     "output_type": "stream",
     "text": [
      "2.706707028529769028562952103 0.000009964151609147506113138 1028\n",
      "--- 9.691914558410645 seconds ---\n"
     ]
    }
   ],
   "source": [
    "# Through a self-written factorial\n",
    "start_time = time.time()\n",
    "\n",
    "acc = 0.00001\n",
    "fact = Decimal(2)\n",
    "i = Decimal(3)\n",
    "fi_1 = 1/1**(1/1)\n",
    "fi   = 2/2**(1/2)\n",
    "\n",
    "while(abs(fi-fi_1))>acc:\n",
    "    \n",
    "    fact *= i\n",
    "    fi_1 = fi\n",
    "    fi = float(i/fact**(1/i))\n",
    "    i +=1\n",
    "    \n",
    "print(f(i), abs(f(i)-f(i-1)), i)\n",
    "print(\"--- %s seconds ---\" % (time.time() - start_time))"
   ]
  },
  {
   "cell_type": "markdown",
   "metadata": {
    "id": "SyPkIMNT7cT8"
   },
   "source": [
    "### Stirling formula\n",
    "\n",
    "### $$n!\\approx\\sqrt{2\\pi n}\\Bigl(\\frac{n}{e}\\Bigr)^n$$"
   ]
  },
  {
   "cell_type": "code",
   "execution_count": null,
   "metadata": {
    "id": "YedI-tiO7cT8",
    "outputId": "c5ec36dd-4cc3-4b6a-8d15-72a5d74c6846"
   },
   "outputs": [
    {
     "name": "stdout",
     "output_type": "stream",
     "text": [
      "2.7182665937361787 9.99955673819386e-12 1428290\n",
      "--- 5.7257256507873535 seconds ---\n"
     ]
    }
   ],
   "source": [
    "# Using Stirling formula\n",
    "start_time = time.time()\n",
    "\n",
    "def f(n):\n",
    "    return np.e/(2*np.pi*n)**(1/(2*n))\n",
    "acc = 0.00000000001\n",
    "i=2\n",
    "while(abs(f(i)-f(i-1)))>acc:\n",
    "    i +=1\n",
    "print(f(i), abs(f(i)-f(i-1)), i)\n",
    "print(\"--- %s seconds ---\" % (time.time() - start_time))"
   ]
  },
  {
   "cell_type": "code",
   "execution_count": null,
   "metadata": {
    "id": "lAREXkr37cT9",
    "outputId": "a0a168b9-7eab-48b4-b983-4da0ddc62cd9"
   },
   "outputs": [
    {
     "name": "stdout",
     "output_type": "stream",
     "text": [
      "6402373705727981.0\n",
      "36.39544520803305\n"
     ]
    }
   ],
   "source": [
    "n=19\n",
    "print(np.e**lgamma(n))\n",
    "n=Decimal(n)\n",
    "print(lgamma(n))"
   ]
  },
  {
   "cell_type": "code",
   "execution_count": null,
   "metadata": {
    "id": "Kstny37R7cT9",
    "outputId": "49cd1670-bfe8-40a6-d12c-a3ee31df9f4a"
   },
   "outputs": [
    {
     "name": "stdout",
     "output_type": "stream",
     "text": [
      "2.7182818284590478\n",
      "2.718281828459045\n"
     ]
    }
   ],
   "source": [
    "n=30000000000000000\n",
    "\n",
    "print (n/np.e**(lgamma(n+1)/n))\n",
    "print (np.e)"
   ]
  },
  {
   "cell_type": "code",
   "execution_count": null,
   "metadata": {
    "id": "qsWVZbWL7cT9",
    "outputId": "b3efe32b-4212-4bb3-e677-e3092a235205"
   },
   "outputs": [
    {
     "name": "stdout",
     "output_type": "stream",
     "text": [
      "2.7182665873231926 9.99866855977416e-12 1427649\n",
      "--- 4.081213712692261 seconds ---\n"
     ]
    }
   ],
   "source": [
    "# Using function lgamma = ln((n-1)!)\n",
    "start_time = time.time()\n",
    "\n",
    "def f(n):\n",
    "    return n/np.e**(lgamma(n+1)/n)\n",
    "acc = 0.00000000001\n",
    "i=2\n",
    "while(abs(f(i)-f(i-1)))>acc:\n",
    "    i +=1\n",
    "print(f(i), abs(f(i)-f(i-1)), i)\n",
    "print(\"--- %s seconds ---\" % (time.time() - start_time))"
   ]
  }
 ],
 "metadata": {
  "colab": {
   "collapsed_sections": [],
   "name": "Lesson_4_solve.ipynb",
   "provenance": []
  },
  "kernelspec": {
   "display_name": "Python 3",
   "language": "python",
   "name": "python3"
  },
  "language_info": {
   "codemirror_mode": {
    "name": "ipython",
    "version": 3
   },
   "file_extension": ".py",
   "mimetype": "text/x-python",
   "name": "python",
   "nbconvert_exporter": "python",
   "pygments_lexer": "ipython3",
   "version": "3.8.5"
  }
 },
 "nbformat": 4,
 "nbformat_minor": 1
}
