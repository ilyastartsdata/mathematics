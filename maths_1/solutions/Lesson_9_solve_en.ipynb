{
 "cells": [
  {
   "cell_type": "markdown",
   "metadata": {
    "id": "zz7SDkPIkVlM"
   },
   "source": [
    "# Lesson 9"
   ]
  },
  {
   "cell_type": "markdown",
   "metadata": {
    "id": "p_3vqG5-kVlP"
   },
   "source": [
    "# Review of the homework assignment"
   ]
  },
  {
   "cell_type": "markdown",
   "metadata": {
    "id": "SmdURZ_OkVqQ"
   },
   "source": [
    "__1.__ Calculate the indefinite integral\n",
    "\n",
    "### $$\\int \\frac{2x+3}{(x-2)(x+5)}\\,dx$$\n",
    "\n",
    "Solution:\n",
    "\n",
    "\n",
    "### $$\\frac{2x+3}{(x-2)(x+5)}=\\frac{A}{x-2}+\\frac{B}{x+5}$$ \n",
    "\n",
    "Let's reduce the fraction c to a common denominator, then compare the numerator to the original fraction:\n",
    "\n",
    "### $$\\frac{A}{x-2}+\\frac{B}{x+5}=\\frac{x(A+B)+(5A-2B)}{(x-2)(x+5)}$$\n",
    "\n",
    "\n",
    "By comparing the numerators we obtain the following system of linear equations:\n",
    "\n",
    "### $$\\begin{cases}\n",
    "   A+B=2 \\\\\n",
    "   5A-2B=3\n",
    " \\end{cases}\\,\\,\\,\\,\\,\\Rightarrow\\,\\,\\,\\,\\, \n",
    " \\begin{cases}\n",
    "   A=1 \\\\\n",
    "   B=1\n",
    " \\end{cases}$$ \n",
    "\n",
    "Then:\n",
    "\n",
    "### $$\\int\\frac{2x+3}{(x-2)(x+5)}\\,dx=\\int\\frac{1}{x-2}\\,dx+\\int\\frac{1}{x+5}\\,dx=$$\n",
    "\n",
    "### $$=\\ln|x-2|+\\ln|x+5|+C$$"
   ]
  },
  {
   "cell_type": "markdown",
   "metadata": {
    "id": "cECfCSANkVqR"
   },
   "source": [
    "__2.__ Calculate the indefinite integral\n",
    "\n",
    "### $$\\int e^{2x}\\cos 3x\\,dx$$\n",
    "\n",
    "Solution:\n",
    "\n",
    "Let's integrate piecemeal\n",
    "\n",
    "### $$U=e^{2x}\\,\\,\\,\\,\\,\\Rightarrow\\,\\,\\,\\,\\, dU=2e^{2x}\\,dx$$ \n",
    "### $$dV=\\cos 3x\\,dx\\,\\,\\,\\,\\,\\Rightarrow\\,\\,\\,\\,\\, V=\\frac{1}{3}\\sin 3x$$ \n",
    "\n",
    "Then:\n",
    "\n",
    "### $$\\int e^{2x}\\cos 3x\\,dx=e^{2x}\\cdot \\frac{1}{3}\\sin 3x-\\int 2e^{2x}\\cdot \\frac{1}{3}\\sin 3x\\,dx$$ \n",
    "\n",
    "### $$=\\frac{1}{3}e^{2x}\\sin 3x-\\frac{2}{3}\\int e^{2x}\\cdot \\sin 3x\\, dx$$ \n",
    "\n",
    "Use the formula once again\n",
    "\n",
    "### $$U=e^{2x}\\,\\,\\,\\,\\,\\Rightarrow\\,\\,\\,\\,\\, dU=2e^{2x}\\,dx$$ \n",
    "### $$dV=\\sin 3x\\,dx\\,\\,\\,\\,\\,\\Rightarrow\\,\\,\\,\\,\\, V=-\\frac{1}{3}\\cos 3x$$ \n",
    "\n",
    "Then:\n",
    "\n",
    "### $$\\int e^{2x}\\cos 3x\\,dx=\\frac{1}{3}e^{2x}\\sin 3x+\\frac{2}{9}e^{2x}\\cos 3x-\\frac{4}{9}\\int e^{2x}\\cdot \\cos 3x\\, dx$$\n",
    "\n",
    "Transfer the integral from the right to the left\n",
    "\n",
    "### $$\\frac{13}{9}\\int e^{2x}\\sin x\\,dx=\\frac{1}{3}e^{2x}\\sin 3x+\\frac{2}{9}e^{2x}\\cos 3x$$\n",
    "\n",
    "### $$\\int e^{2x}\\sin x\\,dx=\\frac{e^{2x}(3\\sin 3x+2\\cos 3x)}{13}+C$$"
   ]
  },
  {
   "cell_type": "markdown",
   "metadata": {
    "id": "DFrjdtbHkVqS"
   },
   "source": [
    "__3.__ Calculate the definite integral\n",
    "\n",
    "### $$\\int\\limits_0^{\\ln2} xe^{-x}\\,dx$$\n",
    "\n",
    "Solution:\n",
    "\n",
    "Let's integrate by parts\n",
    "\n",
    "### $$U=x\\,\\,\\,\\,\\,\\Rightarrow\\,\\,\\,\\,\\, dU=dx$$ \n",
    "### $$dV=e^{-x}\\,dx\\,\\,\\,\\,\\,\\Rightarrow\\,\\,\\,\\,\\, V=-e^{-x}$$ \n",
    "\n",
    "Then:\n",
    "\n",
    "### $$\\int\\limits_0^{\\ln2} xe^{-x}\\,dx=\\Bigr(x\\cdot (-e^{-x})\\Bigl)\\bigg|_0^{\\ln2}+\\int\\limits_0^{\\ln2} e^{-x}\\,dx=$$ \n",
    "\n",
    "### $$=\\ln2\\cdot(-\\frac{1}{2})-\\Bigr(e^{-x}\\Bigl)\\bigg|_0^{\\ln2}$$ \n",
    "\n",
    "### $$=-\\frac{\\ln2}{2}-\\frac{1}{2}+1=\\frac{1-\\ln2}{2}$$ "
   ]
  },
  {
   "cell_type": "markdown",
   "metadata": {
    "id": "auR0qMDl7zfi"
   },
   "source": [
    "__4.__ Calculate the non-self integral\n",
    "\n",
    "### $$\\int\\limits_2^{+\\infty} \\frac{dx}{x^2+x-2}$$\n",
    "\n",
    "Solution:\n",
    "\n",
    "### $$\\int\\limits_2^{+\\infty} \\frac{dx}{x^2+x-2}=\\lim_{b\\to +\\infty}\\int\\limits_2^{b} \\frac{dx}{x^2+x-2}=$$\n",
    "\n",
    "### $$=\\lim_{b\\to +\\infty}\\int\\limits_2^{b} \\frac{dx}{(x-1)(x+2)}=\\frac{1}{3}\\lim_{b\\to +\\infty}\\int\\limits_2^{b} \\Bigr(\\frac{1}{x-1}-\\frac{1}{x+2}\\Bigl)\\,dx=$$\n",
    "\n",
    "### $$=\\frac{1}{3}\\lim_{b\\to +\\infty}\\Bigr(\\ln|x-1|-\\ln|x+2|\\Bigl)\\bigg|_2^{b}=\\frac{1}{3}\\lim_{b\\to +\\infty}\\Bigr(\\ln\\frac{|x-1|}{|x+2|}\\Bigl)\\bigg|_2^{b}=$$\n",
    "\n",
    "### $$=\\frac{1}{3}\\ln|1|-\\frac{1}{3}\\ln\\Bigr|\\frac{1}{4}\\Bigl|=\\frac{1}{3}\\ln4$$"
   ]
  },
  {
   "cell_type": "markdown",
   "metadata": {
    "id": "Wnx9oFYt7zfj"
   },
   "source": [
    "__5*.__ Calculate the non-self integral\n",
    "\n",
    "### $$\\int\\limits_0^{1} \\ln x\\,dx$$\n",
    "\n",
    "Solution:\n",
    "\n",
    "### $$\\int\\limits_0^{1} \\ln x\\,dx=\\lim_{\\varepsilon\\to 0}\\int\\limits_\\varepsilon^{1} \\ln x\\,dx$$\n",
    "\n",
    "Let's integrate by parts\n",
    "\n",
    "### $$U=\\ln x\\,\\,\\,\\,\\,\\Rightarrow\\,\\,\\,\\,\\, dU=\\frac{dx}{x}$$ \n",
    "### $$dV=dx\\,\\,\\,\\,\\,\\Rightarrow\\,\\,\\,\\,\\, V=x$$ \n",
    "\n",
    "Then:\n",
    "\n",
    "### $$\\lim_{\\varepsilon\\to 0}\\Bigr((\\ln x\\cdot x)\\bigg|_\\varepsilon^1-\\int\\limits_\\varepsilon^{1} \\,dx\\Bigl)=$$\n",
    "\n",
    "### $$=\\lim_{\\varepsilon\\to 0}\\Bigr(x\\ln x-x\\Bigl)\\bigg|_\\varepsilon^1=$$\n",
    "\n",
    "### $$=1\\cdot0-1-\\lim_{\\varepsilon\\to 0}\\Bigr(\\varepsilon\\ln \\varepsilon-\\varepsilon\\Bigl)=$$\n",
    "\n",
    "### $$=-1-\\lim_{\\varepsilon\\to 0}\\Bigr(\\frac{\\ln \\varepsilon}{\\frac{1}{\\varepsilon}}\\Bigl)=$$\n",
    "\n",
    "### $$=-1-\\lim_{\\varepsilon\\to 0}\\Bigr(\\frac{\\frac{1}{\\varepsilon}}{-\\frac{1}{\\varepsilon^2}}\\Bigl)=$$\n",
    "\n",
    "### $$=-1+\\lim_{\\varepsilon\\to 0}\\Bigr(\\varepsilon\\Bigl)=-1$$"
   ]
  },
  {
   "cell_type": "markdown",
   "metadata": {
    "id": "Iv-T_NZAkVqZ"
   },
   "source": [
    "## Дополнительные материалы"
   ]
  },
  {
   "cell_type": "markdown",
   "metadata": {
    "id": "9o_SiUNxkVqa"
   },
   "source": [
    "1. [пример вычисления интеграла Лебега на WolframAlpfa](https://demonstrations.wolfram.com/LebesgueIntegration/)\n",
    "2. [про интеграл Лебега](https://mathworld.wolfram.com/LebesgueIntegral.html)\n",
    "3. [про меру Лебега](https://mathworld.wolfram.com/Measure.html)"
   ]
  },
  {
   "cell_type": "code",
   "execution_count": null,
   "metadata": {
    "id": "Dv_LzowY7zfk"
   },
   "outputs": [],
   "source": []
  }
 ],
 "metadata": {
  "colab": {
   "collapsed_sections": [],
   "name": "Lesson_9_solve.ipynb",
   "provenance": []
  },
  "kernelspec": {
   "display_name": "Python 3",
   "language": "python",
   "name": "python3"
  },
  "language_info": {
   "codemirror_mode": {
    "name": "ipython",
    "version": 3
   },
   "file_extension": ".py",
   "mimetype": "text/x-python",
   "name": "python",
   "nbconvert_exporter": "python",
   "pygments_lexer": "ipython3",
   "version": "3.8.5"
  }
 },
 "nbformat": 4,
 "nbformat_minor": 1
}
