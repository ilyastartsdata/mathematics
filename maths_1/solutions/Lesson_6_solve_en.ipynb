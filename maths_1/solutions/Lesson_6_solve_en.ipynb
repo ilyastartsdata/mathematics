{
 "cells": [
  {
   "cell_type": "markdown",
   "metadata": {
    "id": "zz7SDkPIkVlM"
   },
   "source": [
    "# Lesson 6"
   ]
  },
  {
   "cell_type": "markdown",
   "metadata": {
    "id": "p_3vqG5-kVlP"
   },
   "source": [
    "# Review of the homework assignment"
   ]
  },
  {
   "cell_type": "markdown",
   "metadata": {
    "id": "aU5YNMH9kVqP"
   },
   "source": [
    "## Practical task"
   ]
  },
  {
   "cell_type": "markdown",
   "metadata": {
    "id": "SmdURZ_OkVqQ"
   },
   "source": [
    "__1.__ Find the derivative of $y'$ of the function:\n",
    "\n",
    "### $$\\mbox{arctg}\\Bigr(\\frac{y}{x}\\Bigl)=\\ln \\sqrt{x^2+y^2}$$\n",
    "\n",
    "Solution:\n",
    "\n",
    "### $$\\frac{1}{1+\\Bigr(\\frac{y}{x}\\Bigl)^2}\\cdot \\frac{y'\\cdot x-y\\cdot 1}{x^2} =\\frac{1}{2}\\cdot \\frac{1}{x^2+y^2} \\cdot (2x+2y\\cdot y')$$\n",
    "\n",
    "### $$\\frac{y'\\cdot x-y\\cdot 1}{x^2+y^2}=\\frac{1}{2}\\cdot \\frac{2x+2y\\cdot y'}{x^2+y^2}$$\n",
    "\n",
    "### $$2x\\cdot y'-2y=2x+2y\\cdot y'$$\n",
    "\n",
    "### $$(2x-2y)\\cdot y'=2x+2y$$\n",
    "\n",
    "### $$y'=\\frac{x+y}{x-y}$$"
   ]
  },
  {
   "cell_type": "markdown",
   "metadata": {
    "id": "cECfCSANkVqR"
   },
   "source": [
    "__2.__ Find the derivative of $y'_{x}$ of the function:\n",
    "\n",
    "### $$\\begin{cases}\n",
    "   y=\\frac{t^2}{t-1}, \\\\\n",
    "   x=\\frac{t}{t^2-1} \n",
    " \\end{cases}$$\n",
    " \n",
    " Solution:\n",
    " \n",
    " \n",
    " ### $$\\begin{cases}\n",
    "   y'_{t}=\\frac{2t\\cdot (t-1)-t^2\\cdot1}{(t-1)^2}, \\\\\n",
    "   x_{t}=\\frac{1\\cdot(t^2-1)-t\\cdot2t}{(t^2-1)^2} \n",
    " \\end{cases}\\Rightarrow\n",
    " \\begin{cases}\n",
    "   y'_{t}=\\frac{t^2-2t}{(t-1)^2}, \\\\\n",
    "   x_{t}=\\frac{-t^2-1}{(t^2-1)^2} \n",
    " \\end{cases}\\Rightarrow\n",
    " y'_{x}=\\frac{y'_{t}}{x_{t}}=\\frac{t^2-2t}{(t-1)^2}\\cdot \\frac{(t^2-1)^2}{-t^2-1}=-\\frac{(t^2-2t)(t+1)^2}{t^2+1}$$"
   ]
  },
  {
   "cell_type": "markdown",
   "metadata": {
    "id": "DFrjdtbHkVqS"
   },
   "source": [
    "__3.__ Find the derivative by using logarithm:\n",
    "\n",
    "### $$y=(x^2+2)^5\\cdot(3x-x^3)^3$$\n",
    "\n",
    "Solution:\n",
    "\n",
    "### $$y'=f(x)\\cdot (\\ln f(x))'$$\n",
    "\n",
    "### $$y'=(x^2+2)^5\\cdot(3x-x^3)^3\\cdot\\Bigr(\\frac{5\\cdot2x}{x^2+2}+\\frac{3\\cdot(3-3x^2)}{3x-x^3}\\Bigl)$$"
   ]
  },
  {
   "cell_type": "markdown",
   "metadata": {
    "id": "5la-eVLukVqT"
   },
   "source": [
    "__4.__ Find the derivative of a function by using logarithm:\n",
    "\n",
    "### $$y=x^x$$\n",
    "\n",
    "Solution:\n",
    "\n",
    "### $$y'=f(x)\\cdot (\\ln f(x))'$$\n",
    "\n",
    "### $$y'=x^x\\cdot\\Bigr(x\\cdot\\ln x\\Bigl)'=x^x\\cdot\\Bigr(1\\cdot\\ln x+x\\cdot\\frac{1}{x}\\Bigl)=x^x\\cdot\\Bigr(\\ln x+1\\Bigl)$$"
   ]
  },
  {
   "cell_type": "markdown",
   "metadata": {
    "id": "kQlell_GkVqU"
   },
   "source": [
    "__5.__ Find the derivative of a function by using logarithm:\n",
    "\n",
    "### $$y=\\frac{(2-x^2)^3\\cdot(x-1)^2}{(2x^3-3x)\\cdot e^x}$$\n",
    "\n",
    "Solution:\n",
    "\n",
    "### $$y'=f(x)\\cdot (\\ln f(x))'$$\n",
    "\n",
    "### $$y'=\\frac{(2-x^2)^3\\cdot(x-1)^2}{(2x^3-3x)\\cdot e^x}\\cdot\\Bigr(\\frac{3\\cdot(-2x)}{2-x^2}+\\frac{2}{x-1}-\\frac{6x^2-3}{2x^3-3x}-1\\Bigl)$$"
   ]
  },
  {
   "cell_type": "markdown",
   "metadata": {
    "id": "6qO3s8ckTgo5"
   },
   "source": [
    "__6*.__ Output the tabulated value of the derivative for the function\n",
    "\n",
    "### $$\\mbox{arctg}(x)$$\n",
    "\n",
    "Solution:\n",
    "\n",
    "Let $y=\\mbox{arctg}(x)$, then\n",
    "\n",
    "### $$y'_{x}=\\frac{1}{x'_{y}}=\\frac{1}{(\\mbox{tg} y)'_{y}}=\\frac{\\cos^2 y}{1}=\\cos^2 y$$\n",
    "\n",
    "### $$\\mbox{tg} y=\\frac{\\sin y}{\\cos y}$$\n",
    "\n",
    "means \n",
    "\n",
    "### $$\\mbox{tg}^2 y=\\frac{\\sin^2 y}{\\cos^2 y}=\\frac{1-\\cos^2 y}{\\cos^2 y}$$\n",
    "\n",
    "### $$\\mbox{tg}^2 y=\\frac{1-\\cos^2 y}{\\cos^2 y}$$\n",
    "\n",
    "### $$\\mbox{tg}^2 y \\cdot\\cos^2 y=1-\\cos^2 y$$\n",
    "\n",
    "### $$(1+\\mbox{tg}^2 y)\\cdot\\cos^2 y=1$$\n",
    "\n",
    "### $$\\cos^2 y=\\frac{1}{1+\\mbox{tg}^2 y}$$\n",
    "\n",
    "then \n",
    "\n",
    "### $$y'_{x}=\\cos^2 y=\\frac{1}{1+\\mbox{tg}^2 y}=\\frac{1}{1+\\mbox{tg}^2 (\\mbox{arctg}(x))}=\\frac{1}{1+x^2}$$\n"
   ]
  },
  {
   "cell_type": "markdown",
   "metadata": {
    "id": "DM05fpAuTgo6"
   },
   "source": [
    "__7.__ Find the length $𝑥$ and width $𝑦$ of a rectangle with a given perimeter $𝑃=144$ cm, at which this rectangle has the largest area $𝑆$.\n",
    "\n",
    "Solution:\n",
    "\n",
    "The function under study in this problem is the area function \n",
    "$$S=x\\cdot y.$$\n",
    "\n",
    "We also have a condition on the perimeter that allows us to express one variable by another\n",
    "$$P=2(x+y)=144 \\Rightarrow x+y=72 \\Rightarrow y=72-x$$\n",
    "\n",
    "Fit the value of $y$ into our fuction and investigate it using the derivatives:\n",
    "\n",
    "$$S=x\\cdot y=x\\cdot(72-x)=72x-x^2$$\n",
    "\n",
    "$$S'=72-2x=0$$\n",
    "\n",
    "The derivative exists at any value of $x$, but turns to $0$ at $x=36$$ - the critical point.\n",
    "\n",
    "$$S'(30)=72-2\\cdot30=12>0$$\n",
    "$$S'(40)=72-2\\cdot40=-8<0$$\n",
    "\n",
    "I.e. our found point is the maximum point. Let's find $y$:\n",
    "\n",
    "$$y=72-x=72-36=36$$\n",
    "\n",
    "We can conclude that of all rectangles with the same perimeter, the square has the largest area!\n",
    "\n",
    "Answer $x=y=36$ cm"
   ]
  },
  {
   "cell_type": "markdown",
   "metadata": {
    "id": "SiSvpXChTgo7"
   },
   "source": [
    "__8*.__ The plant $A$ is at a distance of $a$ km from the railway running from south to north through $B$, counting from the shortest distance. At what angle $\\alpha$ to the railway should you build a siding from the plant, so that the transportation of cargo from $A$ to $B$ would be most economical, if the cost of transportation of a ton of cargo at a distance of $1$ km is: $p$ rubles along the siding, $q$ rubles along the railway $(p>q)$ and $b$ km north of $A$ plant.\n",
    "\n",
    "Solution:\n",
    "\n",
    "__See the first case where the access road meets the railroad to $B$.__"
   ]
  },
  {
   "cell_type": "markdown",
   "metadata": {
    "id": "eusiQOwUTgo8"
   },
   "source": [
    "<img src=\"https://i.ibb.co/pPjz49b/7-3.png\" width = 600/>"
   ]
  },
  {
   "cell_type": "markdown",
   "metadata": {
    "id": "VCrKP8NrTgo9"
   },
   "source": [
    "Triangle $ACD$ is rectangular, then:\n",
    "    \n",
    "### $$\\sin\\alpha=\\frac{a}{AC} \\Rightarrow AC=\\frac{a}{\\sin\\alpha}$$\n",
    "\n",
    "### $$\\mbox{ctg}\\alpha=\\frac{CD}{a} \\Rightarrow CD=a\\cdot \\mbox{ctg}\\alpha$$\n",
    "\n",
    "Let's make up a transport constructability function:\n",
    "\n",
    "### $$S=AC\\cdot p  +BC\\cdot q$$\n",
    "\n",
    "### $$S=\\frac{a}{\\sin\\alpha}\\cdot p  +(b-a\\cdot \\mbox{ctg}\\alpha)\\cdot q$$\n",
    "\n",
    "Explore the function:\n",
    "\n",
    "### $$S'=-\\frac{a\\cdot p\\cdot \\cos\\alpha}{\\sin^2\\alpha}+\\frac{a\\cdot q}{\\sin^2\\alpha}=\\frac{a\\cdot (-p\\cdot \\cos\\alpha+q)}{\\sin^2\\alpha}=0$$\n",
    "\n",
    "The point at which $\\sin x=0$ is of no interest to us, since $\\sin x$ in the denominator is of even power. Therefore there remains one critical point where $cos\\alpha=\\frac{q}{p}$.\n",
    "\n",
    "By the condition of the problem $p>q$, so this case is possible. Let's check the signs in the neighborhood. $cos\\alpha=\\frac{q}{p}<1$ hence we can take $1$ to the left of it, since $cos\\alpha$ decreases from $0$ to $\\frac{\\pi}{2}$.\n",
    "\n",
    "It turns out that $S'=\\frac{a\\cdot (-p+q)}{\\sin^2\\alpha}<0$. Hence to the right of $cos\\alpha=\\frac{q}{p}$ will be $S'>0$. That is, the point found is the minimum point.\n",
    "\n",
    "### $$\\alpha=\\arccos{\\frac{q}{p}}$$\n",
    "\n",
    "__Consider the second case, where the access road meets the railroad track after point $B$.__\n",
    "\n"
   ]
  },
  {
   "cell_type": "markdown",
   "metadata": {
    "id": "GnTOYaubTgo-"
   },
   "source": [
    "<img src=\"https://i.ibb.co/st3TWnX/7-4.png\" width = 600/>"
   ]
  },
  {
   "cell_type": "markdown",
   "metadata": {
    "id": "nLICGtuiTgo_"
   },
   "source": [
    "Then:\n",
    "\n",
    "### $$S=AC\\cdot p  +BC\\cdot q$$\n",
    "\n",
    "### $$S=\\frac{a}{\\sin\\alpha}\\cdot p  +(a\\cdot \\mbox{ctg}\\alpha-b)\\cdot q$$\n",
    "\n",
    "Explore the function:\n",
    "\n",
    "### $$S'=-\\frac{a\\cdot p\\cdot \\cos\\alpha}{\\sin^2\\alpha}-\\frac{a\\cdot q}{\\sin^2\\alpha}=\\frac{a\\cdot (-p\\cdot \\cos\\alpha-q)}{\\sin^2\\alpha}=0$$\n",
    "\n",
    "We can also find the critical point at which $cos\\alpha=-\\frac{q}{p}$$. However, this case is not possible. Since $cos\\alpha$ takes negative values only at a blunt angle of $\\alpha$, which cannot be the case according to the figure.\n",
    " \n",
    "Answer: $\\alpha=\\arccos{\\frac{q}{p}}$"
   ]
  },
  {
   "cell_type": "markdown",
   "metadata": {
    "id": "Iv-T_NZAkVqZ"
   },
   "source": [
    "## Additional"
   ]
  },
  {
   "cell_type": "markdown",
   "metadata": {
    "id": "9o_SiUNxkVqa"
   },
   "source": [
    "1. [SymPy](https://www.sympy.org/en/index.html)\n",
    "\n",
    "2. [Статья Акима](http://www.leg.ufpr.br/lib/exe/fetch.php/wiki:internas:biblioteca:akima.pdf)"
   ]
  }
 ],
 "metadata": {
  "colab": {
   "collapsed_sections": [],
   "name": "Lesson_6_solve.ipynb",
   "provenance": []
  },
  "kernelspec": {
   "display_name": "Python 3",
   "language": "python",
   "name": "python3"
  },
  "language_info": {
   "codemirror_mode": {
    "name": "ipython",
    "version": 3
   },
   "file_extension": ".py",
   "mimetype": "text/x-python",
   "name": "python",
   "nbconvert_exporter": "python",
   "pygments_lexer": "ipython3",
   "version": "3.8.5"
  }
 },
 "nbformat": 4,
 "nbformat_minor": 1
}
