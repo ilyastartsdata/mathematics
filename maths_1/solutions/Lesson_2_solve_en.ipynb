{
 "cells": [
  {
   "cell_type": "markdown",
   "metadata": {
    "id": "zz7SDkPIkVlM"
   },
   "source": [
    "# Lesson 2"
   ]
  },
  {
   "cell_type": "markdown",
   "metadata": {
    "id": "p_3vqG5-kVlP"
   },
   "source": [
    "# Review of the homework assignment"
   ]
  },
  {
   "cell_type": "markdown",
   "metadata": {
    "id": "qr-AsNg3SEMR"
   },
   "source": [
    "__1.__ Present as an __nonsecremental__ rational fraction:\n",
    "\n",
    "### $$а)\\,\\,\\, 0.(216);$$\n",
    "\n",
    "Solution:\n",
    "\n",
    "### $$a=0.(216)$$\n",
    "\n",
    "### $$1000a=216.(216)$$\n",
    "\n",
    "### $$1000a=216+0.(216)$$\n",
    "\n",
    "### $$1000a=216+a$$\n",
    "\n",
    "### $$999a=216$$\n",
    "\n",
    "### $$a=\\frac{216}{999}=\\frac{24}{111}=\\frac{8}{37}$$\n",
    "\n",
    "### $$0.(216)=\\frac{8}{37}$$"
   ]
  },
  {
   "cell_type": "code",
   "execution_count": 1,
   "metadata": {
    "id": "VmPJJK9hSEMS",
    "outputId": "18bb6426-67ce-4618-baa5-c0d545954229"
   },
   "outputs": [
    {
     "name": "stdout",
     "output_type": "stream",
     "text": [
      "0.21621621621621623\n"
     ]
    }
   ],
   "source": [
    "print (8/37)"
   ]
  },
  {
   "cell_type": "markdown",
   "metadata": {
    "id": "4FfMZ5v7SEMb"
   },
   "source": [
    "### $$б)\\,\\,\\, 1.0(01).$$\n",
    "\n",
    "Solution:\n",
    "\n",
    "First, present it as an ordinary fraction $0.(01)$\n",
    "### $$b=0.(01)$$\n",
    "\n",
    "### $$100b=1.(01)$$\n",
    "\n",
    "### $$100b=1+0.(01)$$\n",
    "\n",
    "### $$100b=1+b$$\n",
    "\n",
    "### $$99b=1$$\n",
    "\n",
    "### $$b=\\frac{1}{99}$$\n",
    "\n",
    "Now solve the example itself\n",
    "\n",
    "### $$с=1.0(01)$$\n",
    "\n",
    "### $$10с=10.(01)$$\n",
    "\n",
    "### $$10с=10+0.(01)$$\n",
    "\n",
    "### $$10с=10+\\frac{1}{99}$$\n",
    "\n",
    "### $$10с=\\frac{991}{99}$$\n",
    "\n",
    "### $$с=\\frac{991}{990}$$\n",
    "\n",
    "### $$1.0(01)=\\frac{991}{990}$$"
   ]
  },
  {
   "cell_type": "code",
   "execution_count": 2,
   "metadata": {
    "id": "BowEOcaJSEMd",
    "outputId": "69d7d539-a71b-4331-e0b0-65a6fe929a2d"
   },
   "outputs": [
    {
     "name": "stdout",
     "output_type": "stream",
     "text": [
      "1.001010101010101\n"
     ]
    }
   ],
   "source": [
    "print (991/990)"
   ]
  },
  {
   "cell_type": "markdown",
   "metadata": {
    "id": "B_t0U4JASEMj"
   },
   "source": [
    "__2*.__ Let $x =\\frac{2}{21}$. It is known that for some natural $k$ the number $x$ is written in $k$ -ic number system as $0.(13)_k = 0, 131313_k$. Find $k$.\n",
    "\n",
    "Solution:\n",
    "\n",
    "### $$x=0.(13)_k$$\n",
    "\n",
    "To shift two digits, multiply two times $k$\n",
    "\n",
    "### $$k^2x=13.(13)_k$$\n",
    "\n",
    "### $$k^2x=13_k+0.(13)_k$$\n",
    "\n",
    "### $$k^2x=13_k+x$$\n",
    "\n",
    "### $$k^2x-x=13_k$$\n",
    "\n",
    "### $$(k^2-1)x=13_k$$\n",
    "\n",
    "### $$x=\\frac{13_k}{k^2-1}$$\n",
    "\n",
    "### $$x=\\frac{1\\cdot k^1+3\\cdot k^0}{k^2-1}$$\n",
    "\n",
    "### $$x=\\frac{k+3}{k^2-1}$$\n",
    "\n",
    "### $$\\frac{2}{21}=\\frac{k+3}{k^2-1}$$\n",
    "\n",
    "### $$2k^2-2=21k+63$$\n",
    "\n",
    "### $$2k^2-21k-65=0$$\n",
    "\n",
    "### $$k_1=-2.5\\,\\,\\,\\,\\,k_2=13$$\n",
    "\n",
    "### Ответ: $k=13$"
   ]
  },
  {
   "cell_type": "markdown",
   "metadata": {
    "id": "_JW9PCvsSEMk"
   },
   "source": [
    "__3.__ Check in any way whether the given logical formulas are tautological:\n",
    "\n",
    "### $$a)\\,\\,\\, (A \\vee B) \\rightarrow (B \\vee\\overline A)$$\n",
    "\n",
    "Solution:\n",
    "\n",
    "<table>\n",
    "<thead>\n",
    "<tr><th>$A$</th><th>$B$</th><th>$\\overline A$</th><th>$(A \\vee B)$</th><th>$(B \\vee\\overline A)$</th><th>$(A \\vee B) \\rightarrow (B \\vee\\overline A)$</th></tr>\n",
    "</thead>\n",
    "<tbody>\n",
    "    <tr><td>$0$</td><td>$0$</td><td>$1$</td><td>$0$</td><td>$1$</td><td>$1$</td></tr>\n",
    "    <tr><td>$0$</td><td>$1$</td><td>$1$</td><td>$1$</td><td>$1$</td><td>$1$</td></tr>\n",
    "    <tr><td>$1$</td><td>$0$</td><td>$0$</td><td>$1$</td><td>$0$</td><td>$0$</td></tr>\n",
    "    <tr><td>$1$</td><td>$1$</td><td>$0$</td><td>$1$</td><td>$1$</td><td>$1$</td></tr>\n",
    "</tbody>\n",
    "</table>\n",
    "\n",
    "### $$b)\\,\\,\\, A \\rightarrow (A \\vee (\\overline B \\wedge A))$$\n",
    "\n",
    "Solution:\n",
    "\n",
    "<table>\n",
    "<thead>\n",
    "<tr><th>$A$</th><th>$B$</th><th>$\\overline B$</th><th>$(\\overline B \\wedge A)$</th><th>$(A \\vee (\\overline B \\wedge A))$</th><th>$A \\rightarrow (A \\vee (\\overline B \\wedge A))$</th></tr>\n",
    "</thead>\n",
    "<tbody>\n",
    "    <tr><td>$0$</td><td>$0$</td><td>$1$</td><td>$0$</td><td>$0$</td><td>$1$</td></tr>\n",
    "    <tr><td>$0$</td><td>$1$</td><td>$0$</td><td>$0$</td><td>$0$</td><td>$1$</td></tr>\n",
    "    <tr><td>$1$</td><td>$0$</td><td>$1$</td><td>$1$</td><td>$1$</td><td>$1$</td></tr>\n",
    "    <tr><td>$1$</td><td>$1$</td><td>$0$</td><td>$0$</td><td>$1$</td><td>$1$</td></tr>\n",
    "</tbody>\n",
    "</table>\n",
    "\n"
   ]
  },
  {
   "cell_type": "markdown",
   "metadata": {
    "id": "1NOmTqTySEMr"
   },
   "source": [
    "__4.__ Formulate a verbal statement:\n",
    "### $$a)\\,\\,\\, (\\overline A \\vee B) \\rightarrow \\overline C$$\n",
    "\n",
    "Solution:\n",
    "\n",
    "#### If it's not sunny or wet today, I'm not going to the country house\n",
    "\n",
    "### $$b)\\,\\,\\,C \\rightarrow (A \\vee \\overline B)$$\n",
    "\n",
    "Solution:\n",
    "\n",
    "#### If I go to the cottage today, it will be sunny or at least dry.\n",
    "\n",
    "- $A:\\,\\,\\,$ today the sun is shining; \n",
    "- $B:\\,\\,\\,$ it's humid today; \n",
    "- $C:\\,\\,\\,$ I'm going to the country house. "
   ]
  },
  {
   "cell_type": "markdown",
   "metadata": {
    "id": "Ykt3IpPkSEMs"
   },
   "source": [
    "__5.__ Using the opposite statement construction rule, write down statements that are the opposite of the following:\n",
    "\n",
    "a) There are students in any course in every department who pass all examinations with 'A'.\n",
    "\n",
    "Solution:\n",
    "\n",
    "#### $\\forall$ course $\\forall$ faculty $\\exists$ students who __take__ $\\forall$ exams with \"excellent\".\n",
    "\n",
    "#### $\\exists$ the course $\\exists$ of the faculty $\\forall$ students who __do_ not __exists$ the \"A\" exams.\n",
    "\n",
    "#### There is a department in which there is such a course that any students do not pass at least one \"A\" exam.\n",
    "\n",
    "b) There is at least one law enforcement officer on any plane on a Washington-Moscow flight who has a microphone embedded in each button of his clothes.\n",
    "\n",
    "Solution:\n",
    "\n",
    "#### $\\forall$ the aircraft on the Washington-Moscow flight $\\exists$ a law enforcement officer whose $\\forall$ button of clothing has a microphone installed.\n",
    "\n",
    "#### $\\exists$ the aircraft on the Washington-Moscow flight $\\forall$ a law enforcement officer whose $\\exists$ button is not fitted with a microphone.\n",
    "\n",
    "#### There is an aircraft on a Washington-Moscow flight in which all of the employees are law enforcement officers who have a button in their clothing in which a microphone is not fitted."
   ]
  },
  {
   "cell_type": "markdown",
   "metadata": {
    "id": "0WpElRCBSEMt"
   },
   "source": [
    "__6*.__Read the statements, establish their truths and construct negations:\n",
    "\n",
    "### $$a)\\,\\,\\, \\forall x\\in\\mathbb{R}\\,\\,\\,\\exists X\\in\\mathbb{R}:\\,\\,\\, X>x$$\n",
    "\n",
    "Solution:\n",
    "\n",
    "#### For any $x$ of the set of real numbers, there will be a $X$ that is greater than it.\n",
    "\n",
    "#### The statement is true\n",
    "\n",
    "### $$\\exists x\\in\\mathbb{R}\\,\\,\\,\\forall X\\in\\mathbb{R}:\\,\\,\\, X\\leq x$$\n",
    "\n",
    "### $$b)\\,\\,\\, \\forall y\\in\\Bigl[0; \\frac{\\pi}{2}\\Bigr]\\,\\,\\,\\,\\exists \\varepsilon>0:\\,\\,\\, \\sin y<\\sin(y+\\varepsilon)$$\n",
    "\n",
    "Solution:\n",
    "\n",
    "#### For any $y$ of the segment from $0$ to $\\frac{\\pi}{2}$, including both ends, there exists $\\varepsilon>0$ such that the inequality $\\sin y<\\sin(y+\\varepsilon)$ is satisfied\n",
    "\n",
    "\n",
    "#### The statement is false because at $x=\\frac{\\pi}{2} \\,\\,\\,\\, \\sin \\Bigr(\\frac{\\pi}{2}\\Bigl)=1$, nothing more can be said.\n",
    "\n",
    "### $$exists y\\in\\Bigl[0; \\frac{\\pi}{2}\\Bigr]\\,\\,\\,\\forall \\varepsilon>0:\\,\\,\\, \\sin y\\geq\\sin(y+\\varepsilon)$$\n",
    "\n",
    "### $$c)\\,\\,\\, \\forall y\\in\\Bigl[0; \\pi\\Bigr)\\,\\,\\,\\exists \\varepsilon>0:\\,\\,\\, \\cos y>\\cos(y+\\varepsilon)$$\n",
    "\n",
    "Solution:\n",
    "\n",
    "#### For any $y$ of the interval from $0$ to $\\pi$, including $0$, there exists $\\varepsilon>0$ such that the inequality $\\cos y>\\\\cos(y+\\varepsilon)$ is satisfied\n",
    "\n",
    "\n",
    "#### The statement is true because the bad point $x=\\pi$ is not in the segment.\n",
    "\n",
    "### $$\\exists y\\in\\Bigl[0; \\pi\\\\Bigr)\\,\\,\\,\\forall \\varepsilon>0:\\,\\,\\, \\cos y\\leq(y+\\varepsilon)$$"
   ]
  }
 ],
 "metadata": {
  "colab": {
   "collapsed_sections": [],
   "name": "Lesson_2_solve.ipynb",
   "provenance": []
  },
  "kernelspec": {
   "display_name": "Python 3",
   "language": "python",
   "name": "python3"
  },
  "language_info": {
   "codemirror_mode": {
    "name": "ipython",
    "version": 3
   },
   "file_extension": ".py",
   "mimetype": "text/x-python",
   "name": "python",
   "nbconvert_exporter": "python",
   "pygments_lexer": "ipython3",
   "version": "3.8.5"
  }
 },
 "nbformat": 4,
 "nbformat_minor": 1
}
