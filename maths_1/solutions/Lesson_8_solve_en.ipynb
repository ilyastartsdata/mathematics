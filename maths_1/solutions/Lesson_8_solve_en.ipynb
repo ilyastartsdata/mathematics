{
 "cells": [
  {
   "cell_type": "markdown",
   "metadata": {
    "id": "zz7SDkPIkVlM"
   },
   "source": [
    "# Lesson 8"
   ]
  },
  {
   "cell_type": "markdown",
   "metadata": {
    "id": "p_3vqG5-kVlP"
   },
   "source": [
    "# Review of the homework assignment"
   ]
  },
  {
   "cell_type": "markdown",
   "metadata": {
    "id": "SmdURZ_OkVqQ"
   },
   "source": [
    "__1.__ Investigate for a conditional extremum of a function\n",
    "\n",
    "### $$U=3-8x+6y,$$\n",
    "\n",
    "if\n",
    "\n",
    "### $$x^2+y^2=36$$\n",
    "\n",
    "Solution:\n",
    "\n",
    "Make a Lagrange function:\n",
    "\n",
    "### $$L(x,y,\\lambda)=3-8x+6y +\\lambda \\cdot (x^2+y^2-36)$$\n",
    "\n",
    "Find the partial derivatives, equate them to zero and solve the system of equations:\n",
    "\n",
    "### $$\\begin{cases}\n",
    "   L'_{x}=-8+\\lambda \\cdot2x=0, \\\\\n",
    "   L'_{y}=6+\\lambda \\cdot2y=0, \\\\\n",
    "   L'_{\\lambda}=x^2+y^2-36=0\n",
    " \\end{cases}$$\n",
    " \n",
    "Express from the first equation $y$, from the second $x$ and substitute everything in the third:\n",
    "### $$\\begin{cases}\n",
    "   x=\\frac{4}{\\lambda}, \\\\\n",
    "   y=-\\frac{3}{\\lambda}, \\\\\n",
    "   \\Bigr(\\frac{4}{\\lambda}\\Bigl)^2+\\Bigr(-\\frac{3}{\\lambda}\\Bigl)^2=36\n",
    " \\end{cases}\\Rightarrow \n",
    " \\begin{cases}\n",
    "   x=\\frac{4}{\\lambda}, \\\\\n",
    "   y=-\\frac{3}{\\lambda}, \\\\\n",
    "   \\frac{25}{\\lambda^2}=36\n",
    " \\end{cases}\n",
    " \\Rightarrow \n",
    " \\begin{cases}\n",
    "   x=\\frac{4}{\\lambda}, \\\\\n",
    "   y=-\\frac{3}{\\lambda}, \\\\\n",
    "   \\lambda^2=\\frac{25}{36}\n",
    " \\end{cases}$$\n",
    " \n",
    "We get 2 points: $(\\frac{24}{5},-\\frac{18}{5},\\frac{5}{6})$ и $(-\\frac{24}{5},\\frac{18}{5},-\\frac{5}{6})$\n",
    " \n",
    "Find the second derivatives:\n",
    "### $$L''_{xx}=2\\lambda$$\n",
    "### $$L''_{yy}=2\\lambda$$\n",
    "### $$L''_{\\lambda \\lambda}=0$$\n",
    "### $$L''_{xy}=L''_{yx}=0$$\n",
    "### $$L''_{x\\lambda}=L''_{\\lambda x}=2x$$\n",
    "### $$L''_{y\\lambda}=L''_{\\lambda y}=2y$$ \n",
    "\n",
    "Let's make up the Goesse matrix:\n",
    "### $$\\begin{pmatrix}\n",
    "L''_{\\lambda \\lambda} & L''_{\\lambda x} & L''_{\\lambda y}\\\\ \n",
    "L''_{x \\lambda} & L''_{xx} & L''_{xy}\\\\\n",
    "L''_{y \\lambda} & L''_{yx} & L''_{yy}\\\\\n",
    "\\end{pmatrix}\\Rightarrow\n",
    "\\begin{pmatrix}\n",
    "0 & 2x & 2y\\\\ \n",
    "2x & 2\\lambda & 0\\\\\n",
    "2y & 0 & 2\\lambda\\\\\n",
    "\\end{pmatrix}$$\n",
    "\n",
    "Next, find the determinant in general form, and then deal with each point.\n",
    "\n",
    "### $$\\Delta=\\begin{vmatrix}\n",
    "0 & 2x & 2y\\\\ \n",
    "2x & 2\\lambda & 0\\\\\n",
    "2y & 0 & 2\\lambda\\\\\n",
    "\\end{vmatrix}=\n",
    "\\begin{vmatrix}\n",
    "+ & - & +\\\\ \n",
    "- & + & -\\\\\n",
    "+ & - & +\\\\\n",
    "\\end{vmatrix}=0\\cdot\n",
    "\\begin{vmatrix}\n",
    "2\\lambda & 0\\\\\n",
    "0 & 2\\lambda\\\\\n",
    "\\end{vmatrix}-2x\\cdot\n",
    "\\begin{vmatrix}\n",
    "2x & 0\\\\\n",
    "2y & 2\\lambda\\\\\n",
    "\\end{vmatrix}+2y\\cdot\n",
    "\\begin{vmatrix}\n",
    "2x & 2\\lambda\\\\\n",
    "2y & 0\\\\\n",
    "\\end{vmatrix}=(-2x)\\cdot 4x\\lambda+2y \\cdot(-4y\\lambda)=-8\\lambda(x^2+y^2)$$\n",
    "\n",
    "If $x^2+y^2=36$, then \n",
    "### $$\\Delta=-8\\lambda \\cdot 36 = -288\\lambda$$\n",
    "\n",
    "That is, the sign of the determinant depends only on the sign of $\\lambda$.\n",
    "\n",
    "If $\\lambda=\\frac{5}{6}$, то $\\Delta<0$, then $(\\frac{24}{5},-\\frac{18}{5},\\frac{5}{6})$ - minimum.\n",
    "\n",
    "If $\\lambda=-\\frac{5}{6}$, то $\\Delta>0$, then $(-\\frac{24}{5},\\frac{18}{5},-\\frac{5}{6})$ - maximum."
   ]
  },
  {
   "cell_type": "markdown",
   "metadata": {
    "id": "cECfCSANkVqR"
   },
   "source": [
    "__2.__ Investigate for a conditional extremum of a function\n",
    "\n",
    "### $$U=2x^2+12xy+32y^2+15,$$\n",
    "\n",
    "If\n",
    "\n",
    "### $$x^2+16y^2=64$$\n",
    "\n",
    "Solution:\n",
    "\n",
    "Make a Lagrange function:\n",
    "\n",
    "### $$L(x,y,\\lambda)=2x^2+12xy+32y^2+15 +\\lambda \\cdot (x^2+16y^2-64)$$\n",
    "\n",
    "Find the partial derivatives, equate them to zero and solve the system of equations:\n",
    "\n",
    "### $$\\begin{cases}\n",
    "   L'_{x}=4x+12y+\\lambda \\cdot2x=0, \\\\\n",
    "   L'_{y}=12x+64y+\\lambda \\cdot32y=0, \\\\\n",
    "   L'_{\\lambda}=x^2+16y^2-64=0\n",
    " \\end{cases}$$\n",
    " \n",
    "Express from the first and second equations $\\lambda$:\n",
    "### $$\\begin{cases}\n",
    "   \\lambda=-\\frac{2x+6y}{x}, \\\\\n",
    "   \\lambda=-\\frac{3x+16y}{8y}, \\\\\n",
    "   x^2+16y^2=64\n",
    " \\end{cases}\\Rightarrow \n",
    " \\begin{cases}\n",
    "   \\lambda=-\\frac{2x+6y}{x}, \\\\\n",
    "   16xy+48y^2=3x^2+16xy, \\\\\n",
    "   x^2+16y^2=64\n",
    " \\end{cases}\n",
    " \\Rightarrow \n",
    " \\begin{cases}\n",
    "   \\lambda=-\\frac{2x+6y}{x}, \\\\\n",
    "   16y^2=x^2, \\\\\n",
    "   x^2+x^2=64\n",
    " \\end{cases}$$\n",
    " \n",
    "We get 4 points: $(4\\sqrt2,\\sqrt2,-\\frac{7}{2})$, $(-4\\sqrt2,-\\sqrt2,-\\frac{7}{2})$, $(-4\\sqrt2,\\sqrt2,-\\frac{1}{2})$, $(4\\sqrt2,-\\sqrt2,-\\frac{1}{2})$.\n",
    " \n",
    "Find the second derivatives:\n",
    "### $$L''_{xx}=4+2\\lambda\\,\\,\\,\\,\\,\\,\\,\\,L''_{yy}=64+32\\lambda\\,\\,\\,\\,\\,\\,\\,\\,L''_{\\lambda \\lambda}=0$$\n",
    "\n",
    "### $$L''_{xy}=L''_{yx}=12\\,\\,\\,\\,\\,\\,\\,\\,L''_{x\\lambda}=L''_{\\lambda x}=2x\\,\\,\\,\\,\\,\\,\\,\\,L''_{y\\lambda}=L''_{\\lambda y}=32y$$\n",
    "\n",
    "\n",
    "Let's make up the Goesse matrix:\n",
    "### $$\\begin{pmatrix}\n",
    "L''_{\\lambda \\lambda} & L''_{\\lambda x} & L''_{\\lambda y}\\\\ \n",
    "L''_{x \\lambda} & L''_{xx} & L''_{xy}\\\\\n",
    "L''_{y \\lambda} & L''_{yx} & L''_{yy}\\\\\n",
    "\\end{pmatrix}\\Rightarrow\n",
    "\\begin{pmatrix}\n",
    "0 & 2x & 32y\\\\ \n",
    "2x & 4+2\\lambda & 12\\\\\n",
    "32y & 12 & 64+32\\lambda\\\\\n",
    "\\end{pmatrix}$$\n",
    "\n",
    "Next, find the determinant in general form, and then deal with each point.\n",
    "\n",
    "### $$\\Delta=\\begin{vmatrix}\n",
    "0 & 2x & 32y\\\\ \n",
    "2x & 4+2\\lambda & 12\\\\\n",
    "32y & 12 & 64+32\\lambda\\\\\n",
    "\\end{vmatrix}=\n",
    "\\begin{vmatrix}\n",
    "+ & - & +\\\\ \n",
    "- & + & -\\\\\n",
    "+ & - & +\\\\\n",
    "\\end{vmatrix}=$$\n",
    "\n",
    "### $$=-2x\\cdot\n",
    "\\begin{vmatrix}\n",
    "2x & 12\\\\\n",
    "32y & 64+32\\lambda\\\\\n",
    "\\end{vmatrix}+32y\\cdot\n",
    "\\begin{vmatrix}\n",
    "2x & 4+2\\lambda\\\\\n",
    "32y & 12\\\\\n",
    "\\end{vmatrix}=$$\n",
    "\n",
    "### $$=(-2x)\\cdot (128x+64x\\lambda-384y)+32y \\cdot(24x-128y-64y\\lambda)=$$\n",
    "\n",
    "### $$=-256x^2-128x^2\\lambda+768xy+768xy-4096y^2-2048y^2\\lambda=$$\n",
    "\n",
    "### $$=-256(x^2+16y^2)-128\\lambda(x^2+16y^2)+1536xy=$$\n",
    "\n",
    "### $$=-256\\cdot64-128\\lambda\\cdot64+1536xy=$$\n",
    "\n",
    "### $$=-16384-8192\\lambda+1536xy$$\n",
    "\n",
    "For points $(4\\sqrt2,\\sqrt2,-\\frac{7}{2})$ and $(-4\\sqrt2,-\\sqrt2,-\\frac{7}{2})$ $\\Delta>0$, minimum.\n",
    "\n",
    "For points $(-4\\sqrt2,\\sqrt2,-\\frac{1}{2})$ and $(4\\sqrt2,-\\sqrt2,-\\frac{1}{2})$ $\\Delta<0$, maximum."
   ]
  },
  {
   "cell_type": "markdown",
   "metadata": {
    "id": "DFrjdtbHkVqS"
   },
   "source": [
    "__3.__ Numerically find at least one valid root of a system of non-linear equations:\n",
    "### $$\\begin{cases}\n",
    "   x^2-y^2+3xy^3-2x^2y^2+2x-3y-5=0 \\\\\n",
    "   3y^3-2x^2+2x^3y-5x^2y^2+5=0\n",
    " \\end{cases}$$\n",
    " \n",
    " Solution:"
   ]
  },
  {
   "cell_type": "code",
   "execution_count": null,
   "metadata": {
    "id": "uvYX_t1r7vqD",
    "outputId": "ff44b1a5-68fd-4faa-d15c-e18c0ad87bdc"
   },
   "outputs": [
    {
     "name": "stdout",
     "output_type": "stream",
     "text": [
      "1.273302064528599 1.6620391224277693 1\n"
     ]
    }
   ],
   "source": [
    "import numpy as np\n",
    "from scipy.optimize import fsolve\n",
    "import math\n",
    "\n",
    "def equations(p):\n",
    "    x, y = p\n",
    "    return (x**2-y**2+3*x*y**3-2*x**2*y**2+2*x-3*y-5, \n",
    "            3*y**3-2*x**2+2*x**3*y-5*x**2*y**2+5)\n",
    "\n",
    "(x, y), info, ier, mesg =  fsolve(equations, (10, 10), full_output=True)\n",
    "print (x, y, ier)\n"
   ]
  },
  {
   "cell_type": "markdown",
   "metadata": {
    "id": "5la-eVLukVqT"
   },
   "source": [
    "__4*.__ Numerically find all $5$ of valid roots\n",
    "\n",
    "Solution:"
   ]
  },
  {
   "cell_type": "code",
   "execution_count": null,
   "metadata": {
    "id": "MReuI4rs7vqG",
    "outputId": "0d0b04de-d9d0-47d4-f2d8-bd0935a73f82"
   },
   "outputs": [
    {
     "name": "stdout",
     "output_type": "stream",
     "text": [
      "{(1.37568714, -0.17475798), (1.27330206, 1.66203912), (-3.65307996, -0.27476341), (2.49435653, 0.70831752), (2.21775363, 0.61019397)}\n"
     ]
    }
   ],
   "source": [
    "import numpy as np\n",
    "from scipy.optimize import fsolve, broyden2\n",
    "import math\n",
    "\n",
    "def equations(p):\n",
    "    x, y = p\n",
    "    return (x**2-y**2+3*x*y**3-2*x**2*y**2+2*x-3*y-5, \n",
    "            3*y**3-2*x**2+2*x**3*y-5*x**2*y**2+5)\n",
    "\n",
    "\n",
    "solv = set()\n",
    "length = 100\n",
    "step = 4\n",
    "\n",
    "for x in np.arange (-length, length, step):\n",
    "    for y in np.arange (-length, length, step):\n",
    "        (x, y), info, ier, mesg =  fsolve(equations, (x, y), full_output=True)\n",
    "        if (ier == 1): solv.add((int(x*10**8)/10**8, int(y*10**8)/10**8))\n",
    "            \n",
    "print (solv)"
   ]
  },
  {
   "cell_type": "markdown",
   "metadata": {
    "id": "-LCoA15b7vqH"
   },
   "source": [
    "__5*.__ Two functions are given $y_{1}=f(x)$ and $y_{2}=g(x)$. It is known, that:\n",
    "\n",
    "### $$f'(x)=\\frac{1}{2}g(x)$$\n",
    "\n",
    "### $$g'(x)=2-2f(x)$$\n",
    "\n",
    "### $$f(0)=0$$\n",
    "\n",
    "### $$g(0)=1$$\n",
    "\n",
    "Restore functions $y_{1}=f(x)$ и $y_{2}=g(x)$ with formula:\n",
    "\n",
    "### $$f(x+\\Delta x) \\approx f(x)+f'(x) \\cdot \\Delta x$$\n",
    "\n",
    "As a solution, graph these functions in the same coordinate system on the section $[0, 20]$.\n",
    "\n",
    "Solution:"
   ]
  },
  {
   "cell_type": "code",
   "execution_count": null,
   "metadata": {
    "id": "JbioimBw7vqH",
    "outputId": "cf05a665-ad8f-447b-8832-964ce941be10"
   },
   "outputs": [
    {
     "data": {
      "image/png": "[encoded data removed]",
      "text/plain": [
       "<Figure size 432x288 with 1 Axes>"
      ]
     },
     "metadata": {
      "needs_background": "light",
      "tags": []
     },
     "output_type": "display_data"
    }
   ],
   "source": [
    "import matplotlib.pyplot as plt\n",
    "from scipy.interpolate import splev, splrep\n",
    "import numpy as np\n",
    "\n",
    "n= 10000\n",
    "l= 20\n",
    "h= l / n\n",
    "x = np.arange(0, l, h)\n",
    "x = np.append(x, l)\n",
    "f = np.array([0])\n",
    "g = np.array([1])\n",
    "\n",
    "\n",
    "while(n != 0):\n",
    "    f = np.append(f, f[len(f) - 1] + 0.5 * g[len(f) - 1] * h)\n",
    "    g = np.append(g, g[len(g) - 1] + (2 - 2 * f[len(g) - 1]) * h)\n",
    "    n -= 1\n",
    "x2 = np.linspace(0, l, 200)\n",
    "\n",
    "spl_f = splrep(x, f)\n",
    "f2=splev(x2, spl_f)\n",
    "plt.plot(x2, f2, label=\"Function f(x)\")\n",
    "\n",
    "\n",
    "spl_g = splrep(x, g)\n",
    "g2=splev(x2, spl_g)\n",
    "plt.plot(x2, g2, label=\"Function g(x)\")\n",
    "\n",
    "\n",
    "\n",
    "\n",
    "plt.legend()\n",
    "plt.show()"
   ]
  },
  {
   "cell_type": "markdown",
   "metadata": {
    "id": "SVzkeczn7vqI"
   },
   "source": [
    "__6**.__ Найти все корни уравнения:\n",
    "    \n",
    "### $$f(x)=g(x)$$\n",
    "\n",
    "на участке $[0, 20]$\n",
    "\n",
    "Где $y_{1}=f(x)$ и $y_{2}=g(x)$ - функции из предыдущего решения.\n",
    "\n",
    "Решение:"
   ]
  },
  {
   "cell_type": "code",
   "execution_count": null,
   "metadata": {
    "id": "bHhj9N9b7vqI",
    "outputId": "3a8f07b1-7717-4d69-a04b-25a205e43223"
   },
   "outputs": [
    {
     "name": "stdout",
     "output_type": "stream",
     "text": [
      "{1.80356929, 5.76490722, 8.08949029, 12.04538873, 14.375391, 18.32589034}\n"
     ]
    }
   ],
   "source": [
    "import numpy as np\n",
    "from scipy.optimize import fsolve, broyden2\n",
    "import math\n",
    "\n",
    "def equations(p):\n",
    "    x = p\n",
    "    return splev(x, spl_f) - splev(x, spl_g)\n",
    "\n",
    "solv = set()\n",
    "for x in np.arange (0, l, h):\n",
    "    x, info, ier, mesg =  fsolve(equations, x, full_output=True)\n",
    "    if (ier == 1 and x > 0 and x < l): solv.add(int(x * 10**8) / 10**8)\n",
    "            \n",
    "print (solv)"
   ]
  },
  {
   "cell_type": "markdown",
   "metadata": {
    "id": "Iv-T_NZAkVqZ"
   },
   "source": [
    "## Дополнительные материалы"
   ]
  },
  {
   "cell_type": "markdown",
   "metadata": {
    "id": "9o_SiUNxkVqa"
   },
   "source": [
    "1. [fsolve](https://docs.scipy.org/doc/scipy/reference/generated/scipy.optimize.fsolve.html)\n"
   ]
  }
 ],
 "metadata": {
  "colab": {
   "collapsed_sections": [],
   "name": "Lesson_8_solve.ipynb",
   "provenance": []
  },
  "kernelspec": {
   "display_name": "Python 3",
   "language": "python",
   "name": "python3"
  },
  "language_info": {
   "codemirror_mode": {
    "name": "ipython",
    "version": 3
   },
   "file_extension": ".py",
   "mimetype": "text/x-python",
   "name": "python",
   "nbconvert_exporter": "python",
   "pygments_lexer": "ipython3",
   "version": "3.8.5"
  }
 },
 "nbformat": 4,
 "nbformat_minor": 1
}
