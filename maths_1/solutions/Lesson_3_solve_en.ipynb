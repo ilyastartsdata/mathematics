{
 "cells": [
  {
   "cell_type": "markdown",
   "metadata": {
    "id": "zz7SDkPIkVlM"
   },
   "source": [
    "# Lesson 3"
   ]
  },
  {
   "cell_type": "markdown",
   "metadata": {
    "id": "p_3vqG5-kVlP"
   },
   "source": [
    "# Review of the homework assignment"
   ]
  },
  {
   "cell_type": "markdown",
   "metadata": {
    "id": "SmdURZ_OkVqQ"
   },
   "source": [
    "__1.__ Find the limit of the sequence:\n",
    "\n",
    "### $$a)\\,\\,\\,\\,\\lim_{n\\to \\infty} \\frac{(23-2n^2)(3n^2+17)^2}{4n^6+n-1}$$\n",
    "\n",
    "Solution:\n",
    "\n",
    "### $$\\lim_{n\\to \\infty} \\frac{(23-2n^2)(3n^2+17)^2}{4n^6+n-1}=\\Bigl(\\frac{\\infty}{\\infty}\\Bigr)=$$   \n",
    "\n",
    "### $$=\\frac{-2\\cdot3^2}{4}=-\\frac{9}{2}$$ "
   ]
  },
  {
   "cell_type": "markdown",
   "metadata": {
    "id": "Bzo5G4kR7Wza"
   },
   "source": [
    "### $$b)\\,\\,\\,\\,\\lim_{n\\to \\infty} \\frac{(97-2n)^3}{2n(3n^2+15)+8n}$$\n",
    "\n",
    "Solution:\n",
    "\n",
    "### $$\\lim_{n\\to \\infty} \\frac{(97-2n)^3}{2n(3n^2+15)+8n}=\\Bigl(\\frac{\\infty}{\\infty}\\Bigr)=$$   \n",
    "\n",
    "### $$=\\frac{(-2)^3}{2\\cdot3}=-\\frac{4}{3}$$ \n"
   ]
  },
  {
   "cell_type": "markdown",
   "metadata": {
    "id": "iSNJIDSf7Wzb"
   },
   "source": [
    "### $$c)\\,\\,\\,\\,\\lim_{n\\to \\infty} \\frac{2n^3+13n(n+18)}{(27-n)(2n+19)^2}$$\n",
    "\n",
    "Solution:\n",
    "\n",
    "### $$\\lim_{n\\to \\infty} \\frac{2n^3+13n(n+18)}{(27-n)(2n+19)^2}=\\Bigl(\\frac{\\infty}{\\infty}\\Bigr)=$$   \n",
    "\n",
    "### $$=\\frac{2}{-1\\cdot2^2}=-\\frac{1}{2}$$ "
   ]
  },
  {
   "cell_type": "markdown",
   "metadata": {
    "id": "rB0QptE27Wzb"
   },
   "source": [
    "### $$d)\\,\\,\\,\\,\\lim_{n\\to \\infty} (\\sqrt{n^2+1}-n)$$\n",
    "\n",
    "Solution:\n",
    "\n",
    "### $$\\lim_{n\\to \\infty} (\\sqrt{n^2+1}-n)=\\Bigl(\\infty-\\infty\\Bigr)=$$   \n",
    "\n",
    "### $$=\\lim_{n\\to \\infty} (\\sqrt{n^2+1}-n)\\cdot\\frac{\\sqrt{n^2+1}+n}{\\sqrt{n^2+1}+n}=$$ \n",
    "\n",
    "### $$=\\lim_{n\\to \\infty} \\frac{n^2+1-n^2}{\\sqrt{n^2+1}+n}=$$ \n",
    "\n",
    "### $$=\\lim_{n\\to \\infty} \\frac{1}{\\sqrt{n^2+1}+n}=0$$ "
   ]
  },
  {
   "cell_type": "markdown",
   "metadata": {
    "id": "17iOdSx47Wzd"
   },
   "source": [
    "### $$e)\\,\\,\\,\\,\\lim_{n\\to \\infty} \\frac{(-4)^n+5\\cdot7^n}{(-4)^{n-1}+7^{n+2}}$$\n",
    "\n",
    "Solution:\n",
    "\n",
    "### $$\\lim_{n\\to \\infty} \\frac{(-4)^n+5\\cdot7^n}{(-4)^{n-1}+7^{n+2}}=\\Bigl(\\frac{\\infty}{\\infty}\\Bigr)=$$   \n",
    "\n",
    "### $$=\\lim_{n\\to \\infty} \\frac{(-4)^n+5\\cdot7^n}{\\Bigl(-\\frac{1}{4}\\Bigr)\\cdot(-4)^n+49\\cdot7^n}=$$ \n",
    "\n",
    "### $$=\\lim_{n\\to \\infty} \\frac{7^n\\cdot\\Bigl(\\Bigl(-\\frac{4}{7}\\Bigr)^n+5\\Bigr)}{7^n\\cdot\\Bigl(\\Bigl(-\\frac{1}{4}\\Bigr)\\cdot\\Bigl(-\\frac{4}{7}\\Bigr)^n+49\\Bigr)}=\\frac{5}{49}$$ "
   ]
  },
  {
   "cell_type": "markdown",
   "metadata": {
    "id": "iJLrmmGV7Wzd"
   },
   "source": [
    "### $$e)^*\\,\\,\\,\\,\\lim_{n\\to \\infty} \\Bigl(\\frac{1}{1\\cdot2}+\\frac{1}{2\\cdot3}+\\frac{1}{3\\cdot4}+...+\\frac{1}{(n-1)\\cdot n}\\Bigr)$$\n",
    "\n",
    "Solution:\n",
    "\n",
    "In this example, until we reduce an infinite sequence to a finite one, it is not possible to reason about the type of uncertainty.\n",
    "\n",
    "### $$\\lim_{n\\to \\infty} \\Bigl(\\frac{1}{1\\cdot2}+\\frac{1}{2\\cdot3}+\\frac{1}{3\\cdot4}+...+\\frac{1}{(n-1)\\cdot n}\\Bigr)=$$\n",
    "\n",
    "Each fraction can be represented as the difference of two\n",
    "\n",
    "### $$\\frac{1}{1\\cdot2}=\\frac{1}{1}-\\frac{1}{2}$$ \n",
    "\n",
    "### $$\\frac{1}{2\\cdot3}=\\frac{1}{2}-\\frac{1}{3}$$ \n",
    "\n",
    "### $$\\frac{1}{3\\cdot4}=\\frac{1}{3}-\\frac{1}{4}$$ \n",
    "\n",
    "### $$\\frac{1}{(n-1)\\cdot n}=\\frac{1}{n-1}-\\frac{1}{n}$$ \n",
    "\n",
    "We get:\n",
    "\n",
    "### $$\\lim_{n\\to \\infty} \\Bigl(\\frac{1}{1}-\\frac{1}{2}+\\frac{1}{2}-\\frac{1}{3}+...+\\frac{1}{n-1}-\\frac{1}{n}\\Bigr)=$$\n",
    "\n",
    "### $$=\\lim_{n\\to \\infty} \\Bigl(1-\\frac{1}{n}\\Bigr)=1$$"
   ]
  },
  {
   "cell_type": "markdown",
   "metadata": {
    "id": "M6kNG0Nu7Wzd"
   },
   "source": [
    "To solve the $2$ and $3$ problems, use the resulting formula:\n",
    "    \n",
    "### $$\\frac{1}{(n-1)\\cdot n}=\\frac{1}{n-1}-\\frac{1}{n}$$ \n",
    "\n",
    "### $$\\frac{1}{n-1}=\\frac{1}{(n-1)\\cdot n}+\\frac{1}{n}$$ \n",
    "\n",
    "### $$\\frac{1}{n}=\\frac{1}{n\\cdot (n+1)}+\\frac{1}{n+1}$$ "
   ]
  },
  {
   "cell_type": "markdown",
   "metadata": {
    "id": "tDR0wTSb7Wzd"
   },
   "source": [
    "__2.__ Imagine $1$ as the sum of three rational fractions with different denominators and a numerator equal to $1$.\n",
    "\n",
    "Solution:\n",
    "\n",
    "### $$1=\\frac{1}{2}+\\frac{1}{2}$$\n",
    "\n",
    "Next, simply decompose one of the fractions using the formula\n",
    "\n",
    "### $$\\frac{1}{2}=\\frac{1}{2\\cdot3}+\\frac{1}{3}$$\n",
    "\n",
    "We get\n",
    "\n",
    "### $$1=\\frac{1}{2}+\\frac{1}{6}+\\frac{1}{3}$$"
   ]
  },
  {
   "cell_type": "markdown",
   "metadata": {
    "id": "rwAE6W737Wze"
   },
   "source": [
    "__3$^*$.__ The same task, only as the sum of six fractions.\n",
    "\n",
    "Solution:\n",
    "\n",
    "Decompose each fraction using the formula from the previous example:\n",
    "\n",
    "### $$\\frac{1}{2}=\\frac{1}{2\\cdot3}+\\frac{1}{3}$$\n",
    "\n",
    "### $$\\frac{1}{6}=\\frac{1}{6\\cdot7}+\\frac{1}{7}$$\n",
    "\n",
    "### $$\\frac{1}{3}=\\frac{1}{3\\cdot4}+\\frac{1}{4}$$\n",
    "\n",
    "We get \n",
    "\n",
    "### $$1=\\frac{1}{6}+\\frac{1}{3}+\\frac{1}{42}+\\frac{1}{7}+\\frac{1}{12}+\\frac{1}{4}$$"
   ]
  },
  {
   "cell_type": "markdown",
   "metadata": {
    "id": "67azmdgc7Wzf"
   },
   "source": [
    "__4.__ Use Cauchy's criterion to prove the convergence of the sequence:\n",
    "\n",
    "### $$a_n=\\frac{\\sin1}{2}+\\frac{\\sin2}{2^2}+\\frac{\\sin3}{2^3}+..\\frac{\\sin n}{2^n}\\,\\,\\,\\,\\,\\Rightarrow$$\n",
    "\n",
    "### $$\\Bigl\\{a_n\\Bigr\\}_{n=1}^\\infty=\\Bigl\\{\\frac{\\sin1}{2}, \\frac{\\sin1}{2}+\\frac{\\sin2}{2^2}, ..., a_n,...\\Bigr\\}$$\n",
    "\n",
    "\n",
    "$^*$ Which term of the sequence can be taken as the limit with $\\varepsilon=10^{-7}$?\n",
    "\n",
    "Solution:\n",
    "\n",
    "Recalling the Cauchy convergence criterion\n",
    "\n",
    "### $$\\forall\\varepsilon>0\\,\\,\\,\\exists N(\\varepsilon), \\,\\,\\,\\forall n>N(\\varepsilon)\\,\\,\\,\\forall k\\geq1:|a_n-a_{n+k}|<\\varepsilon$$\n",
    "\n",
    "Let's find the connection $N(\\varepsilon)$\n",
    "\n",
    "### $$a_n=\\frac{\\sin1}{2}+\\frac{\\sin2}{2^2}+\\frac{\\sin3}{2^3}+..\\frac{\\sin n}{2^n}$$\n",
    "\n",
    "### $$a_{n+k}=\\frac{\\sin1}{2}+\\frac{\\sin2}{2^2}+\\frac{\\sin3}{2^3}+..\\frac{\\sin (n+k)}{2^{n+k}}$$\n",
    "\n",
    "### $$|a_n-a_{n+k}|=\\Bigl|\\frac{\\sin(n+1)}{2^{n+1}}+\\frac{\\sin(n+2)}{2^{n+2}}+..+\\frac{\\sin (n+k)}{2^{n+k}}\\Bigr|\\leq$$\n",
    "\n",
    "### $$\\leq\\frac{|\\sin(n+1)|}{2^{n+1}}+\\frac{|\\sin(n+2)|}{2^{n+2}}+..+\\frac{|\\sin (n+k)|}{2^{n+k}}\\leq$$\n",
    "\n",
    "### $$\\leq\\frac{1}{2^{n+1}}+\\frac{1}{2^{n+2}}+..+\\frac{1}{2^{n+k}}=$$\n",
    "\n",
    "### $$=\\frac{1}{2^{n}}\\Bigl(\\frac{1}{2}+\\frac{1}{2^{2}}+..+\\frac{1}{2^{k}}\\Bigr)=$$\n",
    "\n",
    "### $$=\\frac{1}{2^{n}}\\cdot\\frac{\\frac{1}{2}\\cdot\\Bigl(1-\\frac{1}{2^{k}}\\Bigr)}{1-\\frac{1}{2}}=$$\n",
    "\n",
    "### $$=\\frac{1}{2^{n}}\\cdot\\Bigl(1-\\frac{1}{2^{k}}\\Bigr)<\\frac{1}{2^{n}}<\\frac{1}{2^{N(\\varepsilon)}}=\\varepsilon$$\n",
    "\n",
    "So we got the same connection as in the webinar\n",
    "\n",
    "### $$N(\\varepsilon)=-\\log_2 \\varepsilon$$ \n",
    "\n",
    "With this selection $N(\\varepsilon)$, the inequality will be fulfilled automatically, and the formula is true for $\\forall\\varepsilon>0$. That is, the sequence converges\n",
    "\n",
    "For accuracy $\\varepsilon=10^{-7}$\n",
    "\n",
    "### $$N(10^{-7})=-\\log_2 10^{-7}=7\\cdot\\log_2 10 \\approx23.25$$ \n",
    "\n",
    "That is, any term can be taken as the limit, starting with $24$ "
   ]
  },
  {
   "cell_type": "markdown",
   "metadata": {
    "id": "5Ru8rN3T7Wzf"
   },
   "source": [
    "__5$^*$.__  Пользуясь критерием Коши, докажите расходимость последовательности:\n",
    "\n",
    "### $$b_n=1+\\frac{1}{2}+\\frac{1}{3}+..\\frac{1}{n}\\,\\,\\,\\,\\,\\Rightarrow$$\n",
    "\n",
    "### $$\\Bigl\\{b_n\\Bigr\\}_{n=1}^\\infty=\\Bigl\\{1, 1+\\frac{1}{2},1+\\frac{1}{2}+\\frac{1}{3}, ..., b_n,...\\Bigr\\}$$\n",
    "\n",
    "Решение:\n",
    "\n",
    "Напомню критерий расходимости Коши\n",
    "\n",
    "\n",
    "### $$\\exists\\varepsilon>0\\,\\,\\,\\forall N, \\,\\,\\,\\exists n>N\\,\\,\\,\\exists k\\geq1:|a_n-a_{n+k}|\\geq\\varepsilon$$\n",
    "\n",
    "\n",
    "### $$b_n=1+\\frac{1}{2}+\\frac{1}{3}+..\\frac{1}{n}$$\n",
    "\n",
    "### $$b_{n+k}=1+\\frac{1}{2}+\\frac{1}{3}+..\\frac{1}{n+k}$$\n",
    "\n",
    "### $$|b_n-b_{n+k}|=\\Bigl|\\frac{1}{n+1}+\\frac{1}{n+2}+..+\\frac{1}{n+k}\\Bigr|\\geq$$\n",
    "\n",
    "### $$\\geq\\Bigl|\\frac{1}{n+k}+\\frac{1}{n+k}+..+\\frac{1}{n+k}\\Bigr|=$$\n",
    "### $$=\\Bigl|k\\cdot\\frac{1}{n+k}\\Bigr|=\\frac{k}{n+k}=$$\n",
    "\n",
    "Пусть $k=n>N$, при этом $N$ абсолютно любой, тогда\n",
    "\n",
    "### $$=\\frac{n}{n+n}=\\frac{n}{2n}=\\frac{1}{2}=\\varepsilon$$\n",
    "\n",
    "То есть для конкретного $\\varepsilon=\\frac{1}{2}$ и $\\forall N$ мы нашли такие $n$ и $k$, при которых выполняется неравенство. Следовательно последовательность расходится"
   ]
  },
  {
   "cell_type": "code",
   "execution_count": null,
   "metadata": {
    "id": "pQF4v5-m7Wzg"
   },
   "outputs": [],
   "source": []
  }
 ],
 "metadata": {
  "colab": {
   "collapsed_sections": [],
   "name": "Lesson_3_solve.ipynb",
   "provenance": []
  },
  "kernelspec": {
   "display_name": "Python 3",
   "language": "python",
   "name": "python3"
  },
  "language_info": {
   "codemirror_mode": {
    "name": "ipython",
    "version": 3
   },
   "file_extension": ".py",
   "mimetype": "text/x-python",
   "name": "python",
   "nbconvert_exporter": "python",
   "pygments_lexer": "ipython3",
   "version": "3.8.5"
  }
 },
 "nbformat": 4,
 "nbformat_minor": 1
}
