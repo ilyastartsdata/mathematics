{
 "cells": [
  {
   "cell_type": "markdown",
   "metadata": {
    "id": "zz7SDkPIkVlM"
   },
   "source": [
    "# Lesson 5"
   ]
  },
  {
   "cell_type": "markdown",
   "metadata": {
    "id": "p_3vqG5-kVlP"
   },
   "source": [
    "# Review of the homework assignment"
   ]
  },
  {
   "cell_type": "markdown",
   "metadata": {
    "id": "SmdURZ_OkVqQ"
   },
   "source": [
    "__1.__ Find the derivative of a function:\n",
    "\n",
    "### $$y=\\frac{1}{x}+\\frac{2}{x^2}-\\frac{5}{x^3}+\\sqrt x -\\sqrt[3]x+\\frac{3}{\\sqrt x}$$\n",
    "\n",
    "Solution:\n",
    "\n",
    "### $$y=x^{-1}+2x^{-2}-5x^{-3}+x^{\\frac{1}{2}} -x^{\\frac{1}{3}}+3x^{-\\frac{1}{2}}$$\n",
    "\n",
    "Then:\n",
    "\n",
    "### $$y'=-x^{-2}-4x^{-3}+15x^{-4}+\\frac{1}{2}x^{-\\frac{1}{2}} -\\frac{1}{3}x^{-\\frac{2}{3}}-\\frac{3}{2}x^{-\\frac{3}{2}}$$"
   ]
  },
  {
   "cell_type": "markdown",
   "metadata": {
    "id": "cECfCSANkVqR"
   },
   "source": [
    "__2.__ Find the derivative of a function:\n",
    "\n",
    "### $$y=x \\cdot \\sqrt {1+x^2}$$\n",
    "\n",
    "Solution:\n",
    "\n",
    "### $$y=x \\cdot (1+x^2)^{\\frac{1}{2}}$$\n",
    "\n",
    "Then:\n",
    "\n",
    "### $$y'=1 \\cdot (1+x^2)^{\\frac{1}{2}}+x \\cdot \\frac{1}{2}(1+x^2)^{-\\frac{1}{2}}\\cdot2x=\\sqrt {1+x^2}+\\frac{x^2}{\\sqrt {1+x^2}}$$"
   ]
  },
  {
   "cell_type": "markdown",
   "metadata": {
    "id": "DFrjdtbHkVqS"
   },
   "source": [
    "__3.__ Find the derivative of a function:\n",
    "\n",
    "### $$y= \\frac{2x}{1-x^2}$$\n",
    "\n",
    "Solution:\n",
    "\n",
    "### $$y'= \\frac{2\\cdot(1-x^2)-2x\\cdot(-2x)}{(1-x^2)^2}=\\frac{2x^2+2}{(1-x^2)^2}$$"
   ]
  },
  {
   "cell_type": "markdown",
   "metadata": {
    "id": "5la-eVLukVqT"
   },
   "source": [
    "__4*.__ Find the derivative of a function:\n",
    "\n",
    "### $$y=\\sqrt{x+ \\sqrt{x+\\sqrt x}}$$\n",
    "\n",
    "Solution:\n",
    "\n",
    "### $$y=\\Bigr(x+\\Bigr(x+x^{\\frac{1}{2}}\\Bigl)^{\\frac{1}{2}}\\Bigl)^{\\frac{1}{2}}$$\n",
    "\n",
    "Then:\n",
    "\n",
    "### $$y=\\frac{1}{2}\\Bigr(x+\\Bigr(x+x^{\\frac{1}{2}}\\Bigl)^{\\frac{1}{2}}\\Bigl)^{-\\frac{1}{2}}\\cdot\\Bigr(1+\\frac{1}{2}\\Bigr(x+x^{\\frac{1}{2}}\\Bigl)^{-\\frac{1}{2}}\\cdot \\Bigr(1+\\frac{1}{2}x^{-\\frac{1}{2}}\\Bigl)\\Bigl)$$"
   ]
  },
  {
   "cell_type": "markdown",
   "metadata": {
    "id": "kQlell_GkVqU"
   },
   "source": [
    "__5.__ Find the derivative of a function:\n",
    "\n",
    "### $$y= \\ln(x+\\sqrt{x^2+1})$$\n",
    "\n",
    "Solution:\n",
    "\n",
    "### $$y'=\\frac{1}{x+\\sqrt{x^2+1}}\\cdot \\Bigr(1+\\frac{x}{\\sqrt{x^2+1}} \\Bigl)=\\frac{1}{x+\\sqrt{x^2+1}}\\cdot \\frac{x+\\sqrt{x^2+1}}{\\sqrt{x^2+1}}=\\frac{1}{\\sqrt{x^2+1}}$$"
   ]
  },
  {
   "cell_type": "markdown",
   "metadata": {
    "id": "x4xn81R618Rl"
   },
   "source": [
    "__6.__ Find the derivative of a function:\n",
    "\n",
    "### $$y=x \\cdot \\ln(x+\\sqrt{x^2+1})-\\sqrt{x^2+1}$$\n",
    "\n",
    "Solution:\n",
    "\n",
    "### $$y'=1 \\cdot \\ln(x+\\sqrt{x^2+1})+x \\cdot \\frac{1}{\\sqrt{x^2+1}}-\\frac{x}{\\sqrt{x^2+1}}=\\ln(x+\\sqrt{x^2+1})$$"
   ]
  },
  {
   "cell_type": "markdown",
   "metadata": {
    "id": "69WQ-qTP18Rm"
   },
   "source": [
    "__7*.__ Find the derivative of a function:\n",
    "\n",
    "### $$y=\\arcsin (\\sin x)$$\n",
    "\n",
    "Solution:\n",
    "\n",
    "### $$y'=\\frac{1}{\\sqrt{1-\\sin^2 x}}\\cdot \\cos x=\\frac{\\cos x}{|\\cos x|}$$"
   ]
  },
  {
   "cell_type": "markdown",
   "metadata": {
    "id": "AirqXvWU18Rn"
   },
   "source": [
    "__8*.__ Calculate an approximate value: \n",
    "\n",
    "### $$\\sin\\Bigr(1^0\\Bigl)=\\sin\\Bigr(\\frac{\\pi}{180}\\Bigl)$$\n",
    "\n",
    "Solution:\n",
    "\n",
    "### $$f(x+\\Delta x) \\approx f(x)+f'(x) \\cdot \\Delta x$$\n",
    "\n",
    "Then\n",
    "\n",
    "$$\\sin\\Bigr(1^0\\Bigl)=\\sin\\Bigr(\\frac{\\pi}{180}\\Bigl)=\\sin\\Bigr(0+\\frac{\\pi}{180}\\Bigl)=\\sin(0)+\\cos(0)\\cdot \\frac{\\pi}{180}=\\frac{\\pi}{180}\\approx 0,0174532925199$$"
   ]
  },
  {
   "cell_type": "markdown",
   "metadata": {
    "id": "wAmN7smG18Rp"
   },
   "source": [
    "__9**.__ Write a python algorithm to calculate values $\\sin(x)$ for $х \\in[0, 30^o]$\n",
    "\n",
    "The data from the Bradis table is suitable for checking\n",
    "\n",
    "$$\\sin(0)=0.0000$$\n",
    "\n",
    "$$\\sin(1^0)=0.0175$$\n",
    "\n",
    "$$\\sin(2^0)=0.0349$$\n",
    "\n",
    "$$\\sin(3^0)=0.0523$$\n",
    "\n",
    "$$\\sin(4^0)=0.0698$$\n",
    "\t\n",
    "$$\\sin(5^0)=0.0872$$\n",
    "\n",
    "Solution:"
   ]
  },
  {
   "cell_type": "code",
   "execution_count": null,
   "metadata": {
    "id": "LdbKXabs18Rq",
    "outputId": "9a08b307-94c2-4319-9d89-b5068d262d73"
   },
   "outputs": [
    {
     "name": "stdout",
     "output_type": "stream",
     "text": [
      "0.08715584216080734\n"
     ]
    }
   ],
   "source": [
    "import numpy as np\n",
    "from scipy.interpolate import splev, splrep\n",
    "\n",
    "n=10000\n",
    "l=np.pi/6\n",
    "h=l/n\n",
    "x = np.arange (0, l, h)\n",
    "x = np.append(x,l)\n",
    "sin_d = np.array([0])\n",
    "cos_d = 1\n",
    "    \n",
    "while(n != 0):\n",
    "    sin_d = np.append(sin_d,sin_d[len(sin_d)-1] + cos_d*h)\n",
    "    cos_d = np.sqrt(1-(sin_d[len(sin_d)-1])**2)\n",
    "    n -= 1\n",
    "    \n",
    "spl = splrep(x, sin_d)\n",
    "\n",
    "def sin(k):\n",
    "    return splev(k, spl)\n",
    "    \n",
    "\n",
    "\n",
    "alfa=5\n",
    "print (sin(alfa*np.pi/180))\n",
    "\n"
   ]
  },
  {
   "cell_type": "markdown",
   "metadata": {
    "id": "Iv-T_NZAkVqZ"
   },
   "source": [
    "## Дополнительные материалы"
   ]
  },
  {
   "cell_type": "markdown",
   "metadata": {
    "id": "9o_SiUNxkVqa"
   },
   "source": [
    "1. [SymPy](https://www.sympy.org/en/index.html)"
   ]
  }
 ],
 "metadata": {
  "colab": {
   "collapsed_sections": [],
   "name": "Lesson_5_solve.ipynb",
   "provenance": []
  },
  "kernelspec": {
   "display_name": "Python 3",
   "language": "python",
   "name": "python3"
  },
  "language_info": {
   "codemirror_mode": {
    "name": "ipython",
    "version": 3
   },
   "file_extension": ".py",
   "mimetype": "text/x-python",
   "name": "python",
   "nbconvert_exporter": "python",
   "pygments_lexer": "ipython3",
   "version": "3.8.5"
  }
 },
 "nbformat": 4,
 "nbformat_minor": 1
}
