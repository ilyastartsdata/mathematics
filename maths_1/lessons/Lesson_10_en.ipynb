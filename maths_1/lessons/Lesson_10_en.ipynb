{
 "cells": [
  {
   "cell_type": "markdown",
   "metadata": {
    "id": "zz7SDkPIkVlM"
   },
   "source": [
    "# Lesson 10"
   ]
  },
  {
   "cell_type": "markdown",
   "metadata": {
    "id": "p_3vqG5-kVlP"
   },
   "source": [
    "# Rows"
   ]
  },
  {
   "cell_type": "markdown",
   "metadata": {
    "id": "kZqvjwzf6Qpy"
   },
   "source": [
    "In today's lesson we are going to learn about new topics:\n",
    "\n",
    "- the convergence of a familiar constant series;\n",
    "- convergence of alternating series;\n",
    "- Taylor (McLaren) series;\n",
    "- Fourier series."
   ]
  },
  {
   "cell_type": "markdown",
   "metadata": {
    "id": "Q_pRPREp6Qpz"
   },
   "source": [
    "### Definition "
   ]
  },
  {
   "cell_type": "markdown",
   "metadata": {
    "id": "m_-HrxVJ6Qpz"
   },
   "source": [
    "The definition of a series is directly related to the sequences we studied in the first lessons. Essentially, a series is an infinite \"sum\" of the elements of a sequence. \n",
    "\n",
    "### $$a_{1}+a_{2}+a_{3}+\\,...\\,+a_{n}+\\,...\\,=\\sum\\limits_{n=1}^{+\\infty}a_{n}$$\n",
    "\n",
    "__Why is the sum in quotes? __ Because we can also think of the difference $2-3$ as the sum of the two numbers $2$ and $-3$. That is, $2+(-3)$."
   ]
  },
  {
   "cell_type": "markdown",
   "metadata": {
    "id": "HlnmtCng6Qp1"
   },
   "source": [
    "### Convergence"
   ]
  },
  {
   "cell_type": "markdown",
   "metadata": {
    "id": "xsU8UvTC6Qp1"
   },
   "source": [
    "What does it mean that a series is convergent? It means that we can find the sum of the series. That is, the sum does not grow to infinity, but gathers to a certain number. \n",
    "\n",
    "The simplest example of a convergent series is an infinitely decreasing geometric progression. For example:\n",
    "\n",
    "### $$\\sum\\limits_{n=1}^{+\\infty}\\frac{1}{2^n}=\\frac{1}{2}+\\frac{1}{4}+\\frac{1}{8}+\\,...\\,=\\frac{a_{1}}{1-q}=\\frac{\\frac{1}{2}}{1-\\frac{1}{2}}=1$$\n",
    "\n",
    "A prerequisite for the convergence of any series is that the principal term of the series tends to zero. \n",
    "\n",
    "### $$\\lim_{n\\to +\\infty}a_{n}=0$$\n",
    "\n",
    "There are quite a few __sufficient conditions. To make them easier to grasp, we will divide them into two groups: for a familiar constant series and for a variable series.\n",
    "\n",
    "An example of a sign-constant series:\n",
    "\n",
    "### $$1+2+3+4+5+\\,...$$\n",
    "\n",
    "An example of a variable series:\n",
    "\n",
    "### $$1-2+3-4+5-\\,...$$\n",
    "\n",
    "A single sign change is enough to make the series be considered sign-variable:\n",
    "\n",
    "### $$1-2+3+4+5+\\,...$$"
   ]
  },
  {
   "cell_type": "markdown",
   "metadata": {
    "id": "ivXsYcMv6Qp2"
   },
   "source": [
    "### Convergence of familiar-constant series"
   ]
  },
  {
   "cell_type": "markdown",
   "metadata": {
    "id": "ZGILzJJ-6Qp2"
   },
   "source": [
    "For the familiar-constant series, we will highlight the following main features, although there are actually more:\n",
    "1. The first feature of comparison.\n",
    "2. The second feature of comparison.\n",
    "3. The sign of d'Alambera.\n",
    "4. Cauchy's radical sign.\n",
    "5. Cauchy's integral sign.\n",
    "6. Raabe's sign.\n",
    "8. Cauchy's criterion.\n",
    "\n",
    "Despite this abundance of signs, only two are generally used. These are the second comparison sign and d'Alamber's sign."
   ]
  },
  {
   "cell_type": "markdown",
   "metadata": {
    "id": "pbDB28Fy6Qp2"
   },
   "source": [
    "#### Second feature of the comparison\n",
    "\n",
    "This is a comparison with a power series $O\\Bigr(\\frac{1}{n^p}\\Bigl)$. Naturally, if it is possible. \n",
    "\n",
    "- if the degree of $p>1$, the series converges. \n",
    "- in all other cases it is divergent.\n",
    "\n",
    "Let us consider some examples:\n",
    "\n",
    "1. \n",
    "### $$\\frac{1}{1001}+\\frac{1}{2001}+\\,...\\,+\\frac{1}{1000n+1}+\\,...\\,\\,\\,\\,\\,\\,\\sim\\,\\,\\,\\,\\,\\,O\\Bigr(\\frac{1}{n^1}\\Bigl)$$\n",
    "since the degree is $1\\leq1$, the series diverges.\n",
    "\n",
    "2. \n",
    "### $$1+\\frac{1}{3^2}+\\frac{1}{5^2}+\\,...\\,+\\frac{1}{(2n-1)^2}+\\,...\\,\\,\\,\\,\\,\\,\\sim\\,\\,\\,\\,\\,\\,O\\Bigr(\\frac{1}{n^2}\\Bigl)$$\n",
    "because the degree is $2>1$, the series converges.\n",
    "\n",
    "3. \n",
    "### $$1+\\frac{2}{3}+\\frac{3}{5}+\\,...\\,+\\frac{n}{2n-1}+\\,...\\,\\,\\,\\,\\,\\,\\sim\\,\\,\\,\\,\\,\\,O\\Bigr(\\frac{1}{n^0}\\Bigl)$$\n",
    "since the degree is $0\\leq1$, the series diverges. Although in this example, even the necessary condition for convergence is not satisfied:\n",
    "\n",
    "### $$\\lim_{n\\to +\\infty}a_{n}=\\lim_{n\\to +\\infty}\\frac{n}{2n-1}=\\frac{1}{2}\\neq0$$"
   ]
  },
  {
   "cell_type": "markdown",
   "metadata": {
    "id": "ShB7eBuQ6Qp3"
   },
   "source": [
    "#### The first sign of comparison\n",
    "\n",
    "This attribute is rarely used in practice. But let's study it, so as not to confuse it with the second comparison feature. The first comparison sign is an analogue of the theorem about two policemen. \n",
    "\n",
    "Suppose we have a convergent series\n",
    "\n",
    "### $$b_{1}+b_{2}+b_{3}+...+b_{n}+\\,...\\,=\\sum\\limits_{n=1}^{+\\infty}b_{n}$$\n",
    "\n",
    "However, there are also a number of \n",
    "\n",
    "### $$a_{1}+a_{2}+a_{3}+...+a_{n}+\\,...\\,=\\sum\\limits_{n=1}^{+\\infty}a_{n}$$\n",
    "\n",
    "for which:\n",
    "\n",
    "### $$0\\leq a_{n}\\leq b_{n}$$ \n",
    "\n",
    "This is enough for the series $\\sum\\limits_{n=1}^{+\\infty}a_{n}$ to also converge."
   ]
  },
  {
   "cell_type": "markdown",
   "metadata": {
    "id": "IXxzXutU6Qp4"
   },
   "source": [
    "#### D'Alamber's sign.\n",
    "\n",
    "This is the basic sign for a familiar constant series.\n",
    "\n",
    "Take the series \n",
    "\n",
    "### $$a_{1}+a_{2}+a_{3}+...+a_{n}+\\,...\\,=\\sum\\limits_{n=1}^{+\\infty}a_{n}$$\n",
    "\n",
    "and consider the next limit:\n",
    "\n",
    "### $$\\lim_{n\\to +\\infty}\\frac{a_{n+1}}{a_{n}}=q$$\n",
    "\n",
    "- if $q<1$, then the series is convergent;\n",
    "- if $q>1$, then the series is divergent;\n",
    "- if $q=1$, then d'Alamber's sign does not work.\n",
    "\n",
    "Consider some examples:\n",
    "\n",
    "1. \n",
    "### $$\\frac{1}{2}+\\frac{1}{4}+\\,...\\,+\\frac{1}{2^n}+\\,...\\,=\\sum\\limits_{n=1}^{+\\infty}\\frac{1}{2^n}$$\n",
    "\n",
    "Let's find the limit:\n",
    "\n",
    "### $$\\lim_{n\\to +\\infty}\\frac{a_{n+1}}{a_{n}}=\\lim_{n\\to +\\infty}\\frac{1}{2^{n+1}}:\\frac{1}{2^{n}}=\\frac{1}{2}$$\n",
    "\n",
    "Since the limit is $\\frac{1}{2}<1$, the series is convergent.\n",
    "\n",
    "2. \n",
    "### $$\\frac{1}{2}+\\frac{3}{2^2}+\\,...\\,+\\frac{2n-1}{2^n}+\\,...\\,=\\sum\\limits_{n=1}^{+\\infty}\\frac{2n-1}{2^n}$$\n",
    "\n",
    "Let's find the limit:\n",
    "\n",
    "### $$\\lim_{n\\to +\\infty}\\frac{a_{n+1}}{a_{n}}=\\lim_{n\\to +\\infty}\\frac{2n+1}{2^{n+1}}:\\frac{2n-1}{2^n}=$$\n",
    "\n",
    "### $$=\\lim_{n\\to +\\infty}\\frac{2n+1}{2(2n-1)}=\\frac{1}{2}$$\n",
    "\n",
    "Since the limit is $\\frac{1}{2}<1$, the series is convergent.\n",
    "\n",
    "3. \n",
    "### $$1+\\frac{1}{3^2}+\\frac{1}{5^2}+\\,...\\,+\\frac{1}{(2n-1)^2}+\\,...\\,=\\sum\\limits_{n=1}^{+\\infty}\\frac{1}{(2n-1)^2}$$\n",
    "\n",
    "We have already looked at this example and proved the convergence of this series by the second comparison criterion.\n",
    "\n",
    "Let us find the limit:\n",
    "\n",
    "### $$\\lim_{n\\to +\\infty}\\frac{a_{n+1}}{a_{n}}=\\lim_{n\\to +\\infty}\\frac{1}{(2n+1)^2}:\\frac{1}{(2n-1)^2}=1$$\n",
    "\n",
    "### $$=\\lim_{n\\to +\\infty}\\frac{(2n-1)^2}{(2n+1)^2}=1$$\n",
    "\n",
    "Since the limit is $1=1$, the d'Alamber sign does not work in this case. \n",
    "\n",
    "__The second comparison sign and d'Alamber's sign complement each other well. They can be used to prove the convergence of a series almost always.__"
   ]
  },
  {
   "cell_type": "markdown",
   "metadata": {
    "id": "UgP_84c96Qp4"
   },
   "source": [
    "#### The radical sign of Cauchy\n",
    "\n",
    "This is analogous to d'Alamber's sign.\n",
    "\n",
    "Take a series of \n",
    "\n",
    "### $$a_{1}+a_{2}+a_{3}+...+a_{n}+\\,...\\,=\\sum\\limits_{n=1}^{+\\infty}a_{n}$$\n",
    "\n",
    "and consider the trailing limit:\n",
    "\n",
    "### $$\\lim_{n\\to +\\infty}\\sqrt[n]{a_{n}}=q$$\n",
    "\n",
    "- if $q<1$, then the series is convergent;\n",
    "- if $q>1$, then the series is divergent;\n",
    "- if $q=1$, then the radical Cauchy sign does not work.\n",
    "\n",
    "Consider an example:\n",
    "\n",
    "### $$\\frac{1}{2}+\\frac{2}{2^2}+\\,...\\,+\\frac{n}{2^n}+\\,...\\,=\\sum\\limits_{n=1}^{+\\infty}\\frac{n}{2^n}$$\n",
    "\n",
    "Let's find the limit:\n",
    "\n",
    "### $$\\lim_{n\\to +\\infty}\\sqrt[n]{a_{n}}=\\lim_{n\\to +\\infty}\\sqrt[n]{\\frac{n}{2^n}}=$$\n",
    "\n",
    "### $$=\\lim_{n\\to +\\infty}\\frac{\\sqrt[n]{n}}{2}=\\frac{1}{2}$$\n",
    "\n",
    "Since the limit is $\\frac{1}{2}<1$, the series converges.\n",
    "\n",
    "Let us show that in this case we can get by with d'Alamber's sign.\n",
    "\n",
    "Let's find the limit:\n",
    "\n",
    "### $$\\lim_{n\\to +\\infty}\\frac{a_{n+1}}{a_{n}}=\\lim_{n\\to +\\infty}\\frac{n+1}{2^{n+1}}:\\frac{n}{2^{n}}=$$\n",
    "\n",
    "### $$=\\lim_{n\\to +\\infty}\\frac{n+1}{2n}=\\frac{1}{2}$$\n",
    "\n",
    "Since the limit is $\\frac{1}{2}<1$, the series is convergent."
   ]
  },
  {
   "cell_type": "markdown",
   "metadata": {
    "id": "DtUt4-ry6Qp4"
   },
   "source": [
    "#### Cauchy's integral sign.\n",
    "\n",
    "A fairly rarely used feature. \n",
    "\n",
    "Take a series of \n",
    "\n",
    "### $$a_{1}+a_{2}+a_{3}+...+a_{n}+\\,...\\,=\\sum\\limits_{n=1}^{+\\infty}a_{n}$$\n",
    "\n",
    "This series then converges simultaneously with the non-self-integral\n",
    "\n",
    "### $$\\int\\limits_{1}^{+\\infty}a_{x}\\,dx$$\n",
    "\n",
    "In other words:__if we can calculate this integral, then the series is convergent.\n",
    "\n",
    "Let's look at some examples:\n",
    "\n",
    "1. \n",
    "### $$\\frac{1}{2\\ln2}+\\frac{1}{3\\ln3}+\\,...\\,+\\frac{1}{(n+1)\\ln(n+1)}+\\,...\\,=\\sum\\limits_{n=1}^{+\\infty}\\frac{1}{(n+1)\\ln(n+1)}$$\n",
    "\n",
    "Prove the divergence of this series by finding the integral:\n",
    "\n",
    "### $$\\int\\limits_{1}^{+\\infty}\\frac{dx}{(x+1)\\ln(x+1)}$$"
   ]
  },
  {
   "cell_type": "code",
   "execution_count": null,
   "metadata": {
    "id": "IufuomE46Qp5",
    "outputId": "42fa9173-9122-442a-f221-746ea8c0c58b"
   },
   "outputs": [
    {
     "data": {
      "image/png": "[encoded data removed]",
      "text/latex": [
       "$\\displaystyle \\frac{1}{\\left(x + 1\\right) \\log{\\left(x + 1 \\right)}}$"
      ],
      "text/plain": [
       "        1         \n",
       "──────────────────\n",
       "(x + 1)⋅log(x + 1)"
      ]
     },
     "execution_count": 1,
     "metadata": {
      "tags": []
     },
     "output_type": "execute_result"
    }
   ],
   "source": [
    "from sympy import *\n",
    "init_printing()\n",
    "x=Symbol('x')\n",
    "f=1/(x+1)/ln(x+1)\n",
    "f"
   ]
  },
  {
   "cell_type": "code",
   "execution_count": null,
   "metadata": {
    "id": "5dw0AcS26Qp6",
    "outputId": "fae284a4-f74f-4017-f442-d79487d37380"
   },
   "outputs": [
    {
     "data": {
      "image/png": "[encoded data removed]",
      "text/latex": [
       "$\\displaystyle \\infty$"
      ],
      "text/plain": [
       "∞"
      ]
     },
     "execution_count": 30,
     "metadata": {
      "tags": []
     },
     "output_type": "execute_result"
    }
   ],
   "source": [
    "integrate(f,(x, 1, +oo)) # analytical solution"
   ]
  },
  {
   "cell_type": "markdown",
   "metadata": {
    "id": "acJCBVth6Qp7"
   },
   "source": [
    "The integral diverges, hence the series diverges.\n",
    "\n",
    "2. \n",
    "### $$\\frac{1}{2\\ln^2 2}+\\frac{1}{3\\ln^2 3}+\\,...\\,+\\frac{1}{(n+1)\\ln^2(n+1)}+\\,...\\,=\\sum\\limits_{n=1}^{+\\infty}\\frac{1}{(n+1)\\ln^2(n+1)}$$\n",
    "\n",
    "the convergence of this series by finding the integral:\n",
    "\n",
    "### $$\\int\\limits_{1}^{+\\infty}\\frac{dx}{(x+1)\\ln^2(x+1)}$$\n"
   ]
  },
  {
   "cell_type": "code",
   "execution_count": null,
   "metadata": {
    "id": "C0qftrJ96Qp7",
    "outputId": "5c509b5a-d04e-405c-b6a2-62b6d6f1dc97"
   },
   "outputs": [
    {
     "data": {
      "image/png": "[encoded data removed]",
      "text/latex": [
       "$\\displaystyle \\frac{1}{\\left(x + 1\\right) \\log{\\left(x + 1 \\right)}^{2}}$"
      ],
      "text/plain": [
       "         1         \n",
       "───────────────────\n",
       "           2       \n",
       "(x + 1)⋅log (x + 1)"
      ]
     },
     "execution_count": 31,
     "metadata": {
      "tags": []
     },
     "output_type": "execute_result"
    }
   ],
   "source": [
    "from sympy import *\n",
    "init_printing()\n",
    "x=Symbol('x')\n",
    "f=1/(x+1)/(ln(x+1))**2\n",
    "f"
   ]
  },
  {
   "cell_type": "code",
   "execution_count": null,
   "metadata": {
    "id": "IK2el1Pe6Qp7",
    "outputId": "8e205be0-3292-4914-f5c0-681f24a5f4e0"
   },
   "outputs": [
    {
     "data": {
      "image/png": "[encoded data removed]",
      "text/latex": [
       "$\\displaystyle \\frac{1}{\\log{\\left(2 \\right)}}$"
      ],
      "text/plain": [
       "  1   \n",
       "──────\n",
       "log(2)"
      ]
     },
     "execution_count": 32,
     "metadata": {
      "tags": []
     },
     "output_type": "execute_result"
    }
   ],
   "source": [
    "integrate(f,(x, 1, +oo)) # analytical solution"
   ]
  },
  {
   "cell_type": "markdown",
   "metadata": {
    "id": "em2XC0v-6Qp8"
   },
   "source": [
    "The integral was calculated, so the series converges."
   ]
  },
  {
   "cell_type": "markdown",
   "metadata": {
    "id": "7vEqUGI16Qp8"
   },
   "source": [
    "#### Raabe's sign.\n",
    "\n",
    "Another analogue of d'Alembert's sign.\n",
    "\n",
    "Take a series of \n",
    "\n",
    "### $$a_{1}+a_{2}+a_{3}+...+a_{n}+\\,...\\,=\\sum\\limits_{n=1}^{+\\infty}a_{n}$$\n",
    "\n",
    "and consider the trailing limit:\n",
    "\n",
    "### $$\\lim_{n\\to +\\infty}n\\Bigr(\\frac{a_{n}}{a_{n+1}}-1\\Bigl)=q$$\n",
    "\n",
    "- if $q>1$, then the series is convergent;\n",
    "- if $q<1$, then the series is divergent;\n",
    "- if $q=1$, then Raabe's sign does not work.\n",
    "\n",
    "Consider an example:\n",
    "\n",
    "### $$\\frac{3}{2}+\\frac{3^2}{2^2}+\\,...\\,+\\frac{3^n}{2^n}+\\,...\\,=\\sum\\limits_{n=1}^{+\\infty}\\frac{3^n}{2^n}$$\n",
    "\n",
    "Let's find the limit:\n",
    "\n",
    "### $$\\lim_{n\\to +\\infty}n\\Bigr(\\frac{a_{n}}{a_{n+1}}-1\\Bigl)=\\lim_{n\\to +\\infty}n\\Bigr(\\frac{3^n}{2^n}:\\frac{3^{n+1}}{2^{n+1}}-1\\Bigl)=$$\n",
    "\n",
    "### $$=\\lim_{n\\to +\\infty}n\\Bigr(\\frac{2}{3}-1\\Bigl)=-\\infty$$\n",
    "\n",
    "Since the limit is $-\\infty<1$, the series is divergent.\n",
    "\n",
    "Let us show that in this case we can get by with d'Alamber's sign.\n",
    "\n",
    "Let's find the limit:\n",
    "\n",
    "### $$\\lim_{n\\to +\\infty}\\frac{a_{n+1}}{a_{n}}=\\lim_{n\\to +\\infty}\\frac{3^{n+1}}{2^{n+1}}:\\frac{3^n}{2^{n}}=\\frac{3}{2}$$\n",
    "\n",
    "Since the limit is $\\frac{3}{2}>1$, the series is divergent."
   ]
  },
  {
   "cell_type": "markdown",
   "metadata": {
    "id": "nlQ8D3Hs6Qp9"
   },
   "source": [
    "### Convergence of alternating variable series"
   ]
  },
  {
   "cell_type": "markdown",
   "metadata": {
    "id": "YeV-ebZc6Qp9"
   },
   "source": [
    "For a sign-variable series, let us distinguish the following main features:\n",
    "\n",
    "1. Leibniz's sign.\n",
    "2. Abel's sign.\n",
    "3. The sign of Dirichlet."
   ]
  },
  {
   "cell_type": "markdown",
   "metadata": {
    "id": "FMvUOj3k6Qp9"
   },
   "source": [
    "#### Leibniz's sign.\n",
    "\n",
    "For convergence according to this principle, it is sufficient that the terms of the series $|a_n|$ decrease monotonically modulo. \n",
    "\n",
    "It is difficult to imagine a situation where the necessary condition is met:\n",
    "\n",
    "### $$\\lim_{n\\to +\\infty}a_{n}=0$$\n",
    "\n",
    "with $|a_n|$ decreasing non-monotonically. Therefore, Leibniz's sign will be the only one that we will disambiguate for a sign-variable series.\n",
    "\n",
    "The mathematicians also distinguish the rate of convergence for a variable series:\n",
    "\n",
    "- If a series modulo $\\sum\\limits_{n=1}^{+\\infty}|a_n|$ converges, then the original sign-variable series $\\sum\\limits_{n=1}^{+\\infty}a_n$ converges absolutely (quickly);\n",
    "\n",
    "- If the series modulo $\\sum\\limits_{n=1}^{+\\infty}|a_n|$ diverges, then the original sign-variable series $\\sum\\limits_{n=1}^{+\\infty}a_n$ converges conditionally (slowly);"
   ]
  },
  {
   "cell_type": "markdown",
   "metadata": {
    "id": "0m1I5Rnf6Qp9"
   },
   "source": [
    "Let's look at some examples:\n",
    "\n",
    "1. \n",
    "### $$\\frac{1}{1}+\\frac{1}{2}+\\,...\\,+\\frac{1}{n}+\\,...\\,=\\sum\\limits_{n=1}^{+\\infty}\\frac{1}{n}$$\n",
    "\n",
    "this sign-constant series diverges according to the second convergence criterion. \n",
    "\n",
    "2. \n",
    "### $$-\\frac{1}{1}+\\frac{1}{2}-\\,...\\,+\\frac{(-1)^n}{n}+\\,...\\,=\\sum\\limits_{n=1}^{+\\infty}\\frac{(-1)^n}{n}$$\n",
    "\n",
    "this variable series converges conditionally. The main term tends monotonically to $0$ modulo.\n",
    "\n",
    "3. \n",
    "### $$\\frac{1}{1}+\\frac{1}{2^2}+\\,...\\,+\\frac{1}{n^2}+\\,...\\,=\\sum\\limits_{n=1}^{+\\infty}\\frac{1}{n^2}$$\n",
    "\n",
    "this sign-constant series converges according to the second convergence criterion.\n",
    "\n",
    "4. \n",
    "### $$-\\frac{1}{1}+\\frac{1}{2^2}-\\,...\\,+\\frac{(-1)^n}{n^2}+\\,...\\,=\\sum\\limits_{n=1}^{+\\infty}\\frac{(-1)^n}{n^2}$$\n",
    "\n",
    "this variation series converges, absolutely. The main term tends monotonically to $0$ modulo.\n"
   ]
  },
  {
   "cell_type": "markdown",
   "metadata": {
    "id": "sg31mt6f6Qp9"
   },
   "source": [
    "### Taylor (McLaren) series\n",
    "\n",
    "A Taylor's Rectangle is another of the approximation methods from the mathematical analysis course. In this, we approximate the function $f(x)$ by a harmonic (power) series.\n",
    "\n",
    "The decomposition of the function $f(x)$ occurs in the vicinity of a point, we will call it $a$. The basic requirement is that the function $f(x)$ has infinitely many derivatives at the point $a$.\n",
    "\n",
    "### $$f(x)=\\sum\\limits_{n=0}^{+\\infty}\\frac{f^{(n)}(a)}{n!}(x-a)^n$$\n",
    "\n",
    "where $f^{(n)}(a)$ is the value of the derivative at the point $a$ of order $n$.\n",
    "\n",
    "We can speak as: \"decompose the function $f(x)$ into a Taylor series around point $a$\" or \"decompose the function $f(x)$ into a Taylor series of powers $(x-a)$\", these are the same thing.\n",
    "\n",
    "Let's take a simple example. Let's decompose the function $f(x)=x^2+5x+4$ in the neighborhood of point $a=2$.\n",
    "\n",
    "Since our function is already a power function, the expansion will be finite:\n",
    "\n",
    "### $$x^2+5x+4=\\frac{2^2+5\\cdot2+4}{0!}(x-2)^0+\\frac{2\\cdot2+5}{1!}(x-2)^1+$$\n",
    "\n",
    "### $$+\\frac{2}{2!}(x-2)^2=18+9(x-2)+(x-2)^2$$\n",
    "\n",
    "As strange as it may seem, but \n",
    "\n",
    "### $$x^2+5x+4=18+9(x-2)+(x-2)^2$$\n",
    "\n",
    "The McLaren series is a special case of the Taylor series at $a=0$\n",
    "\n",
    "### $$f(x)=\\sum\\limits_{n=0}^{+\\infty}\\frac{f^{(n)}(0)}{n!}x^n$$\n",
    "\n",
    "Let's look at a more complex example. Let's decompose the function $f(x)=\\sin x$.\n",
    "\n",
    "### $$\\sin x=\\frac{\\sin 0}{0!}x^0+\\frac{\\cos 0}{1!}x^1-\\frac{\\sin 0}{2!}x^2-\\frac{\\cos 0}{3!}x^3+\\,...\\,=$$\n",
    "\n",
    "### $$=x-\\frac{x^3}{3!}+\\frac{x^5}{5!}-\\frac{x^7}{7!}+\\,...\\,=\\sum\\limits_{n=0}^{+\\infty}(-1)^n\\frac{x^{2n+1}}{(2n+1)!}$$\n",
    "\n",
    "The need for such decompositions can be related to certain methods, which work well with power functions and poorly with the rest.\n",
    "\n",
    "__Note:__ With the $\\sin x$ decomposition at zero, we can prove the first remarkable limit\n",
    "\n",
    "### $$\\lim_{x\\to 0}\\frac{\\sin x}{x}=\\lim_{x\\to 0}\\Bigr(1-\\frac{x^2}{3!}+\\frac{x^4}{5!}-\\,...\\,\\Bigl)=1$$"
   ]
  },
  {
   "cell_type": "markdown",
   "metadata": {
    "id": "d_YE_F446Qp-"
   },
   "source": [
    "### Fourier series"
   ]
  },
  {
   "cell_type": "markdown",
   "metadata": {
    "id": "xAhZ0mod6Qp-"
   },
   "source": [
    "The Fourier series is also a way of approximating functions, only with sines and cosines of different amplitudes.\n",
    "\n",
    "The decomposition, unlike Taylor's series, takes place on an interval. For simplicity, let us analyze the formula for a symmetric interval $[-\\pi, \\pi]$:\n",
    "\n",
    "### $$f(x)=a_{0}+\\sum\\limits_{n=1}^{+\\infty}(a_n\\cos nx+b_n\\sin nx)$$\n",
    "\n",
    "where\n",
    "\n",
    "### $$a_0=\\frac{1}{2\\pi}\\int\\limits_{-\\pi}^\\pi f(x)\\,dx$$\n",
    "\n",
    "### $$a_n=\\frac{1}{\\pi}\\int\\limits_{-\\pi}^\\pi f(x)\\cos nx\\,dx$$\n",
    "\n",
    "### $$b_n=\\frac{1}{\\pi}\\int\\limits_{-\\pi}^\\pi f(x)\\sin nx\\,dx$$\n",
    "\n",
    "That is, in order to decompose a function into a Fourier series, three integrals must be calculated."
   ]
  },
  {
   "cell_type": "markdown",
   "metadata": {
    "id": "kD3577Li6Qp-"
   },
   "source": [
    "__Example.__ Decompose the parabola $f(x)=x^2$ into a Fourier series on the interval $[-\\pi, \\pi]$\n",
    "\n",
    "Find $a_0$:\n",
    "\n",
    "### $$a_0=\\frac{1}{2\\pi}\\int\\limits_{-\\pi}^\\pi f(x)\\,dx=\\frac{1}{2\\pi}\\int\\limits_{-\\pi}^\\pi x^2\\,dx=$$\n",
    "\n",
    "### $$=\\frac{1}{2\\pi}\\cdot\\frac{x^3}{3}\\Bigr|_{-\\pi}^\\pi=\\frac{1}{2\\pi}\\cdot\\Bigr(\\frac{\\pi^3}{3}-\\frac{(-\\pi)^3}{3}\\Bigl)=\\frac{\\pi^2}{3}$$"
   ]
  },
  {
   "cell_type": "markdown",
   "metadata": {
    "id": "sAaJMsaj6Qp-"
   },
   "source": [
    "Find $a_n$:\n",
    "\n",
    "### $$a_n=\\frac{1}{\\pi}\\int\\limits_{-\\pi}^\\pi f(x)\\cos nx\\,dx=\\frac{1}{\\pi}\\int\\limits_{-\\pi}^\\pi x^2\\cos nx\\,dx=$$\n",
    "\n",
    "This integral will be taken in parts:\n",
    "\n",
    "### $$U=x^2\\,\\,\\,\\,\\,\\Rightarrow\\,\\,\\,\\,\\, dU=2x\\,dx$$ \n",
    "### $$dV=\\cos nx\\,dx\\,\\,\\,\\,\\,\\Rightarrow\\,\\,\\,\\,\\, V=\\frac{1}{n}\\sin nx$$ \n",
    "\n",
    "### $$=\\Bigr(\\frac{1}{\\pi n}x^2\\sin nx\\Bigl)\\Bigr|_{-\\pi}^\\pi-\\frac{2}{\\pi n}\\int\\limits_{-\\pi}^\\pi x\\sin nx\\,dx=$$\n",
    "\n",
    "The bracket is zero, because $\\sin \\pi n=\\sin (-\\pi n)=0$. Let's take the integral again in parts:\n",
    "\n",
    "### $$U=x\\,\\,\\,\\,\\,\\Rightarrow\\,\\,\\,\\,\\, dU=dx$$ \n",
    "### $$dV=\\sin nx\\,dx\\,\\,\\,\\,\\,\\Rightarrow\\,\\,\\,\\,\\, V=-\\frac{1}{n}\\cos nx$$ \n",
    "\n",
    "### $$=\\Bigr(\\frac{2}{\\pi n^2}x\\cos nx\\Bigl)\\Bigr|_{-\\pi}^\\pi-\\frac{2}{\\pi n^2}\\int\\limits_{-\\pi}^\\pi \\cos nx\\,dx=$$\n",
    "\n",
    "### $$=\\frac{2}{\\pi n^2}\\pi\\cos\\pi n-\\frac{2}{\\pi n^2}(-\\pi)\\cos\\pi n=4\\frac{(-1)^n}{n^2}$$"
   ]
  },
  {
   "cell_type": "markdown",
   "metadata": {
    "id": "NJkpIQ256Qp-"
   },
   "source": [
    "Find $b_n$:\n",
    "\n",
    "### $$b_n=\\frac{1}{\\pi}\\int\\limits_{-\\pi}^\\pi f(x)\\sin nx\\,dx=\\frac{1}{\\pi}\\int\\limits_{-\\pi}^\\pi x^2\\sin nx\\,dx=$$\n",
    "\n",
    "This integral will be taken in parts:\n",
    "\n",
    "### $$U=x^2\\,\\,\\,\\,\\,\\Rightarrow\\,\\,\\,\\,\\, dU=2x\\,dx$$ \n",
    "### $$dV=\\sin nx\\,dx\\,\\,\\,\\,\\,\\Rightarrow\\,\\,\\,\\,\\, V=-\\frac{1}{n}\\cos nx$$ \n",
    "\n",
    "### $$=\\Bigr(-\\frac{1}{\\pi n}x^2\\cos nx\\Bigl)\\Bigr|_{-\\pi}^\\pi+\\frac{2}{\\pi n}\\int\\limits_{-\\pi}^\\pi x\\cos nx\\,dx=$$\n",
    "\n",
    "The bracket is zero, since $(\\pi)^2\\cos \\pi n=(-\\pi)^2\\cos (-\\pi n)$. Let's take the integral again in parts:\n",
    "\n",
    "### $$U=x\\,\\,\\,\\,\\,\\Rightarrow\\,\\,\\,\\,\\, dU=dx$$ \n",
    "### $$dV=\\cos nx\\,dx\\,\\,\\,\\,\\,\\Rightarrow\\,\\,\\,\\,\\, V=\\frac{1}{n}\\sin nx$$ \n",
    "\n",
    "### $$=\\Bigr(\\frac{2}{\\pi n^2}x\\sin nx\\Bigl)\\Bigr|_{-\\pi}^\\pi-\\frac{2}{\\pi n^2}\\int\\limits_{-\\pi}^\\pi \\sin nx\\,dx=$$\n",
    "\n",
    "### $$=\\Bigr(\\frac{2}{\\pi n^3}\\cos nx\\Bigl)\\Bigr|_{-\\pi}^\\pi=0$$"
   ]
  },
  {
   "cell_type": "markdown",
   "metadata": {
    "id": "MKrrbMWc6Qp_"
   },
   "source": [
    "It turns out that\n",
    "\n",
    "\n",
    "### $$x^2=\\frac{\\pi^2}{3}+4\\sum\\limits_{n=1}^{+\\infty}\\frac{(-1)^n}{n^2}\\cos nx$$\n",
    "\n",
    "across $[-\\pi, \\pi]$"
   ]
  },
  {
   "cell_type": "markdown",
   "metadata": {
    "id": "en-og9Yn6Qp_"
   },
   "source": [
    "Classical Fourier decompositions are not used in programming. But the topic has evolved so much that a separate mathematical discipline has been formed: __functional analysis__. Quantum mechanics, string theory and part of probability theory are based on it.\n",
    "\n",
    "In functional analysis, the Fourier decomposition evolved to the __fast Fourier transform (FFT) __. One of the first applications in programming was in the audio format .mp3. Before this format, an audio track was stored as an array of time and amplitude values of a sound wave. The .mp3 format already stores the FFT coefficients. In this case there is less storage space for the audio track. All modern multimedia formats, especially those on the Internet, are usually based on FFT.\n",
    "\n",
    "- audio formats .mp3\n",
    "- image formats .jpeg, progressive JPEG\n",
    "- video formats .mpeg"
   ]
  },
  {
   "cell_type": "code",
   "execution_count": null,
   "metadata": {
    "id": "dw3F6u2d6Qp_",
    "outputId": "44e99c56-13ce-4268-aafc-a81913ae9fce"
   },
   "outputs": [
    {
     "data": {
      "image/png": "[encoded data removed]",
      "text/plain": [
       "<Figure size 432x288 with 1 Axes>"
      ]
     },
     "metadata": {
      "needs_background": "light",
      "tags": []
     },
     "output_type": "display_data"
    },
    {
     "data": {
      "image/png": "[encoded data removed]",
      "text/plain": [
       "<Figure size 432x288 with 1 Axes>"
      ]
     },
     "metadata": {
      "needs_background": "light",
      "tags": []
     },
     "output_type": "display_data"
    }
   ],
   "source": [
    "#!/usr/bin/python\n",
    "# -*- coding: utf-8 -*\n",
    "import matplotlib.pyplot as plt \n",
    "import numpy as np\n",
    "from numpy.fft import rfft, irfft\n",
    "from numpy.random import uniform\n",
    "k=np.arange(0,128,1)\n",
    "T=np.pi;z=T/128; m=[t*z for t in k] # 128 sampling rate function assignment\n",
    "def f(t): # analysed function\n",
    "    if t<np.pi:\n",
    "        p=np.cos(t)\n",
    "    else:\n",
    "        p=-np.cos(t)\n",
    "    return p\n",
    "\n",
    "def FH(x): # Heaviside step function\n",
    "    if x>=0:\n",
    "        q=1\n",
    "    else:\n",
    "        q=0\n",
    "    return q\n",
    "\n",
    "v=[f(t) for t in m] # discretisation of the original function\n",
    "vs= [f(t)+np.random.uniform(0,0.5) for t in m] # noise injection\n",
    "plt.figure()\n",
    "plt.title(\"Фильтрация аналоговых сигналов  \\n Окно исходной и зашумленной функций\")\n",
    "plt.plot(k,v, label='Окно исходной функции шириной pi')\n",
    "plt.plot(k,vs,label='Окно зашумленной функции шириной pi')\n",
    "plt.xlabel(\"Отсчёты -k\")\n",
    "plt.ylabel(\"Амплитуда А\")\n",
    "plt.legend(loc='best')\n",
    "plt.grid(True)\n",
    "al=2 # степень фильтрации высших гармоник\n",
    "fs=np. fft.rfft(v)# переход из временной области в частотную с помощью БПФ\n",
    "g=[fs[j]*FH(abs(fs[j])-2) for j in np.arange(0,65,1)]# фильтрация высших гармоник\n",
    "h=np.fft.irfft(g) # возврат во временную область\n",
    "plt.figure()\n",
    "plt.title(\"Фильтрация аналоговых сигналов  \\n Результат фильтрации\")\n",
    "plt.plot(k,v,label='Окно исходной функции шириной pi')\n",
    "plt.plot(k,h, label='Окно результата фильтрации шириной pi')\n",
    "plt.xlabel(\"Отсчёты -k\")\n",
    "plt.ylabel(\"Амплитуда А\")\n",
    "plt.legend(loc='best')\n",
    "plt.grid(True)\n",
    "plt.show()"
   ]
  },
  {
   "cell_type": "markdown",
   "metadata": {
    "id": "Iv-T_NZAkVqZ"
   },
   "source": [
    "## Additional"
   ]
  },
  {
   "cell_type": "markdown",
   "metadata": {
    "id": "9o_SiUNxkVqa"
   },
   "source": [
    "1. [Example from habr](https://habr.com/ru/post/338704/)"
   ]
  }
 ],
 "metadata": {
  "colab": {
   "collapsed_sections": [],
   "name": "Lesson_10.ipynb",
   "provenance": []
  },
  "kernelspec": {
   "display_name": "Python 3",
   "language": "python",
   "name": "python3"
  },
  "language_info": {
   "codemirror_mode": {
    "name": "ipython",
    "version": 3
   },
   "file_extension": ".py",
   "mimetype": "text/x-python",
   "name": "python",
   "nbconvert_exporter": "python",
   "pygments_lexer": "ipython3",
   "version": "3.8.5"
  }
 },
 "nbformat": 4,
 "nbformat_minor": 1
}
