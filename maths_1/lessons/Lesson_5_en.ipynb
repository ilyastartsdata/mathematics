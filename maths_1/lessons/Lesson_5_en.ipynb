{
 "cells": [
  {
   "cell_type": "markdown",
   "metadata": {
    "id": "zz7SDkPIkVlM"
   },
   "source": [
    "# Lesson 5"
   ]
  },
  {
   "cell_type": "markdown",
   "metadata": {
    "id": "p_3vqG5-kVlP"
   },
   "source": [
    "# The derivative of a function of one variable. Part 1"
   ]
  },
  {
   "cell_type": "markdown",
   "metadata": {
    "id": "ImhmuN595wnM"
   },
   "source": [
    "### Definition"
   ]
  },
  {
   "cell_type": "markdown",
   "metadata": {
    "id": "fXE60azT5wnN"
   },
   "source": [
    "In the last lesson we looked at the concepts of __image and prototype__ from set theory as well as several cases of mapping one to the other. Through these we further defined functions. \n",
    "\n",
    "The notion of a __derivative__, in turn, characterises the extent to which the image of the mapping changes with an (infinitesimal) change in the prototype. Derivatives are used in many mathematical disciplines, but are most widely used in mathematical analysis and differential calculus.\n",
    "\n",
    "Let us give a mathematical definition of the derivative of an __explicit__ function. Take the function $y=f(x)$. Take a point $x$ and move away from it a distance $\\Delta x$. This will give us two values of the function $f(x)$ and $f(x+\\Delta x)$. To determine the rate of change in the value of the function from a change in the argument, it is sufficient to find the ratio $\\frac{f(x+\\Delta x)-f(x)}{\\Delta x}$. But in this case we will find the average value of the function at a point between $x$ and $x+\\Delta x$. To find the change in the function at a particular point, we have to go to the limits. If we take $\\Delta x$ to $0$, the point $x+\\Delta x$ will take us to $x$. This limit is precisely the derivative of the __explicit__ function.\n",
    "\n",
    "### $$f'(x)=\\lim_{\\Delta x\\to 0} \\frac{f(x+\\Delta x)-f(x)}{\\Delta x}$$"
   ]
  },
  {
   "cell_type": "markdown",
   "metadata": {
    "id": "xueFQjrE5wnN"
   },
   "source": [
    "<img src=\"https://i.ibb.co/S5Czp3J/6-1.png\"  width = 600/>\n"
   ]
  },
  {
   "cell_type": "markdown",
   "metadata": {
    "id": "vtUfXb9b5wnO"
   },
   "source": [
    "Now let's find the derivative of a simple power function $f(x)=x^2$, using the definition given above\n",
    "\n",
    "### $$(x^2)'=\\lim_{\\Delta x\\to 0} \\frac{(x+\\Delta x)^2-x^2}{\\Delta x}\n",
    "=$$\n",
    "\n",
    "### $$=\\lim_{\\Delta x\\to 0} \\frac{x^2+2x\\Delta x+(\\Delta x)^2-x^2}{\\Delta x}=$$\n",
    "\n",
    "### $$=\\lim_{\\Delta x\\to 0} (2x+\\Delta x)=2x$$"
   ]
  },
  {
   "cell_type": "markdown",
   "metadata": {
    "id": "wgTqEFJ75wnP"
   },
   "source": [
    "Fortunately for us there is a connection between the type of function and its derivative. Therefore, the search for derivatives does not descend into a routine search for the limit. To learn how to find the derivatives of explicit functions, it is sufficient to know the derivation table. And also three additional rules, which we will discuss later. "
   ]
  },
  {
   "cell_type": "markdown",
   "metadata": {
    "id": "suD0rmxu5wnP"
   },
   "source": [
    "So, a table of derivatives of basic functions.\n",
    "\n",
    "### $$a'=0,\\mbox{where }  a - \\mbox{const}$$\n",
    "\n",
    "### $$(x^a)'=ax^{a-1}$$\n",
    "\n",
    "### $$(\\sin(x))'=\\cos(x)$$\n",
    "\n",
    "### $$(\\cos(x))'=-\\sin(x)$$\n",
    "\n",
    "### $$(\\mbox{tg}(x))'= \\frac{1}{\\cos^2(x)}$$\n",
    "\n",
    "### $$(\\mbox{ctg}(x))'= -\\frac{1}{\\sin^2(x)}$$\n",
    "\n",
    "### $$(\\arcsin(x))'=\\frac{1}{\\sqrt{1-x^2}}$$\n",
    "\n",
    "### $$(\\arccos(x))'=-\\frac{1}{\\sqrt{1-x^2}}$$\n",
    "\n",
    "### $$(\\mbox{arctg}(x))'=\\frac{1}{1+x^2}$$\n",
    "\n",
    "### $$(\\mbox{arcctg}(x))'=-\\frac{1}{1+x^2}$$\n",
    "\n",
    "### $$(a^x)'=a^x\\ln{a}$$\n",
    "\n",
    "### $$(e^x)'=e^x$$\n",
    "\n",
    "### $$(log_a x)'=\\frac{1}{x \\ln a}$$\n",
    "\n",
    "### $$(\\ln x)'=\\frac{1}{x}$$"
   ]
  },
  {
   "cell_type": "markdown",
   "metadata": {
    "id": "Nb9OmdX_5wnP"
   },
   "source": [
    "### Existence"
   ]
  },
  {
   "cell_type": "markdown",
   "metadata": {
    "id": "w5cT8-Hn5wnQ"
   },
   "source": [
    "The condition for the existence of a derivative can be understood through the condition for the existence of a limit. Let us distinguish a few cases where the derivative at a point does not exist.\n",
    "\n",
    "For example, the derivative does not exist if the limit has \n",
    "\n",
    "###  $$\\lim_{\\Delta x\\to 0} \\frac{f(x+\\Delta x)-f(x)}{\\Delta x}=f'(x) $$ \n",
    "\n",
    "the values of the one-sided limits at the point $x$ do not coincide. Usually the function $f(x)$ itself in this case passes through the point $x$ \"not smoothly\". A good example is the function $y=|x|$"
   ]
  },
  {
   "cell_type": "code",
   "execution_count": null,
   "metadata": {
    "id": "AaOcERXN5wnR",
    "outputId": "4a0919e3-54f8-470a-ca52-4afe35cf4bab"
   },
   "outputs": [
    {
     "data": {
      "text/plain": [
       "[<matplotlib.lines.Line2D at 0x1e9347510b8>]"
      ]
     },
     "execution_count": 16,
     "metadata": {
      "tags": []
     },
     "output_type": "execute_result"
    },
    {
     "data": {
      "image/png": "[encoded data removed]",
      "text/plain": [
       "<Figure size 432x288 with 1 Axes>"
      ]
     },
     "metadata": {
      "needs_background": "light",
      "tags": []
     },
     "output_type": "display_data"
    }
   ],
   "source": [
    "from matplotlib import pylab as plt\n",
    "import numpy as np\n",
    "%matplotlib inline\n",
    "\n",
    "x=np.linspace(-8, 8, 200)\n",
    "y=np.fabs(x)\n",
    "plt.plot(x,y)"
   ]
  },
  {
   "cell_type": "markdown",
   "metadata": {
    "id": "m2e1VRSj5wnT"
   },
   "source": [
    "We can also distinguish the case where the point $x$ at which the function $y=f(x)$ is defined is a boundary point and has a region on one side only. As an example, take the function $y=\\sqrt x$ defined at zero. In this case zero is the boundary point. The derivative of the function is $y'=\\frac{1}{2 \\sqrt x}$. At zero, the derivative no longer exists."
   ]
  },
  {
   "cell_type": "code",
   "execution_count": null,
   "metadata": {
    "id": "pUtjpDyB5wnU",
    "outputId": "b0afe444-4174-4b4e-ec88-904a6c4ebdcc"
   },
   "outputs": [
    {
     "data": {
      "text/plain": [
       "[<matplotlib.lines.Line2D at 0x1e934877898>]"
      ]
     },
     "execution_count": 19,
     "metadata": {
      "tags": []
     },
     "output_type": "execute_result"
    },
    {
     "data": {
      "image/png": "[encoded data removed]",
      "text/plain": [
       "<Figure size 432x288 with 1 Axes>"
      ]
     },
     "metadata": {
      "needs_background": "light",
      "tags": []
     },
     "output_type": "display_data"
    }
   ],
   "source": [
    "x=np.linspace(0, 8, 200)\n",
    "y=np.sqrt(x)\n",
    "plt.plot(x,y)"
   ]
  },
  {
   "cell_type": "markdown",
   "metadata": {
    "id": "K7eYqcWi5wnV"
   },
   "source": [
    "### Additional rules and features"
   ]
  },
  {
   "cell_type": "markdown",
   "metadata": {
    "id": "Tg_Wlwgs5wnV"
   },
   "source": [
    "- __derivative from the product:__\n",
    "\n",
    "### $$(U\\cdot V)'=U'\\cdot V+U\\cdot V'$$\n",
    "\n",
    "- __quotient derivative:__\n",
    "\n",
    "### $$\\Bigl(\\frac{U}{V}\\Bigr)'=\\frac{U'\\cdot V-U\\cdot V'}{V^2}$$\n",
    "\n",
    "- __derivative of a complex function:__\n",
    "\n",
    "### $$f'(g(x))=f'\\cdot g'$$\n",
    "\n",
    "- __instantiation:__\n",
    "\n",
    "### $$(af(x))'=af'(x)$$\n",
    "\n",
    "- __derivative from sum:__\n",
    "\n",
    "### $$(f(x)+g(x))'=f'(x)+g'(x)$$"
   ]
  },
  {
   "cell_type": "markdown",
   "metadata": {
    "id": "vDHJX3mY5wnV"
   },
   "source": [
    "### Examples"
   ]
  },
  {
   "cell_type": "markdown",
   "metadata": {
    "id": "q0C7_BkB5wnV"
   },
   "source": [
    "Let's start with the derivative of the product\n",
    "\n",
    "### $$(x\\cdot \\sin x)'=\\sin x+ x\\cdot \\cos x$$\n",
    "\n",
    "and from quotient\n",
    "\n",
    "### $$\\Bigl(\\frac{x}{\\sin x}\\Bigr)'=\\frac{\\sin x- x\\cdot \\cos x}{\\sin^2x}$$"
   ]
  },
  {
   "cell_type": "markdown",
   "metadata": {
    "id": "D_oMY4py5wnW"
   },
   "source": [
    "Let's also look at the derivatives of complex functions. Everyone is probably familiar with the tale of Cachey. His death was in the needle, the needle in the egg, the egg in the duck, etc. So it's the same with complex functions. __We need to understand how many \"simple\" functions can be broken down into a complex function, find the derivative of each, and take the product.__ _There are as many functions as there are derivatives!_\n",
    "\n",
    "### $$(\\sin(2x+1))'=\\cos(2x+1) \\cdot 2 $$\n",
    "\n",
    "### $$(\\sin(x^2+2x+1))'=\\cos(x^2+2x+1) \\cdot (2x+2) $$\n",
    "\n",
    "### $$(\\sin^3(x^2+2x+1))'=3\\sin^2(x^2+2x+1) \\cdot \\cos(x^2+2x+1) \\cdot (2x+2) $$\n",
    "\n",
    "### $$(\\ln (\\sin^3(x^2+2x+1)+1))'=\\frac{1}{\\sin^3(x^2+2x+1)+1} \\cdot 3\\sin^2(x^2+2x+1) \\cdot \\cos(x^2+2x+1) \\cdot (2x+2) $$"
   ]
  },
  {
   "cell_type": "markdown",
   "metadata": {
    "id": "9asBr-LI5wnW"
   },
   "source": [
    "Of the special derivatives, the derivatives of natural logarithms can be distinguished.\n",
    "\n",
    "### $$(\\ln x)'=\\frac{1}{x} $$\n",
    "\n",
    "### $$(\\ln 3x)'=(\\ln 3+\\ln x)'=\\frac{1}{x} $$\n",
    "\n",
    "### $$(\\ln x^3)'=(3\\ln x)'=\\frac{3}{x} $$\n",
    "\n",
    "### $$\\Bigl(\\ln \\frac{\\sin x \\cdot (x+1)^3}{(x-4)^5}\\Bigr)'=\\frac{\\cos x}{\\sin x}+\\frac{3}{x+1}-\\frac{5}{x-4}$$"
   ]
  },
  {
   "cell_type": "markdown",
   "metadata": {
    "id": "I3TUcw3z5wnW"
   },
   "source": [
    "For any function that can be represented in power form, it is desirable to look for the derivative in power form.\n",
    "\n",
    "### $$(x^2)'=2x$$\n",
    "\n",
    "### $$\\Bigl(\\frac{1}{x^2}\\Bigr)'=(x^{-2})'=-2x^{-3}=-\\frac{2}{x^3}$$\n",
    "\n",
    "### $$\\Bigl(\\sqrt x\\Bigr)'=\\Bigl(x^{\\frac{1}{2}}\\Bigr)'=\\frac{1}{2}x^{-\\frac{1}{2}}=\\frac{1}{2\\sqrt x}$$\n",
    "\n",
    "### $$\\Bigl(\\frac{1}{\\sqrt {x+1}}\\Bigr)'=\\Bigl((x+1)^{-\\frac{1}{2}}\\Bigr)'=-\\frac{1}{2}(x+1)^{-\\frac{3}{2}}=-\\frac{1}{2\\sqrt {(x+1)^3}}$$"
   ]
  },
  {
   "cell_type": "markdown",
   "metadata": {
    "id": "C3wYaIlq5wnW"
   },
   "source": [
    "You can check the derivatives you find using the __sympy__ library, which supports symbolic algebra. This is of no particular use because the basic data you will encounter in your work is discrete. In the following lesson we will look at how to find derivatives numerically. Analytical"
   ]
  },
  {
   "cell_type": "code",
   "execution_count": null,
   "metadata": {
    "id": "Wq7LGWCe5wnW"
   },
   "outputs": [],
   "source": [
    "from sympy import *\n",
    "init_printing()"
   ]
  },
  {
   "cell_type": "code",
   "execution_count": null,
   "metadata": {
    "id": "d1L0jdKQ5wnW",
    "outputId": "edcd0fa7-6f0e-4516-e449-28cd6e405104"
   },
   "outputs": [
    {
     "data": {
      "image/png": "[encoded data removed]",
      "text/latex": [
       "$\\displaystyle x \\cos{\\left(x \\right)} + \\sin{\\left(x \\right)}$"
      ],
      "text/plain": [
       "x⋅cos(x) + sin(x)"
      ]
     },
     "execution_count": 2,
     "metadata": {
      "tags": []
     },
     "output_type": "execute_result"
    }
   ],
   "source": [
    "x=Symbol('x')\n",
    "f=x*sin(x)\n",
    "diff(f,x)"
   ]
  },
  {
   "cell_type": "code",
   "execution_count": null,
   "metadata": {
    "id": "lJ68-fal5wnX",
    "outputId": "73146ba2-cf0d-4d12-f72c-546408b48c47"
   },
   "outputs": [
    {
     "data": {
      "image/png": "[encoded data removed]",
      "text/latex": [
       "$\\displaystyle \\frac{- x \\cos{\\left(x \\right)} + \\sin{\\left(x \\right)}}{\\sin^{2}{\\left(x \\right)}}$"
      ],
      "text/plain": [
       "-x⋅cos(x) + sin(x)\n",
       "──────────────────\n",
       "        2         \n",
       "     sin (x)      "
      ]
     },
     "execution_count": 2,
     "metadata": {
      "tags": []
     },
     "output_type": "execute_result"
    }
   ],
   "source": [
    "x=Symbol('x')\n",
    "f=x/sin(x)\n",
    "f = diff(f,x)\n",
    "f = together(f)\n",
    "f"
   ]
  },
  {
   "cell_type": "code",
   "execution_count": null,
   "metadata": {
    "id": "PbNDzr175wnY",
    "outputId": "715ab9e5-8f14-4d5b-f8c5-1c30b2f54a07"
   },
   "outputs": [
    {
     "data": {
      "image/png": "[encoded data removed]",
      "text/latex": [
       "$\\displaystyle - \\frac{1}{2 \\left(x + 1\\right)^{\\frac{3}{2}}}$"
      ],
      "text/plain": [
       "    -1      \n",
       "────────────\n",
       "         3/2\n",
       "2⋅(x + 1)   "
      ]
     },
     "execution_count": 58,
     "metadata": {
      "tags": []
     },
     "output_type": "execute_result"
    }
   ],
   "source": [
    "x=Symbol('x')\n",
    "f=1/sqrt(x+1)\n",
    "diff(f,x)"
   ]
  },
  {
   "cell_type": "code",
   "execution_count": null,
   "metadata": {
    "id": "f44LqzEG5wnY",
    "outputId": "ddc72ab9-6b91-4b8a-a890-3b5b93e2486e"
   },
   "outputs": [
    {
     "data": {
      "image/png": "[encoded data removed]",
      "text/latex": [
       "$\\displaystyle 0$"
      ],
      "text/plain": [
       "0"
      ]
     },
     "execution_count": 5,
     "metadata": {
      "tags": []
     },
     "output_type": "execute_result"
    }
   ],
   "source": [
    "x=Symbol('x')\n",
    "f=x**3\n",
    "diff(f,x)\n",
    "# diff(g,x)\n",
    "# diff(f,x,2)\n",
    "# diff(f,x,3)"
   ]
  },
  {
   "cell_type": "markdown",
   "metadata": {
    "id": "6fcPCPr85wnY"
   },
   "source": [
    "### Approximate calculation using derivatives"
   ]
  },
  {
   "cell_type": "markdown",
   "metadata": {
    "id": "VCjlsimZ5wnZ"
   },
   "source": [
    "Мы с Вами дали определение производной явной функции\n",
    "\n",
    "### $$f'(x)=\\lim_{\\Delta x\\to 0} \\frac{f(x+\\Delta x)-f(x)}{\\Delta x}$$\n",
    "\n",
    "Если из равенства убрать предел, то значение левой и правой части уже не будут равны. Но при достаточно малом $ \\Delta x$  будут близки. \n",
    "\n",
    "### $$f'(x)\\approx \\frac{f(x+\\Delta x)-f(x)}{\\Delta x}$$\n",
    "\n",
    "Если выразить $f(x+\\Delta x)$, то получим следующее выражение:\n",
    "\n",
    "### $$f(x+\\Delta x) \\approx f(x)+f'(x) \\cdot \\Delta x$$"
   ]
  },
  {
   "cell_type": "markdown",
   "metadata": {
    "id": "zuBVRo9t5wnZ"
   },
   "source": [
    "Давайте воспользуется этим выражением для приближенного вычисления $\\sqrt 3 \\approx 1.7320508075688772$"
   ]
  },
  {
   "cell_type": "markdown",
   "metadata": {
    "id": "CQXrR02Q5wnZ"
   },
   "source": [
    "### $$\\sqrt 3 =\\sqrt {4-1} \\approx$$\n",
    "### $$\\approx \\sqrt 4 + \\frac{1}{2 \\sqrt 4} \\cdot (-1) = 2 - 0.25 =$$\n",
    "### $$= 1.75$$"
   ]
  },
  {
   "cell_type": "markdown",
   "metadata": {
    "id": "KcfBsTXa5wnZ"
   },
   "source": [
    "Как видно, ошибка уже во втором знаке. \n",
    "\n",
    "Чтобы увеличить точность, необходимо уменьшить приращение. для этого достаточно $3=3.00$ и подобрать ближайший хороший корень к $300$\n",
    "\n",
    "### $$\\sqrt 3 = \\sqrt {3.00} =\\sqrt {2.89+0.11} \\approx $$\n",
    "### $$\\approx \\sqrt {2.89} + \\frac{1}{2 \\sqrt {2.89}} \\cdot 0.11 = 1.7 + \\frac{0.11}{2 \\cdot 1.7}\\approx$$\n",
    "### $$\\approx1.73235294117647$$"
   ]
  },
  {
   "cell_type": "markdown",
   "metadata": {
    "id": "aU5YNMH9kVqP"
   },
   "source": [
    "## Практическое задание"
   ]
  },
  {
   "cell_type": "markdown",
   "metadata": {
    "id": "SmdURZ_OkVqQ"
   },
   "source": [
    "__1.__ Найти производную функции:\n",
    "\n",
    "### $$y=\\frac{1}{x}+\\frac{2}{x^2}-\\frac{5}{x^3}+\\sqrt x -\\sqrt[3]x+\\frac{3}{\\sqrt x}$$"
   ]
  },
  {
   "cell_type": "markdown",
   "metadata": {
    "id": "cECfCSANkVqR"
   },
   "source": [
    "__2.__ Найти производную функции:\n",
    "\n",
    "### $$y=x \\cdot \\sqrt {1+x^2}$$"
   ]
  },
  {
   "cell_type": "markdown",
   "metadata": {
    "id": "DFrjdtbHkVqS"
   },
   "source": [
    "__3.__ Найти производную функции:\n",
    "\n",
    "### $$y= \\frac{2x}{1-x^2}$$"
   ]
  },
  {
   "cell_type": "markdown",
   "metadata": {
    "id": "5la-eVLukVqT"
   },
   "source": [
    "__4*.__ Найти производную функции:\n",
    "\n",
    "### $$y=\\sqrt{x+ \\sqrt{x+\\sqrt x}}$$"
   ]
  },
  {
   "cell_type": "markdown",
   "metadata": {
    "id": "kQlell_GkVqU"
   },
   "source": [
    "__5.__ Найти производную функции:\n",
    "\n",
    "### $$y= \\ln(x+\\sqrt{x^2+1})$$"
   ]
  },
  {
   "cell_type": "markdown",
   "metadata": {
    "id": "alHFJS7V5wnb"
   },
   "source": [
    "__6.__ Найти производную функции:\n",
    "\n",
    "### $$y=x \\cdot \\ln(x+\\sqrt{x^2+1})-\\sqrt{x^2+1}$$"
   ]
  },
  {
   "cell_type": "markdown",
   "metadata": {
    "id": "cmXNXjLQ5wnb"
   },
   "source": [
    "__7*.__ Найти производную функции:\n",
    "\n",
    "### $$y=\\arcsin (\\sin x)$$"
   ]
  },
  {
   "cell_type": "markdown",
   "metadata": {
    "id": "pz0LEOBj5wnb"
   },
   "source": [
    "__8*.__ Вычислить приближенное значение: \n",
    "\n",
    "### $$\\sin(1^0)=\\sin\\Bigl(\\frac{\\pi}{180}\\Bigr)$$\n"
   ]
  },
  {
   "cell_type": "markdown",
   "metadata": {
    "id": "RJp2EQ-i5wnb"
   },
   "source": [
    "__9**.__ Написать на python алгоритм, по вычислению значений $\\sin(x)$ для $х \\in[0, 30^0]$\n",
    "\n",
    "Для проверки подойдут данные из таблицы Брадиса"
   ]
  },
  {
   "cell_type": "markdown",
   "metadata": {
    "id": "Iv-T_NZAkVqZ"
   },
   "source": [
    "## Дополнительные материалы"
   ]
  },
  {
   "cell_type": "markdown",
   "metadata": {
    "id": "9o_SiUNxkVqa"
   },
   "source": [
    "1. [SymPy](https://www.sympy.org/en/index.html)"
   ]
  }
 ],
 "metadata": {
  "colab": {
   "collapsed_sections": [],
   "name": "Lesson_5.ipynb",
   "provenance": []
  },
  "kernelspec": {
   "display_name": "Python 3",
   "language": "python",
   "name": "python3"
  },
  "language_info": {
   "codemirror_mode": {
    "name": "ipython",
    "version": 3
   },
   "file_extension": ".py",
   "mimetype": "text/x-python",
   "name": "python",
   "nbconvert_exporter": "python",
   "pygments_lexer": "ipython3",
   "version": "3.8.5"
  }
 },
 "nbformat": 4,
 "nbformat_minor": 1
}
