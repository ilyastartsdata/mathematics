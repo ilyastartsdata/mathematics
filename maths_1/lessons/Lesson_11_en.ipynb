{
 "cells": [
  {
   "cell_type": "markdown",
   "metadata": {
    "id": "rG5r8wWfCKBZ"
   },
   "source": [
    "# Lesson 11"
   ]
  },
  {
   "cell_type": "markdown",
   "metadata": {
    "id": "NYJH6_ln2YZy"
   },
   "source": [
    "Today in class.\n",
    "\n",
    "- Analytical solution of elementary differential equations (DE)"
   ]
  },
  {
   "cell_type": "markdown",
   "metadata": {
    "id": "YhX6BhR62YZz"
   },
   "source": [
    "## DE with shared variables\n",
    "\n",
    "### $$N(x)\\,dx+M(y)\\,dy=0$$\n",
    "\n",
    "This is the simplest type of DE. It is clear from the name that the variables in this equation can be divided into\n",
    "\n",
    "Example:\n",
    "\n",
    "1. \n",
    "### $$xy\\,dx+(x+1)\\,dy=0$$\n",
    "\n",
    "### $$\\frac{x}{x+1}\\,dx+\\frac{1}{y}\\,dy=0,\\,\\,\\,\\, \\mbox{assuming, that}\\,\\,  x+1\\neq0 \\,\\,\\mbox{и}\\,\\, y\\neq0$$\n",
    "\n",
    "### $$\\int\\frac{x}{x+1}\\,dx+\\int\\frac{1}{y}\\,dy=0$$\n",
    "\n",
    "### $$\\int\\frac{x+1-1}{x+1}\\,dx+\\int\\frac{1}{y}\\,dy=0$$\n",
    "\n",
    "### $$\\int \\Bigl(1-\\frac{1}{x+1}\\Bigl)\\,dx+\\int\\frac{1}{y}\\,dy=0$$\n",
    "\n",
    "### $$x-\\ln|x+1|+\\ln|y|=C$$"
   ]
  },
  {
   "cell_type": "markdown",
   "metadata": {
    "id": "isTvji062YZ0"
   },
   "source": [
    "## The Cauchy problem\n",
    "\n",
    "From the previous example it can be deduced that the __solution of a DE is a family of functions__.\n",
    "\n",
    "There are problems with the condition of passing through a point, i.e. a family of functions, one is chosen. Such problems are called Cauchy problems.\n",
    "\n",
    "2. \n",
    "### $$(x^2-1)\\,y'+2xy^2=0,\\,\\,\\,\\,\\,\\, y(0)=1$$\n",
    "\n",
    "### $$(x^2-1)\\frac{dy}{dx}+2xy^2=0$$\n",
    "\n",
    "### $$\\frac{1}{y^2}\\,dy+\\frac{2x}{x^2-1}\\,dx=0,\\,\\,\\,\\, \\mbox{assuming that}\\,\\,  y^2\\neq0 \\,\\,\\mbox{и}\\,\\, x^2-1\\neq0$$\n",
    "\n",
    "### $$\\int\\frac{1}{y^2}\\,dy+\\int\\frac{2x}{x^2-1}\\,dx=0$$\n",
    "\n",
    "\n",
    "### $$-\\frac{1}{y}+\\ln|x^2-1|=C$$\n",
    "\n",
    "Let's use the condition $y(0)=1$\n",
    "\n",
    "### $$-\\frac{1}{1}+\\ln|0^2-1|=C \\,\\,\\,\\,\\,\\Rightarrow\\,\\,\\,\\,\\, C=-1$$\n",
    "\n",
    "Then the solution is a function:\n",
    "\n",
    "### $$-\\frac{1}{y}+\\ln|x^2-1|=-1$$\n",
    "\n",
    "### $$\\frac{1}{y}=\\ln|x^2-1|+1$$"
   ]
  },
  {
   "cell_type": "markdown",
   "metadata": {
    "id": "5liAHx1i2YZ1"
   },
   "source": [
    "### Homogeneous DEs\n",
    "\n",
    "Homogeneous is when all the terms of an equation are of the same degree\n",
    "\n",
    "### $$(x + 2y)\\, dx − x\\,dy = 0$$\n",
    "\n",
    "### $$(y^2 − 2xy) \\,dx + x^2 \\,dy = 0$$\n",
    "\n",
    "These equations are solved by replacing \n",
    "\n",
    "### $$y(x)=x\\cdot t(x) \\,\\,\\,\\,\\,\\Rightarrow\\,\\,\\,\\,\\, dy=x\\,dt+t\\,dx$$\n",
    "\n",
    "After the substitutions, you get a DM with the variables being handed out\n",
    "\n",
    "3. \n",
    "### $$(x + 2y)\\, dx − x\\,dy = 0$$\n",
    "\n",
    "### $$(x + 2xt)\\, dx − x(x\\,dt+t\\,dx) = 0$$\n",
    "\n",
    "### $$(x + xt)\\, dx − x^2\\,dt= 0$$\n",
    "\n",
    "In this equation, $x$ cannot be divided by $x$ because it will be reduced, so put it outside the bracket and get one of the solutions.\n",
    "\n",
    "### $$x\\Bigl((1 + t)\\, dx − x\\,dt\\Bigr)= 0$$\n",
    "\n",
    "### $$x=0\\,\\,\\, \\mbox{или} \\,\\,\\,(1 + t)\\, dx − x\\,dt= 0$$\n",
    "\n",
    "### $$\\frac{1}{x}\\, dx − \\frac{1}{t+1}\\,dt= 0$$\n",
    "\n",
    "### $$\\int\\frac{1}{x}\\, dx − \\int\\frac{1}{t+1}\\,dt= 0$$\n",
    "\n",
    "\n",
    "### $$\\ln|x| − \\ln|t+1|= \\ln C$$\n",
    "\n",
    "### $$\\ln|x| − \\ln\\Bigl|\\frac{y}{x}+1\\Bigr|= \\ln C$$\n",
    "\n",
    "### $$\\ln|x| − \\ln\\Bigl|\\frac{y+x}{x}\\Bigr|= \\ln C$$\n",
    "\n",
    "### $$\\ln\\Bigl|\\frac{x^2}{y+x}\\Bigr|= \\ln C$$\n",
    "\n",
    "### $$\\frac{x^2}{y+x}=C$$\n",
    "\n",
    "### $$y+x=\\frac{x^2}{C}$$\n",
    "\n",
    "### $$y=\\frac{x^2}{C}-x\\,\\,\\, \\mbox{or} \\,\\,\\,x=0$$"
   ]
  },
  {
   "cell_type": "markdown",
   "metadata": {
    "id": "Zwwg_vfs2YZ2"
   },
   "source": [
    "### linear first-order DEs;\n",
    "\n",
    "If a differential equation can be represented in the following form, it is linear\n",
    "\n",
    "### $$y'+a(x)y=b(x)$$\n",
    "\n",
    "Linear equations are solved via homogeneous equations, with zeroing out the right-hand side. This does not even produce a homogeneous equation, but one with separating variables.\n",
    "\n",
    "4. \n",
    "### $$x\\cdot y'+y=2x$$\n",
    "\n",
    "### $$y'+\\frac{y}{x}=2,\\,\\,\\,\\,\\,\\,x\\neq0$$\n",
    "\n",
    "### Method of variation of arbitrary constants\n",
    "\n",
    "### $$y'+\\frac{y}{x}=0$$\n",
    "\n",
    "### $$\\frac{dy}{dx}+\\frac{y}{x}=0$$\n",
    "\n",
    "### $$\\frac{dy}{y}+\\frac{dx}{x}=0$$\n",
    "\n",
    "### $$\\int\\frac{dy}{y}+\\int\\frac{dx}{x}=0$$\n",
    "\n",
    "\n",
    "### $$\\ln|y|+\\ln|x|=\\ln C$$\n",
    "\n",
    "### $$yx=C$$\n",
    "\n",
    "### $$y=\\frac{C}{x}$$\n",
    "\n",
    "This solution is called a general solution. That is, common to all left-hand sides of the equation $y'+\\frac{y}{x}=b(x)$\n",
    "\n",
    "But we made the mistake of nullifying the right-hand side, the error lies in the constant, because in fact it can be a function dependent on $x$.\n",
    "\n",
    "### $$y=\\frac{C(x)}{x}$$\n",
    "\n",
    "To find $C(x)$, substitute a general solution in our equation.\n",
    "\n",
    "### $$y'+\\frac{y}{x}=2$$\n",
    "\n",
    "### $$\\frac{C'(x)\\cdot x-C(x)}{x^2}+\\frac{C(x)}{x^2}=2$$\n",
    "\n",
    "### $$\\frac{C'(x)\\cdot x}{x^2}-\\frac{C(x)}{x^2}+\\frac{C(x)}{x^2}=2$$\n",
    "\n",
    "\n",
    "### $$\\frac{C'(x)\\cdot x}{x^2}=2$$\n",
    "\n",
    "### $$C'(x)=2x$$\n",
    "\n",
    "### $$\\frac{dC}{dx}=2x$$\n",
    "\n",
    "### $$dC=2x\\,dx$$\n",
    "\n",
    "### $$C(x)=x^2+C_2$$\n",
    "\n",
    "Let's substitute the found constant into the general solution:\n",
    "\n",
    "### $$y=\\frac{x^2+C_2}{x}$$\n",
    "\n",
    "### $$y=x+\\frac{C_2}{x}$$\n",
    "\n",
    "The resulting solution is called a partial solution."
   ]
  },
  {
   "cell_type": "markdown",
   "metadata": {
    "id": "VyrAyXoq2YZ4"
   },
   "source": [
    "### Уравнение в полных дифференциалах\n",
    "\n",
    "### $$d\\Bigl(U(x,y)\\Bigr)=U'_x\\,dx+U'_y\\,dy$$\n",
    "\n",
    "### $$U'_x\\,dx+U'_y\\,dy=0$$\n",
    "\n",
    "Для проверки достаточно найти смешанные производные и проверить их равенство\n",
    "\n",
    "5. \n",
    "### $$\\Bigl(4x^2+\\frac{1}{2}y^2-6y\\Bigr)\\,dx+\\Bigl(2y^3+xy-6x\\Bigr)\\,dy=0$$\n",
    "\n",
    "### $$U'_x=4x^2+\\frac{1}{2}y^2-6y\\,\\,\\,\\,\\,\\Rightarrow\\,\\,\\,\\,\\, U''_{xy} = y-6$$\n",
    "\n",
    "### $$U'_y=2y^3+xy-6x\\,\\,\\,\\,\\,\\Rightarrow\\,\\,\\,\\,\\, U''_{yx} = y-6$$\n",
    "\n",
    "Так как смешанные производные равны, то перед нами действительно уравнение в полных дифференциалах\n",
    "\n",
    "Решается оно довольно просто, с помощью одного из условий мы восстанавливаем функцию, с помощью другого находим недостающие элементы:\n",
    "\n",
    "### $$U'_x=4x^2+\\frac{1}{2}y^2-6y\\,\\,\\,\\,\\,\\Rightarrow\\,\\,\\,\\,\\, U=\\int \\Bigl(4x^2+\\frac{1}{2}y^2-6y\\Bigr)\\,dx$$\n",
    "\n",
    "### $$U=\\frac{4}{3}x^3+\\frac{1}{2}y^2x-6yx+\\varphi(y)$$\n",
    "\n",
    "Чтобы найти $\\varphi(y)$ воспользуемся вторым условием\n",
    "\n",
    "### $$U'_y=yx-6x+\\varphi'(y)=2y^3+xy-6x$$\n",
    "\n",
    "### $$\\varphi'(y)=2y^3$$\n",
    "\n",
    "### $$\\varphi(y)=\\frac{y^4}{2}+C$$\n",
    "\n",
    "Получаем решение \n",
    "\n",
    "### $$\\frac{4}{3}x^3+\\frac{1}{2}y^2x-6yx+\\frac{y^4}{2}=C$$"
   ]
  },
  {
   "cell_type": "markdown",
   "metadata": {
    "id": "w87Fic_Y2YaA"
   },
   "source": [
    "\n",
    "1. [Лагранж для 3-х переменных](https://math1.ru/education/funct_sev_var/lagranj1.html)"
   ]
  }
 ],
 "metadata": {
  "colab": {
   "collapsed_sections": [],
   "name": "Lesson_11(новый).ipynb",
   "provenance": []
  },
  "kernelspec": {
   "display_name": "Python 3",
   "language": "python",
   "name": "python3"
  },
  "language_info": {
   "codemirror_mode": {
    "name": "ipython",
    "version": 3
   },
   "file_extension": ".py",
   "mimetype": "text/x-python",
   "name": "python",
   "nbconvert_exporter": "python",
   "pygments_lexer": "ipython3",
   "version": "3.8.5"
  }
 },
 "nbformat": 4,
 "nbformat_minor": 1
}
