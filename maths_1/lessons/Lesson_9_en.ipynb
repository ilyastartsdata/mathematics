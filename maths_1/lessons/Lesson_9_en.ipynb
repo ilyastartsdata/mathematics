{
 "cells": [
  {
   "cell_type": "markdown",
   "metadata": {
    "id": "zz7SDkPIkVlM"
   },
   "source": [
    "# Lesson 9"
   ]
  },
  {
   "cell_type": "markdown",
   "metadata": {
    "id": "p_3vqG5-kVlP"
   },
   "source": [
    "# Integrals"
   ]
  },
  {
   "cell_type": "markdown",
   "metadata": {
    "id": "pe97eIS84RuY"
   },
   "source": [
    "In today's lesson we will be introduced to new topics:\n",
    "\n",
    "- indefinite integrals;\n",
    "- certain integrals;\n",
    "- non-specified integrals;"
   ]
  },
  {
   "cell_type": "markdown",
   "metadata": {
    "id": "nTH14kr34Rua"
   },
   "source": [
    "### Differential and differentiation"
   ]
  },
  {
   "cell_type": "markdown",
   "metadata": {
    "id": "nNjgFwFO4Ruc"
   },
   "source": [
    "Recall that in lesson 8 we introduced the concept of the differential: \n",
    "\n",
    "### $$f'(x)=\\lim_{\\Delta x\\to 0} \\frac{f(x+\\Delta x)-f(x)}{\\Delta x}=\\frac{df(x)}{dx}$$\n",
    "\n",
    "From the last equation we get the value of the differential of the function:\n",
    "\n",
    "### $$df(x)=f'(x) \\cdot dx$$\n",
    "\n",
    "We also looked at some examples of calculating the differential of a function:\n",
    "\n",
    "\n",
    "1. \n",
    "### $$y=x^2 \\,\\,\\,\\,\\,\\Rightarrow\\,\\,\\,\\,\\,dy=2x \\cdot dx$$\n",
    "\n",
    "\n",
    "2. \n",
    "### $$y=3x^2-4x+10 \\,\\,\\,\\,\\,\\Rightarrow\\,\\,\\,\\,\\,dy=(6x-4) \\cdot dx$$\n",
    "\n",
    "\n",
    "3. \n",
    "### $$y=\\sin x \\,\\,\\,\\,\\,\\Rightarrow\\,\\,\\,\\,\\,dy=\\cos x \\cdot dx$$\n",
    "\n",
    "\n",
    "4. \n",
    "### $$y=\\sin (x^2) \\,\\,\\,\\,\\,\\Rightarrow\\,\\,\\,\\,\\,dy=\\cos (x^2) \\cdot d(x^2)=\\cos (x^2) \\cdot 2x \\cdot dx$$\n",
    "\n",
    "\n",
    "\n",
    "5. \n",
    "### $$y=\\arcsin x \\,\\,\\,\\,\\,\\Rightarrow\\,\\,\\,\\,\\,dy= \\frac{dx}{\\sqrt{1-x^2}}$$"
   ]
  },
  {
   "cell_type": "markdown",
   "metadata": {
    "id": "zR-mTYbu4Ruf"
   },
   "source": [
    "### Integral and integration"
   ]
  },
  {
   "cell_type": "markdown",
   "metadata": {
    "id": "OgnEFhhL4Rug"
   },
   "source": [
    "Every action in mathematics has a counteraction. For differentiation, this action is integration. The integral symbol is used to denote this:\n",
    "\n",
    "### $$\\int$$\n",
    "\n",
    "The sign of the integral destroys the sign of the differential. Unfortunately, this happens to the constant, because it is impossible to find the constant destroyed by the differential.\n",
    "\n",
    "### $$\\int \\,dx=x+C$$\n",
    "\n",
    "### $$\\int x\\,dx=\\int \\,d\\Bigr(\\frac{x^2}{2}\\Bigl)=\\frac{x^2}{2}+C$$\n",
    "\n",
    "### $$\\int \\sin x\\,dx=\\int \\,d(-\\cos x)=-\\cos x+C$$\n",
    "\n",
    "### $$\\int \\cos x\\,dx=\\int \\,d(\\sin x)=\\sin x+C$$\n",
    "\n",
    "__Note: when integrating, it is quite easy to check yourself, just take the derivative of the answer - you should get a function under the integral.__\n",
    "\n",
    "### $$(x+C)'=1$$\n",
    "\n",
    "### $$\\Bigl(\\frac{x^2}{2}+C\\Bigr)'=x$$\n",
    "\n",
    "### $$(-\\cos x+C)'=\\sin x$$\n",
    "\n",
    "### $$(\\sin x+C)'=\\cos x$$"
   ]
  },
  {
   "cell_type": "markdown",
   "metadata": {
    "id": "7yjBqRTN4Ru0"
   },
   "source": [
    "Just as for derivatives, there is a __table of integrals__:\n",
    "    \n",
    "### $$\\int x^{n}\\,dx=\\frac{x^{n+1}}{n+1}+C$$ \n",
    "\n",
    "### $$\\int \\frac{\\,dx}{x}=\\ln |x|+C$$ \n",
    "\n",
    "### $$\\int \\frac{\\,dx}{1+x^2}=\n",
    "\\begin{cases}\n",
    "   \\mbox{arctg}x+C \\\\\n",
    "   -\\mbox{arcctg}x+C\n",
    " \\end{cases}$$ \n",
    "\n",
    "### $$\\int \\frac{\\,dx}{\\sqrt{1-x^2}}=\n",
    "\\begin{cases}\n",
    "   \\arcsin x+C \\\\\n",
    "   -\\arccos x+C\n",
    " \\end{cases}$$ \n",
    "\n",
    "### $$\\int \\frac{\\,dx}{1-x^2}=\\frac{1}{2}\\ln\\Bigr|\\frac{1+x}{1-x}\\Bigl|+C$$ \n",
    "\n",
    "### $$\\int \\frac{\\,dx}{\\sqrt{x^2\\pm1}}=\\ln|x+\\sqrt{x^2\\pm1}|+C$$ \n",
    "\n",
    "### $$\\int a^{x}\\,dx=\\frac{a^x}{lna}+C, (a>0, a\\neq1)$$ \n",
    "\n",
    "### $$\\int \\sin x\\,dx=-\\cos x+C$$ \n",
    "\n",
    "### $$\\int \\cos x\\,dx=\\sin x+C$$ \n",
    "\n",
    "### $$\\int \\frac{1}{\\sin^2 x}\\,dx=-\\mbox{ctg} x+C$$ \n",
    "\n",
    "### $$\\int \\frac{1}{\\cos^2 x}\\,dx=\\mbox{tg} x+C$$ "
   ]
  },
  {
   "cell_type": "markdown",
   "metadata": {
    "id": "zZEVHL-z4Ru1"
   },
   "source": [
    "### Uncertain integrals"
   ]
  },
  {
   "cell_type": "markdown",
   "metadata": {
    "id": "PMvVsmVJ4Ru4"
   },
   "source": [
    "The entire integration process is reduced to bringing the integrand into tabular form. \n",
    "\n",
    "__Note. For derivatives, it is sufficient to know the table of derivatives. For integrals, you need to know the table of integrals and be able to reduce functions to table form.\n",
    "\n",
    "Most likely, you will not have to calculate integrals manually in your work. The class of integrals that can be calculated analytically is not that large. We will, however, look at the basic techniques for calculating integrals. That will give you valuable experience in transforming expressions. "
   ]
  },
  {
   "cell_type": "markdown",
   "metadata": {
    "id": "EgmcFPOo4Ru5"
   },
   "source": [
    "#### Method of application under the differential\n",
    "\n",
    "We have already used this method above. It consists of consistently putting all the functions under the differential.\n",
    "\n",
    "\n",
    "1.\n",
    "### $$\\int \\sin(2x)\\,dx=\\frac{1}{2}\\int \\sin(2x)\\,d(2x)=-\\frac{1}{2}\\cos(2x)+C$$ \n",
    "\n",
    "The differential from a constant is zero, so we can safely add any constant within the differential \n",
    "\n",
    "2.\n",
    "### $$\\int x(x^2+1)^{50}\\,dx=\\frac{1}{2}\\int (x^2+1)^{50}\\,d(x^2)=\\frac{(x^2+1)^{51}}{2\\cdot 51}+C$$ "
   ]
  },
  {
   "cell_type": "markdown",
   "metadata": {
    "id": "YC03zi4O4Ru8"
   },
   "source": [
    "#### Variable substitution method\n",
    "\n",
    "This method is the same as the previous one. It is just more convenient for some people to make substitutions and for others to put them directly under the differential. \n",
    "\n",
    "\n",
    "1.\n",
    "### $$\\int \\frac{1}{2x-5}\\,dx$$ \n",
    "\n",
    "We'll make a replacement:\n",
    "\n",
    "### $$2x-5=t\\,\\,\\,\\,\\,\\Rightarrow\\,\\,\\,\\,\\, x=\\frac{1}{2}t+\\frac{5}{2}\\,\\,\\,\\,\\,\\Rightarrow\\,\\,\\,\\,\\,dx=\\frac{1}{2}dt$$\n",
    "\n",
    "\n",
    "Convert our integral:\n",
    "\n",
    "### $$\\int \\frac{1}{2x-5}\\,dx=\\int \\frac{1}{t}\\cdot\\frac{1}{2}dt=\\frac{1}{2}\\ln|t|+C$$ \n",
    "\n",
    "The disadvantage of this method is that you have to go back to the replacement. On the merits, it is an easier form of recording.\n",
    "\n",
    "### $$\\int \\frac{1}{2x-5}\\,dx=\\frac{1}{2}\\ln|2x-5|+C$$\n",
    "\n",
    "2.\n",
    "### $$\\int \\frac{x^2}{x^3+1}\\,dx$$ \n",
    "\n",
    "$x^2$ and $x^3$ are related through the derivative. Let's make a substitution:\n",
    "\n",
    "### $$x^3+1=t\\,\\,\\,\\,\\,\\Rightarrow\\,\\,\\,\\,\\, x=(t-1)^{\\frac{1}{3}}\\,\\,\\,\\,\\,\\Rightarrow\\,\\,\\,\\,\\,dx=\\frac{1}{3}(t-1)^{-\\frac{2}{3}}dt$$\n",
    "\n",
    "\n",
    "Convert our integral:\n",
    "\n",
    "### $$\\int \\frac{x^2}{x^3+1}\\,dx=\\int \\frac{(t-1)^{\\frac{2}{3}}}{t}\\cdot \\frac{1}{3}(t-1)^{-\\frac{2}{3}}dt=\\frac{1}{3}\\int \\frac{dt}{t}=$$\n",
    "### $$=\\frac{1}{3}\\ln|t|+C=\\frac{1}{3}\\ln|x^3+1|+C$$ "
   ]
  },
  {
   "cell_type": "markdown",
   "metadata": {
    "id": "ay_0X7nK4RvB"
   },
   "source": [
    "#### Integration by parts\n",
    "\n",
    "Recall the formula for the derivative of a product:\n",
    "    \n",
    "### $$(U\\cdot V)'=U'\\cdot V+U\\cdot V'$$\n",
    "\n",
    "Let's write it down using differentials:\n",
    "\n",
    "### $$d(U\\cdot V)=V\\cdot dU+U\\cdot dV$$\n",
    "\n",
    "Next, integrate both parts of the equation:\n",
    "\n",
    "### $$\\int d(U\\cdot V)=\\int V\\cdot dU+\\int U\\cdot dV$$\n",
    "\n",
    "\n",
    "### $$U\\cdot V=\\int V\\cdot dU+\\int U\\cdot dV$$\n",
    "\n",
    "Express the second integral:\n",
    "\n",
    "### $$\\int U\\cdot dV=U\\cdot V-\\int V\\cdot dU$$\n",
    "\n",
    "This formula is called integration by parts. It is applied as a rule in two cases:\n",
    "\n",
    "- when there are different functions under the integral;\n",
    "- when the integrand is as simple as possible, but is not tabular.\n",
    "\n",
    "1.\n",
    "### $$\\int \\mbox{arctg} x\\,dx$$ \n",
    "\n",
    "__What to take as quality $U$ and what to take as $dV$? __ The answer is quite simple. From $U$ we take the derivatives, from $dV$ we take the first form. In this case there is no choice, because we do not know the first-order from mbox{arctg} x.\n",
    "\n",
    "### $$U=\\mbox{arctg} x\\,\\,\\,\\,\\,\\Rightarrow\\,\\,\\,\\,\\, dU=\\frac{dx}{1+x^2}$$ \n",
    "### $$dV=dx\\,\\,\\,\\,\\,\\Rightarrow\\,\\,\\,\\,\\, V=x$$ \n",
    "\n",
    "Then:\n",
    "\n",
    "### $$\\int \\mbox{arctg} x\\,dx=\\mbox{arctg} x\\cdot x-\\int \\frac{xdx}{1+x^2}=\\mbox{arctg} x\\cdot x-\\frac{1}{2}\\int \\frac{d(1+x^2)}{1+x^2}=$$ \n",
    "\n",
    "### $$=\\mbox{arctg} x\\cdot x-\\frac{1}{2}\\ln(1+x^2)+C$$ \n",
    "\n",
    "2.\n",
    "### $$\\int x\\sin x\\,dx$$ \n",
    "\n",
    "### $$U=x\\,\\,\\,\\,\\,\\Rightarrow\\,\\,\\,\\,\\, dU=dx$$ \n",
    "### $$dV=\\sin xdx\\,\\,\\,\\,\\,\\Rightarrow\\,\\,\\,\\,\\, V=-\\cos x$$ \n",
    "\n",
    "Then:\n",
    "\n",
    "### $$\\int x\\sin x\\,dx=x\\cdot (-\\cos x)-\\int (-\\cos x)\\,dx=-x\\cos x+\\int \\cos x\\, dx$$ \n",
    "\n",
    "### $$=-x\\cos x+\\sin x+C$$ \n",
    "\n",
    "\n",
    "3.\n",
    "### $$\\int e^{x}\\sin x\\,dx$$ \n",
    "\n",
    "### $$U=e^{x}\\,\\,\\,\\,\\,\\Rightarrow\\,\\,\\,\\,\\, dU=e^{x}dx$$ \n",
    "### $$dV=\\sin xdx\\,\\,\\,\\,\\,\\Rightarrow\\,\\,\\,\\,\\, V=-\\cos x$$ \n",
    "\n",
    "Then:\n",
    "\n",
    "### $$\\int e^{x}\\sin x\\,dx=e^{x}\\cdot (-\\cos x)-\\int e^{x}\\cdot (-\\cos x)\\,dx=-e^{x}\\cos x+\\int e^{x}\\cos x\\, dx$$ \n",
    "\n",
    "Let's use the formula again\n",
    "\n",
    "### $$U=e^{x}\\,\\,\\,\\,\\,\\Rightarrow\\,\\,\\,\\,\\, dU=e^{x}dx$$ \n",
    "### $$dV=\\cos xdx\\,\\,\\,\\,\\,\\Rightarrow\\,\\,\\,\\,\\, V=\\sin x$$ \n",
    "\n",
    "Then:\n",
    "\n",
    "### $$\\int e^{x}\\sin x\\,dx=-e^{x}\\cos x+e^{x}\\sin x-\\int e^{x}\\sin x\\, dx$$\n",
    "\n",
    "Transfer the integral from the right to the left\n",
    "\n",
    "### $$2\\int e^{x}\\sin x\\,dx=-e^{x}\\cos x+e^{x}\\sin x$$\n",
    "\n",
    "### $$\\int e^{x}\\sin x\\,dx=\\frac{e^{x}(\\sin x-\\cos x)}{2}+C$$"
   ]
  },
  {
   "cell_type": "markdown",
   "metadata": {
    "id": "mztcCEmN4RvE"
   },
   "source": [
    "#### Method of uncertain coefficients\n",
    "\n",
    "If the denominator of a rational fraction can be decomposed into simpler ones, the fraction itself can be represented as the sum or the difference of the simpler ones.\n",
    "\n",
    "### $$\\frac{4x^2+8}{x^4-1}=\\frac{4x^2+8}{(x-1)(x+1)(x^2+1)}=\\frac{A}{x-1}+\\frac{B}{x+1}+\\frac{Cx+D}{x^2+1}$$ \n",
    "\n",
    "The polynomial in the numerator is one degree lower than that in the denominator. To find the coefficients of $A,B,C,D$, reduce the fraction to a common denominator, then compare the numerator to the original fraction:\n",
    "\n",
    "### $$\\frac{A}{x-1}+\\frac{B}{x+1}+\\frac{Cx+D}{x^2+1}=$$\n",
    "\n",
    "### $$=\\frac{x^3(A+B+C)+x^2(A-B+D)+x(A+B-C)+(A-B-D)}{(x-1)(x+1)(x^2+1)}$$ \n",
    "\n",
    "By comparing the numerators we get the following system of linear equations:\n",
    "\n",
    "### $$\\begin{cases}\n",
    "   A+B+C=0 \\\\\n",
    "   A-B+D=4 \\\\\n",
    "   A+B-C=0 \\\\\n",
    "   A-B-D=8 \n",
    " \\end{cases}\\,\\,\\,\\,\\,\\Rightarrow\\,\\,\\,\\,\\, \n",
    " \\begin{cases}\n",
    "   A=3 \\\\\n",
    "   B=-3 \\\\\n",
    "   C=0 \\\\\n",
    "   D=-2 \n",
    " \\end{cases}$$ \n",
    "\n",
    "Then:\n",
    "\n",
    "### $$\\frac{4x^2+8}{x^4-1}=\\frac{3}{x-1}-\\frac{3}{x+1}-\\frac{2}{x^2+1}$$\n",
    "\n",
    "This method allows the integral of a rational fraction to be immediately converted to tabular form:\n",
    "\n",
    "### $$\\int\\frac{4x^2+8}{x^4-1}\\,dx=\\int\\frac{3}{x-1}\\,dx-\\int\\frac{3}{x+1}\\,dx-\\int\\frac{2}{x^2+1}\\,dx=$$\n",
    "\n",
    "### $$=3\\ln|x-1|-3\\ln|x+1|-2\\,\\mbox{arctg}\\,x+C=3\\ln\\Bigr|\\frac{x-1}{x+1}\\Bigl|-2\\,\\mbox{arctg}\\,x+C$$"
   ]
  },
  {
   "cell_type": "markdown",
   "metadata": {
    "id": "uHDUIUJC4RvH"
   },
   "source": [
    "#### Universal trigonometric substitution\n",
    "\n",
    "The most universal function in trigonometry is the function $\\mbox{tg}\\,\\frac{x}{2}$, because all the others can be expressed through it.\n",
    "\n",
    "### $$\\sin x=\\frac{2\\,\\mbox{tg}\\,\\frac{x}{2}}{1+\\mbox{tg}^2\\,\\frac{x}{2}}$$\n",
    "\n",
    "### $$\\cos x=\\frac{1-\\mbox{tg}^2\\,\\frac{x}{2}}{1+\\mbox{tg}^2\\,\\frac{x}{2}}$$\n",
    "\n",
    "### $$\\mbox{tg}\\,x=\\frac{2\\,\\mbox{tg}\\,\\frac{x}{2}}{1-\\mbox{tg}^2\\,\\frac{x}{2}}$$\n",
    "\n",
    "### $$\\mbox{ctg}\\,x=\\frac{1-\\mbox{tg}^2\\,\\frac{x}{2}}{2\\,\\mbox{tg}\\,\\frac{x}{2}}$$\n",
    "\n",
    "The universal trigonometric substitution is used to move from trigonometric, to power functions.\n",
    "\n",
    "Let \n",
    "### $$\\mbox{tg}\\,\\frac{x}{2}=t$$\n",
    "\n",
    "Then \n",
    "\n",
    "### $$x=2\\,\\mbox{arctg}\\,t\\,\\,\\,\\,\\,\\Rightarrow\\,\\,\\,\\,\\,dx=\\frac{2dt}{1+t^2}$$\n",
    "\n",
    "### $$\\sin x=\\frac{2t}{1+t^2}$$\n",
    "\n",
    "### $$\\cos x=\\frac{1-t^2}{1+t^2}$$\n",
    "\n",
    "### $$\\mbox{tg}\\,x=\\frac{2t}{1-t^2}$$\n",
    "\n",
    "### $$\\mbox{ctg}\\,x=\\frac{1-t^2}{2t}$$\n",
    "\n",
    "As an example, let's take \n",
    "\n",
    "### $$\\int \\frac{dx}{4\\sin x-3\\cos x-5}=\\int \\frac{\\frac{2dt}{1+t^2}}{4\\frac{2t}{1+t^2}-3\\frac{1-t^2}{1+t^2}-5}=$$\n",
    "\n",
    "### $$=\\int \\frac{2dt}{8t-3(1-t^2)-5(1+t^2)}=-\\int \\frac{dt}{t^2-4t+4}=$$\n",
    "\n",
    "### $$=-\\int \\frac{dt}{(t-2)^2}=\\frac{1}{t-2}+C=\\frac{1}{\\mbox{tg}\\,\\frac{x}{2}-2}+C$$"
   ]
  },
  {
   "cell_type": "markdown",
   "metadata": {
    "id": "tmUNHQOC4RvJ"
   },
   "source": [
    "In python, integrals can also be found analytically using the __sympy__ library."
   ]
  },
  {
   "cell_type": "code",
   "execution_count": null,
   "metadata": {
    "id": "93hxzLiX4RvN"
   },
   "outputs": [],
   "source": [
    "from sympy import *\n",
    "init_printing()"
   ]
  },
  {
   "cell_type": "code",
   "execution_count": null,
   "metadata": {
    "id": "DOuQ1lOo4RvY",
    "outputId": "bfcd6c01-79e8-43de-f3db-ff40ca3f6e69"
   },
   "outputs": [
    {
     "data": {
      "image/png": "[encoded data removed]",
      "text/latex": [
       "$\\displaystyle \\frac{1}{x}$"
      ],
      "text/plain": [
       "1\n",
       "─\n",
       "x"
      ]
     },
     "execution_count": 2,
     "metadata": {
      "tags": []
     },
     "output_type": "execute_result"
    }
   ],
   "source": [
    "x=Symbol('x')\n",
    "f=1/x\n",
    "f"
   ]
  },
  {
   "cell_type": "code",
   "execution_count": null,
   "metadata": {
    "id": "qvDXyqV64Rvh",
    "outputId": "74f7b0f5-4a47-4875-b800-89deafa28cf3"
   },
   "outputs": [
    {
     "data": {
      "image/png": "[encoded data removed]",
      "text/latex": [
       "$\\displaystyle \\log{\\left(x \\right)}$"
      ],
      "text/plain": [
       "log(x)"
      ]
     },
     "execution_count": 3,
     "metadata": {
      "tags": []
     },
     "output_type": "execute_result"
    }
   ],
   "source": [
    "integrate(f,x)## in this case refers to the natural logarithm. It also does not take into account a constant."
   ]
  },
  {
   "cell_type": "markdown",
   "metadata": {
    "id": "9bK51bHa4Rvn"
   },
   "source": [
    "Find the integral of a rational fraction"
   ]
  },
  {
   "cell_type": "code",
   "execution_count": null,
   "metadata": {
    "id": "WqvOqMRg4Rvp",
    "outputId": "66234558-7c4a-46a6-c68b-ab7a7700a049"
   },
   "outputs": [
    {
     "data": {
      "image/png": "[encoded data removed]",
      "text/latex": [
       "$\\displaystyle \\frac{4 x^{2} + 8}{x^{4} - 1}$"
      ],
      "text/plain": [
       "   2    \n",
       "4⋅x  + 8\n",
       "────────\n",
       "  4     \n",
       " x  - 1 "
      ]
     },
     "execution_count": 3,
     "metadata": {
      "tags": []
     },
     "output_type": "execute_result"
    }
   ],
   "source": [
    "x=Symbol('x')\n",
    "f=(4*x**2+8)/(x**4-1)\n",
    "f"
   ]
  },
  {
   "cell_type": "code",
   "execution_count": null,
   "metadata": {
    "id": "xuAkFWPj4Rvw",
    "outputId": "778b068d-abdd-48ee-bfbf-458d4c42788d"
   },
   "outputs": [
    {
     "data": {
      "image/png": "[encoded data removed]",
      "text/latex": [
       "$\\displaystyle 3 \\log{\\left(x - 1 \\right)} - 3 \\log{\\left(x + 1 \\right)} - 2 \\operatorname{atan}{\\left(x \\right)}$"
      ],
      "text/plain": [
       "3⋅log(x - 1) - 3⋅log(x + 1) - 2⋅atan(x)"
      ]
     },
     "execution_count": 14,
     "metadata": {
      "tags": []
     },
     "output_type": "execute_result"
    }
   ],
   "source": [
    "integrate(f,x)"
   ]
  },
  {
   "cell_type": "markdown",
   "metadata": {
    "id": "5a3Nu3dd4Rv2"
   },
   "source": [
    "There is a rule in mathematics that the integral of any rational fraction always exists and is defined on a set of real numbers. \n",
    "\n",
    "However, the class of problems that have a good solution is very small. And even the __sympy__ library does not always give an adequate answer."
   ]
  },
  {
   "cell_type": "code",
   "execution_count": null,
   "metadata": {
    "id": "sFlWibDS4Rv3",
    "outputId": "9cd8d782-fbca-485e-e1f1-a22411276749"
   },
   "outputs": [
    {
     "data": {
      "image/png": "[encoded data removed]",
      "text/latex": [
       "$\\displaystyle \\frac{1}{x^{10} + 1}$"
      ],
      "text/plain": [
       "   1   \n",
       "───────\n",
       " 10    \n",
       "x   + 1"
      ]
     },
     "execution_count": 4,
     "metadata": {
      "tags": []
     },
     "output_type": "execute_result"
    }
   ],
   "source": [
    "x=Symbol('x')\n",
    "f=1/(x**10+1)\n",
    "f"
   ]
  },
  {
   "cell_type": "code",
   "execution_count": null,
   "metadata": {
    "id": "2Ax5LriG4Rv-",
    "outputId": "72817c08-c5b6-4701-c5c3-63c374683db3"
   },
   "outputs": [
    {
     "data": {
      "image/png": "[encoded data removed]",
      "text/latex": [
       "$\\displaystyle \\operatorname{RootSum} {\\left(18446744073709551616 t^{16} + 1, \\left( t \\mapsto t \\log{\\left(16 t + x \\right)} \\right)\\right)}$"
      ],
      "text/plain": [
       "       ⎛                      16                         ⎞\n",
       "RootSum⎝18446744073709551616⋅t   + 1, t ↦ t⋅log(16⋅t + x)⎠"
      ]
     },
     "execution_count": 5,
     "metadata": {
      "tags": []
     },
     "output_type": "execute_result"
    }
   ],
   "source": [
    "integrate(f,x)"
   ]
  },
  {
   "cell_type": "markdown",
   "metadata": {
    "id": "JkUgorpN4RwH"
   },
   "source": [
    "### Definite integrals"
   ]
  },
  {
   "cell_type": "markdown",
   "metadata": {
    "id": "PMO4s6e94RwI"
   },
   "source": [
    "If you know on which interval the increment of an integral is given, it automatically becomes a definite integral.\n",
    "\n",
    "There are several ways of defining a definite integral:\n",
    "\n",
    "__1. The Riemann integral.__ This method has become classical, because it follows directly from indefinite integrals. The integration goes through a set of increments. By doing this we get the area between the graph of the function and the $x$-axis.\n",
    "\n",
    "### $$\\int\\limits_a^b f(x)\\,dx=F(b)-F(a)$$\n",
    "\n",
    "The Riemann integral is found as the difference of the first form: subtract the beginning from the end. In this case the constant is reduced.\n",
    "\n",
    "__2. The Lebesgue integral.__ A rather exotic integral, as the theory of it is difficult to find even in textbooks. The difficulty lies in defining the norm.\n",
    "\n",
    "This way of defining it is given for general development, because it has good properties. For the Riemann integral, the function must be continuous and differentiable at all points in the given interval $[a,b]$. For the Lebesgue integral there are no such restrictions. \n",
    "\n",
    "That is, the Lebesgue integral coincides with the Riemann integral where the Riemann integral exists. Moreover, a Lebesgue integral can also be derived from functions that are not differentiable in a point. For example the Dirichlet function.\n",
    "\n",
    "### $$\\int\\limits_X f(x)\\,\\mu(dx)=\\int\\limits_X f(x)\\,d\\mu=\\mu(F)$$\n",
    "\n",
    "At the end of the tutorial, there are links to articles on the Lebesgue integral."
   ]
  },
  {
   "cell_type": "markdown",
   "metadata": {
    "id": "hOUBCs144RwJ"
   },
   "source": [
    "<img src=\"https://i.ibb.co/R4nbqd3/10-1.png\"  width = 400/>"
   ]
  },
  {
   "cell_type": "markdown",
   "metadata": {
    "id": "Znz3CUn54RwK"
   },
   "source": [
    "Let us find the following definite integrals using the Riemann integral:\n",
    "\n",
    "1. In this example, the integral is equal to the area of a right-angled triangle with cathetuses equal to $1$\n",
    "### $$\\int\\limits_0^1 x\\,dx=\\Bigr(\\frac{x^2}{2}\\Bigl)\\bigg|_0^1=\\frac{1^2}{2}-\\frac{0^2}{2}=\\frac{1}{2}$$\n",
    "\n",
    "\n",
    "2. From this example, it should be understood that the integral takes into account which side the function is on in relation to the $x$-axis. We get two triangles with the same area at once, with one having a negative area.\n",
    "### $$\\int\\limits_{-1}^1 x\\,dx=\\Bigr(\\frac{x^2}{2}\\Bigl)\\bigg|_{-1}^1=\\frac{1^2}{2}-\\frac{(-1)^2}{2}=\\frac{1}{2}-\\frac{1}{2}=0$$\n",
    "\n",
    "3. Let's look at a more complicated example.\n",
    "### $$\\int\\limits_{0}^\\pi 3x^2\\sin 2x\\,dx$$\n",
    "\n",
    "Let's find it piece by piece:\n",
    "\n",
    "### $$U=3x^2\\,\\,\\,\\,\\,\\Rightarrow\\,\\,\\,\\,\\, dU=6xdx$$ \n",
    "### $$dV=\\sin 2xdx\\,\\,\\,\\,\\,\\Rightarrow\\,\\,\\,\\,\\, V=-\\frac{1}{2}\\cos 2x$$ \n",
    "\n",
    "Then:\n",
    "\n",
    "### $$\\int\\limits_{0}^\\pi 3x^2\\sin 2x\\,dx=\\Bigr(3x^2\\cdot(-\\frac{1}{2}\\cos 2x)\\Bigl)\\bigg|_0^\\pi-\\int\\limits_{0}^\\pi (-\\frac{1}{2}\\cos 2x)\\cdot 6x\\,dx=$$\n",
    "\n",
    "### $$=-\\frac{3}{2}\\pi^2+\\int\\limits_{0}^\\pi 3x\\cos 2x\\,dx=$$\n",
    "\n",
    "Let's take it again in parts:\n",
    "\n",
    "### $$U=3x\\,\\,\\,\\,\\,\\Rightarrow\\,\\,\\,\\,\\, dU=3dx$$ \n",
    "### $$dV=\\cos 2xdx\\,\\,\\,\\,\\,\\Rightarrow\\,\\,\\,\\,\\, V=\\frac{1}{2}\\sin 2x$$ \n",
    "\n",
    "Then we get:\n",
    "\n",
    "### $$=-\\frac{3}{2}\\pi^2+\\Bigr(3x\\cdot\\frac{1}{2}\\sin 2x\\Bigl)\\bigg|_0^\\pi-\\int\\limits_{0}^\\pi \\frac{1}{2}\\sin 2x\\cdot 3\\,dx=-\\frac{3}{2}\\pi^2$$\n",
    "\n",
    "Same with __sympy__"
   ]
  },
  {
   "cell_type": "code",
   "execution_count": null,
   "metadata": {
    "id": "KTXsDZxL4RwL",
    "outputId": "5a48f43c-6732-4cac-b585-65803c922685"
   },
   "outputs": [
    {
     "data": {
      "image/png": "[encoded data removed]",
      "text/latex": [
       "$\\displaystyle 3 x^{2} \\sin{\\left(2 x \\right)}$"
      ],
      "text/plain": [
       "   2         \n",
       "3⋅x ⋅sin(2⋅x)"
      ]
     },
     "execution_count": 64,
     "metadata": {
      "tags": []
     },
     "output_type": "execute_result"
    }
   ],
   "source": [
    "from sympy import *\n",
    "init_printing()\n",
    "x=Symbol('x')\n",
    "f=3*x**2*sin(2*x)\n",
    "f"
   ]
  },
  {
   "cell_type": "code",
   "execution_count": null,
   "metadata": {
    "id": "gPHomC8i4RwR",
    "outputId": "8d4e81a7-ea76-48fb-87db-a006e16f6008"
   },
   "outputs": [
    {
     "data": {
      "image/png": "[encoded data removed]",
      "text/latex": [
       "$\\displaystyle - \\frac{3 \\pi^{2}}{2}$"
      ],
      "text/plain": [
       "    2 \n",
       "-3⋅π  \n",
       "──────\n",
       "  2   "
      ]
     },
     "execution_count": 65,
     "metadata": {
      "tags": []
     },
     "output_type": "execute_result"
    }
   ],
   "source": [
    "integrate(f,(x, 0, pi))"
   ]
  },
  {
   "cell_type": "markdown",
   "metadata": {
    "id": "7sJYkncr4RwW"
   },
   "source": [
    "You can also find definite integrals numerically using the __SciPy__ library"
   ]
  },
  {
   "cell_type": "code",
   "execution_count": null,
   "metadata": {
    "id": "iqPzeRkn4RwX",
    "outputId": "76530871-9699-449f-c2cd-20ef83e8e2f7"
   },
   "outputs": [
    {
     "name": "stdout",
     "output_type": "stream",
     "text": [
      "(-14.804406601634037, 2.1172211973307782e-13) -численное решение\n",
      "-14.804406601634037 -аналитическое решение\n"
     ]
    }
   ],
   "source": [
    "from scipy import integrate\n",
    "from math import *\n",
    "\n",
    "func = lambda x: 3*x**2*sin(2*x)\n",
    " \n",
    "answer = integrate.quad(func, 0, pi)\n",
    "print(answer, \"-численное решение\")\n",
    "print(-3*pi**2/2, \"-аналитическое решение\")"
   ]
  },
  {
   "cell_type": "code",
   "execution_count": null,
   "metadata": {
    "id": "4YPqPFgY4Rwe",
    "outputId": "5fe9dfcc-5cf6-4eab-848d-38c5b8ad430c"
   },
   "outputs": [
    {
     "name": "stdout",
     "output_type": "stream",
     "text": [
      "(0.9380942870328848, 3.736859212255969e-12) -численное решение\n"
     ]
    }
   ],
   "source": [
    "from scipy import integrate\n",
    "from math import *\n",
    "\n",
    "func = lambda x: 1/(x**10+1)\n",
    " \n",
    "answer = integrate.quad(func, 0, 1)\n",
    "print(answer, \"-численное решение\")"
   ]
  },
  {
   "cell_type": "markdown",
   "metadata": {
    "id": "468TFvm14Rwk"
   },
   "source": [
    "### Non-objective integrals\n",
    "\n",
    "Among certain integrals, we can distinguish two types of integrals with a singularity on their boundaries.\n",
    "\n",
    "The first one has a singularity at infinity. In this case, we depart from infinity and take an arbitrary point. Then calculate the integral and find the limit\n",
    "\n",
    "### $$\\int\\limits_{a}^{+\\infty}f(x)\\,dx=\\lim_{b\\to +\\infty}\\int\\limits_{a}^b f(x)\\,dx=\\lim_{b\\to +\\infty}F(b)-F(a)$$\n",
    "\n",
    "### $$\\int\\limits_{-\\infty}^{b}f(x)\\,dx=\\lim_{a\\to -\\infty}\\int\\limits_{a}^b f(x)\\,dx=F(b)-\\lim_{a\\to -\\infty}F(a)$$\n",
    "\n",
    "Второй с особенностью в точке. В этом случае мы тоже отступаем от точки на небольшое расстояние $\\varepsilon>0$. Далее вычисляют интеграл и находят предел\n",
    "\n",
    "### $$\\int\\limits_{a}^{b}f(x)\\,dx=\\lim_{\\varepsilon\\to 0}\\int\\limits_{a}^{b-\\varepsilon} f(x)\\,dx=\\lim_{\\varepsilon\\to 0}F(b-\\varepsilon)-F(a)$$\n",
    "\n",
    "### $$\\int\\limits_{a}^{b}f(x)\\,dx=\\lim_{\\varepsilon\\to 0}\\int\\limits_{a+\\varepsilon}^{b} f(x)\\,dx=F(b)-\\lim_{\\varepsilon\\to 0}F(a+\\varepsilon)$$"
   ]
  },
  {
   "cell_type": "markdown",
   "metadata": {
    "id": "--XTsskV4Rwl"
   },
   "source": [
    "#### Рассмотрим несколько примеров:\n",
    "\n",
    "1. \n",
    "### $$\\int\\limits_{1}^{+\\infty}\\frac{dx}{x^2}=\\lim_{b\\to +\\infty}\\int\\limits_{1}^{b}\\frac{dx}{x^2}=\\lim_{b\\to +\\infty}(-\\frac{1}{b})-(-\\frac{1}{1})=0+1=1$$\n",
    "\n",
    "\n",
    "2. \n",
    "### $$\\int\\limits_{-1}^{1}\\frac{dx}{\\sqrt{1-x^2}}=\\lim_{\\varepsilon\\to 0}\\int\\limits_{-1+\\varepsilon}^{1-\\varepsilon} \\frac{dx}{\\sqrt{1-x^2}}=$$\n",
    "\n",
    "### $$=\\lim_{\\varepsilon\\to 0}\\Bigr(\\arcsin(1-\\varepsilon)\\Bigl)-\\lim_{\\varepsilon\\to 0}\\Bigr(\\arcsin(-1+\\varepsilon)\\Bigl)=\\frac{\\pi}{2}-(-\\frac{\\pi}{2})=\\pi$$\n",
    "\n",
    "Как видно, ничего сложно нет. Рассмотрим эти примеры на python:"
   ]
  },
  {
   "cell_type": "code",
   "execution_count": null,
   "metadata": {
    "id": "nE72I0U34Rwm",
    "outputId": "438d1cb3-8fca-47b6-a5a1-243ac985d502"
   },
   "outputs": [
    {
     "data": {
      "image/png": "[encoded data removed]",
      "text/latex": [
       "$\\displaystyle \\frac{1}{x^{2}}$"
      ],
      "text/plain": [
       "1 \n",
       "──\n",
       " 2\n",
       "x "
      ]
     },
     "execution_count": 52,
     "metadata": {
      "tags": []
     },
     "output_type": "execute_result"
    }
   ],
   "source": [
    "from sympy import *\n",
    "init_printing()\n",
    "x=Symbol('x')\n",
    "f=1/x**2\n",
    "f"
   ]
  },
  {
   "cell_type": "code",
   "execution_count": null,
   "metadata": {
    "id": "xVCCHzyG4Rwx",
    "outputId": "e834a123-1ffc-43dd-ae5e-a460fb32621a"
   },
   "outputs": [
    {
     "data": {
      "image/png": "[encoded data removed]",
      "text/latex": [
       "$\\displaystyle 1$"
      ],
      "text/plain": [
       "1"
      ]
     },
     "execution_count": 53,
     "metadata": {
      "tags": []
     },
     "output_type": "execute_result"
    }
   ],
   "source": [
    "integrate(f,(x, 1, +oo)) #аналитическое решение"
   ]
  },
  {
   "cell_type": "code",
   "execution_count": null,
   "metadata": {
    "id": "CgtGGJr44Rw3",
    "outputId": "325f4d64-0a22-4ea6-9379-8e54aa85cf40"
   },
   "outputs": [
    {
     "name": "stdout",
     "output_type": "stream",
     "text": [
      "(1.0, 1.1102230246251565e-14)\n"
     ]
    }
   ],
   "source": [
    "from scipy import integrate\n",
    "from math import *\n",
    "\n",
    "func = lambda x: 1/x**2\n",
    " \n",
    "answer = integrate.quad(func, 1, inf)\n",
    "print(answer) #численное решение"
   ]
  },
  {
   "cell_type": "markdown",
   "metadata": {
    "id": "n8Ja6ZgK4RxH"
   },
   "source": [
    "Второй пример:"
   ]
  },
  {
   "cell_type": "code",
   "execution_count": null,
   "metadata": {
    "id": "gG1ei6Ua4RxJ",
    "outputId": "f382759b-23d0-4aa5-e789-3f9b706ec1fd"
   },
   "outputs": [
    {
     "data": {
      "image/png": "[encoded data removed]",
      "text/latex": [
       "$\\displaystyle \\frac{1}{\\sqrt{1 - x^{2}}}$"
      ],
      "text/plain": [
       "     1     \n",
       "───────────\n",
       "   ________\n",
       "  ╱      2 \n",
       "╲╱  1 - x  "
      ]
     },
     "execution_count": 61,
     "metadata": {
      "tags": []
     },
     "output_type": "execute_result"
    }
   ],
   "source": [
    "from sympy import *\n",
    "init_printing()\n",
    "x=Symbol('x')\n",
    "f=1/sqrt(1-x**2)\n",
    "f"
   ]
  },
  {
   "cell_type": "code",
   "execution_count": null,
   "metadata": {
    "id": "kFnA3DJg4Rxb",
    "outputId": "70978a7d-3276-4e57-ff81-5406937aba2f"
   },
   "outputs": [
    {
     "data": {
      "image/png": "[encoded data removed]",
      "text/latex": [
       "$\\displaystyle \\pi$"
      ],
      "text/plain": [
       "π"
      ]
     },
     "execution_count": 62,
     "metadata": {
      "tags": []
     },
     "output_type": "execute_result"
    }
   ],
   "source": [
    "integrate(f,(x, -1, 1)) #аналитическое решение"
   ]
  },
  {
   "cell_type": "code",
   "execution_count": null,
   "metadata": {
    "id": "VePZYStq4Rxu",
    "outputId": "b4633514-fee3-4e14-8451-3dd6144c1f85"
   },
   "outputs": [
    {
     "name": "stdout",
     "output_type": "stream",
     "text": [
      "(3.141592653589591, 6.200897573194197e-10)\n"
     ]
    }
   ],
   "source": [
    "from scipy import integrate\n",
    "from math import *\n",
    "\n",
    "func = lambda x: 1/sqrt(1-x**2)\n",
    " \n",
    "answer = integrate.quad(func, -1, 1)\n",
    "print(answer) #численное решение"
   ]
  },
  {
   "cell_type": "markdown",
   "metadata": {
    "id": "aU5YNMH9kVqP"
   },
   "source": [
    "## Практическое задание"
   ]
  },
  {
   "cell_type": "markdown",
   "metadata": {
    "id": "SmdURZ_OkVqQ"
   },
   "source": [
    "__1.__ Вычислить неопределенный интеграл\n",
    "\n",
    "### $$\\int \\frac{2x+3}{(x-2)(x+5)}\\,dx$$\n"
   ]
  },
  {
   "cell_type": "markdown",
   "metadata": {
    "id": "cECfCSANkVqR"
   },
   "source": [
    "__2.__ Вычислить неопределенный интеграл\n",
    "\n",
    "### $$\\int e^{2x}\\cos 3x\\,dx$$"
   ]
  },
  {
   "cell_type": "markdown",
   "metadata": {
    "id": "DFrjdtbHkVqS"
   },
   "source": [
    "__3.__ Вычислить определенный интеграл\n",
    "\n",
    "### $$\\int\\limits_0^{\\ln2} xe^{-x}\\,dx$$"
   ]
  },
  {
   "cell_type": "markdown",
   "metadata": {
    "id": "8WjM7zpH4RyM"
   },
   "source": [
    "__4.__ Вычислить несобственный интеграл\n",
    "\n",
    "### $$\\int\\limits_2^{+\\infty} \\frac{dx}{x^2+x-2}$$"
   ]
  },
  {
   "cell_type": "markdown",
   "metadata": {
    "id": "cuLCvoBm4RyO"
   },
   "source": [
    "__5*.__ Вычислить несобственный интеграл\n",
    "\n",
    "### $$\\int\\limits_0^{1} \\ln x\\,dx$$"
   ]
  },
  {
   "cell_type": "markdown",
   "metadata": {
    "id": "Iv-T_NZAkVqZ"
   },
   "source": [
    "## Дополнительные материалы"
   ]
  },
  {
   "cell_type": "markdown",
   "metadata": {
    "id": "9o_SiUNxkVqa"
   },
   "source": [
    "1. [пример вычисления интеграла Лебега на WolframAlpfa](https://demonstrations.wolfram.com/LebesgueIntegration/)\n",
    "2. [про интеграл Лебега](https://mathworld.wolfram.com/LebesgueIntegral.html)\n",
    "3. [про меру Лебега](https://mathworld.wolfram.com/Measure.html)"
   ]
  },
  {
   "cell_type": "code",
   "execution_count": null,
   "metadata": {
    "id": "KqOFnA-I4RyX"
   },
   "outputs": [],
   "source": []
  }
 ],
 "metadata": {
  "colab": {
   "collapsed_sections": [],
   "name": "Lesson_9.ipynb",
   "provenance": []
  },
  "kernelspec": {
   "display_name": "Python 3",
   "language": "python",
   "name": "python3"
  },
  "language_info": {
   "codemirror_mode": {
    "name": "ipython",
    "version": 3
   },
   "file_extension": ".py",
   "mimetype": "text/x-python",
   "name": "python",
   "nbconvert_exporter": "python",
   "pygments_lexer": "ipython3",
   "version": "3.8.5"
  }
 },
 "nbformat": 4,
 "nbformat_minor": 1
}
