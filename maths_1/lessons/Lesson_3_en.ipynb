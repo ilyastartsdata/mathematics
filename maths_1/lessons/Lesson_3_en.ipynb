{
 "cells": [
  {
   "cell_type": "markdown",
   "metadata": {
    "id": "zz7SDkPIkVlM"
   },
   "source": [
    "# Lesson 3"
   ]
  },
  {
   "cell_type": "markdown",
   "metadata": {
    "id": "p_3vqG5-kVlP"
   },
   "source": [
    "# Limit of the sequence"
   ]
  },
  {
   "cell_type": "markdown",
   "metadata": {
    "id": "nrnBh0IoI9Th"
   },
   "source": [
    "We will begin our course in mathematical analysis by looking at two definitions at once: __sequences__ and their __limits__. \n",
    "    \n",
    "    \n",
    "    "
   ]
  },
  {
   "cell_type": "markdown",
   "metadata": {
    "id": "ahp6dSlkI9Th"
   },
   "source": [
    "### Definition\n",
    "\n",
    "A __sequence__ is a numbered set of objects among which repetition is allowed, and the __order of the objects matters.__ That is, the elements of a sequence can be anything. For example: the days of the week, the change of seasons, our class schedule and even the order of your day (with the proviso that the order of goals is strict). \n",
    "\n",
    "You and I are going to study numerical sequences. Where we will take the natural numbers $n\\in\\mathbb {N}$ starting with $1$ as the numbering of sequence elements.\n",
    "\n",
    "The sequence is usually denoted by lowercase Latin letters in inverted commas.\n",
    "\n",
    "### $$\\Bigl\\{a_n\\Bigr\\}_{n=1}^\\infty$$\n",
    "\n",
    "There are two ways of setting up a numerical sequence:\n",
    "\n",
    "1. Explicit. In this case, there is a specific formula for obtaining the $n$th term of the sequence. This formula is called the principal term of the sequence\n",
    "\n",
    "### $$a_n=(-1)^{n+1}\\,\\,\\,\\,\\,\\Rightarrow\\,\\,\\,\\,\\,\\Bigl\\{a_n\\Bigr\\}_{n=1}^\\infty=\\Bigl\\{1, -1, 1, -1, ..., (-1)^{n+1},...\\Bigr\\}$$\n",
    "\n",
    "### $$b_n=2n-1\\,\\,\\,\\,\\,\\Rightarrow\\,\\,\\,\\,\\,\\Bigl\\{b_n\\Bigr\\}_{n=1}^\\infty=\\Bigl\\{1, 3, 5, 7, 9, 11,..., 2n-1,...\\Bigr\\}$$\n",
    "\n",
    "### $$c_n=n^2\\,\\,\\,\\,\\,\\Rightarrow\\,\\,\\,\\,\\,\\Bigl\\{c_n\\Bigr\\}_{n=1}^\\infty=\\Bigl\\{1, 4, 9, 16, 25, 36,..., n^2,...\\Bigr\\}$$\n",
    "\n",
    "This way of specifying a sequence is quite informative, although not always possible. In python, such sequences are usually specified in the following way.\n"
   ]
  },
  {
   "cell_type": "code",
   "execution_count": null,
   "metadata": {
    "id": "fpQah1eXI9Tj",
    "outputId": "65409385-7b99-4972-e889-22fe16b121cf"
   },
   "outputs": [
    {
     "name": "stdout",
     "output_type": "stream",
     "text": [
      "[1, -1, 1, -1, 1, -1, 1, -1, 1, -1, 1, -1, 1, -1, 1, -1, 1, -1, 1, -1]\n"
     ]
    }
   ],
   "source": [
    "n = 20\n",
    "a = [0]*n\n",
    "for i in range(n):\n",
    "    a[i] = (-1)**i\n",
    "print(a)"
   ]
  },
  {
   "cell_type": "code",
   "execution_count": null,
   "metadata": {
    "id": "DDNjxBMOI9Tn",
    "outputId": "e6fd737f-6893-450b-c21e-c1e0561a57c0"
   },
   "outputs": [
    {
     "name": "stdout",
     "output_type": "stream",
     "text": [
      "[1, 3, 5, 7, 9, 11, 13, 15, 17, 19, 21, 23, 25, 27, 29, 31, 33, 35, 37, 39]\n"
     ]
    }
   ],
   "source": [
    "n = 20\n",
    "a = [0]*n\n",
    "for i in range(n):\n",
    "    a[i] = 2*i+1\n",
    "print(a)"
   ]
  },
  {
   "cell_type": "code",
   "execution_count": null,
   "metadata": {
    "id": "ZlxC5AAHI9To",
    "outputId": "f48fae19-5c4a-4398-a1ad-fab4848e0679"
   },
   "outputs": [
    {
     "name": "stdout",
     "output_type": "stream",
     "text": [
      "[1, 4, 9, 16, 25, 36, 49, 64, 81, 100, 121, 144, 169, 196, 225, 256, 289, 324, 361, 400]\n"
     ]
    }
   ],
   "source": [
    "n = 20\n",
    "a = [0]*n\n",
    "for i in range(n):\n",
    "    a[i] = (i+1)**2\n",
    "print(a)"
   ]
  },
  {
   "cell_type": "markdown",
   "metadata": {
    "id": "lJ9zjwbtI9To"
   },
   "source": [
    "2. Implicit. That is, when a sequence member has an order, i.e. a number. But it does not explicitly depend on it, but on other elements of the sequence. \n",
    "\n",
    "As an example, we can study the Fibonacci sequences. Where the first and second terms are $1$ and all others are obtained as a sum of the previous two.\n",
    "\n",
    "### $$a_n=a_{n-1}+a_{n-2}, \\,\\,\\,\\,\\,\\,n>2$$"
   ]
  },
  {
   "cell_type": "code",
   "execution_count": null,
   "metadata": {
    "id": "7pwk_sUgI9Tp",
    "outputId": "c60f85bd-d9fd-40bf-927d-d591450b6f5f"
   },
   "outputs": [
    {
     "name": "stdout",
     "output_type": "stream",
     "text": [
      "[1, 1, 2, 3, 5, 8, 13, 21, 34, 55, 89, 144, 233, 377, 610, 987, 1597, 2584, 4181, 6765]\n"
     ]
    }
   ],
   "source": [
    "n = 20\n",
    "a = [0]*n\n",
    "\n",
    "a[0]=1\n",
    "a[1]=1\n",
    "\n",
    "for i in range(2, n, 1):\n",
    "    a[i] = a[i - 1] + a[i - 2]\n",
    "print(a)"
   ]
  },
  {
   "cell_type": "markdown",
   "metadata": {
    "id": "ZuGhiXhvI9Tq"
   },
   "source": [
    "With this sequence, the Golden Ratio can be obtained. There is a suggestion that it is used by nature, to program the length ratios of body parts."
   ]
  },
  {
   "cell_type": "code",
   "execution_count": null,
   "metadata": {
    "id": "k5BtxrBJI9Tr",
    "outputId": "93c69910-4baa-4fef-969d-09e490061bd5"
   },
   "outputs": [
    {
     "name": "stdout",
     "output_type": "stream",
     "text": [
      "1.0\n",
      "0.5\n",
      "0.6666666666666666\n",
      "0.6\n",
      "0.625\n",
      "0.6153846153846154\n",
      "0.6190476190476191\n",
      "0.6176470588235294\n",
      "0.6181818181818182\n",
      "0.6179775280898876\n",
      "0.6180555555555556\n",
      "0.6180257510729614\n",
      "0.6180371352785146\n",
      "0.6180327868852459\n",
      "0.6180344478216818\n",
      "0.6180338134001252\n",
      "0.6180340557275542\n",
      "0.6180339631667066\n",
      "0.6180339985218034\n"
     ]
    }
   ],
   "source": [
    "for i in range(1, n, 1):\n",
    "    print(a[i-1]/a[i])"
   ]
  },
  {
   "cell_type": "markdown",
   "metadata": {
    "id": "wD-UubJeI9Tr"
   },
   "source": [
    "Usually there is only one way to specify a sequence, but sometimes it is possible to go from one type to another. \n",
    "\n",
    "As a good example, we can think of arithmetic and geometric sequences from the school course:\n",
    "\n",
    "The arithmetic sequence $a_n=a_{n-1}+6$, where $a_1=3$ can be written in the video $a_n=6(n-1)+3$\n"
   ]
  },
  {
   "cell_type": "code",
   "execution_count": null,
   "metadata": {
    "id": "7sBTCV6cI9Ts",
    "outputId": "07fe3daa-2610-418a-9660-0d277c2977b3"
   },
   "outputs": [
    {
     "name": "stdout",
     "output_type": "stream",
     "text": [
      "[3, 9, 15, 21, 27, 33, 39, 45, 51, 57, 63, 69, 75, 81, 87, 93, 99, 105, 111, 117]\n",
      "[3, 9, 15, 21, 27, 33, 39, 45, 51, 57, 63, 69, 75, 81, 87, 93, 99, 105, 111, 117]\n"
     ]
    }
   ],
   "source": [
    "n = 20\n",
    "a = [0]*n\n",
    "\n",
    "a[0] = 3\n",
    "for i in range(1, n, 1):\n",
    "    a[i] = a[i-1]+6\n",
    "print(a)\n",
    "\n",
    "for i in range(n):\n",
    "    a[i] = 6*i+3\n",
    "print(a)"
   ]
  },
  {
   "cell_type": "markdown",
   "metadata": {
    "id": "sfrQ61axI9Tt"
   },
   "source": [
    "The geometric sequence $b_n=b_{n-1}\\cdot 3$, where $b_1=2$ can be written in the video $b_n=3^{n-1}\\cdot2$"
   ]
  },
  {
   "cell_type": "code",
   "execution_count": null,
   "metadata": {
    "id": "bnbLvzS8I9Tt",
    "outputId": "9b40756e-8f89-4ddd-de80-8fdd1e6577af"
   },
   "outputs": [
    {
     "name": "stdout",
     "output_type": "stream",
     "text": [
      "[2, 6, 18, 54, 162, 486, 1458, 4374, 13122, 39366]\n",
      "[2, 6, 18, 54, 162, 486, 1458, 4374, 13122, 39366]\n"
     ]
    }
   ],
   "source": [
    "n = 10\n",
    "b = [0]*n\n",
    "\n",
    "b[0] = 2\n",
    "for i in range(1, n, 1):\n",
    "    b[i] = b[i-1]*3\n",
    "print(b)\n",
    "\n",
    "for i in range(n):\n",
    "    b[i] = 3**i*2\n",
    "print(b)"
   ]
  },
  {
   "cell_type": "markdown",
   "metadata": {
    "id": "_hvRs5tcI9Tu"
   },
   "source": [
    "### Convergence\n",
    "\n",
    "What is at the end of the sequence? How does it end? This is a difficult question to which we don't know the answer. Because sequences are infinite.\n",
    "\n",
    "__Mathematical analysis is the science of approximation. __And the further we dive into this course, the more it becomes clear that this science is not an exact science.\n",
    "\n",
    "By convergence of a number sequence, we mean that starting from some number $n$ all subsequent terms will converge in the vicinity of some number, for example $A$. The number $\\varepsilon>0$ (an epsilon greater than zero) is taken as such a vicinity.\n",
    "\n",
    "<img src=\"https://i.ibb.co/JtMqCBD/image.png\"  width = 500/>\n",
    "\n",
    "In this case, $A$ can take on different values. We will deal with them in general later, but for now we will distinguish two special cases.\n",
    "\n",
    "- if $A$ is zero, then the sequence $\\Bigl\\{a_n\\Bigr\\}_{n=1}^\\infty$ is called __infinitesimal__.\n",
    "- If $A$ cannot collect $a_n$ in a neighborhood and they are constantly increasing or decreasing, then $A=\\pm\\infty$. The sequence$\\Bigl\\{a_n\\Bigr\\}_{n=1}^\\infty$ is then called __infinitely large__.\n",
    "\n",
    "These two concepts help us in the practice of taking the limits of a sequence. But they are also used to describe the order of errors or complexity of certain algorithms in programming.\n",
    "\n",
    "For example:\n",
    "\n",
    "- $o(n^3)$ reads as a small value of $n$ in a cube. It is usually used to denote the order of an error. That is, the algorithm gives the correct answer with a small error, which depends on the number of data in the cube.\n",
    "- $O(n^2)$ reads as the greater of $n$ squared. It is usually used to denote the complexity of an algorithm. That is, the number of steps in the algorithm depends on the number of data squared.\n"
   ]
  },
  {
   "cell_type": "markdown",
   "metadata": {
    "id": "go5zV-sWI9Tv"
   },
   "source": [
    "### Limit of the sequence\n",
    "\n",
    "The limit of the sequence is written in the following form \n",
    "\n",
    "### $$\\lim_{n\\to \\infty} a_n=A$$\n",
    "\n",
    "It reads as the limit of the sequence $\\Bigl\\{a_n\\Bigr\\}_{n=1}^\\infty$ at $n$ tending to infinity is $A$. \n",
    "\n",
    "There are quite a few definitions of the limit of a sequence. We'll deal with the easiest one to understand.\n",
    "\n",
    "#### Definition\n",
    "\n",
    "For any $\\varepsilon>0$ there exists a number $N(\\varepsilon)$ such that\n",
    "such that, for any $n>N(\\varepsilon)$, the inequality $|a_n-A|<\\varepsilon$ is true.\n",
    "\n",
    "### $$forall\\varepsilon>0\\,\\,\\,\\exists N(\\varepsilon),\\,\\,\\forall n>N(\\varepsilon):|a_n-A|<\\varepsilon$$\n",
    "\n",
    "There's one unpleasant thing about this definition: in order to define a limit, we need to know the limit itself. Which sounds rather odd. \n",
    "\n",
    "Besides, there are situations where we just need to know whether a limit exists or not. So let's introduce the Cauchy convergence criterion.\n",
    "\n",
    "#### Cauchy Convergence Criterion\n",
    "\n",
    "For any $\\varepsilon>0$ there exists a number $N(\\varepsilon)$ such that\n",
    "such that for any $n>N(\\varepsilon)$ and any $k\\geq1$, the inequality $|a_n-a_{n+k}|<\\varepsilon$ is true.\n",
    "\n",
    "### $$forall\\varepsilon>0\\,\\,\\,\\exists N(\\varepsilon), \\,\\,\\,\\forall n>N(\\varepsilon)\\,\\,\\,\\forall k\\geq1:|a_n-a_{n+k}|<\\varepsilon$$\n",
    "\n",
    "As an example, let's take an infinitely decreasing progression\n",
    "\n",
    "### $$a_n=\\frac{1}{2^n}\\,\\,\\,\\,\\,\\Rightarrow\\,\\,\\,\\,\\,\\Bigl\\{a_n\\Bigr\\}_{n=1}^\\infty=\\Bigl\\{\\frac{1}{2}, \\frac{1}{4}, \\frac{1}{8}, \\frac{1}{16}, ..., \\frac{1}{2^n},...\\Bigr\\}$$\n",
    "\n",
    "Intuitively. \n",
    "\n",
    "### $\\lim_{n\\to \\infty} \\frac{1}{2^n}=0$\n",
    "\n",
    "But let's parse this example in terms of the Cauchy criterion. Let's prove the convergence of this sequence and even give an estimate for $n$ after which all $a_n$ will be close enough to the limit.\n",
    "\n",
    "Starting at the end, we need that \n",
    "### $$|a_n-a_{n+k}|<\\varepsilon$$\n",
    "\n",
    "Let's estimate from above\n",
    "\n",
    "### $$|a_n-a_{n+k}|=\\Bigl|\\frac{1}{2^n}-\\frac{1}{2^{n+k}}\\Bigr|=$$\n",
    "\n",
    "### $$=\\frac{1}{2^n}\\Bigl|1-\\frac{1}{2^{k}}\\Bigr|<\\frac{1}{2^n}<\\frac{1}{2^{N(\\varepsilon)}}=\\varepsilon$$\n",
    "\n",
    "The fact that we were able to find a relationship between $N(\\varepsilon)$ already says that a limit exists.\n",
    "\n",
    "Let's express $N(\\varepsilon)$ so that we can see that the formula is true when $\\forall\\varepsilon>0$.\n",
    "\n",
    "### $$\\frac{1}{2^{N(\\varepsilon)}}=\\varepsilon \\,\\,\\,\\Rightarrow\\,\\,\\, 2^{N(\\varepsilon)}=\\frac{1}{\\varepsilon}\\,\\,\\,\\Rightarrow\\,\\,\\, N(\\varepsilon)=-\\log_2 \\varepsilon$$\n",
    "\n",
    "How do we treat this from a programming point of view?  \n",
    "\n",
    "$\\varepsilon$ is a measurement error. The point is that whatever error we set with you, we can always find the number $N$. After which all terms of the sequence $a_n$ will be close to the limit."
   ]
  },
  {
   "cell_type": "code",
   "execution_count": null,
   "metadata": {
    "id": "FSegBI93I9Tw",
    "outputId": "d77e04d9-cedc-462d-efd3-12962e2abceb"
   },
   "outputs": [
    {
     "name": "stdout",
     "output_type": "stream",
     "text": [
      "eps=1e-08 N=26.5754247590989\n",
      "a_27=7.450580596923828e-09\n"
     ]
    }
   ],
   "source": [
    "import math\n",
    "eps = 0.00000001\n",
    "N = -math.log(eps,2)\n",
    "\n",
    "print (f'eps={eps}', f'N={N}')\n",
    "\n",
    "n = int(N+1)\n",
    "\n",
    "print (f'a_{n}={1/2**n}')"
   ]
  },
  {
   "cell_type": "markdown",
   "metadata": {
    "id": "4NHWO97zI9Tx"
   },
   "source": [
    "This epsilon is also used to compare values if we are not sure if the calculations are correct. How does the answer come out of running the code?"
   ]
  },
  {
   "cell_type": "code",
   "execution_count": null,
   "metadata": {
    "id": "w6-hWPuaI9Tz",
    "outputId": "91e1c243-9185-46e7-bdc8-318783b60bd6"
   },
   "outputs": [
    {
     "name": "stdout",
     "output_type": "stream",
     "text": [
      "4.0\n",
      "True\n"
     ]
    }
   ],
   "source": [
    "a = 16**(1/2) # must be 4\n",
    "b = 4\n",
    "print (a)\n",
    "if a == b:\n",
    "    print (True)\n",
    "else:\n",
    "    print (False)"
   ]
  },
  {
   "cell_type": "code",
   "execution_count": null,
   "metadata": {
    "id": "9WraMUG9I9T0",
    "outputId": "f3d16613-f55b-4d92-a7f2-4788b1cf9e90"
   },
   "outputs": [
    {
     "name": "stdout",
     "output_type": "stream",
     "text": [
      "3.9999999999999996\n",
      "False\n"
     ]
    }
   ],
   "source": [
    "a = 8**(2/3) # must be 4\n",
    "b = 4\n",
    "print (a)\n",
    "if a == b:\n",
    "    print (True)\n",
    "else:\n",
    "    print (False)"
   ]
  },
  {
   "cell_type": "code",
   "execution_count": null,
   "metadata": {
    "id": "Upu-Xl8EI9T1",
    "outputId": "8b228326-1ae7-49c5-f1e9-37419c46ae92"
   },
   "outputs": [
    {
     "name": "stdout",
     "output_type": "stream",
     "text": [
      "True\n"
     ]
    }
   ],
   "source": [
    "eps = 0.0000001\n",
    "\n",
    "a = 8**(2/3) # must be 4\n",
    "b = 4\n",
    "if abs(a-b) < eps:\n",
    "    print (True)\n",
    "else:\n",
    "    print (False)"
   ]
  },
  {
   "cell_type": "markdown",
   "metadata": {
    "id": "Tn9uXxbFI9T2"
   },
   "source": [
    "There are problems where it is known in advance that a sequence has a limit. But it is hard to calculate it analytically, so we can use an algorithm similar to Cauchy's criterion.\n",
    "\n",
    "Let's take a convergent sequence\n",
    "\n",
    "### $$a_n=\\frac{n^2+1}{2n^2+3n+2}\\,\\,\\,\\,\\,\\Rightarrow\\,\\,\\,\\,\\,\\Bigl\\{a_n\\Bigr\\}_{n=1}^\\infty=\\Bigl\\{\\frac{2}{7}, \\frac{5}{16}, \\frac{10}{29}, \\frac{17}{46}, ..., \\frac{n^2+1}{2n^2+3n+2},...\\Bigr\\}$$\n",
    "\n",
    "Find its limit with a given precision (these cases are the precision between neighbouring members of the sequence, not between members and the limit itself)."
   ]
  },
  {
   "cell_type": "code",
   "execution_count": null,
   "metadata": {
    "id": "O1c9AUufI9T3",
    "outputId": "62e8932e-4ce3-4260-cceb-55f38f9fa05e"
   },
   "outputs": [
    {
     "name": "stdout",
     "output_type": "stream",
     "text": [
      "Численное значение предела: 0.49999972609978693\n",
      " Погрешность: 9.997558336749535e-14\n",
      " Число шагов: 2738222\n"
     ]
    }
   ],
   "source": [
    "eps = 0.0000000000001\n",
    "lim=1\n",
    "\n",
    "n = 2\n",
    "a2=2/7\n",
    "\n",
    "while lim > eps:\n",
    "    a1 = a2\n",
    "    a2 = (n**2+1)/(2*n**2+3*n+2)\n",
    "    lim = abs(a1-a2)\n",
    "    n += 1\n",
    "print (f'Численное значение предела: {a2}\\n',f'Погрешность: {lim}\\n', f'Число шагов: {n-1}')\n"
   ]
  },
  {
   "cell_type": "markdown",
   "metadata": {
    "id": "geewMHelI9T5"
   },
   "source": [
    "The limit should have been $0.5$. We see that the numerical value of the limit differs from the limit itself by more than $\\varepsilon$"
   ]
  },
  {
   "cell_type": "markdown",
   "metadata": {
    "id": "5R7k5utyI9T5"
   },
   "source": [
    "### Note \n",
    "\n",
    "Let's look again at the Cauchy convergence criterion\n",
    "\n",
    "### $$\\forall\\varepsilon>0\\,\\,\\,\\exists N(\\varepsilon), \\,\\,\\,\\forall n>N(\\varepsilon)\\,\\,\\,\\forall k\\geq1:|a_n-a_{n+k}|<\\varepsilon$$\n",
    "\n",
    "We can easily make the opposite statement using de Morgan's laws\n",
    "\n",
    "### $$\\exists\\varepsilon>0\\,\\,\\,\\forall N(\\varepsilon), \\,\\,\\,\\exists n>N(\\varepsilon)\\,\\,\\,\\exists k\\geq1:|a_n-a_{n+k}|\\geq\\varepsilon$$\n",
    "\n",
    "We have a new expression called the Cauchy divergence criterion. It is used to prove that a sequence has a limit of $\\pm\\infty$.\n"
   ]
  },
  {
   "cell_type": "markdown",
   "metadata": {
    "id": "PDMWLdk8I9T6"
   },
   "source": [
    "### Examples of analytical sequence limit calculations\n",
    "\n",
    "#### Degrees\n",
    "\n",
    "1. \n",
    "### $$\\lim_{n\\to \\infty} \\frac{10000n}{n^2+1}=\\Bigl(\\frac{\\infty}{\\infty}\\Bigr)$$\n",
    "\n",
    "The first thing to do is to always check the limit value. In this example, when substituting infinity for $n$ we get with you the simplest type of uncertainty $\\Bigl(\\frac{\\infty}{\\infty}\\Bigr)$. \n",
    "\n",
    "In our example there are only degrees, so the rule for calculating the limit is quite simple:\n",
    "\n",
    "- if the maximum degree of the numerator is less than the maximum degree of the denominator, the limit is $0$; \n",
    "- if the maximum power of the numerator is greater than the maximum power of the denominator, then the limit is $\\pm\\infty$; \n",
    "- if the maximum degree of the numerator is equal to the maximum degree of the denominator, then the limit is equal to the coefficients at these degrees.\n",
    "\n",
    "### $$\\lim_{n\\to \\infty} \\frac{10000n}{n^2+1}=\\Bigl(\\frac{\\infty}{\\infty}\\Bigr)=0$$"
   ]
  },
  {
   "cell_type": "markdown",
   "metadata": {
    "id": "vGwn2rVYI9T7"
   },
   "source": [
    "2. \n",
    "### $$\\lim_{n\\to \\infty} \\frac{\\sqrt[3]{n^2}\\sin{(1000000n)}}{n+1}=\\Bigl(\\frac{\\infty}{\\infty}\\Bigr)$$\n",
    "\n",
    "In this example $\\sqrt[3]{n^2}=n^\\frac{2}{3}$. That is, the maximum degree of the numerator is less than the maximum degree of the denominator. However, $\\sin{(1000000n)}$ can be ignored, i.e. at $n\\to \\infty$ it is just some bounded value in the interval $[-1,1]$.\n",
    "\n",
    "### $$\\lim_{n\\to \\infty} \\frac{\\sqrt[3]{n^2}\\sin{(1000000n)}}{n+1}=\\Bigl(\\frac{\\infty}{\\infty}\\Bigr)=0$$\n"
   ]
  },
  {
   "cell_type": "markdown",
   "metadata": {
    "id": "22k-CceDI9T8"
   },
   "source": [
    "3. \n",
    "### $$\\lim_{n\\to \\infty} \\frac{2n^2-9}{3n^2+n+1}=\\Bigl(\\frac{\\infty}{\\infty}\\Bigr)$$\n",
    "\n",
    "In this example, the maximum degree of the numerator is equal to the maximum degree of the denominator. For some people, it is clearer if you take these maximal degrees out of the parentheses. But I don't recommend doing this with large examples.\n",
    "\n",
    "### $$\\lim_{n\\to \\infty} \\frac{2n^2-9}{3n^2+n+1}=\\Bigl(\\frac{\\infty}{\\infty}\\Bigr)=\\lim_{n\\to \\infty} \\frac{n^2(2-\\frac{9}{n^2})}{n^2(3+\\frac{1}{n}+\\frac{1}{n^2})}=$$\n",
    "\n",
    "### $$=\\lim_{n\\to \\infty} \\frac{2-\\frac{9}{n^2}}{3+\\frac{1}{n}+\\frac{1}{n^2}}=\\frac{2}{3}$$"
   ]
  },
  {
   "cell_type": "markdown",
   "metadata": {
    "id": "t2LdR6KQI9T8"
   },
   "source": [
    "4. \n",
    "### $$\\lim_{n\\to \\infty} \\frac{(1-2n)^2}{(2-n)(5n-1)}=\\Bigl(\\frac{\\infty}{\\infty}\\Bigr)$$\n",
    "\n",
    "It is sufficient to check whether or not the maximal degrees are equal and write down the answer\n",
    "\n",
    "### $$\\lim_{n\\to \\infty} \\frac{(1-2n)^2}{(2-n)(5n-1)}=\\Bigl(\\frac{\\infty}{\\infty}\\Bigr)=\\frac{(-2)^2}{-1\\cdot5}=-\\frac{4}{5}$$"
   ]
  },
  {
   "cell_type": "markdown",
   "metadata": {
    "id": "4qbsQPRkI9T9"
   },
   "source": [
    "5. \n",
    "### $$\\lim_{n\\to \\infty} (\\sqrt{n+1}-\\sqrt{n})=(\\infty-\\infty)$$\n",
    "\n",
    "The second most complex type of uncertainty is the uncertainty $(\\infty-\\infty)$. It usually occurs as an irrational expression and is reduced to an uncertainty $\\Bigl(\\frac{\\infty}{\\infty}\\Bigr)$ by multiplication and division by a conjugate expression.\n",
    "\n",
    "### $$\\lim_{n\\to \\infty} (\\sqrt{n+1}-\\sqrt{n})=(\\infty-\\infty)=$$\n",
    "\n",
    "### $$=\\lim_{n\\to \\infty} (\\sqrt{n+1}-\\sqrt{n})\\cdot\\frac{\\sqrt{n+1}+\\sqrt{n}}{\\sqrt{n+1}+\\sqrt{n}}=$$\n",
    "\n",
    "### $$=\\lim_{n\\to \\infty} \\frac{n+1-n}{\\sqrt{n+1}+\\sqrt{n}}=$$\n",
    "\n",
    "### $$=\\lim_{n\\to \\infty} \\frac{1}{\\sqrt{n+1}+\\sqrt{n}}=\\Bigl(\\frac{1}{\\infty}\\Bigr)=0$$\n"
   ]
  },
  {
   "cell_type": "markdown",
   "metadata": {
    "id": "IHKxbLvJI9T9"
   },
   "source": [
    "#### Indicators\n",
    "\n",
    "6. \n",
    "### $$\\lim_{n\\to \\infty} \\frac{3^n}{3^{n+1}}=\\Bigl(\\frac{\\infty}{\\infty}\\Bigr)$$\n",
    "\n",
    "The rule for limits with indicators is different. In this example\n",
    "\n",
    "### $$\\frac{3^n}{3^{n+1}}=\\frac{3^n}{3^n\\cdot3}=\\frac{1}{3}$$\n",
    "\n",
    "### $$\\lim_{n\\to \\infty} \\frac{3^n}{3^{n+1}}=\\Bigl(\\frac{\\infty}{\\infty}\\Bigr)=\\frac{1}{3}$$\n",
    "\n",
    "In these examples, you should already be looking at the base and not the degree."
   ]
  },
  {
   "cell_type": "markdown",
   "metadata": {
    "id": "51_CepgqI9T-"
   },
   "source": [
    "7. \n",
    "### $$\\lim_{n\\to \\infty} \\frac{2^n}{3^n}=\\Bigl(\\frac{\\infty}{\\infty}\\Bigr)$$\n",
    "\n",
    "In this example, the numerator base is smaller than the denominator, so\n",
    "\n",
    "### $$\\lim_{n\\to \\infty} \\frac{2^n}{3^n}=\\Bigl(\\frac{\\infty}{\\infty}\\Bigr)=\\lim_{n\\to \\infty} \\Bigl(\\frac{2}{3}\\Bigr)^n=0$$"
   ]
  },
  {
   "cell_type": "markdown",
   "metadata": {
    "id": "_D11TpVRI9T_"
   },
   "source": [
    "8. \n",
    "### $$\\lim_{n\\to \\infty} \\frac{(-2)^n+3^n}{(-2)^{n+1}+3^{n+1}}=\\Bigl(\\frac{\\infty}{\\infty}\\Bigr)$$\n",
    "\n",
    "In this example, it is sufficient to put the maximum modulo base out of the bracket.\n",
    "\n",
    "### $$\\lim_{n\\to \\infty} \\frac{(-2)^n+3^n}{(-2)^{n+1}+3^{n+1}}=\\Bigl(\\frac{\\infty}{\\infty}\\Bigr)=$$\n",
    "\n",
    "### $$=\\lim_{n\\to \\infty} \\frac{3^n\\Bigl(\\Bigl(-\\frac{2}{3}\\Bigr)^n+1\\Bigr)}{3^n\\Bigl(-2\\Bigl(-\\frac{2}{3}\\Bigr)^n+3\\Bigr)}=\\frac{1}{3}$$\n",
    "\n",
    "These same limits can also be found analytically using the sympy library\n"
   ]
  },
  {
   "cell_type": "code",
   "execution_count": null,
   "metadata": {
    "id": "xLS6YCdJI9T_"
   },
   "outputs": [],
   "source": [
    "from sympy import *\n",
    "init_printing()"
   ]
  },
  {
   "cell_type": "code",
   "execution_count": null,
   "metadata": {
    "id": "0ERS7dE_I9UA",
    "outputId": "a770997f-c830-4879-8142-2d14db1f079e"
   },
   "outputs": [
    {
     "data": {
      "image/png": "[encoded data removed]",
      "text/latex": [
       "$\\displaystyle a + b$"
      ],
      "text/plain": [
       "a + b"
      ]
     },
     "execution_count": 20,
     "metadata": {
      "tags": []
     },
     "output_type": "execute_result"
    }
   ],
   "source": [
    "a=Symbol('a') # for one variable Symbol\n",
    "b=Symbol('b')\n",
    "x=a+b\n",
    "x"
   ]
  },
  {
   "cell_type": "code",
   "execution_count": null,
   "metadata": {
    "id": "yN8FkXWXI9UB",
    "outputId": "97dec0a8-4a35-4a28-e894-dfabec6cc692"
   },
   "outputs": [
    {
     "data": {
      "image/png": "[encoded data removed]",
      "text/latex": [
       "$\\displaystyle a + \\left(c + d\\right)^{2}$"
      ],
      "text/plain": [
       "           2\n",
       "a + (c + d) "
      ]
     },
     "execution_count": 22,
     "metadata": {
      "tags": []
     },
     "output_type": "execute_result"
    }
   ],
   "source": [
    "c,d=symbols('c d') # for multiple variables symbols\n",
    "y = x.subs(b,(c+d)**2) \n",
    "y"
   ]
  },
  {
   "cell_type": "code",
   "execution_count": null,
   "metadata": {
    "id": "752HmcMII9UC",
    "outputId": "a4268dd5-0a48-4316-9927-32a00e4d034d"
   },
   "outputs": [
    {
     "data": {
      "image/png": "[encoded data removed]",
      "text/latex": [
       "$\\displaystyle a + b$"
      ],
      "text/plain": [
       "a + b"
      ]
     },
     "execution_count": 23,
     "metadata": {
      "tags": []
     },
     "output_type": "execute_result"
    }
   ],
   "source": [
    "x.expand(a) # х didn't change"
   ]
  },
  {
   "cell_type": "code",
   "execution_count": null,
   "metadata": {
    "id": "otJWRkcgI9UD",
    "outputId": "779e732f-e348-4408-b3dd-fbff1b949a7b"
   },
   "outputs": [
    {
     "data": {
      "image/png": "[encoded data removed]",
      "text/latex": [
       "$\\displaystyle a + c^{2} + 2 c d + d^{2}$"
      ],
      "text/plain": [
       "     2            2\n",
       "a + c  + 2⋅c⋅d + d "
      ]
     },
     "execution_count": 24,
     "metadata": {
      "tags": []
     },
     "output_type": "execute_result"
    }
   ],
   "source": [
    "y.expand(a)"
   ]
  },
  {
   "cell_type": "code",
   "execution_count": null,
   "metadata": {
    "id": "hz-Raq_3I9UD",
    "outputId": "3eaff65b-1f8a-486b-9c63-bbfa4c8c405d"
   },
   "outputs": [
    {
     "data": {
      "image/png": "[encoded data removed]",
      "text/latex": [
       "$\\displaystyle 7$"
      ],
      "text/plain": [
       "7"
      ]
     },
     "execution_count": 25,
     "metadata": {
      "tags": []
     },
     "output_type": "execute_result"
    }
   ],
   "source": [
    "z=y.subs({a:3,c:d, d:1}) # we can also use numbers\n",
    "z"
   ]
  },
  {
   "cell_type": "code",
   "execution_count": null,
   "metadata": {
    "id": "a3IDRAS4I9UE",
    "outputId": "aa0ad560-e5e7-4978-f4c9-c8a523535e81"
   },
   "outputs": [
    {
     "name": "stdout",
     "output_type": "stream",
     "text": [
      "<class 'sympy.core.numbers.Integer'>\n",
      "<class 'sympy.core.numbers.One'>\n",
      "<class 'sympy.core.numbers.Float'>\n",
      "<class 'float'>\n"
     ]
    }
   ],
   "source": [
    "print (type(z))\n",
    "print (type(7/z))\n",
    "print (type(7.0/z))\n",
    "print (type(float(7.0/z)))"
   ]
  },
  {
   "cell_type": "code",
   "execution_count": null,
   "metadata": {
    "id": "jtdd7K4wI9UF",
    "outputId": "d4692b6f-0cab-4ea4-e5ba-aea530d8f274"
   },
   "outputs": [
    {
     "data": {
      "image/png": "[encoded data removed]",
      "text/latex": [
       "$\\displaystyle \\frac{2 n^{2} - 9}{3 n^{2} + n + 1}$"
      ],
      "text/plain": [
       "     2      \n",
       "  2⋅n  - 9  \n",
       "────────────\n",
       "   2        \n",
       "3⋅n  + n + 1"
      ]
     },
     "execution_count": 3,
     "metadata": {
      "tags": []
     },
     "output_type": "execute_result"
    }
   ],
   "source": [
    "n=Symbol('n')\n",
    "a=(2*n**2-9)/(3*n**2+n+1)\n",
    "a"
   ]
  },
  {
   "cell_type": "code",
   "execution_count": null,
   "metadata": {
    "id": "GQAbjagjI9UF",
    "outputId": "383bf225-0780-43e1-ee7b-32b34abb2248"
   },
   "outputs": [
    {
     "data": {
      "image/png": "[encoded data removed]",
      "text/latex": [
       "$\\displaystyle \\frac{2}{3}$"
      ],
      "text/plain": [
       "2/3"
      ]
     },
     "execution_count": 14,
     "metadata": {
      "tags": []
     },
     "output_type": "execute_result"
    }
   ],
   "source": [
    "limit (a,n,oo)"
   ]
  },
  {
   "cell_type": "markdown",
   "metadata": {
    "id": "qHy4Ft6MI9UG"
   },
   "source": [
    "The library failed to cope with the last example, though"
   ]
  },
  {
   "cell_type": "code",
   "execution_count": null,
   "metadata": {
    "id": "7Rryn_M8I9UG",
    "outputId": "643a26bd-9116-4fd8-f86c-d0d8bc972433"
   },
   "outputs": [
    {
     "data": {
      "image/png": "[encoded data removed]",
      "text/latex": [
       "$\\displaystyle \\frac{\\left(-2\\right)^{n} + 3^{n}}{\\left(-2\\right)^{n + 1} + 3^{n + 1}}$"
      ],
      "text/plain": [
       "        n    n    \n",
       "    (-2)  + 3     \n",
       "──────────────────\n",
       "    n + 1    n + 1\n",
       "(-2)      + 3     "
      ]
     },
     "execution_count": 15,
     "metadata": {
      "tags": []
     },
     "output_type": "execute_result"
    }
   ],
   "source": [
    "n=Symbol('n')\n",
    "b=((-2)**n+3**n)/((-2)**(n+1)+3**(n+1))\n",
    "b"
   ]
  },
  {
   "cell_type": "code",
   "execution_count": null,
   "metadata": {
    "id": "uYYL4EHrI9UH",
    "outputId": "1de2e822-26c3-42b9-fd93-5800027af570"
   },
   "outputs": [
    {
     "ename": "NotImplementedError",
     "evalue": "Result depends on the sign of sign(log(2) + I*pi)",
     "output_type": "error",
     "traceback": [
      "\u001b[1;31m---------------------------------------------------------------------------\u001b[0m",
      "\u001b[1;31mNotImplementedError\u001b[0m                       Traceback (most recent call last)",
      "\u001b[1;32m<ipython-input-16-c9f8d0375cf9>\u001b[0m in \u001b[0;36m<module>\u001b[1;34m\u001b[0m\n\u001b[1;32m----> 1\u001b[1;33m \u001b[0mlimit\u001b[0m \u001b[1;33m(\u001b[0m\u001b[0mb\u001b[0m\u001b[1;33m,\u001b[0m\u001b[0mn\u001b[0m\u001b[1;33m,\u001b[0m\u001b[0moo\u001b[0m\u001b[1;33m)\u001b[0m\u001b[1;33m\u001b[0m\u001b[1;33m\u001b[0m\u001b[0m\n\u001b[0m",
      "\u001b[1;32m~\\Anaconda3\\lib\\site-packages\\sympy\\series\\limits.py\u001b[0m in \u001b[0;36mlimit\u001b[1;34m(e, z, z0, dir)\u001b[0m\n\u001b[0;32m     80\u001b[0m                     % (llim, rlim))\n\u001b[0;32m     81\u001b[0m     \u001b[1;32melse\u001b[0m\u001b[1;33m:\u001b[0m\u001b[1;33m\u001b[0m\u001b[1;33m\u001b[0m\u001b[0m\n\u001b[1;32m---> 82\u001b[1;33m         \u001b[1;32mreturn\u001b[0m \u001b[0mLimit\u001b[0m\u001b[1;33m(\u001b[0m\u001b[0me\u001b[0m\u001b[1;33m,\u001b[0m \u001b[0mz\u001b[0m\u001b[1;33m,\u001b[0m \u001b[0mz0\u001b[0m\u001b[1;33m,\u001b[0m \u001b[0mdir\u001b[0m\u001b[1;33m)\u001b[0m\u001b[1;33m.\u001b[0m\u001b[0mdoit\u001b[0m\u001b[1;33m(\u001b[0m\u001b[0mdeep\u001b[0m\u001b[1;33m=\u001b[0m\u001b[1;32mFalse\u001b[0m\u001b[1;33m)\u001b[0m\u001b[1;33m\u001b[0m\u001b[1;33m\u001b[0m\u001b[0m\n\u001b[0m\u001b[0;32m     83\u001b[0m \u001b[1;33m\u001b[0m\u001b[0m\n\u001b[0;32m     84\u001b[0m \u001b[1;33m\u001b[0m\u001b[0m\n",
      "\u001b[1;32m~\\Anaconda3\\lib\\site-packages\\sympy\\series\\limits.py\u001b[0m in \u001b[0;36mdoit\u001b[1;34m(self, **hints)\u001b[0m\n\u001b[0;32m    261\u001b[0m \u001b[1;33m\u001b[0m\u001b[0m\n\u001b[0;32m    262\u001b[0m         \u001b[1;32mtry\u001b[0m\u001b[1;33m:\u001b[0m\u001b[1;33m\u001b[0m\u001b[1;33m\u001b[0m\u001b[0m\n\u001b[1;32m--> 263\u001b[1;33m             \u001b[0mr\u001b[0m \u001b[1;33m=\u001b[0m \u001b[0mgruntz\u001b[0m\u001b[1;33m(\u001b[0m\u001b[0me\u001b[0m\u001b[1;33m,\u001b[0m \u001b[0mz\u001b[0m\u001b[1;33m,\u001b[0m \u001b[0mz0\u001b[0m\u001b[1;33m,\u001b[0m \u001b[0mdir\u001b[0m\u001b[1;33m)\u001b[0m\u001b[1;33m\u001b[0m\u001b[1;33m\u001b[0m\u001b[0m\n\u001b[0m\u001b[0;32m    264\u001b[0m             \u001b[1;32mif\u001b[0m \u001b[0mr\u001b[0m \u001b[1;32mis\u001b[0m \u001b[0mS\u001b[0m\u001b[1;33m.\u001b[0m\u001b[0mNaN\u001b[0m\u001b[1;33m:\u001b[0m\u001b[1;33m\u001b[0m\u001b[1;33m\u001b[0m\u001b[0m\n\u001b[0;32m    265\u001b[0m                 \u001b[1;32mraise\u001b[0m \u001b[0mPoleError\u001b[0m\u001b[1;33m(\u001b[0m\u001b[1;33m)\u001b[0m\u001b[1;33m\u001b[0m\u001b[1;33m\u001b[0m\u001b[0m\n",
      "\u001b[1;32m~\\Anaconda3\\lib\\site-packages\\sympy\\series\\gruntz.py\u001b[0m in \u001b[0;36mgruntz\u001b[1;34m(e, z, z0, dir)\u001b[0m\n\u001b[0;32m    644\u001b[0m     \u001b[0mr\u001b[0m \u001b[1;33m=\u001b[0m \u001b[1;32mNone\u001b[0m\u001b[1;33m\u001b[0m\u001b[1;33m\u001b[0m\u001b[0m\n\u001b[0;32m    645\u001b[0m     \u001b[1;32mif\u001b[0m \u001b[0mz0\u001b[0m \u001b[1;33m==\u001b[0m \u001b[0moo\u001b[0m\u001b[1;33m:\u001b[0m\u001b[1;33m\u001b[0m\u001b[1;33m\u001b[0m\u001b[0m\n\u001b[1;32m--> 646\u001b[1;33m         \u001b[0mr\u001b[0m \u001b[1;33m=\u001b[0m \u001b[0mlimitinf\u001b[0m\u001b[1;33m(\u001b[0m\u001b[0me\u001b[0m\u001b[1;33m,\u001b[0m \u001b[0mz\u001b[0m\u001b[1;33m)\u001b[0m\u001b[1;33m\u001b[0m\u001b[1;33m\u001b[0m\u001b[0m\n\u001b[0m\u001b[0;32m    647\u001b[0m     \u001b[1;32melif\u001b[0m \u001b[0mz0\u001b[0m \u001b[1;33m==\u001b[0m \u001b[1;33m-\u001b[0m\u001b[0moo\u001b[0m\u001b[1;33m:\u001b[0m\u001b[1;33m\u001b[0m\u001b[1;33m\u001b[0m\u001b[0m\n\u001b[0;32m    648\u001b[0m         \u001b[0mr\u001b[0m \u001b[1;33m=\u001b[0m \u001b[0mlimitinf\u001b[0m\u001b[1;33m(\u001b[0m\u001b[0me\u001b[0m\u001b[1;33m.\u001b[0m\u001b[0msubs\u001b[0m\u001b[1;33m(\u001b[0m\u001b[0mz\u001b[0m\u001b[1;33m,\u001b[0m \u001b[1;33m-\u001b[0m\u001b[0mz\u001b[0m\u001b[1;33m)\u001b[0m\u001b[1;33m,\u001b[0m \u001b[0mz\u001b[0m\u001b[1;33m)\u001b[0m\u001b[1;33m\u001b[0m\u001b[1;33m\u001b[0m\u001b[0m\n",
      "\u001b[1;32m~\\Anaconda3\\lib\\site-packages\\sympy\\series\\gruntz.py\u001b[0m in \u001b[0;36mlimitinf\u001b[1;34m(e, x)\u001b[0m\n\u001b[0;32m    424\u001b[0m         \u001b[0me\u001b[0m \u001b[1;33m=\u001b[0m \u001b[0me\u001b[0m\u001b[1;33m.\u001b[0m\u001b[0msubs\u001b[0m\u001b[1;33m(\u001b[0m\u001b[0mx\u001b[0m\u001b[1;33m,\u001b[0m \u001b[0mp\u001b[0m\u001b[1;33m)\u001b[0m\u001b[1;33m\u001b[0m\u001b[1;33m\u001b[0m\u001b[0m\n\u001b[0;32m    425\u001b[0m         \u001b[0mx\u001b[0m \u001b[1;33m=\u001b[0m \u001b[0mp\u001b[0m\u001b[1;33m\u001b[0m\u001b[1;33m\u001b[0m\u001b[0m\n\u001b[1;32m--> 426\u001b[1;33m     \u001b[0mc0\u001b[0m\u001b[1;33m,\u001b[0m \u001b[0me0\u001b[0m \u001b[1;33m=\u001b[0m \u001b[0mmrv_leadterm\u001b[0m\u001b[1;33m(\u001b[0m\u001b[0me\u001b[0m\u001b[1;33m,\u001b[0m \u001b[0mx\u001b[0m\u001b[1;33m)\u001b[0m\u001b[1;33m\u001b[0m\u001b[1;33m\u001b[0m\u001b[0m\n\u001b[0m\u001b[0;32m    427\u001b[0m     \u001b[0msig\u001b[0m \u001b[1;33m=\u001b[0m \u001b[0msign\u001b[0m\u001b[1;33m(\u001b[0m\u001b[0me0\u001b[0m\u001b[1;33m,\u001b[0m \u001b[0mx\u001b[0m\u001b[1;33m)\u001b[0m\u001b[1;33m\u001b[0m\u001b[1;33m\u001b[0m\u001b[0m\n\u001b[0;32m    428\u001b[0m     \u001b[1;32mif\u001b[0m \u001b[0msig\u001b[0m \u001b[1;33m==\u001b[0m \u001b[1;36m1\u001b[0m\u001b[1;33m:\u001b[0m\u001b[1;33m\u001b[0m\u001b[1;33m\u001b[0m\u001b[0m\n",
      "\u001b[1;32m~\\Anaconda3\\lib\\site-packages\\sympy\\series\\gruntz.py\u001b[0m in \u001b[0;36mmrv_leadterm\u001b[1;34m(e, x)\u001b[0m\n\u001b[0;32m    508\u001b[0m     \u001b[1;31m#\u001b[0m\u001b[1;33m\u001b[0m\u001b[1;33m\u001b[0m\u001b[1;33m\u001b[0m\u001b[0m\n\u001b[0;32m    509\u001b[0m     \u001b[0mw\u001b[0m \u001b[1;33m=\u001b[0m \u001b[0mDummy\u001b[0m\u001b[1;33m(\u001b[0m\u001b[1;34m\"w\"\u001b[0m\u001b[1;33m,\u001b[0m \u001b[0mreal\u001b[0m\u001b[1;33m=\u001b[0m\u001b[1;32mTrue\u001b[0m\u001b[1;33m,\u001b[0m \u001b[0mpositive\u001b[0m\u001b[1;33m=\u001b[0m\u001b[1;32mTrue\u001b[0m\u001b[1;33m,\u001b[0m \u001b[0mfinite\u001b[0m\u001b[1;33m=\u001b[0m\u001b[1;32mTrue\u001b[0m\u001b[1;33m)\u001b[0m\u001b[1;33m\u001b[0m\u001b[1;33m\u001b[0m\u001b[0m\n\u001b[1;32m--> 510\u001b[1;33m     \u001b[0mf\u001b[0m\u001b[1;33m,\u001b[0m \u001b[0mlogw\u001b[0m \u001b[1;33m=\u001b[0m \u001b[0mrewrite\u001b[0m\u001b[1;33m(\u001b[0m\u001b[0mexps\u001b[0m\u001b[1;33m,\u001b[0m \u001b[0mOmega\u001b[0m\u001b[1;33m,\u001b[0m \u001b[0mx\u001b[0m\u001b[1;33m,\u001b[0m \u001b[0mw\u001b[0m\u001b[1;33m)\u001b[0m\u001b[1;33m\u001b[0m\u001b[1;33m\u001b[0m\u001b[0m\n\u001b[0m\u001b[0;32m    511\u001b[0m     \u001b[0mseries\u001b[0m \u001b[1;33m=\u001b[0m \u001b[0mcalculate_series\u001b[0m\u001b[1;33m(\u001b[0m\u001b[0mf\u001b[0m\u001b[1;33m,\u001b[0m \u001b[0mw\u001b[0m\u001b[1;33m,\u001b[0m \u001b[0mlogx\u001b[0m\u001b[1;33m=\u001b[0m\u001b[0mlogw\u001b[0m\u001b[1;33m)\u001b[0m\u001b[1;33m\u001b[0m\u001b[1;33m\u001b[0m\u001b[0m\n\u001b[0;32m    512\u001b[0m     \u001b[1;32mreturn\u001b[0m \u001b[0mseries\u001b[0m\u001b[1;33m.\u001b[0m\u001b[0mleadterm\u001b[0m\u001b[1;33m(\u001b[0m\u001b[0mw\u001b[0m\u001b[1;33m)\u001b[0m\u001b[1;33m\u001b[0m\u001b[1;33m\u001b[0m\u001b[0m\n",
      "\u001b[1;32m~\\Anaconda3\\lib\\site-packages\\sympy\\series\\gruntz.py\u001b[0m in \u001b[0;36mrewrite\u001b[1;34m(e, Omega, x, wsym)\u001b[0m\n\u001b[0;32m    580\u001b[0m         \u001b[0msig\u001b[0m \u001b[1;33m=\u001b[0m \u001b[0msign\u001b[0m\u001b[1;33m(\u001b[0m\u001b[0mg\u001b[0m\u001b[1;33m.\u001b[0m\u001b[0margs\u001b[0m\u001b[1;33m[\u001b[0m\u001b[1;36m0\u001b[0m\u001b[1;33m]\u001b[0m\u001b[1;33m,\u001b[0m \u001b[0mx\u001b[0m\u001b[1;33m)\u001b[0m\u001b[1;33m\u001b[0m\u001b[1;33m\u001b[0m\u001b[0m\n\u001b[0;32m    581\u001b[0m         \u001b[1;32mif\u001b[0m \u001b[0msig\u001b[0m \u001b[1;33m!=\u001b[0m \u001b[1;36m1\u001b[0m \u001b[1;32mand\u001b[0m \u001b[0msig\u001b[0m \u001b[1;33m!=\u001b[0m \u001b[1;33m-\u001b[0m\u001b[1;36m1\u001b[0m\u001b[1;33m:\u001b[0m\u001b[1;33m\u001b[0m\u001b[1;33m\u001b[0m\u001b[0m\n\u001b[1;32m--> 582\u001b[1;33m             \u001b[1;32mraise\u001b[0m \u001b[0mNotImplementedError\u001b[0m\u001b[1;33m(\u001b[0m\u001b[1;34m'Result depends on the sign of %s'\u001b[0m \u001b[1;33m%\u001b[0m \u001b[0msig\u001b[0m\u001b[1;33m)\u001b[0m\u001b[1;33m\u001b[0m\u001b[1;33m\u001b[0m\u001b[0m\n\u001b[0m\u001b[0;32m    583\u001b[0m     \u001b[1;32mif\u001b[0m \u001b[0msig\u001b[0m \u001b[1;33m==\u001b[0m \u001b[1;36m1\u001b[0m\u001b[1;33m:\u001b[0m\u001b[1;33m\u001b[0m\u001b[1;33m\u001b[0m\u001b[0m\n\u001b[0;32m    584\u001b[0m         \u001b[0mwsym\u001b[0m \u001b[1;33m=\u001b[0m \u001b[1;36m1\u001b[0m\u001b[1;33m/\u001b[0m\u001b[0mwsym\u001b[0m  \u001b[1;31m# if g goes to oo, substitute 1/w\u001b[0m\u001b[1;33m\u001b[0m\u001b[1;33m\u001b[0m\u001b[0m\n",
      "\u001b[1;31mNotImplementedError\u001b[0m: Result depends on the sign of sign(log(2) + I*pi)"
     ]
    }
   ],
   "source": [
    "limit (b,n,oo)"
   ]
  },
  {
   "cell_type": "markdown",
   "metadata": {
    "id": "N3Z7bAd8I9UJ"
   },
   "source": [
    "### Notes\n",
    "\n",
    "What to do if the example contains elements of different types. This is done using trailing equations:\n",
    "\n",
    "### $$1. \\lim_{n\\to \\infty} \\frac{n^k}{a^n}=0 \\,\\,\\,(a>1\\,\\,\\, \\forall k)\\,\\,\\,\\,\\,\\,\\,\\,\\, 2. \\lim_{n\\to \\infty} \\frac{a^n}{n!}=0$$\n",
    "\n",
    "### $$3. \\lim_{n\\to \\infty} nq^n=0 \\,\\,\\,(|q|<1)\\,\\,\\,\\,\\,\\,\\,\\,\\, 4. \\lim_{n\\to \\infty} \\sqrt[n]{a}=1\\,\\,\\,(a>1)$$\n",
    "\n",
    "### $$5. \\lim_{n\\to \\infty} \\frac{\\log_a n}{n}=0 \\,\\,\\,(a>1)\\,\\,\\,\\,\\,\\,\\,\\,\\, 6. \\lim_{n\\to \\infty} \\sqrt[n]{n}=1$$\n",
    "\n",
    "### $$7. \\lim_{n\\to \\infty} \\frac{1}{\\sqrt[n]{n!}}=0$$\n",
    "\n",
    "Let's prove one of these formulas."
   ]
  },
  {
   "cell_type": "markdown",
   "metadata": {
    "id": "CGZyvCxaI9UJ"
   },
   "source": [
    "### The two policemen theorem\n",
    "\n",
    "Suppose three sequences are given \n",
    "\n",
    "### $$\\Bigl\\{a_n\\Bigr\\}_{n=1}^\\infty,\\,\\,\\,\\, \\Bigl\\{b_n\\Bigr\\}_{n=1}^\\infty,\\,\\,\\,\\, \\Bigl\\{c_n\\Bigr\\}_{n=1}^\\infty$$\n",
    "\n",
    "and:\n",
    "\n",
    "### $$1.\\,\\,\\,\\exists \\lim_{n\\to \\infty} a_n=A$$\n",
    "### $$2.\\,\\,\\,\\exists \\lim_{n\\to \\infty} c_n=A$$\n",
    "### $$3.\\,\\,\\,a_n\\leq b_n \\leq c_n$$\n",
    "\n",
    "then \n",
    "\n",
    "### $$\\exists \\lim_{n\\to \\infty} b_n=A$$\n",
    "\n",
    "With the help of this theorem we can just prove the previous equations. Let us prove that\n",
    "\n",
    "### $$\\lim_{n\\to \\infty} \\frac{2^n}{n!}=0$$\n",
    "\n",
    "To do this, all you have to do is make an assessment from below and above:\n",
    "\n",
    "### $$0<\\frac{2^n}{n!}=\\frac{2\\cdot2\\cdot2\\cdot...\\cdot2}{1\\cdot2\\cdot3\\cdot...\\cdot n}=2\\cdot1\\cdot\\frac{2}{3}\\cdot\\frac{2}{4}\\cdot...\\cdot\\frac{2}{n}\\leq2\\cdot\\Bigl(\\frac{2}{3}\\Bigr)^{n-2}\\underset{n\\to \\infty}{=}0$$"
   ]
  },
  {
   "cell_type": "markdown",
   "metadata": {
    "id": "3BBfLJwSI9UK"
   },
   "source": [
    "### Второй замечательный предел (число Эйлера, экспонента)\n",
    "\n",
    "Более подробно решением пределов мы займемся на следующем уроке. В том числе и со вторым замечательным пределом. Сегодня только посмотрим чему он равен.\n",
    "\n",
    "### $$\\lim_{n\\to \\infty} \\Bigr(1+\\frac{1}{n}\\Bigl)^n$$\n",
    "\n",
    "Оценим данную последовательность снизу и сверху.\n",
    "\n",
    "Снизу особо оценивать нечего, т.к. при $n=1$ мы получаем самое маленькое значение равное $2$.\n",
    "\n",
    "###  $$\\Bigr(1+\\frac{1}{n}\\Bigl)^n\\geq2$$\n",
    "\n",
    "Оценим сверху:\n",
    "\n",
    "###  $$\\Bigr(1+\\frac{1}{n}\\Bigl)^n\\leq$$\n",
    "\n",
    "###  $$\\leq1+\\frac{n}{1!}\\cdot\\Bigl(\\frac{1}{n}\\Bigr)^1+\\frac{n(n-1)}{2!}\\cdot\\Bigl(\\frac{1}{n}\\Bigr)^2+\\frac{n(n-1)(n-2)}{3!}\\cdot\\Bigl(\\frac{1}{n}\\Bigr)^3+...=$$\n",
    "\n",
    "###  $$=1+1+\\frac{1}{2!}\\cdot\\frac{n(n-1)}{n\\cdot n}+\\frac{1}{3!}\\cdot\\frac{n(n-1)(n-2)}{n\\cdot n\\cdot n}+...\\underset{n\\to \\infty}{=}$$\n",
    "\n",
    "###  $$\\underset{n\\to \\infty}{=}2+\\frac{1}{2!}+\\frac{1}{3!}+...\\leq$$\n",
    "\n",
    "###  $$\\leq2+\\frac{1}{2}+\\frac{1}{4}+\\frac{1}{8}+...+\\frac{1}{2^n}+...=$$\n",
    "\n",
    "###  $$=2+\\frac{\\frac{1}{2}}{1-\\frac{1}{2}}=2+1=3$$\n",
    "\n",
    "Получается, что значение предела\n",
    "\n",
    "### $$\\lim_{n\\to \\infty} \\Bigr(1+\\frac{1}{n}\\Bigl)^n$$\n",
    "\n",
    "находится грубо в диапазоне $[2,3]$. Вычислить точно значение этого предела невозможно, т.к. оно представляет собой бесконечную непереодичную дробь на подобии числа $\\pi$. Данное число называют числом $e$ - число Эйлера или экспонента. Численно можно найти по следящей формуле:\n",
    "\n",
    "### $$e \\approx 2+\\frac{1}{2!}+\\frac{1}{3!}+\\frac{1}{4!}...$$\n"
   ]
  },
  {
   "cell_type": "markdown",
   "metadata": {
    "id": "aU5YNMH9kVqP"
   },
   "source": [
    "## Практическое задание"
   ]
  },
  {
   "cell_type": "markdown",
   "metadata": {
    "id": "SmdURZ_OkVqQ"
   },
   "source": [
    "__1.__ Найти предел последовательности:\n",
    "\n",
    "### $$а)\\,\\,\\,\\,\\lim_{n\\to \\infty} \\frac{(23-2n^2)(3n^2+17)^2}{4n^6+n-1}$$\n",
    "\n",
    "### $$б)\\,\\,\\,\\,\\lim_{n\\to \\infty} \\frac{(97-2n)^3}{2n(3n^2+15)+8n}$$\n",
    "\n",
    "### $$в)\\,\\,\\,\\,\\lim_{n\\to \\infty} \\frac{2n^3+13n(n+18)}{(27-n)(2n+19)^2}$$\n",
    "\n",
    "### $$г)\\,\\,\\,\\,\\lim_{n\\to \\infty} (\\sqrt{n^2+1}-n)$$\n",
    "\n",
    "### $$д)\\,\\,\\,\\,\\lim_{n\\to \\infty} \\frac{(-4)^n+5\\cdot7^n}{(-4)^{n-1}+7^{n+2}}$$\n",
    "\n",
    "### $$e)^*\\,\\,\\,\\,\\lim_{n\\to \\infty} \\Bigl(\\frac{1}{1\\cdot2}+\\frac{1}{2\\cdot3}+\\frac{1}{3\\cdot4}+...+\\frac{1}{(n-1)\\cdot n}\\Bigr)$$"
   ]
  },
  {
   "cell_type": "markdown",
   "metadata": {
    "id": "U7nB-PQaI9UL"
   },
   "source": [
    "__2.__ Представьте $1$ в виде суммы трех рациональных дробей с разными знаменателями и числителем равным $1$."
   ]
  },
  {
   "cell_type": "markdown",
   "metadata": {
    "id": "tCoNtjxgI9UL"
   },
   "source": [
    "__3$^*$.__ Тоже задание, только в виде суммы шести дробей."
   ]
  },
  {
   "cell_type": "markdown",
   "metadata": {
    "id": "optrtoUHI9UM"
   },
   "source": [
    "__4.__ Пользуясь критерием Коши, докажите сходимость последовательности:\n",
    "\n",
    "### $$a_n=\\frac{\\sin1}{2}+\\frac{\\sin2}{2^2}+\\frac{\\sin3}{2^3}+..\\frac{\\sin n}{2^n}\\,\\,\\,\\,\\,\\Rightarrow$$\n",
    "\n",
    "### $$\\Bigl\\{a_n\\Bigr\\}_{n=1}^\\infty=\\Bigl\\{\\frac{\\sin1}{2}, \\frac{\\sin1}{2}+\\frac{\\sin2}{2^2}, ..., a_n,...\\Bigr\\}$$\n",
    "\n",
    "\n",
    "$^*$ Какой член последовательности можно взять в качестве предела с точностью $\\varepsilon=10^{-7}$?"
   ]
  },
  {
   "cell_type": "markdown",
   "metadata": {
    "id": "a2r-dr5MI9UM"
   },
   "source": [
    "__5$^*$.__  Пользуясь критерием Коши, докажите расходимость последовательности:\n",
    "\n",
    "### $$b_n=1+\\frac{1}{2}+\\frac{1}{3}+..\\frac{1}{n}\\,\\,\\,\\,\\,\\Rightarrow$$\n",
    "\n",
    "### $$\\Bigl\\{b_n\\Bigr\\}_{n=1}^\\infty=\\Bigl\\{1, 1+\\frac{1}{2},1+\\frac{1}{2}+\\frac{1}{3}, ..., b_n,...\\Bigr\\}$$"
   ]
  }
 ],
 "metadata": {
  "colab": {
   "collapsed_sections": [],
   "name": "Lesson_3.ipynb",
   "provenance": []
  },
  "kernelspec": {
   "display_name": "Python 3",
   "language": "python",
   "name": "python3"
  },
  "language_info": {
   "codemirror_mode": {
    "name": "ipython",
    "version": 3
   },
   "file_extension": ".py",
   "mimetype": "text/x-python",
   "name": "python",
   "nbconvert_exporter": "python",
   "pygments_lexer": "ipython3",
   "version": "3.8.5"
  }
 },
 "nbformat": 4,
 "nbformat_minor": 1
}
