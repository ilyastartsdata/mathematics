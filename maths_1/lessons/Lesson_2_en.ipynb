{
 "cells": [
  {
   "cell_type": "markdown",
   "metadata": {
    "id": "zz7SDkPIkVlM"
   },
   "source": [
    "# Lesson 2"
   ]
  },
  {
   "cell_type": "markdown",
   "metadata": {
    "id": "p_3vqG5-kVlP"
   },
   "source": [
    "# Set theory. Mathematical logic."
   ]
  },
  {
   "cell_type": "markdown",
   "metadata": {
    "id": "LCoZbCmdLwIH"
   },
   "source": [
    "Any scientific discipline requires a theory for its study. For mathematical analysis and for any other mathematical discipline, this theory is __set theory__. Historically, mathematical analysis is one of the first disciplines to be studied at universities, so set theory is introduced along with mathematical analysis. \n",
    "\n",
    "We will not make any exceptions."
   ]
  },
  {
   "cell_type": "markdown",
   "metadata": {
    "id": "vInLiJjwLwIL"
   },
   "source": [
    "### What is a theory?"
   ]
  },
  {
   "cell_type": "markdown",
   "metadata": {
    "id": "Brrqr9dzLwIM"
   },
   "source": [
    "Wikipedia says that: \n",
    "\n",
    "A __theory__ is a doctrine, a system of scientific knowledge that describes and explains some set of phenomena and reduces the relationships discovered in a given field, patterned to a single unifying principle.\n",
    "\n",
    "In fact, it is really a system on which scientific works are built, proved and formulated. It is worth noting, however, that the __theory itself cannot be proved or disproved__. It can only be used. As a tool. As a comparison, you can imagine a builder who has many tools in his arsenal. Good or bad. Performing the same functions or unique. Improving over time. \n",
    "\n",
    "Kurt Friedrich Gödel made a major contribution to the modern perception of theories. He put forward and proved the \"incompleteness theorem\" in the 1940s. In layman's terms, he proved that any theory consisting of axioms is incomplete and needs to be tested by a theory of a greater order. \n",
    "\n",
    "This can be compared to measuring the length of a bar with a ruler (a). We will get the answer when we change it, but it will always have an error. Ruler (b), with a smaller division value, will give a more accurate answer, but again it is not perfect. \n",
    "\n",
    "__That is, sooner or later any theory leads to insolubility or contradictions within itself, which requires the development of a new theory or the reinterpretation of an old one.__\n"
   ]
  },
  {
   "cell_type": "markdown",
   "metadata": {
    "id": "eKrsYROKLwIN"
   },
   "source": [
    "### Set theory"
   ]
  },
  {
   "cell_type": "markdown",
   "metadata": {
    "id": "hNPzSHkqLwIO"
   },
   "source": [
    "This theory began to develop in the early ninth century and by the early twentieth century it had become what we study today. The fuel for its development was the need to explore infinity. For example, there was hope for the study of prime numbers at infinity. But no one proposed anything beyond Riemann's research. We still do not know what algorithm is used to create prime numbers. All digital security, by the way, is built on this ignorance. That is, we are deliberately creating a system that could collapse with the development of mathematics.\n",
    "\n",
    "The concept of a set is one of the simplest mathematical concepts. It is not precisely defined. Every set is defined by its elements. Examples are the set of books in a library or the set of students present in a class. Normally:\n",
    "\n",
    "- a set is denoted by capital Latin letters $(A)$;\n",
    "- its elements in lowercase Latin letters $(a)$;\n",
    "- if an element belongs to a set, it is denoted as: $a\\in A$;\n",
    "- if $a$ does not belong to $A$, then this fact is denoted as: $a\\notin A$.\n",
    "\n",
    "Sets can be made of anything, even other sets. But to stay on the subject, let's take number sets as an example. To define a set, we either have to list its elements, or specify a characteristic property of its elements. This is a property that all elements of the set and only they have.\n",
    "\n",
    "Examples. \n",
    "\n",
    "1. The set of natural numbers can be defined like this: \n",
    "### $$\\mathbb {N}=\\{1, 2, 3,...,n, n+1,...{}$$ \n",
    "From the notation it follows that all natural numbers starting with two are obtained by adding one to the previous number.\n",
    "\n",
    "2. The set of integers can be given as follows: \n",
    "### $$\\mathbb {Z}=\\{0, 1 ,-1, 2, -2,...,n, - n,...\\} $$ \n",
    "\n",
    "The set of rational numbers can be defined like this:  \n",
    "### $$\\mathbb {Q}=\\Bigr{\\{}\\frac{p}{q}\\,\\,\\,\\Bigr||\\,\\,\\, p\\in \\mathbb {Z},q\\in \\mathbb {N}\\Bigl{\\}}$$  \n",
    "The vertical line inside the curly bracket means that the following is a description of the characteristic properties of the introduced notations.\n",
    "\n",
    "Two sets are equal if and only if they consist of the same elements. If all elements of set $A$ are contained in set $B$, then we say that $A$ is a subset of set $B$ and denote $A\\subset B$. And $B$ itself is called a subset of the set $A$.\n",
    "\n",
    "In this course we will not study the properties of sets and supersets. In the course on linear algebra there will be similar topics related to spaces and subspaces. We will omit the concept of set power and which sets are called inductive, reflexive, or countable. This will only add to the load of perceived information, while being of no further use anywhere.\n",
    "\n",
    "The mathematical theory in question introduces two exceptional sets: an empty set $(\\emptyset)$ that contains no elements and a universal set or \"universum\" $(U)$ that contains all elements of the given theory. When translating the axioms of set theory to mathematical disciplines, the null element is usually preserved. And the existence of infinity is usually replaced by the existence of unit and laws by means of which this infinity can be reached."
   ]
  },
  {
   "cell_type": "markdown",
   "metadata": {
    "id": "x7xfKQO1LwIQ"
   },
   "source": [
    "### Basic operations on sets\n",
    "\n",
    "1. __Component__. For any set $A\\subset U$ we define a complement $A^c =\\{b\\in U \\,\\,|\\,\\,b\\notin A\\}$. For example, in the set of real numbers, the complement to the set $\\mathbb {Q}$ is the set of all irrational numbers.\n",
    "\n",
    "2. __Completion__. For any two sets $A,B\\subset U$, define a union $A\\cup B =\\{{c\\in U \\,\\,|\\,\\, (c\\in A)\\vee (c\\in B)\\}$. The symbol $\\vee$ inside a curly bracket is called __\"disjunction\"__ , which is as close as possible to an \"or\" conjunction (logical sum). For example, the union of segments $[1,3]$ and $[2,7]$ is the segment $[1,7]$.\n",
    "\n",
    "3. __Intersection__. For any two sets $A,B\\subset U$, define an intersection $A\\cap B =\\{c\\in U \\,\\,|\\,\\, (c\\in A)\\wedge(c\\in B)\\}$. The symbol $\\wedge$ inside a curly bracket is called a __\"conjunction\"__, which is as close as possible to an \"and\" conjunction (logical product). For example, the intersection of segments $[1,3]$ and $[2,7]$ is the segment $[2,3]$.\n",
    "\n",
    "<img src=\"https://i.ibb.co/pWGqhCZ/1-2.png\" width = 600/>.\n",
    "\n",
    "To illustrate operations on sets, we introduce Euler-Venn diagrams - circles denoting sets. Thus, the operations we introduce are illustrated as follows. We emphasize that Euler-Venn diagrams cannot serve as proofs of equality of sets.\n",
    "\n",
    "Besides the three operations on sets that we introduce, there exist\n",
    "which can be represented as a combination of\n",
    "of the simplest operations. For example:\n",
    "\n",
    "4. __Difference__. For any two sets $A,B\\subset U$ we define a difference $A\\setminus B =\\{c\\in U \\,\\,|\\,\\, (c\\in A)\\wedge(c\\notin B)\\}$. For example, the difference of segments $[1,3]$ and $[2,7]$ is the segment $[1,2)$, not including 2.\n",
    "\n",
    "5. __Symmetric difference__. For any two sets $A,B\\subset U$, define symmetric difference $A\\Delta B =\\{c\\in U \\,\\,|\\,\\, (c\\in A)\\oplus (c\\in B)\\}$. The symbol $\\oplus$ inside a curly bracket has many names. We will call it __excluding \"or\"__, also called modulo 2 addition, XOR, strict disjunction, per-digit addition, mask inversion, zhegalkin addition, logical subtraction, logical unequivalence. For example, the symmetric difference of segments $[1,3]$ and $[2,7]$ is the union of two segments $[1,2)\\cup(3,7]$, not including 2 and 3.\n",
    "\n",
    "<img src=\"https://i.ibb.co/L01w9dJ/1-3.png\" width = 400/>\n",
    "\n",
    "In python, all operations are implemented as follows:"
   ]
  },
  {
   "cell_type": "code",
   "execution_count": 1,
   "metadata": {
    "id": "M2yvokrgLwIR"
   },
   "outputs": [],
   "source": [
    "# Define sets A and B. Not necessarily numerical\n",
    "A = {1, 2, 3, 4, 5, \"ten\", \"twenty\"}\n",
    "B = {4, 5, 6, 7, 8, \"ten\", \"thrity\"}"
   ]
  },
  {
   "cell_type": "code",
   "execution_count": 2,
   "metadata": {
    "id": "VCiUpVqhLwIa",
    "outputId": "b46b18cd-8601-4739-f3da-d764bb1ef828"
   },
   "outputs": [
    {
     "name": "stdout",
     "output_type": "stream",
     "text": [
      "{1, 2, 3, 4, 5, 'ten', 6, 7, 8, 'twenty', 'thrity'}\n",
      "{1, 2, 'ten', 4, 5, 6, 7, 8, 3, 'twenty', 'thrity'}\n"
     ]
    }
   ],
   "source": [
    "# Sets can be joined together using the \"|\" operator or the union() function\n",
    "print(A | B)\n",
    "print(B.union(A))"
   ]
  },
  {
   "cell_type": "code",
   "execution_count": 3,
   "metadata": {
    "id": "wkslKVBHLwIs",
    "outputId": "bfb7c7d6-ace9-421c-ccd5-aece80c12439"
   },
   "outputs": [
    {
     "name": "stdout",
     "output_type": "stream",
     "text": [
      "{'ten', 4, 5}\n",
      "{'ten', 4, 5}\n"
     ]
    }
   ],
   "source": [
    "# Intersection using the \"&\" operator or the intersection() function\n",
    "print(A & B)\n",
    "print(B.intersection(A))"
   ]
  },
  {
   "cell_type": "code",
   "execution_count": 4,
   "metadata": {
    "id": "nOtAL6aTLwI1",
    "outputId": "de14eba2-3a56-49bd-912b-2fb4f8c870e5"
   },
   "outputs": [
    {
     "name": "stdout",
     "output_type": "stream",
     "text": [
      "{1, 2, 3, 'twenty'}\n",
      "{8, 'thrity', 6, 7}\n",
      "{1, 2, 3, 'twenty'}\n"
     ]
    }
   ],
   "source": [
    "# Difference using the \"-\" operator or difference() function\n",
    "print(A - B)\n",
    "print(B.difference(A))\n",
    "print(A.difference(B))"
   ]
  },
  {
   "cell_type": "code",
   "execution_count": 5,
   "metadata": {
    "id": "HqPrnO2lLwI8",
    "outputId": "69d8d6e1-2aaa-4e87-a8e2-1d5af413d131"
   },
   "outputs": [
    {
     "name": "stdout",
     "output_type": "stream",
     "text": [
      "{1, 2, 6, 7, 8, 3, 'twenty', 'thrity'}\n",
      "{1, 2, 6, 7, 8, 3, 'twenty', 'thrity'}\n"
     ]
    }
   ],
   "source": [
    "# Symmetric difference using the \"^\" operator or the symmetric_difference() function\n",
    "print(A ^ B)\n",
    "print(A.symmetric_difference(B))\n"
   ]
  },
  {
   "cell_type": "code",
   "execution_count": 6,
   "metadata": {
    "id": "dmKo-ypcLwJB",
    "outputId": "1a6eb9cd-84b8-4467-8df9-19fe1132938f"
   },
   "outputs": [
    {
     "name": "stdout",
     "output_type": "stream",
     "text": [
      "{1, 2, 'ten', 4, 5, 3, 'twenty'}\n",
      "{'ten', 4, 5, 6, 7, 8, 'thirty'}\n"
     ]
    }
   ],
   "source": [
    "# With symmetric difference, the values of the sets can be exchanged\n",
    " \n",
    "A = {1, 2, 3, 4, 5, \"ten\", \"twenty\"}\n",
    "B = {4, 5, 6, 7, 8, \"ten\", \"thirty\"}\n",
    "A = A ^ B\n",
    "B = A ^ B\n",
    "A = A ^ B\n",
    "\n",
    "A, B = B, A\n",
    "\n",
    "print(A)\n",
    "print(B)"
   ]
  },
  {
   "cell_type": "markdown",
   "metadata": {
    "id": "vmx7-fhRLwJL"
   },
   "source": [
    "It is also useful to know that in set theory, all operations on sets can be divided into two types:\n",
    "- Unary (over one set);\n",
    "- Binary (between two sets).\n",
    "\n",
    "Moreover, in complex expressions, unary operations have priority over binary ones. These rules are passed to all mathematical disciplines. And also in programming languages. For example the exponentiation operation usually has the highest priority, followed by unary minus and so on.\n",
    "\n",
    "Unary operations are always performed from right to left\n",
    "\n",
    "### $${2^3}^2=2^9=512$$\n",
    "\n",
    "Binary operations are always from left to right\n",
    "\n",
    "### $$8\\,/\\,2\\cdot3=4\\cdot3=12$$"
   ]
  },
  {
   "cell_type": "markdown",
   "metadata": {
    "id": "SUtyme5XLwJM"
   },
   "source": [
    "### Basic laws of set theory\n",
    "\n",
    "1. Intersection commutativity: $A\\cap B = B\\cap A$.\n",
    "2. Commutativity of union: $A\\cup B = B\\cup A$.\n",
    "3. Intersection associativity: $A\\cap(B\\cap C) = (A\\cap B)\\cap C$.\n",
    "4. Associativity of union: $A\\cup(B\\cup C) = (A\\cup B)\\cup C$.\n",
    "5. Distributivity of intersection with respect to union:\n",
    "$A\\cap(B\\cup C) = (A\\cap B)\\cup(A\\cap C)$.\n",
    "6. Distributivity of union with respect to intersection:\n",
    "$A\\cup(B\\cap C) = (A\\cup B)\\cap(A\\cup C)$.\n",
    "7. De Morgan's law with respect to intersection: $(A\\cap B)^c = A^c\\cup B^c$.\n",
    "8. De Morgan's law regarding union: $(A\\cup B)^c = A^c\\cap B^c$.\n",
    "9. The law of absorption for union: $A\\cup(A\\cap B) = A$.\n",
    "10. The law of absorption for intersection: $A\\cap(A\\cup B) = A$.\n",
    "11. Idempotent law for intersection: $A\\cap A= A$.\n",
    "12. Idempotent law for union: $A\\cup A= A$.\n",
    "13. Law of contradiction: $A\\cap A^c =\\emptyset$.\n",
    "14. Law of exclusion of the third: $A\\cup A^c=U$.\n",
    "15. Law of double negation: $(A^c)^c=A$. 16.\n",
    "16. $A\\cap\\emptyset=\\emptyset,\\,\\,\\, A\\cap U = A$.\n",
    "17. $A\\cup\\emptyset=A,\\,\\,\\, A\\cup U = U$.\n",
    "\n",
    "We have known these laws since the school desk in algebra class. Every mathematical discipline has these laws in some form.\n",
    "\n",
    "In general, the study of set theory can end here. Because next we will look at mathematical logic and the problems associated with it. But as an addendum, we shall deal with a topic frequently encountered in interviews.\n",
    "\n",
    "### Infinite decimal periodic fraction\n",
    "\n",
    "We've already looked at a lot of rational numbers: \n",
    "\n",
    "### $$\\mathbb {Q}=\\{\\frac{p}{q}||\\,\\, p\\in \\mathbb {Z},q\\in \\mathbb {N}\\}$$\n",
    "\n",
    "In the school mathematics course, when studying rational numbers, we say that any infinite decimal periodic fraction is a rational number. That is, it can be written as a regular fraction. Let us consider how to do this.\n",
    "\n",
    "1. Let's start with a simple example and represent $0.(3)$ as a regular fraction. To do this, take the variable $a=0.(3)$ and use it to shift the digit of our fraction.\n",
    "\n",
    "### $$a=0.(3)$$\n",
    "\n",
    "### $$10a=3.(3)$$\n",
    "\n",
    "### $$10a=3+0.(3)$$\n",
    "\n",
    "### $$10a=3+a$$\n",
    "\n",
    "### $$9a=3$$\n",
    "\n",
    "### $$a=\\frac{3}{9}=\\frac{1}{3}$$\n",
    "\n",
    "### $$0.(3)=\\frac{1}{3}$$"
   ]
  },
  {
   "cell_type": "code",
   "execution_count": null,
   "metadata": {
    "id": "2ousi7saLwJN",
    "outputId": "7f30ead5-f105-4dd6-90ed-b76113cd900e"
   },
   "outputs": [
    {
     "name": "stdout",
     "output_type": "stream",
     "text": [
      "0.3333333333333333\n"
     ]
    }
   ],
   "source": [
    "print (1/3)"
   ]
  },
  {
   "cell_type": "markdown",
   "metadata": {
    "id": "YqE5XV9zLwJS"
   },
   "source": [
    "2. Consider the example of $0.(18)$. The thought process is the same, only now we need to shift two digits.\n",
    "\n",
    "### $$b=0.(18)$$\n",
    "\n",
    "### $$100b=18.(18)$$\n",
    "\n",
    "### $$100b=18+0.(18)$$\n",
    "\n",
    "### $$100b=18+b$$\n",
    "\n",
    "### $$99b=18$$\n",
    "\n",
    "### $$b=\\frac{18}{99}=\\frac{2}{11}$$\n",
    "\n",
    "### $$0.(18)=\\frac{2}{11}$$"
   ]
  },
  {
   "cell_type": "code",
   "execution_count": null,
   "metadata": {
    "id": "tUOPrz7_LwJT",
    "outputId": "7060b9df-2d77-4348-fd46-ef71d08b81fb"
   },
   "outputs": [
    {
     "name": "stdout",
     "output_type": "stream",
     "text": [
      "0.18181818181818182\n"
     ]
    }
   ],
   "source": [
    "print (2/11)"
   ]
  },
  {
   "cell_type": "markdown",
   "metadata": {
    "id": "_kxS6XqlLwJZ"
   },
   "source": [
    "3. In the most complicated case, the infinite decimal periodic fraction can only be part of the number $1.32(18)$. In this case, we need to shift the digit to the infinite decimal periodic fraction and find its value separately.\n",
    "\n",
    "### $$с=1.32(18)$$\n",
    "\n",
    "### $$100с=132.(18)$$\n",
    "\n",
    "### $$100с=132+0.(18)$$\n",
    "\n",
    "### $$100с=132+\\frac{2}{11}$$\n",
    "\n",
    "### $$100с=\\frac{1454}{11}$$\n",
    "\n",
    "### $$с=\\frac{1454}{1100}=\\frac{727}{550}$$\n",
    "\n",
    "### $$1.32(18)=\\frac{727}{550}$$"
   ]
  },
  {
   "cell_type": "code",
   "execution_count": null,
   "metadata": {
    "id": "lpHKPEnnLwJa",
    "outputId": "eba6a64c-e65e-4fd8-80d1-46fb61fec6e4"
   },
   "outputs": [
    {
     "name": "stdout",
     "output_type": "stream",
     "text": [
      "1.3218181818181818\n"
     ]
    }
   ],
   "source": [
    "print (727/550)"
   ]
  },
  {
   "cell_type": "markdown",
   "metadata": {
    "id": "_WGxaq0BLwJg"
   },
   "source": [
    "There is a single inconsistency in this theory. It is the number $0.(9)$. Let's try to represent it as an ordinary fraction:\n",
    "\n",
    "### $$d=0.(9)$$\n",
    "\n",
    "### $$10d=9.(9)$$\n",
    "\n",
    "### $$10d=9+0.(9)$$\n",
    "\n",
    "### $$10d=9+d$$\n",
    "\n",
    "### $$9d=9$$\n",
    "\n",
    "### $$d=\\frac{9}{9}=1$$\n",
    "\n",
    "### $$0.(9)=1\\,\\,\\,\\,?$$\n",
    "\n",
    "In general, the mathematical society has accepted this fact and considers $0.(9)$ as a form of number $1$. It is true and raises a number of questions for our set theory."
   ]
  },
  {
   "cell_type": "markdown",
   "metadata": {
    "id": "7s2_vYTqLwJg"
   },
   "source": [
    "### Mathematical logic\n",
    "\n",
    "__Mathematical logic__ is a type of formal logic, that is, a science that studies inferences from the perspective of their formal structure. As a science, mathematical logic contains many sections, such as the theory of proof. We will mainly be introduced to the simplest section of mathematical logic, the __logic of statements__. In this section, the question of truth or falsity of statements is considered and solved on the basis of the study of the way statements are constructed from so-called elementary statements by means of logical operations or ligatures. The core concept of this section of logic is naturally a statement__.\n",
    "\n",
    "An utterance is a narrative sentence about which we can always definitely say whether it is true (1) or false (0). Examples of statements are: \"2+2=4\", \"1+1=1\", \"The Earth revolves around the Sun\", \"3>5\", \"10 is an odd number\", \"It's raining outside\". __Promotional sentences (\"Go around\", \"Go to the blackboard\"), question (\"What time is it?\") and exclamatory (\"Ak Bars is the champion!\")__\n",
    "\n",
    "The following are not statements. Logical operations on a set of statements are defined axiomatically, using truth tables that specify the value (1 or 0) of the result of the operation when the values of the initial statements are given.\n"
   ]
  },
  {
   "cell_type": "markdown",
   "metadata": {
    "id": "AymprT56LwJh"
   },
   "source": [
    "### The axiomatics of operations on statements.\n",
    "\n",
    "1. __Negation__. The logical operation corresponding to the logical conjunction \"not\" is called negation. This operation results in a statement that is false if the original statement is true, and true if the original statement is false. It is called $\\overline A$ or $\\neg A$ and reads \"not $A$\". For example, if $A$ is the statement \"the mathematical statement is proved\", then the statement \"the mathematical statement is not proved\" is denoted by $\\overline A$. The correspondence between statements is defined by truth tables. In our case this table has the form:\n",
    "\n",
    "<table>\n",
    "<thead>\n",
    "<tr><th>$A$</th><th>$\\overline A$</th></tr>\n",
    "</thead>\n",
    "<tbody>\n",
    "    <tr><td>$0$</td><td>$1$</td></tr>\n",
    "    <tr><td>$1$</td><td>$0$</td></tr>\n",
    "</tbody>\n",
    "</table>\n",
    "\n",
    "2. __Disjunction__. The disjunction operation applies to two statements $A$ and $B$ and corresponds to joining them with the union \"or\". It is denoted by $A || B$ or $A\\vee B$ or $A+B$ (read: $A$ or $B$). For example, \"A contract may be made orally or in writing\". The disjunction of two statements $A$ and $B$ will be false if and only if both statements are false. Therefore, the truth table for a disjunction has the form:\n",
    "\n",
    "<table>\n",
    "<thead>\n",
    "<tr><th>$A$</th><th>$B$</th><th>$A\\vee B$</th></tr>\n",
    "</thead>\n",
    "<tbody>\n",
    "    <tr><td>$0$</td><td>$0$</td><td>$0$</td></tr>\n",
    "    <tr><td>$0$</td><td>$1$</td><td>$1$</td></tr>\n",
    "    <tr><td>$1$</td><td>$0$</td><td>$1$</td></tr>\n",
    "    <tr><td>$1$</td><td>$1$</td><td>$1$</td></tr>\n",
    "</tbody>\n",
    "</table>\n",
    "\n",
    "3. __ Conjunction__. The conjunction operation applies to two statements $A$ and $B$ and corresponds to joining them with an \"and\" conjunction. It is denoted by $A\\, \\&\\& \\,B$ or $A\\wedge B$ or $A\\cdot B$ (read: $A$ and $B$). For example, \"He is my fellow traveller and friend\". The conjunction of two statements $A$ and $B$ will be true if and only if both statements are true. Therefore, the truth table for a conjunction has the form:\n",
    "\n",
    "<table>\n",
    "<thead>\n",
    "<tr><th>$A$</th><th>$B$</th><th>$A\\wedge B$</th></tr>\n",
    "</thead>\n",
    "<tbody>\n",
    "    <tr><td>$0$</td><td>$0$</td><td>$0$</td></tr>\n",
    "    <tr><td>$0$</td><td>$1$</td><td>$0$</td></tr>\n",
    "    <tr><td>$1$</td><td>$0$</td><td>$0$</td></tr>\n",
    "    <tr><td>$1$</td><td>$1$</td><td>$1$</td></tr>\n",
    "</tbody>\n",
    "</table>\n",
    "\n",
    "These are the basic operations. Consider the additional ones.\n",
    "\n",
    "4. __Excluding \"or\"__. The operation excluding \"or\" applies to two statements $A$ and $B$. It is denoted by $A$ (read: $A$-excluding \"or\" $B$). For example: \"Either get it or get it\". This statement is true only when only one of the elementary statements is true. The truth table looks like this:\n",
    "\n",
    "<table>\n",
    "<thead>\n",
    "<tr><th>$A$</th><th>$B$</th><th>$A\\oplus B$</th></tr>\n",
    "</thead>\n",
    "<tbody>\n",
    "    <tr><td>$0$</td><td>$0$</td><td>$0$</td></tr>\n",
    "    <tr><td>$0$</td><td>$1$</td><td>$1$</td></tr>\n",
    "    <tr><td>$1$</td><td>$0$</td><td>$1$</td></tr>\n",
    "    <tr><td>$1$</td><td>$1$</td><td>$0$</td></tr>\n",
    "</tbody>\n",
    "</table>\n",
    "\n",
    "\n",
    "5. __Implication__. The implication operation corresponds to the union of two statements using the union \"if $A$ , then $B$\". It is denoted by $A\\rightarrow B$. For example, \"If a contract student has received only excellent grades for 2 sessions, the dean's office may transfer him/her to a state-financed form of study on his/her application\". The implication of two statements $A$ and $B$ is false if and only if statement $A$ is true and $B$ is false. Statement $A$ is the premise of the implication, and statement $B$ is the consequence. The truth table looks like this:\n",
    "\n",
    "<table>\n",
    "<thead>\n",
    "<tr><th>$A$</th><th>$B$</th><th>$A\\rightarrow B$</th></tr>\n",
    "</thead>\n",
    "<tbody>\n",
    "    <tr><td>$0$</td><td>$0$</td><td>$1$</td></tr>\n",
    "    <tr><td>$0$</td><td>$1$</td><td>$1$</td></tr>\n",
    "    <tr><td>$1$</td><td>$0$</td><td>$0$</td></tr>\n",
    "    <tr><td>$1$</td><td>$1$</td><td>$1$</td></tr>\n",
    "</tbody>\n",
    "</table>\n",
    "\n",
    "It should be clarified that logical operations do not take into account in any way the meaning of the statements involved in them. Statements are regarded as objects with the sole property of being true or false. For example: Let $X$: \"The moon is made of green cheese\", and $U$: \"2+2=5\", then according to the table since $X$ is false, then the implication $X\\rightarrow U$ will be true, although there is no connection in sense between $X$ and $U$. Similarly, if $U$ is \"2+2=4\", then $X\\rightarrow Y$ is true, regardless of whether \"The moon is made of green cheese\" and \"2+2=4\" are related. This clarification of the implication \"If $X$, then $U$\" does not contradict common sense. For example, the promise __\"If I get a bicycle, I'll let you ride it\" is only perceived as a lie if I was given a bicycle, but I did not give it a ride.__\n",
    "\n",
    "\n",
    "6. __Equivalence__. Equivalence is denoted by $A\\leftrightarrow B$ (read: $A$ is equivalent to $B$ or $A$ is equivalent to $B$ or $A$ if and only if $B$). For example, \"An even number is divisible by 6 if and only if it is divisible by 3\" or \"A student is admitted to a session if and only if he passes all his credits\". An equivalence of two statements $A$ and $B$ is true if and only if the truths of the statements coincide. Therefore, the table of truths for an equivalence has the form:\n",
    "\n",
    "<table>\n",
    "<thead>\n",
    "<tr><th>$A$</th><th>$B$</th><th>$A\\leftrightarrow B$</th></tr>\n",
    "</thead>\n",
    "<tbody>\n",
    "    <tr><td>$0$</td><td>$0$</td><td>$1$</td></tr>\n",
    "    <tr><td>$0$</td><td>$1$</td><td>$0$</td></tr>\n",
    "    <tr><td>$1$</td><td>$0$</td><td>$0$</td></tr>\n",
    "    <tr><td>$1$</td><td>$1$</td><td>$1$</td></tr>\n",
    "</tbody>\n",
    "</table>\n",
    "\n",
    "It can be seen that equivalence and exclusionary \"or\" have opposite meanings. This is where one of the names of the exclusive \"or\" comes from - logical unequivalence."
   ]
  },
  {
   "cell_type": "markdown",
   "metadata": {
    "id": "N4rdW48RLwJi"
   },
   "source": [
    "### Basic laws of the logic of statements (axioms).\n",
    "\n",
    "1. Commutativity of conjunction: $A\\wedge B = B\\wedge A$.\n",
    "2. Commutativity of disjunction: $A\\wedge B = B\\wedge A$.\n",
    "3. Associativity of conjunction: $A\\wedge(B\\wedge C) = (A\\wedge B)\\wedge C$.\n",
    "4. associativity of disjunction: $A\\vee(B\\vee C) = (A\\vee B)\\vee C$.\n",
    "5. Distributivity of conjunction with respect to disjunction:\n",
    "$A\\wedge(B\\vee C) = (A\\wedge B)\\vee(A\\wedge C)$.\n",
    "6. Distributivity of disjunction with respect to conjunction:\n",
    "$A\\vee(B\\wedge C) = (A\\vee B)\\wedge(A\\vee C)$.\n",
    "7. De Morgan's law of conjunction: $\\overline{(A\\wedge B)} =\\overline A\\vee \\overline B$.\n",
    "8. De Morgan's law of disjunction: $\\overline{(A\\vee B)} = \\overline A\\wedge \\overline B$.\n",
    "9. De Morgan's law for conjunction: $A\\wedge(A\\vee B) = A$.\n",
    "10. Absorption law for disjunction: $A\\wedge(A\\wedge B) = A$.\n",
    "11. Idempotent law for a conjunction: $A\\wedge A= A$.\n",
    "12. The law of idempotence for disjunction: $A\\vee A= A$.\n",
    "13. Law of contradiction: $A\\wedge \\overline A=0$.\n",
    "14. Law of exclusion of thirds: $A\\vee \\overline A=1$.\n",
    "15. Law of double negation: $\\overline {(\\overline A)}=A$. 16.\n",
    "16. $A\\wedge0=0,\\,\\,\\, A\\wedge 1 = A$.\n",
    "17. $A\\wedge0=A,\\,\\,\\, A\\wedge 1 = 1$."
   ]
  },
  {
   "cell_type": "markdown",
   "metadata": {
    "id": "i6mgZxthLwJj"
   },
   "source": [
    "Based on this knowledge, two approaches can be identified for dealing with statements:\n",
    "\n",
    "- Using the basic laws of the logic of statements;\n",
    "- with the help of the truth table.\n",
    "\n",
    "Let us consider some examples:\n",
    "\n",
    "1. Simplify an expression\n",
    "\n",
    "### $$\\overline{(A\\vee(A\\wedge B))}\\vee(A\\vee(C\\wedge \\overline A))$$\n",
    "\n",
    "Let's solve this example using the basic laws of statement logic. This will be faster than using truth tables, since there are three elementary statements $A$, $B$ and $C$ in an expression and we will have to consider $2^3=8$ cases.\n",
    "\n",
    "### $$\\overline{(A\\vee(A\\wedge B))}\\vee(A\\vee(C\\wedge \\overline A))=$$\n",
    "\n",
    "### $$=(\\overline A\\wedge\\overline{(A\\wedge B)})\\vee((A\\vee C)\\wedge(A\\vee\\overline A))=$$\n",
    "\n",
    "\n",
    "### $$=(\\overline A\\wedge(\\overline A\\vee \\overline B))\\vee((A\\vee C)\\wedge1)=$$\n",
    "\n",
    "### $$=\\overline A\\vee(A\\vee C)=$$\n",
    "\n",
    "### $$=(\\overline A\\vee A)\\vee C=1\\vee C=1$$\n",
    "\n",
    "That is, the expression is true for all values of the simple statements in it. __Such expressions are called tautologies__.\n",
    "\n",
    "<table>\n",
    "<thead>\n",
    "<tr><th>$A$</th><th>$B$</th><th>$С$</th><th>$(A\\wedge B)$</th><th>$(A\\vee(A\\wedge B))$</th>\n",
    "<th>$\\overline{(A\\vee(A\\wedge B))}$</th><th>$\\overline A$</th><th>$(C\\wedge \\overline A)$</th><th>$(A\\vee(C\\wedge \\overline A))$</th><th>$X$</th></tr>\n",
    "</thead>\n",
    "<tbody>\n",
    "    <tr><td>$0$</td><td>$0$</td><td>$0$</td><td>$\\,$</td><td>$\\,$</td><td>$\\,$</td><td>$\\,$</td><td>$\\,$</td><td>$\\,$</td><td>$\\,$</td></tr>\n",
    "    <tr><td>$0$</td><td>$0$</td><td>$1$</td><td>$\\,$</td><td>$\\,$</td><td>$\\,$</td><td>$\\,$</td><td>$\\,$</td><td>$\\,$</td><td>$\\,$</td></tr>\n",
    "    <tr><td>$0$</td><td>$1$</td><td>$0$</td><td>$\\,$</td><td>$\\,$</td><td>$\\,$</td><td>$\\,$</td><td>$\\,$</td><td>$\\,$</td><td>$\\,$</td></tr>\n",
    "    <tr><td>$0$</td><td>$1$</td><td>$1$</td><td>$\\,$</td><td>$\\,$</td><td>$\\,$</td><td>$\\,$</td><td>$\\,$</td><td>$\\,$</td><td>$\\,$</td></tr>\n",
    "    <tr><td>$1$</td><td>$0$</td><td>$0$</td><td>$\\,$</td><td>$\\,$</td><td>$\\,$</td><td>$\\,$</td><td>$\\,$</td><td>$\\,$</td><td>$\\,$</td></tr>\n",
    "    <tr><td>$1$</td><td>$0$</td><td>$1$</td><td>$\\,$</td><td>$\\,$</td><td>$\\,$</td><td>$\\,$</td><td>$\\,$</td><td>$\\,$</td><td>$\\,$</td></tr>\n",
    "    <tr><td>$1$</td><td>$1$</td><td>$0$</td><td>$\\,$</td><td>$\\,$</td><td>$\\,$</td><td>$\\,$</td><td>$\\,$</td><td>$\\,$</td><td>$\\,$</td></tr>\n",
    "    <tr><td>$1$</td><td>$1$</td><td>$1$</td><td>$\\,$</td><td>$\\,$</td><td>$\\,$</td><td>$\\,$</td><td>$\\,$</td><td>$\\,$</td><td>$\\,$</td></tr>\n",
    "</tbody>\n",
    "</table>\n",
    "\n"
   ]
  },
  {
   "cell_type": "markdown",
   "metadata": {
    "id": "56iSU4iGLwJk"
   },
   "source": [
    "2. Prove that for any values of $A$ and $B$, the formula\n",
    "\n",
    "### $$(A \\rightarrow B) \\leftrightarrow (\\overline A \\vee B)$$\n",
    "\n",
    " Solve using the truth table:\n",
    " \n",
    " <table>\n",
    "<thead>\n",
    "<tr><th>$A$</th><th>$B$</th><th>$A \\rightarrow B$</th><th>$\\overline A$</th><th>$\\overline A\\vee B$</th><th>$(A \\rightarrow B) \\leftrightarrow (\\overline A\\vee B)$</th></tr>\n",
    "</thead>\n",
    "<tbody>\n",
    "    <tr><td>$0$</td><td>$0$</td><td>$1$</td><td>$1$</td><td>$1$</td><td>$1$</td></tr>\n",
    "    <tr><td>$0$</td><td>$1$</td><td>$1$</td><td>$1$</td><td>$1$</td><td>$1$</td></tr>\n",
    "    <tr><td>$1$</td><td>$0$</td><td>$0$</td><td>$0$</td><td>$0$</td><td>$1$</td></tr>\n",
    "    <tr><td>$1$</td><td>$1$</td><td>$1$</td><td>$0$</td><td>$1$</td><td>$1$</td></tr>\n",
    "</tbody>\n",
    "</table>\n",
    "\n",
    "For any $A$ and $B$, we get the true value. Therefore, the formula is true. It is used to implement implication in programming, because there is usually no own operator for implication. "
   ]
  },
  {
   "cell_type": "markdown",
   "metadata": {
    "id": "iRHRzbVMLwJl"
   },
   "source": [
    "Let's digress a little and solve a common logic problem, which is also often encountered in job interviews.\n",
    " \n",
    "3. Knights always tell the truth and liars always lie. Imagine that all the liars on the island live in one town and the knights live in another. How to find out from the aborigines where the road leads - to the city of knights or to the city of liars?\n",
    "\n",
    "The problem is that we do not know who is in front of us: a knight or a liar. That is, the answer of the aborigine should suit us whether he tells the truth or lies. \n",
    "\n",
    "It turns out that a single question is enough: \"Which road leads to your town?\" Then both the knight and the liar will point to the road that leads to the city of knights. By doing so, we will determine the direction of the road."
   ]
  },
  {
   "cell_type": "markdown",
   "metadata": {
    "id": "yFADU3XrLwJo"
   },
   "source": [
    "### Construction of an opposite statement\n",
    "\n",
    "Using de Morgan's laws, it is not difficult to determine the rule according to which an adverse statement is constructed. To construct an opposing statement, we have to write the statement in the form of a formula, then underline this formula and simplify the resulting statement, using the proven laws of mathematical logic.\n",
    "\n",
    "Very often, statements (especially mathematical statements) contain quantifiers of __existence__ ($\\forall$) or __existence__ ($\\exists$). In the construction of a contrary statement, these quantifiers substitute each other. Therefore, the rule for constructing a statement that is contrary to a statement containing quantifiers is as follows. __ In the original statement, the main phrase that is contained in the last part of the statement is highlighted. When constructing the opposite statement, the quantizers are interchanged, and the last phrase is replaced with the opposite one.\n",
    "\n",
    "\n",
    "#### Consider an example of the negation of an utterance:\n",
    "\n",
    "1. Every person gets the idea that they should put all their money in the bank, or buy shares in oil companies. \n",
    "\n",
    "$\\forall$ person __exists$ the thought: (($\\forall$ money __to put__ in the bank) ∨ (__acquire__ shares of oil companies)). \n",
    "\n",
    "$\\exists$ a person __exists$ the thought: (($\\exists$ money __not put__ in the bank) ∧ (__not to purchase__ oil company stock)) \n",
    "\n",
    "There are people who firmly believe that there is money that should not be\n",
    "trusted in banks and that one should not buy shares in oil companies.\n",
    "\n",
    "2. Similarly, statements opposite to mathematical statements, such as \"For any $\\varepsilon>0$ there exists $\\delta=\\delta(\\varepsilon)>0$ such that for any $x$ having the property $|x|<\\delta$, the inequality $|f(x)|<\\varepsilon$ is met\". \n",
    "\n",
    "Let's write the original statement in quants: \"$\\forall\\varepsilon>0 \\,\\exists\\delta=\\delta(\\varepsilon)>0$ such that $\\forall x,|x|<\\delta,(|f (x)|<\\varepsilon)$\".\n",
    "\n",
    "The opposite statement in quants is \"$\\exists\\varepsilon>0$ such that $ \\forall\\delta>0 \\exists x,|x|<\\delta,(|f (x)|\\geq\\varepsilon)$\". \n",
    "\n",
    "The opposite statement reads \"there exists such $\\varepsilon>0$ that for any positive $\\delta$ we can find such $x$ that $|x|<\\delta$ , and in this case\n",
    "such that $|f(x)|\\geq\\varepsilon$\".\n",
    "\n",
    "By the way, the original statement is the mathematical definition of the fact that the function $f(x)$ has a limit at the point $x=0$ equal to $0$. The opposite statement is the mathematical definition of the fact\n",
    "that the function $f(x)$ at $x=0$ either has no limit, or has a limit other than zero. But we will deal with this in the next lessons."
   ]
  },
  {
   "cell_type": "markdown",
   "metadata": {
    "id": "swE327J0LwJp"
   },
   "source": [
    "### Summary\n",
    "\n",
    "All modern mathematical logic and consequently computer logic is based on the philosophy of the ancient Greeks. Where any statement can be either strictly true or strictly false.\n",
    "\n",
    "As practice shows, this is not always true. The most famous paradox in mathematical logic is the \"paradox of the liar\". Suppose I write the phrase: \"I am a liar\" and tell you that this phrase is true. Is it possible to find out who I really am?\n",
    "\n",
    "Considering only two possible versions of liar and knight, I cannot be neither the first nor the second. And there is no third possibility in mathematical logic!\n",
    "\n",
    "Such paradoxes or other contradictions require scientists to develop science."
   ]
  }
 ],
 "metadata": {
  "colab": {
   "collapsed_sections": [],
   "name": "Lesson_2.ipynb",
   "provenance": []
  },
  "kernelspec": {
   "display_name": "Python 3",
   "language": "python",
   "name": "python3"
  },
  "language_info": {
   "codemirror_mode": {
    "name": "ipython",
    "version": 3
   },
   "file_extension": ".py",
   "mimetype": "text/x-python",
   "name": "python",
   "nbconvert_exporter": "python",
   "pygments_lexer": "ipython3",
   "version": "3.8.5"
  }
 },
 "nbformat": 4,
 "nbformat_minor": 1
}
