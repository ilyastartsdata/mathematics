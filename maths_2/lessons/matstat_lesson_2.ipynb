{
 "cells": [
  {
   "cell_type": "markdown",
   "metadata": {
    "id": "npwZYcsXzdm8"
   },
   "source": [
    "# Lesson 2\n",
    "## Discrete random variables. The law of probability distribution. \n",
    "\n",
    "### Binomial distribution law. Poisson distribution"
   ]
  },
  {
   "cell_type": "markdown",
   "metadata": {
    "colab": {
     "base_uri": "https://localhost:8080/",
     "height": 132
    },
    "id": "UhK3_DJWvl2s",
    "outputId": "e5d27574-7d9f-4c84-8f41-f0840e2c50f5"
   },
   "source": [
    "The PBX receives an average of 480 calls per hour. Determine the probability that\n",
    "for a given minute it will receive: exactly 3 calls; 2 to 5 calls. "
   ]
  },
  {
   "cell_type": "markdown",
   "metadata": {
    "id": "nyAZkmuJzdnE"
   },
   "source": [
    "A **random variable** is one that takes on only one possible value as a result of a test. \n",
    "\n",
    "It is not known in advance and may depend on many random factors. Random variables can be discrete and continuous."
   ]
  },
  {
   "cell_type": "markdown",
   "metadata": {
    "id": "t_m7c5uAzdnK"
   },
   "source": [
    "A **Discrete Random Value** takes separate values from each other. For example, flipping a coin a hundred times may result in an eagle being flipped 50 or 51 times (an integer between 0 and 100 inclusive), but not 50 and a half. In this case, the number of times an eagle is flipped is an example of a discrete random variable."
   ]
  },
  {
   "cell_type": "code",
   "execution_count": null,
   "metadata": {
    "id": "Bi2hZ7UbzdnP"
   },
   "outputs": [],
   "source": [
    "import numpy as np"
   ]
  },
  {
   "cell_type": "markdown",
   "metadata": {
    "id": "dVutQlNpzdn0"
   },
   "source": [
    "**Example 1**\n",
    "\n",
    "Let's simulate a hundred times coin flip using the **random** module from the **numpy** library. The result will be a discrete random variable - the number of eagle flips:"
   ]
  },
  {
   "cell_type": "code",
   "execution_count": null,
   "metadata": {
    "colab": {
     "base_uri": "https://localhost:8080/"
    },
    "id": "KPHPGWZyzdn5",
    "outputId": "a4f14a4c-1da2-4dca-fa3f-4379128712ea"
   },
   "outputs": [
    {
     "data": {
      "text/plain": [
       "45"
      ]
     },
     "execution_count": 5,
     "metadata": {
      "tags": []
     },
     "output_type": "execute_result"
    }
   ],
   "source": [
    "# n - number of trials\n",
    "# p - probability of the event\n",
    "\n",
    "np.random.binomial(n=100, p=0.5)"
   ]
  },
  {
   "cell_type": "markdown",
   "metadata": {
    "id": "WI7z1STRzdoU"
   },
   "source": [
    "The cage can be run several times, the number of eagle falls will vary."
   ]
  },
  {
   "cell_type": "markdown",
   "metadata": {
    "id": "rO8yeFzYzdoZ"
   },
   "source": [
    "**Example 2**"
   ]
  },
  {
   "cell_type": "code",
   "execution_count": null,
   "metadata": {
    "colab": {
     "base_uri": "https://localhost:8080/"
    },
    "id": "vddHEak_QJ0H",
    "outputId": "ee4f1f50-9389-485b-b36a-dd30a04599d7"
   },
   "outputs": [
    {
     "data": {
      "text/plain": [
       "5"
      ]
     },
     "execution_count": 1,
     "metadata": {
      "tags": []
     },
     "output_type": "execute_result"
    }
   ],
   "source": [
    "5"
   ]
  },
  {
   "cell_type": "markdown",
   "metadata": {
    "id": "yQ6kwsqHzdoc"
   },
   "source": [
    "Another example of a discrete random variable is the number of rainy days in summer.\n",
    "\n",
    "There are only 92 summer days, so here we can get a random integer from the interval [0, 92]:"
   ]
  },
  {
   "cell_type": "code",
   "execution_count": null,
   "metadata": {
    "colab": {
     "base_uri": "https://localhost:8080/"
    },
    "id": "gbOwKTkSzdoe",
    "outputId": "76851891-9915-452c-d409-cf27c849bcc4"
   },
   "outputs": [
    {
     "data": {
      "text/plain": [
       "71"
      ]
     },
     "execution_count": 9,
     "metadata": {
      "tags": []
     },
     "output_type": "execute_result"
    }
   ],
   "source": [
    "np.random.randint(0, 93)"
   ]
  },
  {
   "cell_type": "markdown",
   "metadata": {
    "id": "U-xocIHqzdop"
   },
   "source": [
    "**Example 3**"
   ]
  },
  {
   "cell_type": "markdown",
   "metadata": {
    "id": "VXKmfth7zdor"
   },
   "source": [
    "There are also examples of discrete quantities with no upper bound. For example, the number of meteorites falling to Earth in a year can take a countable set of values from 0 to plus infinity."
   ]
  },
  {
   "cell_type": "markdown",
   "metadata": {
    "id": "Qvi5B5dHzdou"
   },
   "source": [
    "**The probability distribution law** of a discrete random variable is the correspondence between the possible values of that variable and the probabilities that correspond to those values."
   ]
  },
  {
   "cell_type": "markdown",
   "metadata": {
    "id": "_J86_Xbqzdow"
   },
   "source": [
    "The law of the probability distribution can be represented in the form of a table. Make it for the number of times an eagle is struck when a coin is flipped three times:"
   ]
  },
  {
   "cell_type": "markdown",
   "metadata": {
    "id": "rTYG_Zc5zdoz"
   },
   "source": [
    "<table border=\"3\">\n",
    "<tr><th>X</th><td>0</td><td>1</td><td>2</td><td>3</td></tr>\n",
    "<tr><th>p</th><td>0.125</td><td>0.375</td><td>0.375</td><td>0.125</td></tr>\n",
    "</table>"
   ]
  },
  {
   "cell_type": "markdown",
   "metadata": {
    "id": "NpzyNAWZzdo1"
   },
   "source": [
    "The table shows that the probability that an eagle, for example, will fall twice when a coin is tossed three times is 0.375."
   ]
  },
  {
   "cell_type": "markdown",
   "metadata": {
    "id": "hF8zgUM3zdo5"
   },
   "source": [
    "The **Binomial distribution** is one example of a discrete distribution."
   ]
  },
  {
   "cell_type": "markdown",
   "metadata": {
    "id": "q_iXGKGWzdo8"
   },
   "source": [
    "A binomial distribution law is a distribution law for the number of $X=k$ occurrences of an event $A$ in $n$ independent trials, in each of which it can occur with probability $p$."
   ]
  },
  {
   "cell_type": "markdown",
   "metadata": {
    "id": "QtFn-eBlzdo-"
   },
   "source": [
    "The number of occurrences of an event is a discrete value from the interval [0, $n$]. The probabilities of possible values of this quantity are determined by Bernoulli's formula:"
   ]
  },
  {
   "cell_type": "markdown",
   "metadata": {
    "id": "Sb0K-V-jzdpE"
   },
   "source": [
    "where $p$ is the probability of occurrence of event $A$ in $n$ independent trials, and $q = 1 - p$."
   ]
  },
  {
   "cell_type": "markdown",
   "metadata": {
    "id": "EqTMvz9fzdpH"
   },
   "source": [
    "The mathematical expectation for a binomially distributed discrete value can be calculated using the formula:"
   ]
  },
  {
   "cell_type": "markdown",
   "metadata": {
    "id": "D5HaYkbgzdpK"
   },
   "source": [
    "$$M(X) = np$$"
   ]
  },
  {
   "cell_type": "markdown",
   "metadata": {
    "id": "XiPEiZ4YzdpL"
   },
   "source": [
    "The variance for a binomially distributed discrete value is calculated as follows:"
   ]
  },
  {
   "cell_type": "markdown",
   "metadata": {
    "id": "22AP6paZzdpP"
   },
   "source": [
    "$$D(X) = npq$$"
   ]
  },
  {
   "cell_type": "markdown",
   "metadata": {
    "id": "N5sKWGxhzdpT"
   },
   "source": [
    "**Example 4**"
   ]
  },
  {
   "cell_type": "markdown",
   "metadata": {
    "id": "NCchv5yczdpW"
   },
   "source": [
    "Once again, here is a table of the probabilities of an eagle being struck when a coin is tossed three times. Use Bernoulli's formula to show how these probabilities are calculated:"
   ]
  },
  {
   "cell_type": "markdown",
   "metadata": {
    "id": "PLJ94aIvzdpX"
   },
   "source": [
    "<table border=\"3\">\n",
    "<tr><th>X</th><td>0</td><td>1</td><td>2</td><td>3</td></tr>\n",
    "<tr><th>p</th><td>0.125</td><td>0.375</td><td>0.375</td><td>0.125</td></tr>\n",
    "</table>"
   ]
  },
  {
   "cell_type": "markdown",
   "metadata": {
    "id": "V_ngyqNczdpc"
   },
   "source": [
    "$$p(k=1) = C_n^kp^kq^{n-k} = C_3^1p^1q^2 = \\frac{3!}{1!(3-1)!} \\cdot 0.5^1 \\cdot 0.5^2 = 3 \\cdot 0.5 \\cdot 0.25 = 0.375$$"
   ]
  },
  {
   "cell_type": "markdown",
   "metadata": {
    "id": "Sen4UGXHzdpe"
   },
   "source": [
    "\n",
    "$$p(k=2) = C_n^kp^kq^{n-k} = C_3^2p^2q^1 = \\frac{3!}{2!(3-2)!} \\cdot 0.5^2 \\cdot 0.5^1 = 3 \\cdot 0.25 \\cdot 0.5 = 0.375$$"
   ]
  },
  {
   "cell_type": "markdown",
   "metadata": {
    "id": "y4GVm31ozdpi"
   },
   "source": [
    "$$p(k=3) = C_n^kp^kq^{n-k} = C_3^3p^3q^0 = \\frac{3!}{3!(3-3)!} \\cdot 0.5^3 \\cdot 0.5^0 = 1 \\cdot 0.125 \\cdot 1 = 0.125$$"
   ]
  },
  {
   "cell_type": "markdown",
   "metadata": {
    "id": "Cr2UwCsszdpm"
   },
   "source": [
    "**Example 5**"
   ]
  },
  {
   "cell_type": "markdown",
   "metadata": {
    "id": "yZPbYTf0zdpp"
   },
   "source": [
    "We will find the expectation for the binomial distribution from the previous example."
   ]
  },
  {
   "cell_type": "markdown",
   "metadata": {
    "id": "ffsAtr8Jzdpq"
   },
   "source": [
    "The parameter $n$ is 3, because the coin is tossed three times and the probability of eagle $p$ is 0.5.\n",
    "\n",
    "Calculate the expectation:"
   ]
  },
  {
   "cell_type": "markdown",
   "metadata": {
    "id": "LySdLS6pzdpt"
   },
   "source": [
    "$$M(X) = np = 3 \\cdot 0.5 = 1.5$$"
   ]
  },
  {
   "cell_type": "markdown",
   "metadata": {
    "id": "iMWZ-HPlzdpv"
   },
   "source": [
    "The result can be understood as follows: an average of 1.5 times a coin is flipped three times.\n",
    "\n",
    "Now calculate the variance, knowing that $q$ (the probability of heads not falling out, i.e. tails falling out) is also 0.5:"
   ]
  },
  {
   "cell_type": "markdown",
   "metadata": {
    "id": "KBwQDIfdzdpw"
   },
   "source": [
    "$$D(X) = npq = 3 \\cdot 0.5 \\cdot 0.5 = 0.75$$"
   ]
  },
  {
   "cell_type": "markdown",
   "metadata": {
    "id": "_p5BwNINzdp4"
   },
   "source": [
    "**Poisson distribution**"
   ]
  },
  {
   "cell_type": "markdown",
   "metadata": {
    "id": "yF0eGp9Yzdp7"
   },
   "source": [
    "If there are a large number of trials $n$ and the probability $p$ of an event $A$ occurring in a single trial is small, the Poisson formula is used to calculate the probability that an event will occur $m$ times in $n$ trials:"
   ]
  },
  {
   "cell_type": "markdown",
   "metadata": {
    "id": "Z153O9Ptzdp-"
   },
   "source": [
    "$$P_m \\approx \\frac{\\lambda^m}{m!}e^{-\\lambda}$$"
   ]
  },
  {
   "cell_type": "markdown",
   "metadata": {
    "id": "9h6NXlgbzdqC"
   },
   "source": [
    "**where** $λ = np$."
   ]
  },
  {
   "cell_type": "markdown",
   "metadata": {
    "id": "8aFPW32NzdqE"
   },
   "source": [
    "The Poisson distribution and the Poisson formula are often used in mass service theory (MST).\n",
    "\n",
    "TMT is a branch of probability theory that investigates the rational choice of service system structure and process. The theory is based on the study of the flow of service demands in and out of the system, waiting times and queue lengths."
   ]
  },
  {
   "cell_type": "markdown",
   "metadata": {
    "id": "qZ2hbwnkzdqG"
   },
   "source": [
    "**Example 6**"
   ]
  },
  {
   "cell_type": "markdown",
   "metadata": {
    "id": "g6yXxtKyzdqJ"
   },
   "source": [
    "The probability that there will be a spam email in a particular mailbox is 0.01.\n",
    "\n",
    "Find the probability that there will be 11 spam emails among 1,000 emails received in a month."
   ]
  },
  {
   "cell_type": "markdown",
   "metadata": {
    "id": "fGFN5b_gzdqM"
   },
   "source": [
    "Apply the Poisson formula, knowing that $m = 11$ and $λ = np = 1000 \\cdot 0.01 = 10$:"
   ]
  },
  {
   "cell_type": "markdown",
   "metadata": {
    "id": "uoxO_pAezdqN"
   },
   "source": [
    "$$P_{11} \\approx \\frac{\\lambda^m}{m!}e^{-\\lambda} \\approx \\frac{10^{11}}{11!}e^{-10} \\approx  0.1137$$"
   ]
  },
  {
   "cell_type": "markdown",
   "metadata": {
    "id": "3Odoc8GbzdqP"
   },
   "source": [
    "Если использовать Python для расчетов, можно вычислить вероятность:"
   ]
  },
  {
   "cell_type": "code",
   "execution_count": null,
   "metadata": {
    "colab": {
     "base_uri": "https://localhost:8080/"
    },
    "id": "91FItk5GzdqS",
    "outputId": "3ed3f3ef-a0bf-48c0-d8f0-6dcb56198f97"
   },
   "outputs": [
    {
     "data": {
      "text/plain": [
       "0.1137363961101212"
      ]
     },
     "execution_count": 10,
     "metadata": {
      "tags": []
     },
     "output_type": "execute_result"
    }
   ],
   "source": [
    "n = 1000\n",
    "m = 11\n",
    "p = 0.01\n",
    "lambda_ = n * p\n",
    "\n",
    "(lambda_**m / np.math.factorial(m)) * np.exp(-lambda_)"
   ]
  },
  {
   "cell_type": "code",
   "execution_count": null,
   "metadata": {
    "id": "ROnWnAPgR_5I"
   },
   "outputs": [],
   "source": [
    "from math import factorial"
   ]
  },
  {
   "cell_type": "code",
   "execution_count": null,
   "metadata": {
    "id": "XqmC5AY8I_Ie"
   },
   "outputs": [],
   "source": [
    "def combinations(n, k):\n",
    "    return int(factorial(n) / (factorial(k) * factorial(n - k)))"
   ]
  },
  {
   "cell_type": "code",
   "execution_count": null,
   "metadata": {
    "colab": {
     "base_uri": "https://localhost:8080/"
    },
    "id": "9LWKHseJzdqj",
    "outputId": "1bb9cc7d-3cab-449f-e92b-634822535384"
   },
   "outputs": [
    {
     "data": {
      "text/plain": [
       "2.1569168371633305e-35"
      ]
     },
     "execution_count": 13,
     "metadata": {
      "tags": []
     },
     "output_type": "execute_result"
    }
   ],
   "source": [
    "n = 144\n",
    "k = 5\n",
    "p = 1/2\n",
    "X = combinations(n, k) * (p ** k) * (1 - p) ** (n - k)\n",
    "X"
   ]
  },
  {
   "cell_type": "code",
   "execution_count": null,
   "metadata": {
    "colab": {
     "base_uri": "https://localhost:8080/"
    },
    "id": "X_axb4OmdDsB",
    "outputId": "6357a9a1-8b1c-4424-8ea7-f4ee8f10e056"
   },
   "outputs": [
    {
     "data": {
      "text/plain": [
       "0.34656600000000004"
      ]
     },
     "execution_count": 28,
     "metadata": {
      "tags": []
     },
     "output_type": "execute_result"
    }
   ],
   "source": [
    "0.489 * 0.33 + 0.42 * 0.2975 + 0.09 * 0.6694"
   ]
  },
  {
   "cell_type": "code",
   "execution_count": null,
   "metadata": {
    "colab": {
     "base_uri": "https://localhost:8080/"
    },
    "id": "y3cQaYrQdrDx",
    "outputId": "76459c33-0401-4015-badd-1808e7ef6896"
   },
   "outputs": [
    {
     "data": {
      "text/plain": [
       "0.20484848484848484"
      ]
     },
     "execution_count": 3,
     "metadata": {
      "tags": []
     },
     "output_type": "execute_result"
    }
   ],
   "source": [
    "(7/10)*(6/9)*(2/11)*(1/10) + (7/10)*(3/9)*(9/11)*(2/10) + (7/10)*(3/9)*(2/11)*(9/10) + (3/10)*(7/9)*(9/11)*(2/10) + (3/10)*(7/9)*(2/11)*(9/10) + (3/10)*(2/9)*(9/11)*(8/10)"
   ]
  },
  {
   "cell_type": "code",
   "execution_count": null,
   "metadata": {
    "colab": {
     "base_uri": "https://localhost:8080/"
    },
    "id": "L1Ni8Xoad7ij",
    "outputId": "681397d4-2fe9-436e-9312-8cf1c6851a8d"
   },
   "outputs": [
    {
     "data": {
      "text/plain": [
       "0.9703"
      ]
     },
     "execution_count": 31,
     "metadata": {
      "tags": []
     },
     "output_type": "execute_result"
    }
   ],
   "source": [
    "1 - 0.33 * 0.09"
   ]
  }
 ],
 "metadata": {
  "colab": {
   "collapsed_sections": [],
   "name": "Матстат - Урок 2.ipynb",
   "provenance": []
  },
  "kernelspec": {
   "display_name": "Python 3",
   "language": "python",
   "name": "python3"
  },
  "language_info": {
   "codemirror_mode": {
    "name": "ipython",
    "version": 3
   },
   "file_extension": ".py",
   "mimetype": "text/x-python",
   "name": "python",
   "nbconvert_exporter": "python",
   "pygments_lexer": "ipython3",
   "version": "3.8.5"
  }
 },
 "nbformat": 4,
 "nbformat_minor": 1
}
