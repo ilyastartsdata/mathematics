{
 "cells": [
  {
   "cell_type": "markdown",
   "metadata": {
    "id": "4H6xxKNJyZlv"
   },
   "source": [
    "## Lesson 5"
   ]
  },
  {
   "cell_type": "markdown",
   "metadata": {
    "id": "jNFmajYcyZlz"
   },
   "source": [
    "### Statistical hypothesis testing. P-values. Confidence intervals.\n",
    "\n",
    "### A/B-testing"
   ]
  },
  {
   "cell_type": "markdown",
   "metadata": {
    "id": "SwmtAkNvyZl4"
   },
   "source": [
    "**The statistical hypothesis** is a hypothesis about the distribution of random variables that is consistent with the representations of the phenomenon under study in the population."
   ]
  },
  {
   "cell_type": "markdown",
   "metadata": {
    "id": "KjLnm1TVyZl6"
   },
   "source": [
    "A distinction is made between **zero** and **alternative** hypotheses. The null hypothesis is an assumption about the properties of the general population that seems possible, but needs to be tested. \n",
    "\n",
    "An alternative hypothesis is any valid hypothesis that is not the same as the null hypothesis."
   ]
  },
  {
   "cell_type": "markdown",
   "metadata": {
    "id": "8fqrqfidyZl7"
   },
   "source": [
    "The null hypothesis is referred to as $H_0$, the alternative hypothesis is $H_1$ (from Hypothesis)."
   ]
  },
  {
   "cell_type": "markdown",
   "metadata": {
    "id": "32E2G4uwyZl-"
   },
   "source": [
    "The alternate hypothesis $H_1$ is an assumption about the properties of the general population, which is accepted when the null hypothesis cannot be accepted. Until it is proven that hypothesis $H_0$ is false, it is considered true."
   ]
  },
  {
   "cell_type": "markdown",
   "metadata": {
    "id": "_50xK-z8yZmA"
   },
   "source": [
    "The null hypothesis is formed as a result of theoretical research or as a result of previous practical observations.\n",
    "\n",
    "For example, the null hypothesis may state that the average height of people in a given population is 172.5 cm.\n",
    "\n",
    "Later on, when measuring the height of people in a sample from a given population, empirical results may show that the average height is a different value - 171 cm. Based on the empirical data, an alternative hypothesis could be proposed which would state that the average height is not actually 172.5 cm. Another formulation is possible: \"The average height in this population is less than 172.5 cm\".\n",
    "\n",
    "When testing the alternative hypothesis to calculate the criteria, not only the values being compared but also, for example:\n",
    "\n",
    "* sample size - this is often used to calculate degrees of freedom; \n",
    "* or the number of features for which hypothesis testing is performed - it can also be used to calculate degrees of freedom.\n",
    "\n",
    "\n",
    "The task of the researcher is to prove whether the deviation of the measurement results is random - that is, whether it is statistically significant. If the differences between the measurement results and the values corresponding to the null hypothesis are random, the null hypothesis remains valid. If, however, the measurement results differ significantly from what the null hypothesis claims, then the alternative hypothesis is accepted."
   ]
  },
  {
   "cell_type": "markdown",
   "metadata": {
    "id": "0EK0phISyZmC"
   },
   "source": [
    "A researcher who obtains empirical results that differ from the null hypothesis actually has an interest in ensuring that the alternative hypothesis is confirmed. If the null hypothesis is rejected and the alternative hypothesis is accepted, it may change the theoretical propositions previously thought to be true.\n",
    "\n",
    "Therefore, when testing the null hypothesis rejection is approached with caution - if an incorrect alternative hypothesis is accepted, it may lead to incorrect conclusions in other theoretical issues in the future.\n",
    "\n",
    "When testing hypotheses, it is not necessary to prove that the null hypothesis is true, nor is it necessary to give reasons for its acceptance. All that is required is to determine whether there are reasons to reject the null hypothesis."
   ]
  },
  {
   "cell_type": "markdown",
   "metadata": {
    "id": "FRIHdoH6yZmF"
   },
   "source": [
    "The stages of hypothesis testing:\n",
    "\n",
    "1. Formulate the main hypothesis and the alternative hypothesis.\n",
    "\n",
    "2. Select the statistical criterion by which to test.\n",
    "\n",
    "3. Set the level of significance $\\alpha$, or the probability with which the hypothesis will be fulfilled.\n",
    "\n",
    "4. Define the boundaries of the hypothesis area.\n",
    "\n",
    "5. Summarise the results and draw a conclusion."
   ]
  },
  {
   "cell_type": "markdown",
   "metadata": {
    "id": "X28vmsUkyZmH"
   },
   "source": [
    "For example, it can be determined whether the sales of washing powder changed before the TV advertising campaign and afterwards. When the answer is yes, we can conclude that the change is the result of the advertising campaign."
   ]
  },
  {
   "cell_type": "markdown",
   "metadata": {
    "id": "DwBy43XSyZmI"
   },
   "source": [
    "#### Statistical criteria for hypothesis testing"
   ]
  },
  {
   "cell_type": "markdown",
   "metadata": {
    "id": "zHkNQhERyZmL"
   },
   "source": [
    "Statistical criteria are statistical characteristics of a sample, calculated from the data in it. These criteria are used to decide which hypothesis to accept."
   ]
  },
  {
   "cell_type": "markdown",
   "metadata": {
    "id": "lqpHLfsbyZmM"
   },
   "source": [
    "There are two types of statistical criteria:\n",
    "\n",
    "\n",
    "- the one-sided criterion - its values are in the range $(0, + ∞)$;\n",
    "\n",
    "\n",
    "- two-sided criterion - its values are in the range $(-∞; + ∞)$."
   ]
  },
  {
   "cell_type": "markdown",
   "metadata": {
    "id": "UP8Uool4yZmP"
   },
   "source": [
    "Properties of a statistical criterion:\n",
    "\n",
    "- A statistical criterion is a random variable with a known distribution law. For example, Pearson's goodness-of-fit is subject to a $\\chi^2$ (\"chi-squared\") distribution;\n",
    "\n",
    "- The closer the statistical criterion is to zero, the more likely it is that the null hypothesis is true."
   ]
  },
  {
   "cell_type": "markdown",
   "metadata": {
    "id": "ZswJo12dyZmV"
   },
   "source": [
    "#### Level of significance"
   ]
  },
  {
   "cell_type": "markdown",
   "metadata": {
    "id": "Uazj8YuRyZmX"
   },
   "source": [
    "The $\\alpha$ significance level is the probability of a first-order error. Its value is usually chosen by the person testing the hypothesis."
   ]
  },
  {
   "cell_type": "markdown",
   "metadata": {
    "id": "UYAapfXOyZmY"
   },
   "source": [
    "The most common values chosen for $\\alpha$ are 0.01 (1 %), 0.05 (5 %), 0.1 (10 %)."
   ]
  },
  {
   "cell_type": "markdown",
   "metadata": {
    "id": "P4nnt9sbyZma"
   },
   "source": [
    "#### Errors of the first and second kind"
   ]
  },
  {
   "cell_type": "markdown",
   "metadata": {
    "id": "RGdNt9ToyZmc"
   },
   "source": [
    "There is always the possibility that an erroneous conclusion will be drawn when testing a hypothesis."
   ]
  },
  {
   "cell_type": "markdown",
   "metadata": {
    "id": "oc-rQLdVyZmf"
   },
   "source": [
    "There are two types of errors:\n",
    "\n",
    "***The 1st kind of error*** is rejecting the null hypothesis even though it is true.\n",
    "\n",
    "***The 2nd kind of error*** is accepting the null hypothesis even though it is incorrect."
   ]
  },
  {
   "cell_type": "markdown",
   "metadata": {
    "id": "2adv7v5zyZmi"
   },
   "source": [
    "The significance level value is related to the confidence level value $p$. The confidence level $p$ is the probability that the hypothesis is correct. Until it is proven that the null hypothesis is incorrect, consider it correct."
   ]
  },
  {
   "cell_type": "markdown",
   "metadata": {
    "id": "NCMpVab4yZmm"
   },
   "source": [
    "The $\\alpha$ significance level will determine the probability of accepting the null hypothesis. If the significance level is the probability of rejecting the correct hypothesis, then the probability of accepting the correct hypothesis is"
   ]
  },
  {
   "cell_type": "markdown",
   "metadata": {
    "id": "6-vaMu27yZmq"
   },
   "source": [
    "$$p = 1 - α$$"
   ]
  },
  {
   "cell_type": "markdown",
   "metadata": {
    "id": "4ehhGXbByZmt"
   },
   "source": [
    "You can control for the probability of a 1st kind error with $\\alpha$, but there is no control for a 2nd kind error - that is, the probability of accepting an incorrect null hypothesis."
   ]
  },
  {
   "cell_type": "markdown",
   "metadata": {
    "id": "ptWM8DElyZmy"
   },
   "source": [
    "**Finding the boundaries of the hypothesis acceptance area**"
   ]
  },
  {
   "cell_type": "markdown",
   "metadata": {
    "collapsed": true,
    "id": "RTlaYqtxyZm2"
   },
   "source": [
    "The hypothesis acceptance region is a subset of criterion values where the null hypothesis cannot be rejected.\n",
    "\n",
    "The critical region, unlike the hypothesis acceptance region, is a subset of criterion values for which the null hypothesis cannot be accepted. When using a one-sided criterion, the critical region contains not all but only positive values of it.\n",
    "\n",
    "In this case a criterion is said to have only one critical region.\n",
    "\n",
    "A two-sided criterion, unlike a one-sided one, can contain both positive and negative values.\n",
    "\n",
    "It has two critical regions: a subset of negative and a subset of positive values, for which no hypothesis can be accepted."
   ]
  },
  {
   "cell_type": "markdown",
   "metadata": {
    "collapsed": true,
    "id": "YWyCTUQGyZm5"
   },
   "source": [
    "Any sample estimate has scatter because it is a random variable that depends on the values of\n",
    "\n",
    "in a particular sample. For more reliable statistical inference it is necessary to know not only the point estimate,\n",
    "\n",
    "but also the interval that with high probability $\\gamma$ (gamma) overlaps the estimate $\\theta$ (theta)."
   ]
  },
  {
   "cell_type": "markdown",
   "metadata": {
    "collapsed": true,
    "id": "gr1GLULOyZm-"
   },
   "source": [
    "Formally, these are the two values (statistics) $T_1(X)$ and $T_2(X)$ such that $T_1 < T_2$, for which at a given \n",
    "\n",
    "probability level of $\\gamma$, the condition is fulfilled:"
   ]
  },
  {
   "cell_type": "markdown",
   "metadata": {
    "collapsed": true,
    "id": "v-edAI4YyZnA"
   },
   "source": [
    "$$P_{\\theta} \\{T_1(X)< \\theta < T_2(X)\\} \\leqslant \\gamma$$"
   ]
  },
  {
   "cell_type": "markdown",
   "metadata": {
    "id": "-JKGxO9kyZnB"
   },
   "source": [
    "That is, with probability $\\gamma$ or higher, the true figure lies between points $T_1(X)$ and $T_2(X)$, which are called the lower and upper bounds of the confidence interval."
   ]
  },
  {
   "cell_type": "markdown",
   "metadata": {
    "collapsed": true,
    "id": "u_Ui3FhZyZnD"
   },
   "source": [
    "One of the conditions for constructing confidence intervals is that they should be as narrow as possible.\n",
    "That is, it should be as short as possible, because the researcher is trying to locate the finding of the parameter sought more precisely.\n",
    "\n",
    "It follows that the confidence interval should cover the maximum probability of the distribution, and the estimate itself will be the centre."
   ]
  },
  {
   "cell_type": "markdown",
   "metadata": {
    "id": "xTZeimykH2ef"
   },
   "source": [
    "<img src='https://ru.files.fm/thumb_show.php?i=pchg4me5&view' width=500>Picture. 1 Confidence interval of the probability distribution</img>"
   ]
  },
  {
   "cell_type": "markdown",
   "metadata": {
    "id": "P7RJr5uAyZnK"
   },
   "source": [
    "That is, the probability of deviation (the true score from the estimate) in the larger part is equal to the probability of deviation in the smaller side. \n",
    "\n",
    "For asymmetric distributions, the interval to the right does not equal the interval to the left.\n",
    "\n",
    "To calculate the lower and upper bounds, you need to know the exact distribution. This will help to relate the degree of deviation and the probability of coverage of the estimate. The graph above clearly shows: the higher the probability of confidence, the wider the interval."
   ]
  },
  {
   "cell_type": "markdown",
   "metadata": {
    "id": "r-Wy5ouryZnM"
   },
   "source": [
    "**Confidence interval for the expectation**"
   ]
  },
  {
   "cell_type": "markdown",
   "metadata": {
    "id": "_AHbpr6nyZnP"
   },
   "source": [
    "If the raw data are distributed according to a normal law, the mean will also be distributed normally. \n",
    "\n",
    "Therefore we could use the mathematical apparatus of the normal law of distribution to calculate probabilities.\n",
    "\n",
    "We need to know two parameters: expected value and variance, which are usually unknown. Instead of parameters, we can use estimates (arithmetic mean and sample variance), but then the distribution of the mean will not be exactly normal."
   ]
  },
  {
   "cell_type": "markdown",
   "metadata": {
    "id": "JRDZZ12YyZnR"
   },
   "source": [
    "The $t$-distribution can be used for these problems. For a given probability ($\\lambda$), calculate the marginal deviation from the arithmetic mean using the following formula:"
   ]
  },
  {
   "cell_type": "markdown",
   "metadata": {
    "id": "jdj-cZnoyZnT"
   },
   "source": [
    "$$T_{1,2} = \\overline{X} \\pm \\frac{s_0}{\\sqrt{n}} \\cdot c_{\\gamma}$$"
   ]
  },
  {
   "cell_type": "markdown",
   "metadata": {
    "id": "9k46VofoyZnV"
   },
   "source": [
    "where $T_1$, $T_2$ — lower and upper limits of the confidence interval,\n",
    "\n",
    "$\\overline{X}$  — sample arithmetic mean, $s_0$ — sample mean square deviation (unbiased),\n",
    "\n",
    "$n$ — sample size,\n",
    "\n",
    "$\\gamma$ — confidence probability."
   ]
  },
  {
   "cell_type": "markdown",
   "metadata": {
    "id": "nLnO5P3vpTtu"
   },
   "source": [
    "\n",
    "\n",
    "\n",
    "\n"
   ]
  },
  {
   "cell_type": "markdown",
   "metadata": {
    "id": "YULXkwzMyZnZ"
   },
   "source": [
    "$c_{\\gamma} = Ф^{-1} \\frac{(1 + \\gamma)}{2}$ — the inverse of a standard normal distribution function."
   ]
  },
  {
   "cell_type": "markdown",
   "metadata": {
    "id": "1TPeni0jyZnc"
   },
   "source": [
    "That is, it is the number of standard errors from the arithmetic mean to the lower or upper limit."
   ]
  },
  {
   "cell_type": "markdown",
   "metadata": {
    "id": "97Xtvr-LyZnf"
   },
   "source": [
    "**A / В testing** "
   ]
  },
  {
   "cell_type": "markdown",
   "metadata": {
    "id": "P_IflIWUyZng"
   },
   "source": [
    "A/B testing is a marketing technique that is used to evaluate and manage the effectiveness of web pages. \n",
    "\n",
    "It is also called split testing."
   ]
  },
  {
   "cell_type": "markdown",
   "metadata": {
    "id": "LArKBHNlyZnj"
   },
   "source": [
    "Split testing starts with assessing the performance of a web page (control page $A$) and looking for ways to improve it."
   ]
  },
  {
   "cell_type": "markdown",
   "metadata": {
    "id": "rxjyfqDGyZnk"
   },
   "source": [
    "For example, we have an online shop. The landing page of this shop has a 2% conversion rate. \n",
    "\n",
    "A specialist wants to increase that figure to 4%. He assumes that changing the design of the page will increase the conversion rate."
   ]
  },
  {
   "cell_type": "markdown",
   "metadata": {
    "id": "qWycv6BOyZnr"
   },
   "source": [
    "For example, he thinks he should change the colour of the button from neutral blue to aggressive red - this will make the design more vibrant and lead to higher conversions."
   ]
  },
  {
   "cell_type": "markdown",
   "metadata": {
    "id": "AFLqCxSkyZnv"
   },
   "source": [
    "To check, the marketer creates a new version of the web page ($B$)."
   ]
  },
  {
   "cell_type": "markdown",
   "metadata": {
    "id": "2Zxr97pbyZny"
   },
   "source": [
    "Using split-testing tools, a specialist randomly divides the traffic between pages $A$ and $B$ into two roughly equal parts. In this case, one half of the visitors go to page $A$ and the other half go to $B$."
   ]
  },
  {
   "cell_type": "markdown",
   "metadata": {
    "id": "jtVgQzObyZn4"
   },
   "source": [
    "The **null hypothesis** is the assumption that the conversion on page $B$ is the same as on page $A$."
   ]
  },
  {
   "cell_type": "markdown",
   "metadata": {
    "id": "10icXn68yZn8"
   },
   "source": [
    "The converse statement is taken as the **alternative hypothesis**."
   ]
  }
 ],
 "metadata": {
  "colab": {
   "collapsed_sections": [],
   "name": "Матстат - Урок 5.ipynb",
   "provenance": []
  },
  "kernelspec": {
   "display_name": "Python 3",
   "language": "python",
   "name": "python3"
  },
  "language_info": {
   "codemirror_mode": {
    "name": "ipython",
    "version": 3
   },
   "file_extension": ".py",
   "mimetype": "text/x-python",
   "name": "python",
   "nbconvert_exporter": "python",
   "pygments_lexer": "ipython3",
   "version": "3.8.5"
  }
 },
 "nbformat": 4,
 "nbformat_minor": 1
}
