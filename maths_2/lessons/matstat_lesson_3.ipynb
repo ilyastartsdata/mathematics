{
 "cells": [
  {
   "cell_type": "markdown",
   "metadata": {
    "id": "snzQ6I-GNKuz"
   },
   "source": [
    "# Lesson 3"
   ]
  },
  {
   "cell_type": "markdown",
   "metadata": {
    "id": "AbhQJaRUNKu7"
   },
   "source": [
    "### Descriptive statistics. Qualitative and quantitative characteristics of a population. \n",
    "\n",
    "#### Graphical representation of data"
   ]
  },
  {
   "cell_type": "markdown",
   "metadata": {
    "id": "eoIjKvLSNKu-"
   },
   "source": [
    "Let's look at descriptive statistical characteristics using a dataset with data on hockey players as an example.\n",
    "\n",
    "Let's use the data from the article \n",
    "<a href='https://habr.com/post/301340/'>\"Growth of hockey players: analyzing data from all world championships in this century\"</a>.\n",
    "\n",
    "Import the libraries and download the data:"
   ]
  },
  {
   "cell_type": "code",
   "execution_count": null,
   "metadata": {
    "id": "MPDgZjuQNKvB"
   },
   "outputs": [],
   "source": [
    "import numpy as np\n",
    "import pandas as pd\n",
    "import matplotlib.pyplot as plt\n",
    "import warnings\n",
    "warnings.filterwarnings('ignore')"
   ]
  },
  {
   "cell_type": "code",
   "execution_count": null,
   "metadata": {
    "colab": {
     "base_uri": "https://localhost:8080/",
     "height": 306
    },
    "id": "MM9S4bbbNKvO",
    "outputId": "e8a3432d-54fe-4294-e4b9-c75a3a7a2ab4"
   },
   "outputs": [
    {
     "ename": "FileNotFoundError",
     "evalue": "ignored",
     "output_type": "error",
     "traceback": [
      "\u001b[0;31m---------------------------------------------------------------------------\u001b[0m",
      "\u001b[0;31mFileNotFoundError\u001b[0m                         Traceback (most recent call last)",
      "\u001b[0;32m<ipython-input-2-d527b8782777>\u001b[0m in \u001b[0;36m<module>\u001b[0;34m()\u001b[0m\n\u001b[0;32m----> 1\u001b[0;31m \u001b[0mdf\u001b[0m \u001b[0;34m=\u001b[0m \u001b[0mpd\u001b[0m\u001b[0;34m.\u001b[0m\u001b[0mread_csv\u001b[0m\u001b[0;34m(\u001b[0m\u001b[0;34m'csv/hockey_players.csv'\u001b[0m\u001b[0;34m,\u001b[0m \u001b[0mencoding\u001b[0m\u001b[0;34m=\u001b[0m\u001b[0;34m'cp1251'\u001b[0m\u001b[0;34m,\u001b[0m \u001b[0mparse_dates\u001b[0m\u001b[0;34m=\u001b[0m\u001b[0;34m[\u001b[0m\u001b[0;34m'birth'\u001b[0m\u001b[0;34m]\u001b[0m\u001b[0;34m)\u001b[0m\u001b[0;34m\u001b[0m\u001b[0;34m\u001b[0m\u001b[0m\n\u001b[0m",
      "\u001b[0;32m/usr/local/lib/python3.7/dist-packages/pandas/io/parsers.py\u001b[0m in \u001b[0;36mread_csv\u001b[0;34m(filepath_or_buffer, sep, delimiter, header, names, index_col, usecols, squeeze, prefix, mangle_dupe_cols, dtype, engine, converters, true_values, false_values, skipinitialspace, skiprows, skipfooter, nrows, na_values, keep_default_na, na_filter, verbose, skip_blank_lines, parse_dates, infer_datetime_format, keep_date_col, date_parser, dayfirst, cache_dates, iterator, chunksize, compression, thousands, decimal, lineterminator, quotechar, quoting, doublequote, escapechar, comment, encoding, dialect, error_bad_lines, warn_bad_lines, delim_whitespace, low_memory, memory_map, float_precision)\u001b[0m\n\u001b[1;32m    686\u001b[0m     )\n\u001b[1;32m    687\u001b[0m \u001b[0;34m\u001b[0m\u001b[0m\n\u001b[0;32m--> 688\u001b[0;31m     \u001b[0;32mreturn\u001b[0m \u001b[0m_read\u001b[0m\u001b[0;34m(\u001b[0m\u001b[0mfilepath_or_buffer\u001b[0m\u001b[0;34m,\u001b[0m \u001b[0mkwds\u001b[0m\u001b[0;34m)\u001b[0m\u001b[0;34m\u001b[0m\u001b[0;34m\u001b[0m\u001b[0m\n\u001b[0m\u001b[1;32m    689\u001b[0m \u001b[0;34m\u001b[0m\u001b[0m\n\u001b[1;32m    690\u001b[0m \u001b[0;34m\u001b[0m\u001b[0m\n",
      "\u001b[0;32m/usr/local/lib/python3.7/dist-packages/pandas/io/parsers.py\u001b[0m in \u001b[0;36m_read\u001b[0;34m(filepath_or_buffer, kwds)\u001b[0m\n\u001b[1;32m    452\u001b[0m \u001b[0;34m\u001b[0m\u001b[0m\n\u001b[1;32m    453\u001b[0m     \u001b[0;31m# Create the parser.\u001b[0m\u001b[0;34m\u001b[0m\u001b[0;34m\u001b[0m\u001b[0;34m\u001b[0m\u001b[0m\n\u001b[0;32m--> 454\u001b[0;31m     \u001b[0mparser\u001b[0m \u001b[0;34m=\u001b[0m \u001b[0mTextFileReader\u001b[0m\u001b[0;34m(\u001b[0m\u001b[0mfp_or_buf\u001b[0m\u001b[0;34m,\u001b[0m \u001b[0;34m**\u001b[0m\u001b[0mkwds\u001b[0m\u001b[0;34m)\u001b[0m\u001b[0;34m\u001b[0m\u001b[0;34m\u001b[0m\u001b[0m\n\u001b[0m\u001b[1;32m    455\u001b[0m \u001b[0;34m\u001b[0m\u001b[0m\n\u001b[1;32m    456\u001b[0m     \u001b[0;32mif\u001b[0m \u001b[0mchunksize\u001b[0m \u001b[0;32mor\u001b[0m \u001b[0miterator\u001b[0m\u001b[0;34m:\u001b[0m\u001b[0;34m\u001b[0m\u001b[0;34m\u001b[0m\u001b[0m\n",
      "\u001b[0;32m/usr/local/lib/python3.7/dist-packages/pandas/io/parsers.py\u001b[0m in \u001b[0;36m__init__\u001b[0;34m(self, f, engine, **kwds)\u001b[0m\n\u001b[1;32m    946\u001b[0m             \u001b[0mself\u001b[0m\u001b[0;34m.\u001b[0m\u001b[0moptions\u001b[0m\u001b[0;34m[\u001b[0m\u001b[0;34m\"has_index_names\"\u001b[0m\u001b[0;34m]\u001b[0m \u001b[0;34m=\u001b[0m \u001b[0mkwds\u001b[0m\u001b[0;34m[\u001b[0m\u001b[0;34m\"has_index_names\"\u001b[0m\u001b[0;34m]\u001b[0m\u001b[0;34m\u001b[0m\u001b[0;34m\u001b[0m\u001b[0m\n\u001b[1;32m    947\u001b[0m \u001b[0;34m\u001b[0m\u001b[0m\n\u001b[0;32m--> 948\u001b[0;31m         \u001b[0mself\u001b[0m\u001b[0;34m.\u001b[0m\u001b[0m_make_engine\u001b[0m\u001b[0;34m(\u001b[0m\u001b[0mself\u001b[0m\u001b[0;34m.\u001b[0m\u001b[0mengine\u001b[0m\u001b[0;34m)\u001b[0m\u001b[0;34m\u001b[0m\u001b[0;34m\u001b[0m\u001b[0m\n\u001b[0m\u001b[1;32m    949\u001b[0m \u001b[0;34m\u001b[0m\u001b[0m\n\u001b[1;32m    950\u001b[0m     \u001b[0;32mdef\u001b[0m \u001b[0mclose\u001b[0m\u001b[0;34m(\u001b[0m\u001b[0mself\u001b[0m\u001b[0;34m)\u001b[0m\u001b[0;34m:\u001b[0m\u001b[0;34m\u001b[0m\u001b[0;34m\u001b[0m\u001b[0m\n",
      "\u001b[0;32m/usr/local/lib/python3.7/dist-packages/pandas/io/parsers.py\u001b[0m in \u001b[0;36m_make_engine\u001b[0;34m(self, engine)\u001b[0m\n\u001b[1;32m   1178\u001b[0m     \u001b[0;32mdef\u001b[0m \u001b[0m_make_engine\u001b[0m\u001b[0;34m(\u001b[0m\u001b[0mself\u001b[0m\u001b[0;34m,\u001b[0m \u001b[0mengine\u001b[0m\u001b[0;34m=\u001b[0m\u001b[0;34m\"c\"\u001b[0m\u001b[0;34m)\u001b[0m\u001b[0;34m:\u001b[0m\u001b[0;34m\u001b[0m\u001b[0;34m\u001b[0m\u001b[0m\n\u001b[1;32m   1179\u001b[0m         \u001b[0;32mif\u001b[0m \u001b[0mengine\u001b[0m \u001b[0;34m==\u001b[0m \u001b[0;34m\"c\"\u001b[0m\u001b[0;34m:\u001b[0m\u001b[0;34m\u001b[0m\u001b[0;34m\u001b[0m\u001b[0m\n\u001b[0;32m-> 1180\u001b[0;31m             \u001b[0mself\u001b[0m\u001b[0;34m.\u001b[0m\u001b[0m_engine\u001b[0m \u001b[0;34m=\u001b[0m \u001b[0mCParserWrapper\u001b[0m\u001b[0;34m(\u001b[0m\u001b[0mself\u001b[0m\u001b[0;34m.\u001b[0m\u001b[0mf\u001b[0m\u001b[0;34m,\u001b[0m \u001b[0;34m**\u001b[0m\u001b[0mself\u001b[0m\u001b[0;34m.\u001b[0m\u001b[0moptions\u001b[0m\u001b[0;34m)\u001b[0m\u001b[0;34m\u001b[0m\u001b[0;34m\u001b[0m\u001b[0m\n\u001b[0m\u001b[1;32m   1181\u001b[0m         \u001b[0;32melse\u001b[0m\u001b[0;34m:\u001b[0m\u001b[0;34m\u001b[0m\u001b[0;34m\u001b[0m\u001b[0m\n\u001b[1;32m   1182\u001b[0m             \u001b[0;32mif\u001b[0m \u001b[0mengine\u001b[0m \u001b[0;34m==\u001b[0m \u001b[0;34m\"python\"\u001b[0m\u001b[0;34m:\u001b[0m\u001b[0;34m\u001b[0m\u001b[0;34m\u001b[0m\u001b[0m\n",
      "\u001b[0;32m/usr/local/lib/python3.7/dist-packages/pandas/io/parsers.py\u001b[0m in \u001b[0;36m__init__\u001b[0;34m(self, src, **kwds)\u001b[0m\n\u001b[1;32m   1991\u001b[0m         \u001b[0;32mif\u001b[0m \u001b[0mkwds\u001b[0m\u001b[0;34m.\u001b[0m\u001b[0mget\u001b[0m\u001b[0;34m(\u001b[0m\u001b[0;34m\"compression\"\u001b[0m\u001b[0;34m)\u001b[0m \u001b[0;32mis\u001b[0m \u001b[0;32mNone\u001b[0m \u001b[0;32mand\u001b[0m \u001b[0mencoding\u001b[0m\u001b[0;34m:\u001b[0m\u001b[0;34m\u001b[0m\u001b[0;34m\u001b[0m\u001b[0m\n\u001b[1;32m   1992\u001b[0m             \u001b[0;32mif\u001b[0m \u001b[0misinstance\u001b[0m\u001b[0;34m(\u001b[0m\u001b[0msrc\u001b[0m\u001b[0;34m,\u001b[0m \u001b[0mstr\u001b[0m\u001b[0;34m)\u001b[0m\u001b[0;34m:\u001b[0m\u001b[0;34m\u001b[0m\u001b[0;34m\u001b[0m\u001b[0m\n\u001b[0;32m-> 1993\u001b[0;31m                 \u001b[0msrc\u001b[0m \u001b[0;34m=\u001b[0m \u001b[0mopen\u001b[0m\u001b[0;34m(\u001b[0m\u001b[0msrc\u001b[0m\u001b[0;34m,\u001b[0m \u001b[0;34m\"rb\"\u001b[0m\u001b[0;34m)\u001b[0m\u001b[0;34m\u001b[0m\u001b[0;34m\u001b[0m\u001b[0m\n\u001b[0m\u001b[1;32m   1994\u001b[0m                 \u001b[0mself\u001b[0m\u001b[0;34m.\u001b[0m\u001b[0mhandles\u001b[0m\u001b[0;34m.\u001b[0m\u001b[0mappend\u001b[0m\u001b[0;34m(\u001b[0m\u001b[0msrc\u001b[0m\u001b[0;34m)\u001b[0m\u001b[0;34m\u001b[0m\u001b[0;34m\u001b[0m\u001b[0m\n\u001b[1;32m   1995\u001b[0m \u001b[0;34m\u001b[0m\u001b[0m\n",
      "\u001b[0;31mFileNotFoundError\u001b[0m: [Errno 2] No such file or directory: 'csv/hockey_players.csv'"
     ]
    }
   ],
   "source": [
    "df = pd.read_csv('csv/hockey_players.csv', encoding='cp1251', parse_dates=['birth'])"
   ]
  },
  {
   "cell_type": "markdown",
   "metadata": {
    "collapsed": true,
    "id": "pIK_WLKxNKvU"
   },
   "source": [
    "We'll remove the duplicates:"
   ]
  },
  {
   "cell_type": "code",
   "execution_count": null,
   "metadata": {
    "id": "z6-tGI8sNKvX"
   },
   "outputs": [],
   "source": [
    "df = df.drop_duplicates(['name', 'birth'])"
   ]
  },
  {
   "cell_type": "markdown",
   "metadata": {
    "collapsed": true,
    "id": "XHQWUbRsNKvh"
   },
   "source": [
    "This dataset could be considered a **general population** if it contained data about all hockey players, that corresponds to a particular characteristic."
   ]
  },
  {
   "cell_type": "markdown",
   "metadata": {
    "id": "rnJWY6-KNKvj"
   },
   "source": [
    "If we randomly select a certain number of examples (observations), this set can be called a sample.\n",
    "\n",
    "A **sample** is a randomly selected part of a general population."
   ]
  },
  {
   "cell_type": "markdown",
   "metadata": {
    "id": "4rM_9Cz_NKvm"
   },
   "source": [
    "One of the basic concepts in probability theory is **math expectation**. It is referred to as $M(X)$ (in statistics, it is referred to as $\\mu$).\n",
    "\n",
    "The mathematical expectation is the average value of a random variable (the probability distribution of a stationary random variable) as the number of samples or number of measurements (sometimes said to be the number of trials) tends towards infinity."
   ]
  },
  {
   "cell_type": "markdown",
   "metadata": {
    "id": "GsitNS2_NKvp"
   },
   "source": [
    "The arithmetic mean of a univariate random variable of a finite number of trials is usually called the expectation estimate. When the number of trials of a stationary random process tends to infinity, the estimate of the mathematical expectation tends to the mathematical expectation."
   ]
  },
  {
   "cell_type": "markdown",
   "metadata": {
    "id": "v9b2wxzGNKvu"
   },
   "source": [
    "### Find the average height of the hockey players from the dataset using the formula:"
   ]
  },
  {
   "cell_type": "markdown",
   "metadata": {
    "id": "xvSB9hufNKvw"
   },
   "source": [
    "$$M(X) = \\frac{1}{n} \\sum\\limits_{i=1}^{n} x_i$$"
   ]
  },
  {
   "cell_type": "markdown",
   "metadata": {
    "id": "MJ0J2HMTNKvy"
   },
   "source": [
    "where $x$ — height, $n$ — number of observations"
   ]
  },
  {
   "cell_type": "code",
   "execution_count": null,
   "metadata": {
    "colab": {
     "base_uri": "https://localhost:8080/",
     "height": 180
    },
    "id": "8yLDxwZINKv0",
    "outputId": "b35c1d51-42fc-47f2-e77a-e7df854f2ad1"
   },
   "outputs": [
    {
     "ename": "NameError",
     "evalue": "ignored",
     "output_type": "error",
     "traceback": [
      "\u001b[0;31m---------------------------------------------------------------------------\u001b[0m",
      "\u001b[0;31mNameError\u001b[0m                                 Traceback (most recent call last)",
      "\u001b[0;32m<ipython-input-4-91a43c46accd>\u001b[0m in \u001b[0;36m<module>\u001b[0;34m()\u001b[0m\n\u001b[0;32m----> 1\u001b[0;31m \u001b[0mmean_height\u001b[0m \u001b[0;34m=\u001b[0m \u001b[0mdf\u001b[0m\u001b[0;34m[\u001b[0m\u001b[0;34m'height'\u001b[0m\u001b[0;34m]\u001b[0m\u001b[0;34m.\u001b[0m\u001b[0msum\u001b[0m\u001b[0;34m(\u001b[0m\u001b[0;34m)\u001b[0m \u001b[0;34m/\u001b[0m \u001b[0mdf\u001b[0m\u001b[0;34m[\u001b[0m\u001b[0;34m'height'\u001b[0m\u001b[0;34m]\u001b[0m\u001b[0;34m.\u001b[0m\u001b[0mcount\u001b[0m\u001b[0;34m(\u001b[0m\u001b[0;34m)\u001b[0m\u001b[0;34m\u001b[0m\u001b[0;34m\u001b[0m\u001b[0m\n\u001b[0m\u001b[1;32m      2\u001b[0m \u001b[0mmean_height\u001b[0m\u001b[0;34m\u001b[0m\u001b[0;34m\u001b[0m\u001b[0m\n",
      "\u001b[0;31mNameError\u001b[0m: name 'df' is not defined"
     ]
    }
   ],
   "source": [
    "mean_height = df['height'].sum() / df['height'].count()\n",
    "mean_height"
   ]
  },
  {
   "cell_type": "markdown",
   "metadata": {
    "id": "apehcU5jNKwF"
   },
   "source": [
    "Let's find the same value using the **mean** method:"
   ]
  },
  {
   "cell_type": "code",
   "execution_count": null,
   "metadata": {
    "id": "4tPnNQLtNKwJ"
   },
   "outputs": [],
   "source": [
    "df['height'].mean()"
   ]
  },
  {
   "cell_type": "markdown",
   "metadata": {
    "id": "3gX4sPrGNKwU"
   },
   "source": [
    "The values are equal (only the number of decimal places differs). This estimate of the mathematical expectation is called unbiased.\n",
    "\n",
    "Another important measure of sampling is **the standard deviation**. It shows how far the observations can be \"scattered\" relative to the mean.\n",
    "\n",
    "It can be calculated using the formula:"
   ]
  },
  {
   "cell_type": "markdown",
   "metadata": {
    "id": "JwStBGB4NKwX"
   },
   "source": [
    "$$\\sigma = \\sqrt{\\frac{\\sum\\limits_{i=1}^{n} (x_i - \\overline{x})^2}{n}}$$"
   ]
  },
  {
   "cell_type": "markdown",
   "metadata": {
    "id": "fu2lLu41NKwY"
   },
   "source": [
    "Let's calculate the root mean square deviation of the hockey players' height:"
   ]
  },
  {
   "cell_type": "code",
   "execution_count": null,
   "metadata": {
    "id": "-iwdVe-hNKwe"
   },
   "outputs": [],
   "source": [
    "height_std = np.sqrt(((df['height'] - df['height'].mean())**2).sum() / df['height'].count())\n",
    "height_std"
   ]
  },
  {
   "cell_type": "markdown",
   "metadata": {
    "id": "PcpU5rPFNKwm"
   },
   "source": [
    "Let's calculate the standard deviation again, but this time using **std**:"
   ]
  },
  {
   "cell_type": "code",
   "execution_count": null,
   "metadata": {
    "id": "3FvEacT6NKwo"
   },
   "outputs": [],
   "source": [
    "df['height'].std(ddof=0)"
   ]
  },
  {
   "cell_type": "markdown",
   "metadata": {
    "id": "yzTtgYY0NKwz"
   },
   "source": [
    "**Dispersion** is equal to the standard deviation squared:"
   ]
  },
  {
   "cell_type": "markdown",
   "metadata": {
    "id": "ymzeeF4QNKw1"
   },
   "source": [
    "$$\\sigma^2 = \\frac{\\sum\\limits_{i=1}^{n} (x_i - \\overline{x})^2}{n}$$"
   ]
  },
  {
   "cell_type": "markdown",
   "metadata": {
    "id": "XTwVZI76NKw3"
   },
   "source": [
    "Let's calculate the dispersion of hockey players' growth:"
   ]
  },
  {
   "cell_type": "code",
   "execution_count": null,
   "metadata": {
    "id": "jNZh3cbjNKw6"
   },
   "outputs": [],
   "source": [
    "height_variance = ((df['height'] - df['height'].mean())**2).sum() / df['height'].count()\n",
    "height_variance"
   ]
  },
  {
   "cell_type": "markdown",
   "metadata": {
    "id": "fCHu_z21NKxG"
   },
   "source": [
    "This variance estimate is **biased**. The following formula shows how an **unbiased variance estimate** is calculated:"
   ]
  },
  {
   "cell_type": "markdown",
   "metadata": {
    "id": "yeHRCSngNKxH"
   },
   "source": [
    "$$\\sigma^2_{st.} = \\frac{\\sum\\limits_{i=1}^{n} (x_i - \\overline{x})^2}{n - 1}$$"
   ]
  },
  {
   "cell_type": "markdown",
   "metadata": {
    "id": "QTIjmFNyNKxM"
   },
   "source": [
    "The difference between unbiased and biased variance estimation is that we divide the sum of the squares of the differences of all the values with the mean by $n$, but by $n - 1$.\n",
    "\n",
    "Let's calculate the unbiased variance of hockey players' height:"
   ]
  },
  {
   "cell_type": "code",
   "execution_count": null,
   "metadata": {
    "id": "WyB-XRAeNKxQ"
   },
   "outputs": [],
   "source": [
    "height_variance2 = ((df['height'] - df['height'].mean())**2).sum() / (df['height'].count() - 1)\n",
    "height_variance2"
   ]
  },
  {
   "cell_type": "markdown",
   "metadata": {
    "id": "cscW2xopNKxi"
   },
   "source": [
    "The **var** method can be used to calculate a biased variance estimate:"
   ]
  },
  {
   "cell_type": "code",
   "execution_count": null,
   "metadata": {
    "id": "RdNP_457NKxk"
   },
   "outputs": [],
   "source": [
    "df['height'].var(ddof=0)"
   ]
  },
  {
   "cell_type": "markdown",
   "metadata": {
    "id": "TJ_GG2LDNKx0"
   },
   "source": [
    "Unbiased counts in the same way:"
   ]
  },
  {
   "cell_type": "code",
   "execution_count": null,
   "metadata": {
    "id": "oLdDIWUaNKx2"
   },
   "outputs": [],
   "source": [
    "df['height'].var(ddof=1)"
   ]
  },
  {
   "cell_type": "markdown",
   "metadata": {
    "id": "HGAvSJ_mNKx-"
   },
   "source": [
    "The **ddof** (Delta Degrees of Freedom) argument shows how much to subtract from the number of observations $n$, which is in the variance formula in the divisor."
   ]
  },
  {
   "cell_type": "markdown",
   "metadata": {
    "id": "NYuwpwm7NKx_"
   },
   "source": [
    "**Mode** is the most frequent value in the sample. For discrete distributions, a mode is any value $a_i$ whose probability $p_i$ is greater than the probabilities of neighbouring values.\n",
    "\n",
    "If a sample has two or more values occurring with the same (maximum) probability, i.e. the sample has two or more modes, it is called **multimodal**.\n",
    "\n",
    "A mode of a perfectly continuous distribution is any point of the local maximum of the distribution density."
   ]
  },
  {
   "cell_type": "markdown",
   "metadata": {
    "id": "4H1MmQ8sNKyD"
   },
   "source": [
    "The **Median** is the value that divides the sample into two parts, so that the values that are less than the median are half (50%) of the sample. That is, half of the sample values are greater than the median, and half are not greater."
   ]
  },
  {
   "cell_type": "markdown",
   "metadata": {
    "id": "B228LLFLNKyG"
   },
   "source": [
    "**First quartile** is a value that does not exceed 25% of the observations in the sample."
   ]
  },
  {
   "cell_type": "markdown",
   "metadata": {
    "id": "UARYcGAwNKyH"
   },
   "source": [
    "**Second quartile** is synonymous with the median."
   ]
  },
  {
   "cell_type": "markdown",
   "metadata": {
    "id": "6BUr0mcaNKyJ"
   },
   "source": [
    "**Third quartile** is a value that does not exceed 75% of the observations in the sample."
   ]
  },
  {
   "cell_type": "markdown",
   "metadata": {
    "id": "X7bErti9NKyM"
   },
   "source": [
    "**Quantile** is a similar concept, only as a point it can be any value between 0 and 100%.\n",
    "\n",
    "For example, 40% quantile is a value that does not exceed 40% of observations."
   ]
  },
  {
   "cell_type": "markdown",
   "metadata": {
    "id": "arCPKh6VNKyT"
   },
   "source": [
    "**Percentile** is a special case of quantile, taking whole percentages as a measure.\n",
    "\n",
    "For example, 40% quantile is the same as 40% percentile."
   ]
  },
  {
   "cell_type": "markdown",
   "metadata": {
    "id": "q67sZzakNKyU"
   },
   "source": [
    "**Decile** is a special case of the quantile, taking tens of percentiles as a measure.\n",
    "\n",
    "For example, the 70% quantile is also the 7th decile."
   ]
  },
  {
   "cell_type": "markdown",
   "metadata": {
    "id": "lhcr7dkjNKyW"
   },
   "source": [
    "**Interquartile distance** is a segment equal to the difference between 3rd and 1st quartile."
   ]
  },
  {
   "cell_type": "markdown",
   "metadata": {
    "id": "PNmx54fYNKyY"
   },
   "source": [
    "##### Graphical representation of data"
   ]
  },
  {
   "cell_type": "markdown",
   "metadata": {
    "collapsed": true,
    "id": "gR9QSn4MNKya"
   },
   "source": [
    "To get an idea of the distribution of hockey players' height, let's build a histogram. By default the data is divided into 10 parts (argument **bins**). The height of the bars corresponds to the number of observations in the bin:"
   ]
  },
  {
   "cell_type": "code",
   "execution_count": null,
   "metadata": {
    "id": "iZHf2w0UNKyc"
   },
   "outputs": [],
   "source": [
    "plt.hist(df['height'])\n",
    "plt.show()"
   ]
  },
  {
   "cell_type": "markdown",
   "metadata": {
    "collapsed": true,
    "id": "KwJ_RM31NKyo"
   },
   "source": [
    "Let's plot the histogram again, giving the number 20 as the **bins** argument, to get a more detailed picture:"
   ]
  },
  {
   "cell_type": "code",
   "execution_count": null,
   "metadata": {
    "id": "kExdMvVdNKyp"
   },
   "outputs": [],
   "source": [
    "plt.hist(df['height'], bins = 20)\n",
    "plt.show()"
   ]
  },
  {
   "cell_type": "markdown",
   "metadata": {
    "collapsed": true,
    "id": "2P5DpOZTNKyw"
   },
   "source": [
    "Another way to graphically represent data is to build a **boxplot** diagram. To do this, import the **seaborn** library:"
   ]
  },
  {
   "cell_type": "code",
   "execution_count": null,
   "metadata": {
    "id": "7xl_WqYGNKy0"
   },
   "outputs": [],
   "source": [
    "import seaborn as sns"
   ]
  },
  {
   "cell_type": "code",
   "execution_count": null,
   "metadata": {
    "id": "K8Xx4JX-NKy6"
   },
   "outputs": [],
   "source": [
    "sns.boxplot(df['height'], orient='v')\n",
    "plt.show()"
   ]
  },
  {
   "cell_type": "markdown",
   "metadata": {
    "collapsed": true,
    "id": "rr6BpnOFNKzB"
   },
   "source": [
    "На данном графике показатели роста располагаются по вертикали. Черта в середине прямоугольника обозначает медиану, его нижняя сторона — 1-й квартиль, а верхняя — 3-й квартиль."
   ]
  },
  {
   "cell_type": "markdown",
   "metadata": {
    "collapsed": true,
    "id": "NRDf8FSYNKzH"
   },
   "source": [
    "От прямоугольника вверх и вниз отходят «усики». Черта на конце нижнего усика отстоит от 1-го квартиля на 1.5 интерквартильных расстояния, а на конце верхнего — на 1.5 интерквартильных расстояния от 3-го квартиля."
   ]
  },
  {
   "cell_type": "markdown",
   "metadata": {
    "collapsed": true,
    "id": "n1ZeOMTfNKzJ"
   },
   "source": [
    "Точки, находящиеся за их пределами, обозначают выбросы в данных — нетипичные наблюдения, которые могут быть и ошибками."
   ]
  },
  {
   "cell_type": "code",
   "execution_count": null,
   "metadata": {
    "id": "OIi4HbRwNKzM"
   },
   "outputs": [],
   "source": []
  }
 ],
 "metadata": {
  "colab": {
   "collapsed_sections": [],
   "name": "Матстат - Урок 3.ipynb",
   "provenance": []
  },
  "kernelspec": {
   "display_name": "Python 3",
   "language": "python",
   "name": "python3"
  },
  "language_info": {
   "codemirror_mode": {
    "name": "ipython",
    "version": 3
   },
   "file_extension": ".py",
   "mimetype": "text/x-python",
   "name": "python",
   "nbconvert_exporter": "python",
   "pygments_lexer": "ipython3",
   "version": "3.8.5"
  }
 },
 "nbformat": 4,
 "nbformat_minor": 1
}
