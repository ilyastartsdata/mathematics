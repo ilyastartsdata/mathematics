{
 "cells": [
  {
   "cell_type": "markdown",
   "metadata": {
    "id": "vGvPz-PJYo5C"
   },
   "source": [
    "## Lesson 8"
   ]
  },
  {
   "cell_type": "markdown",
   "metadata": {
    "id": "mP4ncs2qYo5G"
   },
   "source": [
    "### Analysis of variance. Factor analysis. Logistic regression"
   ]
  },
  {
   "cell_type": "markdown",
   "metadata": {
    "collapsed": true,
    "id": "z4odg-NJYo5I"
   },
   "source": [
    "#### Analysis of variance"
   ]
  },
  {
   "cell_type": "markdown",
   "metadata": {
    "collapsed": true,
    "id": "tndzSTAlYo5L"
   },
   "source": [
    "##### Single-factor analysis of variance"
   ]
  },
  {
   "cell_type": "markdown",
   "metadata": {
    "collapsed": true,
    "id": "zqcKJYLxYo5N"
   },
   "source": [
    "Analysis of variance examines the effect of one or more qualitative variables on a quantitative variable.\n",
    "\n",
    "In a one-factor analysis of variance, one quantitative variable $Y$ is influenced by one factor (one qualitative indicator), observed at $k$ levels, i.e. we have $k$ samples for variable $Y$."
   ]
  },
  {
   "cell_type": "markdown",
   "metadata": {
    "collapsed": true,
    "id": "NaDcf63eYo5S"
   },
   "source": [
    "We denote the observed data by $y_{ij}$, where $i$ is the level index ($i$ = 1, 2, ..., $k$), $j$ is the observation index at the $i$th level ($j$ = 1, 2, ..., $n_{i}$)."
   ]
  },
  {
   "cell_type": "markdown",
   "metadata": {
    "id": "W0nXL-nAYo5Y"
   },
   "source": [
    "Each level may have a different number of observations $n_{i}$. The total number of observations is the sum of the observations at all levels:"
   ]
  },
  {
   "cell_type": "markdown",
   "metadata": {
    "id": "AM--DeuuYo5b"
   },
   "source": [
    "$$n = \\sum\\limits_{i=1}^{k}n_i$$"
   ]
  },
  {
   "cell_type": "markdown",
   "metadata": {
    "id": "MqCAbsPXYo5i"
   },
   "source": [
    "From the data $y_{ij}$ is determined:"
   ]
  },
  {
   "cell_type": "markdown",
   "metadata": {
    "id": "WE2fSz5lYo5k"
   },
   "source": [
    "$\\overline{y}_{i}$ — the average value of variable Y at level i:"
   ]
  },
  {
   "cell_type": "markdown",
   "metadata": {
    "id": "XXLZhnYDYo5m"
   },
   "source": [
    "$$\\overline{y}_{i} = \\frac{1}{n_i}\\sum\\limits_{j=1}^{n_i}y_{ij}$$"
   ]
  },
  {
   "cell_type": "markdown",
   "metadata": {
    "id": "fooBgcbIYo5p"
   },
   "source": [
    "$\\overline{Y}$ — the average value of the variable **Y** over all values:"
   ]
  },
  {
   "cell_type": "markdown",
   "metadata": {
    "id": "IfDm-PM6Yo5q"
   },
   "source": [
    "$$\\overline{Y} = \\frac{1}{n}\\sum\\limits_{i=1}^{k}\\sum\\limits_{j=1}^{n_i}y_{ij} = \\frac{1}{n}\\sum\\limits_{i=1}^{k}\\overline{y}_{i}n_{i}$$"
   ]
  },
  {
   "cell_type": "markdown",
   "metadata": {
    "id": "QccuMpGkYo5t"
   },
   "source": [
    "$S^2$ — is the sum of the squares of the deviations of the observations from the overall mean:"
   ]
  },
  {
   "cell_type": "markdown",
   "metadata": {
    "id": "8d2MieJWYo5u"
   },
   "source": [
    "$$S^2 = \\sum\\limits_{i=1}^{k}\\sum\\limits_{j=1}^{n_i}({y}_{ij} - \\overline{Y})^2$$"
   ]
  },
  {
   "cell_type": "markdown",
   "metadata": {
    "id": "2Z5t5mZPYo5w"
   },
   "source": [
    "$S_F^2$ — the sum of the squares of the deviations of the group mean values from the overall mean value $\\overline{Y}$:"
   ]
  },
  {
   "cell_type": "markdown",
   "metadata": {
    "id": "98w7-LmyYo5z"
   },
   "source": [
    "$$S_F^2 = \\sum\\limits_{i=1}^{k}(\\overline{y}_i - \\overline{Y})^2n_i$$"
   ]
  },
  {
   "cell_type": "markdown",
   "metadata": {
    "id": "spyO9Z-GYo50"
   },
   "source": [
    "$S_{rest}^2$ — the residual sum of the squared deviations:"
   ]
  },
  {
   "cell_type": "markdown",
   "metadata": {
    "id": "v2bZ8BPXYo52"
   },
   "source": [
    "$$S_{rest}^{2} = \\sum\\limits_{i=1}^{k}\\sum\\limits_{j=1}^{n_i}(y_{ij} - \\overline{y}_i)^2$$"
   ]
  },
  {
   "cell_type": "markdown",
   "metadata": {
    "id": "CjaQibE7Yo54"
   },
   "source": [
    "Then the sum of the squares of the deviations of the observations from the overall mean must be equal:"
   ]
  },
  {
   "cell_type": "markdown",
   "metadata": {
    "id": "dpALroqIYo56"
   },
   "source": [
    "$$S^2 = S_F^2 + S_{rest}^2$$"
   ]
  },
  {
   "cell_type": "markdown",
   "metadata": {
    "id": "DOa94RlQYo5-"
   },
   "source": [
    "Then it is necessary to calculate:"
   ]
  },
  {
   "cell_type": "markdown",
   "metadata": {
    "id": "9ydIbtDrYo6A"
   },
   "source": [
    "1) total variance:"
   ]
  },
  {
   "cell_type": "markdown",
   "metadata": {
    "id": "0cusjHApYo6D"
   },
   "source": [
    "$$\\sigma_{total}^{2} = \\frac{S^2}{n - 1} = \\frac{1}{n-1}\\sum\\limits_{i=1}^{k}\\sum\\limits_{j=1}^{n_i}(y_{ij} - \\overline{Y})^2$$"
   ]
  },
  {
   "cell_type": "markdown",
   "metadata": {
    "id": "-fhQ4uEfYo6I"
   },
   "source": [
    "2) factor variance:"
   ]
  },
  {
   "cell_type": "markdown",
   "metadata": {
    "id": "AJguqUuTYo6J"
   },
   "source": [
    "$$\\sigma_{F}^{2} = \\frac{S_{F}^{2}}{k-1} = \\frac{1}{k-1}\\sum\\limits_{i=1}^{k}(\\overline{y}_i - \\overline{Y})^{2}n_i$$"
   ]
  },
  {
   "cell_type": "markdown",
   "metadata": {
    "id": "bycn4uCcYo6L"
   },
   "source": [
    "3) residual variance:"
   ]
  },
  {
   "cell_type": "markdown",
   "metadata": {
    "id": "rjxquHv3Yo6O"
   },
   "source": [
    "$$\\sigma_{rest}^{2} = \\frac{S_{rest}^{2}}{n - k} = \\frac{1}{n - k}\\sum\\limits_{i=1}^{k}\\sum\\limits_{j=1}^{n_i}(y_{ij} - \\overline{y}_i)^2$$"
   ]
  },
  {
   "cell_type": "markdown",
   "metadata": {
    "id": "jr_Tpl8OYo6R"
   },
   "source": [
    "In analysis of variance, the hypothesis $H_0$ is tested to see if the group mean of the quantitative indicator is equal:"
   ]
  },
  {
   "cell_type": "markdown",
   "metadata": {
    "id": "_PH1EnAoYo6U"
   },
   "source": [
    "$$(H_0: \\overline{y}_1 = \\overline{y}_2 = ... = \\overline{y}_k).$$"
   ]
  },
  {
   "cell_type": "markdown",
   "metadata": {
    "id": "VJMVJVQCYo6W"
   },
   "source": [
    "To test this hypothesis, we need to use the ratio:"
   ]
  },
  {
   "cell_type": "markdown",
   "metadata": {
    "id": "yyHcH5WtYo6Y"
   },
   "source": [
    "$$F_H = \\frac{\\sigma_{F}^{2}}{\\sigma_{rest}^{2}}$$"
   ]
  },
  {
   "cell_type": "markdown",
   "metadata": {
    "id": "SGWSpxMYYo6b"
   },
   "source": [
    "If $F_H$ exceeds $F_{crit}$ from the Fisher-Snedekor distribution critical points table for a given significance level $\\alpha$ of two degrees of freedom $df_{median} = k - 1$ (refers to the numerator of the relationship) and $df_{internal} = n - k$ (refers to the denominator), then the samples have different mean values."
   ]
  },
  {
   "cell_type": "markdown",
   "metadata": {
    "id": "cl4XaXzHYo6e"
   },
   "source": [
    "The Fisher-Snedekor tables can be found at the links:"
   ]
  },
  {
   "cell_type": "markdown",
   "metadata": {
    "id": "ZMf8cbNnYo6g"
   },
   "source": [
    "\n",
    "<a href = \"https://studfiles.net/preview/5520526/page:14/\">Fisher-Snedeker critical distribution points</a>\n",
    "        \n",
    "<a href = \"https://www.matburo.ru/tv/table_fisher.pdf\">Fisher-Snedekor distribution (F-distribution)</a>"
   ]
  },
  {
   "cell_type": "markdown",
   "metadata": {
    "id": "yWZboagFYo6i"
   },
   "source": [
    "Another ratio:"
   ]
  },
  {
   "cell_type": "markdown",
   "metadata": {
    "id": "AYofexp6Yo6j"
   },
   "source": [
    "$$\\eta^{2} = \\frac{S_{F}^{2}}{S_{total}^{2}}$$"
   ]
  },
  {
   "cell_type": "markdown",
   "metadata": {
    "id": "uz9W7GVeYo6m"
   },
   "source": [
    "The greater the value of $\\eta^2$ (Greek for \"this\", indicating an empirical correlation, placed between 0 and 1), the more likely it is that the samples have different mean values. It is generally accepted that group mean values below 0.2-0.3 are not statistically significantly different if the $\\eta^2$ value is lower than 0.2-0.3."
   ]
  },
  {
   "cell_type": "markdown",
   "metadata": {
    "id": "ZQ3iGhjLYo6n"
   },
   "source": [
    "**Example 1**"
   ]
  },
  {
   "cell_type": "markdown",
   "metadata": {
    "id": "B_Ag07g6Yo6p"
   },
   "source": [
    "Among the people living in the same city, three groups are distinguished by qualitative feature - professions: accountants, lawyers, programmers. \n",
    "\n",
    "Let us consider a quantitative feature - wages (in thousands of rubles). We need to establish whether the average salaries of these three groups differ when the significance level $\\alpha$ is 0.05. The number of people in each group: accountants - 5, lawyers - 8, programmers - 7."
   ]
  },
  {
   "cell_type": "code",
   "execution_count": null,
   "metadata": {
    "id": "Og2fZ_bgYo6r"
   },
   "outputs": [],
   "source": [
    "import numpy as np"
   ]
  },
  {
   "cell_type": "code",
   "execution_count": null,
   "metadata": {
    "colab": {
     "base_uri": "https://localhost:8080/"
    },
    "id": "5fzwL1OBYo61",
    "outputId": "d6bcbabf-b4f1-45d4-b476-7b432fbec846"
   },
   "outputs": [
    {
     "name": "stdout",
     "output_type": "stream",
     "text": [
      "20\n"
     ]
    }
   ],
   "source": [
    "n1 = 5\n",
    "n2 = 8\n",
    "n3 = 7\n",
    "n = n1 + n2 + n3\n",
    "print(n)"
   ]
  },
  {
   "cell_type": "markdown",
   "metadata": {
    "id": "FJjbiTsqYo7E"
   },
   "source": [
    "There are three groups in total:"
   ]
  },
  {
   "cell_type": "code",
   "execution_count": null,
   "metadata": {
    "id": "sz67ojVvYo7F"
   },
   "outputs": [],
   "source": [
    "k = 3"
   ]
  },
  {
   "cell_type": "markdown",
   "metadata": {
    "id": "O294_P_HYo7N"
   },
   "source": [
    "Salaries of accountants:"
   ]
  },
  {
   "cell_type": "code",
   "execution_count": null,
   "metadata": {
    "id": "XGE3QYnBYo7O"
   },
   "outputs": [],
   "source": [
    "y1 = np.array([70, 50, 65, 60, 75], dtype=np.float64)"
   ]
  },
  {
   "cell_type": "markdown",
   "metadata": {
    "id": "NXP5moMcYo7V"
   },
   "source": [
    "Salaries of lawyers:"
   ]
  },
  {
   "cell_type": "code",
   "execution_count": null,
   "metadata": {
    "id": "0vdLkJVXYo7X"
   },
   "outputs": [],
   "source": [
    "y2 = np.array([80, 75, 90, 70, 75, 65, 85, 100], dtype=np.float64)"
   ]
  },
  {
   "cell_type": "markdown",
   "metadata": {
    "id": "MGaphYCCYo7j"
   },
   "source": [
    "Salaries of programmers:"
   ]
  },
  {
   "cell_type": "code",
   "execution_count": null,
   "metadata": {
    "id": "N0ll1RXdYo7k"
   },
   "outputs": [],
   "source": [
    "y3 = np.array([130, 100, 140, 150, 160, 170, 200], dtype=np.float64)"
   ]
  },
  {
   "cell_type": "markdown",
   "metadata": {
    "collapsed": true,
    "id": "ckgMBMwlYo7r"
   },
   "source": [
    "Let's perform a one-factor analysis of variance. First, find the average wages for each occupation:"
   ]
  },
  {
   "cell_type": "code",
   "execution_count": null,
   "metadata": {
    "colab": {
     "base_uri": "https://localhost:8080/"
    },
    "id": "ZN6FRDI8Yo7s",
    "outputId": "bbca9baa-89f6-4c9e-9cc9-968dd870d971"
   },
   "outputs": [
    {
     "name": "stdout",
     "output_type": "stream",
     "text": [
      "64.0\n"
     ]
    }
   ],
   "source": [
    "y1_mean = np.mean(y1)\n",
    "print(y1_mean)"
   ]
  },
  {
   "cell_type": "code",
   "execution_count": null,
   "metadata": {
    "colab": {
     "base_uri": "https://localhost:8080/"
    },
    "id": "8NIWa2kYYo73",
    "outputId": "7a4d8dc5-7210-4184-9154-c08600b8ea75"
   },
   "outputs": [
    {
     "name": "stdout",
     "output_type": "stream",
     "text": [
      "80.0\n"
     ]
    }
   ],
   "source": [
    "y2_mean = np.mean(y2)\n",
    "print(y2_mean)"
   ]
  },
  {
   "cell_type": "code",
   "execution_count": null,
   "metadata": {
    "colab": {
     "base_uri": "https://localhost:8080/"
    },
    "id": "w3iuWoo8Yo7_",
    "outputId": "a2753d5d-f5f2-4a49-b739-ae9aaaac4bca"
   },
   "outputs": [
    {
     "name": "stdout",
     "output_type": "stream",
     "text": [
      "150.0\n"
     ]
    }
   ],
   "source": [
    "y3_mean = np.mean(y3)\n",
    "print(y3_mean)"
   ]
  },
  {
   "cell_type": "markdown",
   "metadata": {
    "id": "Vptu9qE8Yo8H"
   },
   "source": [
    "It can be seen that the average wages are different. Let us establish that this difference is statistically significant. To do this, we first collect all wage values into one array:"
   ]
  },
  {
   "cell_type": "code",
   "execution_count": null,
   "metadata": {
    "colab": {
     "base_uri": "https://localhost:8080/"
    },
    "id": "XUIg7A9IYo8K",
    "outputId": "184d462c-4029-4f4b-eaa0-41c8040a5dca"
   },
   "outputs": [
    {
     "data": {
      "text/plain": [
       "array([ 70.,  50.,  65.,  60.,  75.,  80.,  75.,  90.,  70.,  75.,  65.,\n",
       "        85., 100., 130., 100., 140., 150., 160., 170., 200.])"
      ]
     },
     "execution_count": 10,
     "metadata": {
      "tags": []
     },
     "output_type": "execute_result"
    }
   ],
   "source": [
    "y_all = np.concatenate([y1, y2, y3])\n",
    "y_all"
   ]
  },
  {
   "cell_type": "markdown",
   "metadata": {
    "id": "FDrC2EgCYo8R"
   },
   "source": [
    "Let's find the average wage across all values:"
   ]
  },
  {
   "cell_type": "code",
   "execution_count": null,
   "metadata": {
    "colab": {
     "base_uri": "https://localhost:8080/"
    },
    "id": "LrmBsYWlYo8U",
    "outputId": "ba77422c-148e-4bc9-9cbf-ea56ed8597bd"
   },
   "outputs": [
    {
     "name": "stdout",
     "output_type": "stream",
     "text": [
      "100.5\n"
     ]
    }
   ],
   "source": [
    "y_mean = np.mean(y_all)\n",
    "print(y_mean)"
   ]
  },
  {
   "cell_type": "markdown",
   "metadata": {
    "id": "WIgxrxamYo8e"
   },
   "source": [
    "Find $S^2$ - the sum of the squares of the deviations of the observations from the overall mean:"
   ]
  },
  {
   "cell_type": "code",
   "execution_count": null,
   "metadata": {
    "colab": {
     "base_uri": "https://localhost:8080/"
    },
    "id": "g49G26gmYo8h",
    "outputId": "3e515b3d-28b9-44e0-b339-00df7292d166"
   },
   "outputs": [
    {
     "data": {
      "text/plain": [
       "34445.0"
      ]
     },
     "execution_count": 12,
     "metadata": {
      "tags": []
     },
     "output_type": "execute_result"
    }
   ],
   "source": [
    "s2 = np.sum((y_all - y_mean)**2)\n",
    "s2"
   ]
  },
  {
   "cell_type": "markdown",
   "metadata": {
    "id": "4pbrI3QEYo8t"
   },
   "source": [
    "Find $S^2_F$ - the sum of the squares of the deviations of the group mean from the overall mean:"
   ]
  },
  {
   "cell_type": "code",
   "execution_count": null,
   "metadata": {
    "colab": {
     "base_uri": "https://localhost:8080/"
    },
    "id": "K0nyMwvGYo8w",
    "outputId": "dd6bb727-7791-43c4-e231-4cba15ab6689"
   },
   "outputs": [
    {
     "data": {
      "text/plain": [
       "27175.0"
      ]
     },
     "execution_count": 13,
     "metadata": {
      "tags": []
     },
     "output_type": "execute_result"
    }
   ],
   "source": [
    "s2_f = ((y1_mean - y_mean)**2) * n1 + ((y2_mean - y_mean)**2) * n2 + ((y3_mean - y_mean)**2) * n3\n",
    "s2_f"
   ]
  },
  {
   "cell_type": "markdown",
   "metadata": {
    "id": "6Y3bn04xYo87"
   },
   "source": [
    "Find $S^2_{ost}$ - the residual sum of the squares of deviations:"
   ]
  },
  {
   "cell_type": "code",
   "execution_count": null,
   "metadata": {
    "colab": {
     "base_uri": "https://localhost:8080/"
    },
    "id": "Z2MbWgt-Yo8-",
    "outputId": "082c3c98-9169-4483-e607-2d32d9b26546"
   },
   "outputs": [
    {
     "data": {
      "text/plain": [
       "3"
      ]
     },
     "execution_count": 14,
     "metadata": {
      "tags": []
     },
     "output_type": "execute_result"
    }
   ],
   "source": [
    "3"
   ]
  },
  {
   "cell_type": "markdown",
   "metadata": {
    "id": "r_o1uLOYYo9F"
   },
   "source": [
    "Let's make sure that the equality is fulfilled $S^2 = S_F^2 + S_{rest}^2$:"
   ]
  },
  {
   "cell_type": "code",
   "execution_count": null,
   "metadata": {
    "colab": {
     "base_uri": "https://localhost:8080/",
     "height": 197
    },
    "id": "s4om9JoYYo9H",
    "outputId": "e87747cf-1d5f-4a33-a39f-de806916549a"
   },
   "outputs": [
    {
     "name": "stdout",
     "output_type": "stream",
     "text": [
      "34445.0\n"
     ]
    },
    {
     "ename": "NameError",
     "evalue": "ignored",
     "output_type": "error",
     "traceback": [
      "\u001b[0;31m---------------------------------------------------------------------------\u001b[0m",
      "\u001b[0;31mNameError\u001b[0m                                 Traceback (most recent call last)",
      "\u001b[0;32m<ipython-input-15-3176248d1c08>\u001b[0m in \u001b[0;36m<module>\u001b[0;34m()\u001b[0m\n\u001b[1;32m      1\u001b[0m \u001b[0mprint\u001b[0m\u001b[0;34m(\u001b[0m\u001b[0ms2\u001b[0m\u001b[0;34m)\u001b[0m\u001b[0;34m\u001b[0m\u001b[0;34m\u001b[0m\u001b[0m\n\u001b[0;32m----> 2\u001b[0;31m \u001b[0mprint\u001b[0m\u001b[0;34m(\u001b[0m\u001b[0ms2_f\u001b[0m \u001b[0;34m+\u001b[0m \u001b[0ms2_residual\u001b[0m\u001b[0;34m)\u001b[0m\u001b[0;34m\u001b[0m\u001b[0;34m\u001b[0m\u001b[0m\n\u001b[0m",
      "\u001b[0;31mNameError\u001b[0m: name 's2_residual' is not defined"
     ]
    }
   ],
   "source": [
    "print(s2)\n",
    "print(s2_f + s2_residual)"
   ]
  },
  {
   "cell_type": "markdown",
   "metadata": {
    "id": "0CSn3JPbYo9N"
   },
   "source": [
    "Let's find the total variance:"
   ]
  },
  {
   "cell_type": "code",
   "execution_count": null,
   "metadata": {
    "id": "poku5it4Yo9O"
   },
   "outputs": [],
   "source": [
    "sigma2_general = s2 / (n - 1)\n",
    "sigma2_general"
   ]
  },
  {
   "cell_type": "markdown",
   "metadata": {
    "id": "GpuU4kg0Yo9W"
   },
   "source": [
    "Let's find the factor variance:"
   ]
  },
  {
   "cell_type": "code",
   "execution_count": null,
   "metadata": {
    "id": "LDEml9L-Yo9Z"
   },
   "outputs": [],
   "source": [
    "sigma2_f = s2_f / (k - 1)\n",
    "sigma2_f"
   ]
  },
  {
   "cell_type": "markdown",
   "metadata": {
    "id": "G5vpR7jyYo9j"
   },
   "source": [
    "Let's find the residual variance:"
   ]
  },
  {
   "cell_type": "code",
   "execution_count": null,
   "metadata": {
    "id": "KeWVYYHfYo9r"
   },
   "outputs": [],
   "source": [
    "sigma2_residual = s2_residual / (n - k)\n",
    "sigma2_residual"
   ]
  },
  {
   "cell_type": "markdown",
   "metadata": {
    "id": "uQirLWssYo9x"
   },
   "source": [
    "Calculate $F_H$:"
   ]
  },
  {
   "cell_type": "code",
   "execution_count": null,
   "metadata": {
    "id": "W9QELM6VYo91"
   },
   "outputs": [],
   "source": [
    "F_h = sigma2_f / sigma2_residual\n",
    "F_h"
   ]
  },
  {
   "cell_type": "markdown",
   "metadata": {
    "id": "7pw0jHLlYo9-"
   },
   "source": [
    "Find the value of $F_{crit}$ in the Fisher-Snedekor distribution critical points table for a given significance level $\\alpha = 0.05$ and two degrees of freedom: \n",
    "\n",
    "$df_{ext} = k - 1 = 3 - 1 = 2$ и $df_{int} = n - k = 20 - 3 = 17$."
   ]
  },
  {
   "cell_type": "markdown",
   "metadata": {
    "id": "WPLuwwbyYo9_"
   },
   "source": [
    "For these values $F_{crit} = 3.59$. Since $F_H > F_{crit}$$, the difference in average wages in the three groups is statistically significant."
   ]
  },
  {
   "cell_type": "markdown",
   "metadata": {
    "id": "gIRQ9JRKYo-B"
   },
   "source": [
    "Also calculate the empirical correlation relation $\\eta^2$:"
   ]
  },
  {
   "cell_type": "code",
   "execution_count": null,
   "metadata": {
    "id": "jb2skTGMYo-D"
   },
   "outputs": [],
   "source": [
    "eta2 = s2_f / s2\n",
    "eta2"
   ]
  },
  {
   "cell_type": "markdown",
   "metadata": {
    "id": "M2g7FJjJYo-M"
   },
   "source": [
    "The value of $\\eta^2$ is close to 1, which means that the difference in average wages between the three groups is statistically significant."
   ]
  },
  {
   "cell_type": "markdown",
   "metadata": {
    "id": "zyWIjbTvYo-O"
   },
   "source": [
    "##### Two-factor analysis of variance"
   ]
  },
  {
   "cell_type": "markdown",
   "metadata": {
    "id": "VgPWRCiyYo-T"
   },
   "source": [
    "The table shows the estimated formulas for the two-factor  \n",
    "analysis of variance with single observations."
   ]
  },
  {
   "cell_type": "markdown",
   "metadata": {
    "id": "2AdPpT4_Yo-V"
   },
   "source": [
    "<img src='https://ru.files.fm/thumb_show.php?i=vppqqgpj&view' width=650>Table 1. Formulas for two-factor analysis of variance with single observations</img>"
   ]
  },
  {
   "cell_type": "markdown",
   "metadata": {
    "id": "FINvfH-TYo-X"
   },
   "source": [
    "#### Factor analysis"
   ]
  },
  {
   "cell_type": "markdown",
   "metadata": {
    "id": "vw5yBA8-Yo-a"
   },
   "source": [
    "Factor analysis (FA) is a way of reducing (synthesizing) the set of directly observable indicators $X_j = \\{x_{ij}\\}$, $(i = 1, 2, ..., n;\\:j = 1, 2, ..., m)$ to a smaller number **Q < m** of new linearly independent factors (attributes, indicators) $Y_q$, ($q$ = 1, 2, ..., $Q$)."
   ]
  },
  {
   "cell_type": "markdown",
   "metadata": {
    "id": "-Zpz-C0ZYo-b"
   },
   "source": [
    "Suppose that the original data are represented as a matrix $X = \\{x_{ij}\\}$, $(i = 1, 2, ..., n;\\:j = 1, 2, ..., m)$, where $n$ is the number of observations, $m$ the indicators."
   ]
  },
  {
   "cell_type": "markdown",
   "metadata": {
    "id": "ASroxCLrYo-d"
   },
   "source": [
    "Knowing that the quantities $X_j$ may have different physical meaning and measurement scales, it is better to go to a standardised raw data matrix $X^{*} = \\{x_{ij}^{*}\\}$ for convenience."
   ]
  },
  {
   "cell_type": "markdown",
   "metadata": {
    "id": "c72EHzv1Yo-d"
   },
   "source": [
    "Here each indicator $X_j^{*}$ has a mean value equal to 0 and a unit variance. In factor analysis, the relationship between the measured indicators and the factors is assumed to be linear:"
   ]
  },
  {
   "cell_type": "markdown",
   "metadata": {
    "id": "BMrusEDAYo-f"
   },
   "source": [
    "$$X_{j}^{*} = \\sum\\limits_{q=1}^{Q}a_{jq}Y_q + U_j,\\;\\sum\\limits_{j=1}^{m}a_{jq}^{2} = 1, \\;q = 1, 2, ..., m,$$"
   ]
  },
  {
   "cell_type": "markdown",
   "metadata": {
    "id": "kqBbuSDiYo-g"
   },
   "source": [
    "where $a_{jq}$ are the coefficients to be determined."
   ]
  },
  {
   "cell_type": "markdown",
   "metadata": {
    "id": "Ssf_xsU9Yo-i"
   },
   "source": [
    "A fair ratio:"
   ]
  },
  {
   "cell_type": "markdown",
   "metadata": {
    "id": "guo16URbYo-j"
   },
   "source": [
    "$$\\sigma_{j}^{2} = \\sum\\limits_{q=1}^{Q}a_{jq}^{2} + U_{j}^{2} = h^2 + U_{j}^{2} = 1,$$"
   ]
  },
  {
   "cell_type": "markdown",
   "metadata": {
    "id": "aXnuXodwYo-l"
   },
   "source": [
    "where $h^2$, $U_j^2$ are the generality and specificity of the **j**th indicator, respectively."
   ]
  },
  {
   "cell_type": "markdown",
   "metadata": {
    "id": "OEgcLY_tYo-n"
   },
   "source": [
    "This equality holds if the variables are standardised, not correlated and a linear model is used for the study. The estimation of $h_j^2$ is determined before the factors are identified, and this is the first problem.\n",
    "\n",
    "The second is that it is difficult to determine the number of factors and the kind of coordinate axes used to represent $m$ variables. Centroid, principal component and factor models are used."
   ]
  },
  {
   "cell_type": "markdown",
   "metadata": {
    "id": "qOuTNlFEYo-p"
   },
   "source": [
    "If there are problems with the factors, constraints must be imposed to uniquely define the system of equations $R = A\\cdot{A^T} + U^2$, where $A^T$ is the transpose matrix of factor loadings."
   ]
  },
  {
   "cell_type": "markdown",
   "metadata": {
    "id": "LKQ16HRtYo-r"
   },
   "source": [
    "The factor extraction procedure has infinitely many equivalent solutions, satisfying the equality $R^h = A\\cdot{A^T}$."
   ]
  },
  {
   "cell_type": "markdown",
   "metadata": {
    "id": "tTm5s9z5Yo-t"
   },
   "source": [
    "To solve the rotation problem, in the common factor space we have already established, the simplest factor explanation (maximum loadings for some factors, minimum loadings for others) must be determined for each variable."
   ]
  },
  {
   "cell_type": "markdown",
   "metadata": {
    "id": "l95GJqy2Yo-t"
   },
   "source": [
    "The final result of factor analysis is to obtain meaningfully interpreted factors that reproduce a matrix of correlation coefficients between variables. For a single observation (object) we have:"
   ]
  },
  {
   "cell_type": "markdown",
   "metadata": {
    "id": "ItgCDWt_Yo-w"
   },
   "source": [
    "$$x_{ij}^{*} = \\sum\\limits_{q=1}^{Q}a_{jq}y_{iq} + U_j, \\: i = \\overline{1, n}; \\: j = \\overline{1, m}.$$"
   ]
  },
  {
   "cell_type": "markdown",
   "metadata": {
    "id": "w12R3gLDYo-y"
   },
   "source": [
    "Here $y_{iq}$ is the value of factor **q** at **i**th object. We measure the factors on the basis of equality:"
   ]
  },
  {
   "cell_type": "markdown",
   "metadata": {
    "id": "moqJ8VrrYo-z"
   },
   "source": [
    "$$Y = A^{T}X, \\; y_{iq} = \\sum\\limits_{j=1}^{m}a_{jq}x_{ij}; \\; i = \\overline{1, n}, \\; q = \\overline{1, m}.$$"
   ]
  },
  {
   "cell_type": "markdown",
   "metadata": {
    "id": "-DKDebq6Yo-1"
   },
   "source": [
    "##### Logistic regression"
   ]
  },
  {
   "cell_type": "markdown",
   "metadata": {
    "id": "gbv67jErYo-2"
   },
   "source": [
    "Let $Y_i$ denote the value of the variable $Y, i = 1, ..., n$, where $n$ is the number of choices, and the values of $X_i = (x_{il}, ..., x_{jk})$ of the choice and choice factors. Consider the linear probability model:"
   ]
  },
  {
   "cell_type": "markdown",
   "metadata": {
    "id": "QRkSHcZ8Yo-4"
   },
   "source": [
    "$$Y_i = F(X_{i}\\beta^{T}) = \\beta_{1} x_{1i} + \\beta_{2} x_{2i} + ... + \\beta_{k} x_{ki} + \\varepsilon_{i}$$."
   ]
  },
  {
   "cell_type": "markdown",
   "metadata": {
    "id": "kWI3J86wYo-5"
   },
   "source": [
    "where $\\beta$ is the vector of regression coefficients, $\\varepsilon_{i}$ is an independently distributed random variable with zero mathematical expectation (hereinafter random error). It follows from the assumption of zero mathematical expectation of the random error that it only takes discrete values. Since $Y_i$ takes only two values, it is obvious that:"
   ]
  },
  {
   "cell_type": "markdown",
   "metadata": {
    "id": "d4RIIwScYo-7"
   },
   "source": [
    "$$E(Y_i) = 1 \\cdot {P(Y_i=1)} + 0 \\cdot {P(Y_i = 0)} = P(Y_i = 1) = F(X_i \\beta^T)$$"
   ]
  },
  {
   "cell_type": "markdown",
   "metadata": {
    "id": "FVrxu16AYo-8"
   },
   "source": [
    "The model can be written in the form:"
   ]
  },
  {
   "cell_type": "markdown",
   "metadata": {
    "id": "k43MnVuRYo-9"
   },
   "source": [
    "$$P(Y_i=1) = F(X_i \\beta^T) = X_i \\beta^T$$"
   ]
  },
  {
   "cell_type": "markdown",
   "metadata": {
    "id": "LP-w8lK7Yo_H"
   },
   "source": [
    "A binary choice model based on the distribution function $F(z)$, whose range of values lies in the interval $[0, 1]$, is as follows:"
   ]
  },
  {
   "cell_type": "markdown",
   "metadata": {
    "id": "ZrMXSGHvYo_I"
   },
   "source": [
    "$$P_i = F(X_i \\beta^T)$$"
   ]
  },
  {
   "cell_type": "markdown",
   "metadata": {
    "id": "Ypo0h2AeYo_K"
   },
   "source": [
    "The logistics distribution function"
   ]
  },
  {
   "cell_type": "markdown",
   "metadata": {
    "id": "cYTLVweKYo_b"
   },
   "source": [
    "$$F(X_i \\beta^T) = \\frac{e^{X_i \\beta^T}}{1 + e^{X_i \\beta^T}} = \\frac{1}{1 + e^{-X_i \\beta^T}} = \\Lambda(X_i \\beta^T)$$"
   ]
  },
  {
   "cell_type": "markdown",
   "metadata": {
    "id": "QOWr0b45Yo_c"
   },
   "source": [
    "is called a logit model."
   ]
  }
 ],
 "metadata": {
  "colab": {
   "collapsed_sections": [],
   "name": "Матстат - Урок 8.ipynb",
   "provenance": []
  },
  "kernelspec": {
   "display_name": "Python 3",
   "language": "python",
   "name": "python3"
  },
  "language_info": {
   "codemirror_mode": {
    "name": "ipython",
    "version": 3
   },
   "file_extension": ".py",
   "mimetype": "text/x-python",
   "name": "python",
   "nbconvert_exporter": "python",
   "pygments_lexer": "ipython3",
   "version": "3.8.5"
  }
 },
 "nbformat": 4,
 "nbformat_minor": 1
}
