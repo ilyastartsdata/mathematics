{
 "cells": [
  {
   "cell_type": "markdown",
   "metadata": {
    "id": "Kd6T723GKP4U"
   },
   "source": [
    "## Lesson 6"
   ]
  },
  {
   "cell_type": "markdown",
   "metadata": {
    "id": "kCDeDOwqKP4d"
   },
   "source": [
    "### The correlation of values. Parametric and non-parametric measures of correlation. \n",
    "\n",
    "### Correlation analysis"
   ]
  },
  {
   "cell_type": "markdown",
   "metadata": {
    "id": "xUQNl66OKP4g"
   },
   "source": [
    "**Correlation**  — is a mathematical indicator by which to judge whether there is a statistical relationship between random variables. If there is such a relationship, changes in the value of one variable affect the other.\n",
    "\n",
    "\n",
    "**Correlation coefficient** indicates how great the relationship is. It is denoted by $R$ or $r$ and can take values from -1 to 1 inclusive."
   ]
  },
  {
   "cell_type": "markdown",
   "metadata": {
    "collapsed": true,
    "id": "j_kjlhujKP4j"
   },
   "source": [
    "When the correlation coefficient is close to 1, there is a **direct** relationship between the quantities: an increase in one quantity is accompanied by an increase in the other, and similarly a decrease in one quantity is accompanied by a decrease in the other.\n",
    "\n",
    "If the correlation coefficient is close to -1, there is an **inverse** correlation between the quantities: an increase in one quantity is accompanied by a decrease in the other and vice versa.\n",
    "\n",
    "A correlation coefficient close to 0 indicates that there is **no relationship** between the quantities, i.e. there is a change in the quantities independently of each other, or there is only a non-linear relationship."
   ]
  },
  {
   "cell_type": "markdown",
   "metadata": {
    "id": "rTj2_4NEKP4l"
   },
   "source": [
    "**Example 1**"
   ]
  },
  {
   "cell_type": "markdown",
   "metadata": {
    "id": "ZMhj93DHKP4q"
   },
   "source": [
    "Let's calculate the correlation between height and weight of hockey players from the dataset discussed earlier."
   ]
  },
  {
   "cell_type": "code",
   "execution_count": null,
   "metadata": {
    "id": "O04IbTLXKP4v"
   },
   "outputs": [],
   "source": [
    "import numpy as np\n",
    "import pandas as pd"
   ]
  },
  {
   "cell_type": "code",
   "execution_count": null,
   "metadata": {
    "id": "zyT40MYOKP5C"
   },
   "outputs": [],
   "source": [
    "df = pd.read_csv('csv/hockey_players.csv', encoding='cp1251', parse_dates=['birth'])\n",
    "df = df.drop_duplicates(['name', 'birth'])"
   ]
  },
  {
   "cell_type": "markdown",
   "metadata": {
    "id": "c4Bs4QM8KP5X"
   },
   "source": [
    "To do this, use the **corr** method from the **pandas** library:"
   ]
  },
  {
   "cell_type": "code",
   "execution_count": null,
   "metadata": {
    "id": "IDixqzBQKP5b",
    "outputId": "62ae15a0-6cea-450a-fb93-87b788ce9637"
   },
   "outputs": [
    {
     "data": {
      "text/html": [
       "<div>\n",
       "<style scoped>\n",
       "    .dataframe tbody tr th:only-of-type {\n",
       "        vertical-align: middle;\n",
       "    }\n",
       "\n",
       "    .dataframe tbody tr th {\n",
       "        vertical-align: top;\n",
       "    }\n",
       "\n",
       "    .dataframe thead th {\n",
       "        text-align: right;\n",
       "    }\n",
       "</style>\n",
       "<table border=\"1\" class=\"dataframe\">\n",
       "  <thead>\n",
       "    <tr style=\"text-align: right;\">\n",
       "      <th></th>\n",
       "      <th>height</th>\n",
       "      <th>weight</th>\n",
       "    </tr>\n",
       "  </thead>\n",
       "  <tbody>\n",
       "    <tr>\n",
       "      <th>height</th>\n",
       "      <td>1.000000</td>\n",
       "      <td>0.693731</td>\n",
       "    </tr>\n",
       "    <tr>\n",
       "      <th>weight</th>\n",
       "      <td>0.693731</td>\n",
       "      <td>1.000000</td>\n",
       "    </tr>\n",
       "  </tbody>\n",
       "</table>\n",
       "</div>"
      ],
      "text/plain": [
       "          height    weight\n",
       "height  1.000000  0.693731\n",
       "weight  0.693731  1.000000"
      ]
     },
     "execution_count": 6,
     "metadata": {
      "tags": []
     },
     "output_type": "execute_result"
    }
   ],
   "source": [
    "corr_matrix = df.loc[:, ['height', 'weight']].corr()\n",
    "corr_matrix"
   ]
  },
  {
   "cell_type": "markdown",
   "metadata": {
    "id": "54n8mVpfKP5y"
   },
   "source": [
    "We obtained a correlation matrix. The correlation between height and weight is quite high and has a value almost equal to 0.7:"
   ]
  },
  {
   "cell_type": "code",
   "execution_count": null,
   "metadata": {
    "id": "FG5WGiW-KP50",
    "outputId": "cd0d6a41-d1c8-407d-8617-5dc04761a5b3"
   },
   "outputs": [
    {
     "data": {
      "text/plain": [
       "0.69373056796630506"
      ]
     },
     "execution_count": 7,
     "metadata": {
      "tags": []
     },
     "output_type": "execute_result"
    }
   ],
   "source": [
    "corr_matrix.loc['height', 'weight']"
   ]
  },
  {
   "cell_type": "markdown",
   "metadata": {
    "id": "E47g60aWKP6A"
   },
   "source": [
    "The correlation is positive, so we can conclude that the taller a hockey player is, the greater his weight is usually."
   ]
  },
  {
   "cell_type": "markdown",
   "metadata": {
    "id": "CD44TSUBKP6F"
   },
   "source": [
    "#### Relationship of values"
   ]
  },
  {
   "cell_type": "markdown",
   "metadata": {
    "id": "rShFAjXDKP6I"
   },
   "source": [
    "If two variables are correlated, this may indicate that there is a **statistical relationship** between them. And we can say that there is a correlation for the variables in one sample, which does not guarantee that the same relationship will be found in another sample and must be of the same nature. \n",
    "\n",
    "Correlation analysis is simple to interpret, so a statistician can draw the false conclusion that there is a causal relationship between these characteristics. Such a conclusion cannot be drawn on the basis of the correlation coefficient - it can only be said that there is a statistical relationship between the characteristics."
   ]
  },
  {
   "cell_type": "markdown",
   "metadata": {
    "collapsed": true,
    "id": "3G4ElBxJKP6K"
   },
   "source": [
    "For example, if we look at data on fires in a city, we can see that there is a strong correlation between the material loss caused by a fire and the number of firefighters who have been involved in putting it out.\n",
    "\n",
    "It would be false to conclude that a large number of firefighters present at a fire results in an increase in fire damage. It can lead to the wrong decision - to reduce the fire brigade in order to reduce material losses."
   ]
  },
  {
   "cell_type": "markdown",
   "metadata": {
    "id": "aSEcxm_nKP6M"
   },
   "source": [
    "Another example of how correlated values can send statistics on a false trail: in cities with high crime rates, the number of police officers is often high too. There is a positive correlation between the number of police officers and crime. The false conclusion that can be drawn in such a case is to decide that an increase in the number of police officers has caused the increased crime rate, and to reduce the number of law enforcement officers in order to reduce the crime rate."
   ]
  },
  {
   "cell_type": "markdown",
   "metadata": {
    "id": "nbPvHdQ-KP6O"
   },
   "source": [
    "If the covariance is not zero, the two random variables are dependent."
   ]
  },
  {
   "cell_type": "markdown",
   "metadata": {
    "id": "EbGcE3NeKP6Q"
   },
   "source": [
    "A high **correlation** of the two quantities may indicate that they have a **common cause** - even though \n",
    "\n",
    "there is no direct interaction between the two correlated variables. For example, the onset of winter might be the cause of both \n",
    "\n",
    "of colds and higher heating costs. This is exactly the case when the two variables (number of people getting sick \n",
    "\n",
    "the number of people getting sick and the heating costs) are correlated although they do not influence one another directly.\n",
    "\n",
    "They do, however, have a common cause - the winter season."
   ]
  },
  {
   "cell_type": "markdown",
   "metadata": {
    "id": "1G-oFP8LKP6R"
   },
   "source": [
    "A lack of correlation between two variables does not mean that there is no relationship between the indicators. \n",
    "\n",
    "It is possible that there is a non-linear relationship between the indicators, which the correlation coefficient cannot capture."
   ]
  },
  {
   "cell_type": "markdown",
   "metadata": {
    "id": "FRgWU11_KP6U"
   },
   "source": [
    "**Correlation indicators**"
   ]
  },
  {
   "cell_type": "markdown",
   "metadata": {
    "id": "0hXxVoFuKP6V"
   },
   "source": [
    "Depending on the nature of the variables, a suitable method of calculating the correlation coefficient can be chosen.\n",
    "\n",
    "For interval and quantitative traits, Pearson's correlation coefficient ($r$), which refers to parametric measures of correlation, is used. If at least one of the two traits is ordinal or its distribution is not normal, Spearman's rank correlation or Kendall's $\\tau$ are used, which are non-parametric correlation measures."
   ]
  },
  {
   "cell_type": "markdown",
   "metadata": {
    "id": "i1J_ym-RKP6X"
   },
   "source": [
    "**Covariance**"
   ]
  },
  {
   "cell_type": "markdown",
   "metadata": {
    "id": "uf6rvhfVKP6a"
   },
   "source": [
    "Covariance, or correlation momentum, is a parametric measure of the joint distribution of two signs. It is equal to the mathematical expectation of the product of the deviations of the random variables:"
   ]
  },
  {
   "cell_type": "markdown",
   "metadata": {
    "id": "l46rvHB5KP6f"
   },
   "source": [
    "$$cov_{XY} = M[(X - M(X))(Y - M(Y))] = M(XY) - M(X)M(Y)=\\overline{X \\cdot Y} - \\overline{X} \\cdot \\overline{Y}$$"
   ]
  },
  {
   "cell_type": "markdown",
   "metadata": {
    "id": "yJVQYCbeKP6j"
   },
   "source": [
    "where $M$ — expected value, $\\overline{X} \\: and \\:\\overline{Y}$ — sample average."
   ]
  },
  {
   "cell_type": "markdown",
   "metadata": {
    "id": "bRr95fd-KP6o"
   },
   "source": [
    "The dimensionality of covariance, which is equal to the product of the dimensionality of the random variables, is their scale, i.e. the value of covariance depends on the units of the independent variables. Therefore, covariance is difficult to apply to correlation analysis."
   ]
  },
  {
   "cell_type": "markdown",
   "metadata": {
    "id": "znWligpAKP6r"
   },
   "source": [
    "Knowing the covariance and the standard deviation of each of the two traits, the Pearson correlation coefficient can be calculated:"
   ]
  },
  {
   "cell_type": "markdown",
   "metadata": {
    "id": "LkSxJhDYKP6u"
   },
   "source": [
    "$$r_{XY} = \\frac{cov_{XY}}{\\sigma_{X}\\sigma_{Y}}$$"
   ]
  },
  {
   "cell_type": "markdown",
   "metadata": {
    "id": "TgaYK2I-KP6w"
   },
   "source": [
    "**Correlation analysis**"
   ]
  },
  {
   "cell_type": "markdown",
   "metadata": {
    "id": "hjSiZTGUKP6y"
   },
   "source": [
    "Correlation analysis is a method of statistical data processing that can determine the closeness of the relationship between several indicators. Correlation analysis is closely related to regression analysis. It is commonly referred to as correlation and regression analysis - using it, we can determine the inclusion and exclusion of indicators in a multiple regression equation. And by applying the coefficient of determination, the resulting regression equation can be assessed for consistency with the relationships identified."
   ]
  },
  {
   "cell_type": "markdown",
   "metadata": {
    "id": "A8aXQIbxKP61"
   },
   "source": [
    "**Limitations of correlation analysis**"
   ]
  },
  {
   "cell_type": "markdown",
   "metadata": {
    "id": "BnLGTC0LKP64"
   },
   "source": [
    "Consider the following limitations of correlation analysis:\n",
    "\n",
    "1. In order to apply correlation analysis, a large number of observations are required.\n",
    "\n",
    "\n",
    "2. The set of factor characteristics and the resulting trait must have a multivariate normal distribution.\n",
    "\n",
    "\n",
    "3. Although the method is simple and straightforward, it does not accurately establish a causal relationship."
   ]
  },
  {
   "cell_type": "markdown",
   "metadata": {
    "id": "mAlAKIUfKP66"
   },
   "source": [
    "Correlation analysis is used in many fields: economics, astrophysics, psychology, political science and sociology.\n",
    "    \n",
    "This method of information processing is popular because it is easy to calculate and interpret, and convenient when processing statistical information."
   ]
  }
 ],
 "metadata": {
  "colab": {
   "collapsed_sections": [],
   "name": "Матстат - Урок 6.ipynb",
   "provenance": []
  },
  "kernelspec": {
   "display_name": "Python 3",
   "language": "python",
   "name": "python3"
  },
  "language_info": {
   "codemirror_mode": {
    "name": "ipython",
    "version": 3
   },
   "file_extension": ".py",
   "mimetype": "text/x-python",
   "name": "python",
   "nbconvert_exporter": "python",
   "pygments_lexer": "ipython3",
   "version": "3.8.5"
  }
 },
 "nbformat": 4,
 "nbformat_minor": 1
}
