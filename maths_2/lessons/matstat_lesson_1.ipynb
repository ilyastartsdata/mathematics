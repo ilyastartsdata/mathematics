{
 "cells": [
  {
   "cell_type": "markdown",
   "metadata": {
    "id": "G2wMw7vtsFIu"
   },
   "source": [
    "# Lesson 1\n",
    "## Probability theory\n",
    "### Random events. Conditional probability. Bayes formula.  Independent trials."
   ]
  },
  {
   "cell_type": "markdown",
   "metadata": {
    "id": "Rc3tqLLnsFIw"
   },
   "source": [
    "A **random event** is one that may or may not happen under certain conditions."
   ]
  },
  {
   "cell_type": "markdown",
   "metadata": {
    "id": "FC9PxSnisFIx"
   },
   "source": [
    "Examples of a random event:\n",
    "1. When two dice are rolled, the number 1 appears on one and the number 2 appears on the other.\n",
    "2. A bank customer has not paid back a loan.\n",
    "3. The temperature in Moscow over the last ten days has not exceeded 29 degrees Celsius.\n",
    "4. A coin was flipped a hundred times, an eagle fell out on 55 occasions. "
   ]
  },
  {
   "cell_type": "markdown",
   "metadata": {
    "id": "tkBVPAfesFIz"
   },
   "source": [
    "An event can be called **reliable** if, as a result of the test, it is bound to happen.\n",
    "\n",
    "An **unlikely** event will never happen."
   ]
  },
  {
   "cell_type": "markdown",
   "metadata": {
    "id": "WLQz_jrfsFI0"
   },
   "source": [
    "Examples of a credible event:\n",
    "1. A number not exceeding 6 is rolled on a dice.\n",
    "2. A coin is flipped and either heads or tails fall.\n",
    "3. The coin is flipped a hundred times and tails are not more than 100 times."
   ]
  },
  {
   "cell_type": "markdown",
   "metadata": {
    "id": "iHTQaZmusFI2"
   },
   "source": [
    "Examples of an impossible event:\n",
    "1. Two dice are rolled once and the sum of the numbers is 15.\n",
    "2. A coin was tossed a hundred times and tails came up 55 times and heads up 56 times.\n",
    "3. Three dice were rolled once and the sum of the numbers was 2."
   ]
  },
  {
   "cell_type": "markdown",
   "metadata": {
    "id": "vLMk77MjsFI3"
   },
   "source": [
    "For a random event, there is a concept of **relative frequency**, which is the ratio of the number of events that occurred to the total number of trials:"
   ]
  },
  {
   "cell_type": "markdown",
   "metadata": {
    "id": "wc6A4Ec4sFI4"
   },
   "source": [
    "$$W(A) = \\frac{m}{n}$$"
   ]
  },
  {
   "cell_type": "markdown",
   "metadata": {
    "id": "0DfzFHbLsFI5"
   },
   "source": [
    "In the formula $W(A)$ is the relative frequency of event $A$;\n",
    "\n",
    "$m$ is the number of events $A$ occurred;\n",
    "\n",
    "$n$ is the total number of trials."
   ]
  },
  {
   "cell_type": "markdown",
   "metadata": {
    "id": "kB3g50kmwvAh"
   },
   "source": [
    "Let's look at examples of random events."
   ]
  },
  {
   "cell_type": "markdown",
   "metadata": {
    "id": "9c-YkL7fwvAk"
   },
   "source": [
    "**Example 1**"
   ]
  },
  {
   "cell_type": "markdown",
   "metadata": {
    "id": "1_9_LCYmsFJC"
   },
   "source": [
    "Simulate a 60-fold roll of the dice with the function [random.randint](https://docs.scipy.org/doc/numpy-1.15.1/reference/generated/numpy.random.randint.html) library **numpy**, which means $n$ = 60.\n",
    "\n",
    "The event $A$ will be the number 3 and find its relative frequency."
   ]
  },
  {
   "cell_type": "code",
   "execution_count": null,
   "metadata": {
    "colab": {
     "base_uri": "https://localhost:8080/"
    },
    "id": "hCLkAkshsFJE",
    "outputId": "8fafb13f-1533-40cf-f037-73fc46ac398b"
   },
   "outputs": [
    {
     "data": {
      "text/plain": [
       "array([6, 4, 5, 2, 1, 1, 3, 4, 5, 3, 2, 5, 2, 4, 6, 1, 5, 3, 6, 3, 6, 1,\n",
       "       1, 1, 4, 4, 5, 2, 5, 1, 6, 4, 2, 5, 3, 3, 2, 2, 3, 2, 3, 3, 2, 3,\n",
       "       1, 2, 5, 6, 4, 2, 2, 1, 4, 3, 3, 2, 3, 4, 5, 3])"
      ]
     },
     "execution_count": 1,
     "metadata": {
      "tags": []
     },
     "output_type": "execute_result"
    }
   ],
   "source": [
    "import numpy as np\n",
    "\n",
    "n = 60\n",
    "\n",
    "b = np.random.randint(1, 7, size=n)\n",
    "b"
   ]
  },
  {
   "cell_type": "markdown",
   "metadata": {
    "id": "cKqcXnQksFJN"
   },
   "source": [
    "Calculate the power of the subset where the number 3 fell out as a result of the test, that is, the event $A$ was observed:"
   ]
  },
  {
   "cell_type": "code",
   "execution_count": null,
   "metadata": {
    "colab": {
     "base_uri": "https://localhost:8080/"
    },
    "id": "R1XSM8SPsFJO",
    "outputId": "b1cc05c1-9aff-4b9f-cdb2-53fb49e36772"
   },
   "outputs": [
    {
     "data": {
      "text/plain": [
       "14"
      ]
     },
     "execution_count": 4,
     "metadata": {
      "tags": []
     },
     "output_type": "execute_result"
    }
   ],
   "source": [
    "m = len(b[b==3])\n",
    "m"
   ]
  },
  {
   "cell_type": "markdown",
   "metadata": {
    "id": "YRkBCTgosFJV"
   },
   "source": [
    "Now we can calculate the relative frequency of the event $A$:"
   ]
  },
  {
   "cell_type": "code",
   "execution_count": null,
   "metadata": {
    "colab": {
     "base_uri": "https://localhost:8080/"
    },
    "id": "Lxfgfn5CsFJV",
    "outputId": "54a97b1a-9b2b-4870-cade-75d74b9a97da"
   },
   "outputs": [
    {
     "data": {
      "text/plain": [
       "0.23333333333333334"
      ]
     },
     "execution_count": 5,
     "metadata": {
      "tags": []
     },
     "output_type": "execute_result"
    }
   ],
   "source": [
    "W = m / n\n",
    "W"
   ]
  },
  {
   "cell_type": "markdown",
   "metadata": {
    "id": "xcJc6quGsFJZ"
   },
   "source": [
    "**Example 2**"
   ]
  },
  {
   "cell_type": "markdown",
   "metadata": {
    "id": "grrDgheusFJb"
   },
   "source": [
    "Let's look at a more complicated example. Let us simulate a situation where two dice are rolled.\n",
    "\n",
    "We will find the frequency of a random event $B$ where the first dice rolled 1 and the second dice rolled 2. \n",
    "\n",
    "Let us perform 360 tests for this purpose. Immediately set the number $n$:"
   ]
  },
  {
   "cell_type": "code",
   "execution_count": null,
   "metadata": {
    "id": "ZgdkvS6JsFJd"
   },
   "outputs": [],
   "source": [
    "n = 360"
   ]
  },
  {
   "cell_type": "code",
   "execution_count": null,
   "metadata": {
    "id": "tkrxw9XzqfOt"
   },
   "outputs": [],
   "source": []
  },
  {
   "cell_type": "code",
   "execution_count": null,
   "metadata": {
    "id": "G-SUa6U4sFJf"
   },
   "outputs": [],
   "source": [
    "c = np.random.randint(1, 7, size=n)\n",
    "d = np.random.randint(1, 7, size=n)"
   ]
  },
  {
   "cell_type": "code",
   "execution_count": null,
   "metadata": {
    "colab": {
     "base_uri": "https://localhost:8080/"
    },
    "id": "gSc8u_8qsFJi",
    "outputId": "2ede4892-b113-47f3-bbb6-52b8a87e9608"
   },
   "outputs": [
    {
     "data": {
      "text/plain": [
       "array([1, 1, 6, 3, 3, 5, 3, 6, 2, 4, 1, 1, 5, 3, 5, 3, 4, 6, 5, 5, 6, 3,\n",
       "       5, 4, 3, 6, 3, 4, 5, 4, 3, 1, 4, 5, 1, 6, 5, 6, 3, 4, 3, 3, 3, 4,\n",
       "       5, 2, 4, 2, 1, 6, 6, 5, 6, 3, 5, 3, 4, 2, 6, 6, 1, 1, 5, 5, 6, 5,\n",
       "       3, 5, 4, 6, 3, 1, 3, 6, 1, 1, 6, 5, 2, 1, 2, 4, 6, 6, 4, 1, 6, 6,\n",
       "       5, 2, 1, 4, 3, 4, 1, 1, 3, 4, 4, 2, 4, 1, 6, 6, 5, 2, 6, 2, 3, 5,\n",
       "       1, 3, 3, 6, 3, 2, 1, 6, 3, 5, 4, 2, 2, 4, 5, 6, 4, 5, 5, 6, 2, 5,\n",
       "       3, 6, 1, 3, 6, 3, 4, 5, 2, 4, 2, 2, 2, 3, 1, 3, 4, 4, 1, 4, 1, 6,\n",
       "       3, 6, 3, 6, 6, 4, 6, 3, 3, 5, 4, 2, 3, 2, 6, 6, 1, 5, 2, 3, 5, 1,\n",
       "       5, 3, 3, 5, 5, 1, 3, 2, 6, 2, 2, 5, 3, 5, 2, 6, 2, 3, 5, 3, 5, 1,\n",
       "       2, 6, 5, 6, 4, 2, 2, 2, 2, 3, 2, 6, 1, 1, 1, 5, 6, 5, 5, 5, 1, 6,\n",
       "       3, 5, 1, 5, 2, 5, 3, 6, 1, 3, 5, 4, 2, 3, 1, 4, 2, 3, 6, 3, 6, 5,\n",
       "       4, 6, 3, 1, 4, 6, 4, 3, 2, 1, 6, 2, 4, 4, 6, 1, 5, 2, 4, 6, 6, 6,\n",
       "       6, 4, 4, 4, 3, 5, 2, 2, 1, 1, 4, 5, 1, 4, 5, 2, 6, 3, 2, 2, 5, 1,\n",
       "       3, 6, 4, 4, 1, 3, 3, 1, 6, 3, 1, 5, 4, 1, 5, 2, 2, 3, 1, 6, 3, 3,\n",
       "       4, 3, 1, 5, 3, 6, 6, 2, 3, 4, 1, 1, 1, 5, 2, 6, 2, 1, 1, 4, 1, 2,\n",
       "       6, 3, 3, 3, 5, 4, 6, 5, 4, 2, 5, 4, 2, 1, 2, 5, 3, 1, 5, 2, 1, 1,\n",
       "       5, 2, 6, 4, 3, 5, 5, 3])"
      ]
     },
     "execution_count": 8,
     "metadata": {
      "tags": []
     },
     "output_type": "execute_result"
    }
   ],
   "source": [
    "c"
   ]
  },
  {
   "cell_type": "code",
   "execution_count": null,
   "metadata": {
    "colab": {
     "base_uri": "https://localhost:8080/"
    },
    "id": "wUV65YC_sFJk",
    "outputId": "e8736122-1afd-4fe2-f896-fe0fa16f6305"
   },
   "outputs": [
    {
     "data": {
      "text/plain": [
       "array([2, 5, 5, 5, 6, 6, 5, 3, 4, 4, 5, 2, 3, 5, 4, 5, 6, 4, 5, 3, 3, 3,\n",
       "       1, 6, 2, 4, 4, 2, 3, 3, 6, 5, 1, 1, 1, 4, 4, 5, 3, 5, 2, 6, 1, 3,\n",
       "       5, 4, 1, 1, 2, 6, 5, 3, 3, 5, 5, 2, 2, 2, 6, 1, 1, 3, 1, 5, 2, 4,\n",
       "       5, 2, 6, 4, 1, 2, 1, 4, 1, 4, 3, 4, 5, 2, 3, 6, 6, 1, 1, 2, 6, 6,\n",
       "       4, 2, 6, 3, 5, 1, 4, 1, 5, 2, 5, 6, 3, 4, 3, 5, 5, 6, 5, 2, 1, 3,\n",
       "       3, 5, 1, 5, 5, 3, 3, 3, 1, 4, 3, 5, 5, 5, 2, 1, 1, 4, 4, 3, 3, 6,\n",
       "       1, 5, 3, 4, 1, 2, 6, 5, 5, 1, 2, 5, 3, 1, 4, 1, 2, 3, 6, 5, 1, 1,\n",
       "       4, 6, 6, 2, 3, 2, 2, 6, 1, 5, 2, 2, 6, 5, 2, 3, 1, 6, 2, 3, 2, 4,\n",
       "       2, 1, 3, 1, 5, 5, 1, 6, 2, 5, 4, 4, 4, 2, 5, 3, 1, 5, 3, 3, 2, 6,\n",
       "       6, 1, 1, 1, 1, 6, 2, 5, 6, 1, 4, 3, 1, 1, 2, 5, 3, 5, 3, 5, 1, 3,\n",
       "       3, 1, 1, 5, 2, 1, 4, 6, 3, 5, 6, 4, 5, 2, 5, 2, 4, 3, 4, 2, 4, 4,\n",
       "       6, 2, 6, 4, 4, 3, 5, 3, 4, 4, 6, 1, 3, 3, 3, 5, 1, 5, 2, 2, 1, 2,\n",
       "       6, 2, 5, 3, 2, 3, 2, 4, 5, 2, 5, 5, 4, 3, 4, 4, 2, 1, 2, 3, 1, 5,\n",
       "       2, 2, 2, 2, 3, 5, 5, 1, 1, 2, 1, 1, 5, 2, 3, 1, 3, 6, 3, 2, 5, 5,\n",
       "       6, 5, 6, 6, 2, 5, 4, 3, 6, 3, 4, 4, 3, 5, 4, 6, 6, 3, 2, 6, 2, 3,\n",
       "       5, 5, 1, 5, 2, 1, 3, 4, 3, 4, 4, 4, 6, 2, 4, 6, 1, 5, 4, 4, 5, 3,\n",
       "       5, 2, 5, 3, 6, 5, 3, 2])"
      ]
     },
     "execution_count": 9,
     "metadata": {
      "tags": []
     },
     "output_type": "execute_result"
    }
   ],
   "source": [
    "d"
   ]
  },
  {
   "cell_type": "markdown",
   "metadata": {
    "id": "ATgZiDOgsFJm"
   },
   "source": [
    "Numbers at the same position in the $c$ and $d$ arrays will be considered as results obtained in one trial.\n",
    "\n",
    "In the first trial the number $c[0]$ fell on the dice #1, and the number $d[0]$ fell on #2."
   ]
  },
  {
   "cell_type": "code",
   "execution_count": null,
   "metadata": {
    "colab": {
     "base_uri": "https://localhost:8080/"
    },
    "id": "SkEtXZxHsFJn",
    "outputId": "03001619-c8b5-4e20-87e4-105ce56ce098"
   },
   "outputs": [
    {
     "data": {
      "text/plain": [
       "1"
      ]
     },
     "execution_count": 10,
     "metadata": {
      "tags": []
     },
     "output_type": "execute_result"
    }
   ],
   "source": [
    "c[0]"
   ]
  },
  {
   "cell_type": "code",
   "execution_count": null,
   "metadata": {
    "colab": {
     "base_uri": "https://localhost:8080/"
    },
    "id": "rPDumAessFJq",
    "outputId": "62320fb4-d9b1-4e75-960a-86e3167f1102"
   },
   "outputs": [
    {
     "data": {
      "text/plain": [
       "2"
      ]
     },
     "execution_count": 11,
     "metadata": {
      "tags": []
     },
     "output_type": "execute_result"
    }
   ],
   "source": [
    "d[0]"
   ]
  },
  {
   "cell_type": "markdown",
   "metadata": {
    "id": "7iVpKBCasFJs"
   },
   "source": [
    "Count the number of times the first dice rolls a number 1 and the second rolls a number 2."
   ]
  },
  {
   "cell_type": "code",
   "execution_count": null,
   "metadata": {
    "colab": {
     "base_uri": "https://localhost:8080/"
    },
    "id": "-7KFNSGLsFJu",
    "outputId": "e6ec7d5f-dd86-4a73-ce66-ff75c5a2f98c"
   },
   "outputs": [
    {
     "data": {
      "text/plain": [
       "11"
      ]
     },
     "execution_count": 11,
     "metadata": {
      "tags": []
     },
     "output_type": "execute_result"
    }
   ],
   "source": [
    "a = c[(c==1) & (d==2)]\n",
    "m = len(a)\n",
    "m"
   ]
  },
  {
   "cell_type": "markdown",
   "metadata": {
    "id": "EIbB0Cy6sFJw"
   },
   "source": [
    "Calculate the relative frequency of event $B$:"
   ]
  },
  {
   "cell_type": "code",
   "execution_count": null,
   "metadata": {
    "colab": {
     "base_uri": "https://localhost:8080/"
    },
    "id": "yt9Mv6kxsFJx",
    "outputId": "73400c6d-dc83-4add-f903-b2c8e7962004"
   },
   "outputs": [
    {
     "data": {
      "text/plain": [
       "0.030555555555555555"
      ]
     },
     "execution_count": 12,
     "metadata": {
      "tags": []
     },
     "output_type": "execute_result"
    }
   ],
   "source": [
    "W = m / n\n",
    "W"
   ]
  },
  {
   "cell_type": "markdown",
   "metadata": {
    "id": "9qZhfDGUsFJz"
   },
   "source": [
    "#### Statistical probability"
   ]
  },
  {
   "cell_type": "markdown",
   "metadata": {
    "id": "Jg88f4D6sFJ0"
   },
   "source": [
    "If the number of trials $n$ is large enough, the value of the relative frequency $W$ will tend towards a particular number. It is called **statistical probability** and is denoted as $P(A)$:"
   ]
  },
  {
   "cell_type": "markdown",
   "metadata": {
    "id": "oRFqzLHvsFJ0"
   },
   "source": [
    "$$P(A) = \\frac{m}{n}$$"
   ]
  },
  {
   "cell_type": "markdown",
   "metadata": {
    "id": "bxmxhjWnsFJ1"
   },
   "source": [
    "The statistical probability can be calculated on the basis of data from multiple trials."
   ]
  },
  {
   "cell_type": "markdown",
   "metadata": {
    "id": "sZKDq8ZWsFJ2"
   },
   "source": [
    "#### The classic definition of probability"
   ]
  },
  {
   "cell_type": "code",
   "execution_count": null,
   "metadata": {
    "id": "6cHhyQHu1aqo"
   },
   "outputs": [],
   "source": [
    "from google.colab import drive\n",
    "drive.mount('/content/drive')"
   ]
  },
  {
   "cell_type": "markdown",
   "metadata": {
    "id": "DLwMWLOhsFJ3"
   },
   "source": [
    "If all possible outcomes are known in advance and are equally likely to occur (for example, in a coin flip or dice roll), the **classical definition of probability** can be used:\n",
    "\n",
    "The probability of an event is the ratio of the number of elementary outcomes favourable to the event to the number of all equally possible outcomes of the experience in which it is likely to occur.\n",
    "\n",
    "\n",
    "The formula for this definition is the same as for statistical probability:"
   ]
  },
  {
   "cell_type": "markdown",
   "metadata": {
    "id": "5QBvlL81sFJ4"
   },
   "source": [
    "$$P(A) = \\frac{m}{n}$$"
   ]
  },
  {
   "cell_type": "markdown",
   "metadata": {
    "id": "1p8dVxYGsFJ4"
   },
   "source": [
    "**Example 3**"
   ]
  },
  {
   "cell_type": "markdown",
   "metadata": {
    "id": "k1FeBSzQsFJ4"
   },
   "source": [
    "Calculate the probability that the number 3 will appear on the dice. It is known that the dice have six faces with numbers from 1 to 6 and each can fall with equal probability. Using the classical probability formula we get the result:"
   ]
  },
  {
   "cell_type": "markdown",
   "metadata": {
    "id": "1oaVbX2TsFJ5"
   },
   "source": [
    "$$P(A) = \\frac{m}{n} = \\frac{1}{6}$$"
   ]
  },
  {
   "cell_type": "markdown",
   "metadata": {
    "id": "PjIamrGPsFJ6"
   },
   "source": [
    "**Example 4**"
   ]
  },
  {
   "cell_type": "markdown",
   "metadata": {
    "id": "F_w8adOVsFJ7"
   },
   "source": [
    "Calculate with what probability the dice will roll a 2 or a 4. These events are equally probable. As follows from the previous example, each of these probabilities is 1/6. And these events are incompatible, i.e. they cannot occur simultaneously. Therefore we can add up their probabilities:"
   ]
  },
  {
   "cell_type": "markdown",
   "metadata": {
    "id": "BQNBlwPysFJ9"
   },
   "source": [
    "$$P(A∨B) = \\frac{1}{6} + \\frac{1}{6} = \\frac{2}{6}$$"
   ]
  },
  {
   "cell_type": "markdown",
   "metadata": {
    "id": "pRqOYUjasFJ-"
   },
   "source": [
    "($∨$ — or)."
   ]
  },
  {
   "cell_type": "markdown",
   "metadata": {
    "id": "mH-XUecBsFKB"
   },
   "source": [
    "For more complex cases, the number of outcomes $k$ favourable to the event, or the number of all elementary trial outcomes ($n$), can be calculated using combinatorics formulas."
   ]
  },
  {
   "cell_type": "markdown",
   "metadata": {
    "id": "dWGTf84XsFKA"
   },
   "source": [
    "#### Combinatorial formulas"
   ]
  },
  {
   "cell_type": "markdown",
   "metadata": {
    "id": "zjQq1-wrsFKC"
   },
   "source": [
    "The number of **combinations** of $n$ elements with $k$ elements in each (order is not important in combinations):"
   ]
  },
  {
   "cell_type": "markdown",
   "metadata": {
    "id": "PW2lximGsFKC"
   },
   "source": [
    "$$C_n^k = \\frac{n!}{k!(n - k)!}$$"
   ]
  },
  {
   "cell_type": "markdown",
   "metadata": {
    "id": "2GM7Yz7xIgzF"
   },
   "source": [
    "Let's write a function to calculate the number of combinations:"
   ]
  },
  {
   "cell_type": "code",
   "execution_count": null,
   "metadata": {
    "id": "iFH05AQwKlNl"
   },
   "outputs": [],
   "source": [
    "from math import factorial"
   ]
  },
  {
   "cell_type": "code",
   "execution_count": null,
   "metadata": {
    "id": "XqmC5AY8I_Ie"
   },
   "outputs": [],
   "source": [
    "def combinations(n, k):\n",
    "    return int(factorial(n) / (factorial(k) * factorial(n - k)))"
   ]
  },
  {
   "cell_type": "code",
   "execution_count": null,
   "metadata": {
    "colab": {
     "base_uri": "https://localhost:8080/"
    },
    "id": "Xd-lf5Xbde5I",
    "outputId": "cd823819-fc30-4e38-8d59-9e0a37dad1d3"
   },
   "outputs": [
    {
     "data": {
      "text/plain": [
       "5"
      ]
     },
     "execution_count": 9,
     "metadata": {
      "tags": []
     },
     "output_type": "execute_result"
    }
   ],
   "source": [
    "combinations(5, 1)"
   ]
  },
  {
   "cell_type": "markdown",
   "metadata": {
    "id": "bqnvhGwnsFKE"
   },
   "source": [
    "Determine the number of **placements** of $n$ elements with $k$ elements in each. In placements the order is important, so there may be more placement options than combinations given $k$ and $n$."
   ]
  },
  {
   "cell_type": "markdown",
   "metadata": {
    "id": "ITiiVKPWsFKF"
   },
   "source": [
    "$$A_n^k = \\frac{n!}{(n - k)!}$$"
   ]
  },
  {
   "cell_type": "code",
   "execution_count": null,
   "metadata": {
    "id": "aRmxVO1vwvEY"
   },
   "outputs": [],
   "source": [
    "def arrangements(n, k):\n",
    "    return int(factorial(n) / factorial(n - k))"
   ]
  },
  {
   "cell_type": "code",
   "execution_count": null,
   "metadata": {
    "colab": {
     "base_uri": "https://localhost:8080/"
    },
    "id": "N1CXrU6Cegy7",
    "outputId": "c48ae8cd-860d-4f74-adc3-3b1285e578fc"
   },
   "outputs": [
    {
     "data": {
      "text/plain": [
       "120"
      ]
     },
     "execution_count": 14,
     "metadata": {
      "tags": []
     },
     "output_type": "execute_result"
    }
   ],
   "source": [
    "arrangements(5, 5)"
   ]
  },
  {
   "cell_type": "markdown",
   "metadata": {
    "id": "1K0UMRiisFKG"
   },
   "source": [
    "Number of **permutations** of $n$ elements - in permutations the order is important, but the difference from placements is that all available $n$ elements apply:"
   ]
  },
  {
   "cell_type": "markdown",
   "metadata": {
    "id": "8HZXUfJcsFKI"
   },
   "source": [
    "$$P_n = n!$$"
   ]
  },
  {
   "cell_type": "code",
   "execution_count": null,
   "metadata": {
    "id": "ktyYJlBLPfP5"
   },
   "outputs": [],
   "source": [
    "def permutations(n):\n",
    "    return int(factorial(n))"
   ]
  },
  {
   "cell_type": "markdown",
   "metadata": {
    "id": "b1hei-UysFKI"
   },
   "source": [
    "Let's look at examples of how combinatorics formulas are applied."
   ]
  },
  {
   "cell_type": "markdown",
   "metadata": {
    "id": "aRbqU8vBsFKJ"
   },
   "source": [
    "**Example 5**"
   ]
  },
  {
   "cell_type": "markdown",
   "metadata": {
    "id": "6HofFrbQsFKK"
   },
   "source": [
    "How many ways can 4 cards be chosen from a deck of 36 cards?\n",
    "\n",
    "To answer this question, use the formula for calculating the number of combinations:"
   ]
  },
  {
   "cell_type": "markdown",
   "metadata": {
    "id": "g5e4SLQ5sFKL"
   },
   "source": [
    "# $$C_{52}^4 = \\frac{52!}{4!(52 - 4)!} = 270725$$"
   ]
  },
  {
   "cell_type": "markdown",
   "metadata": {
    "id": "5p5azqlhPpVb"
   },
   "source": [
    "or"
   ]
  },
  {
   "cell_type": "code",
   "execution_count": null,
   "metadata": {
    "colab": {
     "base_uri": "https://localhost:8080/"
    },
    "id": "vCudU0J8PnJv",
    "outputId": "ce46fa8f-6858-4018-c04b-0825ce3d054c"
   },
   "outputs": [
    {
     "data": {
      "text/plain": [
       "270725"
      ]
     },
     "execution_count": 16,
     "metadata": {
      "tags": []
     },
     "output_type": "execute_result"
    }
   ],
   "source": [
    "combinations(52, 4)"
   ]
  },
  {
   "cell_type": "markdown",
   "metadata": {
    "id": "WXfKNhFGsFKQ"
   },
   "source": [
    "**Example 6**"
   ]
  },
  {
   "cell_type": "markdown",
   "metadata": {
    "collapsed": true,
    "id": "9tXX-yJYsFKQ"
   },
   "source": [
    "There are 20 shoppers in a shop. How many ways can they form a queue of 5 people?\n",
    "\n",
    "In this example, the order in which the shoppers will queue is important, so apply the formula for finding the number of placements:"
   ]
  },
  {
   "cell_type": "code",
   "execution_count": null,
   "metadata": {
    "colab": {
     "base_uri": "https://localhost:8080/"
    },
    "id": "gKsM5aeoP32n",
    "outputId": "cd2bd931-5bfd-4238-dc49-96362e00bf34"
   },
   "outputs": [
    {
     "data": {
      "text/plain": [
       "1860480"
      ]
     },
     "execution_count": 7,
     "metadata": {
      "tags": []
     },
     "output_type": "execute_result"
    }
   ],
   "source": [
    "arrangements(20, 5)"
   ]
  },
  {
   "cell_type": "markdown",
   "metadata": {
    "id": "aFeIzgkQsFKR"
   },
   "source": [
    "**Example 7**"
   ]
  },
  {
   "cell_type": "markdown",
   "metadata": {
    "collapsed": true,
    "id": "JOsG3qkAsFKS"
   },
   "source": [
    "How many ways can 5 shoppers form a queue?\n",
    "\n",
    "This example is similar to the previous one, but there is an important difference: you don't have to choose 5 shoppers out of 20. There are only 5 shoppers and they all have to be in the queue. Apply the formula to find the number of permutations:"
   ]
  },
  {
   "cell_type": "code",
   "execution_count": null,
   "metadata": {
    "colab": {
     "base_uri": "https://localhost:8080/"
    },
    "id": "SGljzgzEW-Pz",
    "outputId": "31259a2a-2a6a-4d83-c918-d0221a7eb885"
   },
   "outputs": [
    {
     "data": {
      "text/plain": [
       "120"
      ]
     },
     "execution_count": 8,
     "metadata": {
      "tags": []
     },
     "output_type": "execute_result"
    }
   ],
   "source": [
    "permutations(5)"
   ]
  },
  {
   "cell_type": "markdown",
   "metadata": {
    "id": "wzEHNWr1sFKU"
   },
   "source": [
    "**Example 8**"
   ]
  },
  {
   "cell_type": "markdown",
   "metadata": {
    "collapsed": true,
    "id": "-IkfWsIHsFKU"
   },
   "source": [
    "From a deck of 36 cards, 5 cards are chosen at random. How many ways can these cards be chosen so that there are 2 to 3 aces among them?"
   ]
  },
  {
   "cell_type": "markdown",
   "metadata": {
    "collapsed": true,
    "id": "oVx_8V1VsFKV"
   },
   "source": [
    "To solve this problem, first consider the situation where two aces out of four are chosen.\n",
    "\n",
    "The number of such combinations will be equal:"
   ]
  },
  {
   "cell_type": "code",
   "execution_count": null,
   "metadata": {
    "colab": {
     "base_uri": "https://localhost:8080/"
    },
    "id": "I0G2chFhXdp2",
    "outputId": "f31ae7a0-8bed-4c26-a969-abe98785c51e"
   },
   "outputs": [
    {
     "data": {
      "text/plain": [
       "6"
      ]
     },
     "execution_count": 9,
     "metadata": {
      "tags": []
     },
     "output_type": "execute_result"
    }
   ],
   "source": [
    "combinations(4, 2)"
   ]
  },
  {
   "cell_type": "markdown",
   "metadata": {
    "id": "vR8Bgd_GsFKW"
   },
   "source": [
    "The remaining three cards are chosen from a total of 32 cards - aces are not considered, as they have already been chosen:"
   ]
  },
  {
   "cell_type": "code",
   "execution_count": null,
   "metadata": {
    "colab": {
     "base_uri": "https://localhost:8080/"
    },
    "id": "cYJcvTuVXn6G",
    "outputId": "84add40e-0408-4334-a377-63a487327d5e"
   },
   "outputs": [
    {
     "data": {
      "text/plain": [
       "4960"
      ]
     },
     "execution_count": 10,
     "metadata": {
      "tags": []
     },
     "output_type": "execute_result"
    }
   ],
   "source": [
    "combinations(32, 3)"
   ]
  },
  {
   "cell_type": "markdown",
   "metadata": {
    "id": "K-J4j6BnsFKY"
   },
   "source": [
    "And in this case there will be such a number of combinations when five cards are chosen from a deck of 36 cards, two of which are aces:"
   ]
  },
  {
   "cell_type": "code",
   "execution_count": null,
   "metadata": {
    "colab": {
     "base_uri": "https://localhost:8080/"
    },
    "id": "LQnsS5ADYGuP",
    "outputId": "5c368b27-3e74-4aac-84ba-e49a53c2d498"
   },
   "outputs": [
    {
     "data": {
      "text/plain": [
       "29760"
      ]
     },
     "execution_count": 11,
     "metadata": {
      "tags": []
     },
     "output_type": "execute_result"
    }
   ],
   "source": [
    "6 * 4960"
   ]
  },
  {
   "cell_type": "markdown",
   "metadata": {
    "id": "wf_Y6h-1sFKZ"
   },
   "source": [
    "Now consider the situation of choosing three aces out of four. The number of combinations will be equal:"
   ]
  },
  {
   "cell_type": "code",
   "execution_count": null,
   "metadata": {
    "colab": {
     "base_uri": "https://localhost:8080/"
    },
    "id": "roqN2ghSYJJk",
    "outputId": "37ebbc73-df70-4365-9c61-72ccebb25eb4"
   },
   "outputs": [
    {
     "data": {
      "text/plain": [
       "4"
      ]
     },
     "execution_count": 12,
     "metadata": {
      "tags": []
     },
     "output_type": "execute_result"
    }
   ],
   "source": [
    "combinations(4, 3)"
   ]
  },
  {
   "cell_type": "markdown",
   "metadata": {
    "id": "vc-czT5isFKb"
   },
   "source": [
    "The remaining two cards are chosen from 32 cards. The number of combinations will be equal:"
   ]
  },
  {
   "cell_type": "code",
   "execution_count": null,
   "metadata": {
    "colab": {
     "base_uri": "https://localhost:8080/"
    },
    "id": "vkienKGIYMr3",
    "outputId": "616efb35-91d8-43b2-8719-08fc3e052907"
   },
   "outputs": [
    {
     "data": {
      "text/plain": [
       "496"
      ]
     },
     "execution_count": 13,
     "metadata": {
      "tags": []
     },
     "output_type": "execute_result"
    }
   ],
   "source": [
    "combinations(32, 2)"
   ]
  },
  {
   "cell_type": "markdown",
   "metadata": {
    "id": "LPfDKt12sFKb"
   },
   "source": [
    "And then there will be that number of combinations when five cards are chosen from a deck of 36 cards, three of which are aces:"
   ]
  },
  {
   "cell_type": "code",
   "execution_count": null,
   "metadata": {
    "colab": {
     "base_uri": "https://localhost:8080/"
    },
    "id": "CALKLpyyYPyU",
    "outputId": "6bf3da6d-a7df-4e0b-b7bd-3a8e27c7cb7d"
   },
   "outputs": [
    {
     "data": {
      "text/plain": [
       "1984"
      ]
     },
     "execution_count": 14,
     "metadata": {
      "tags": []
     },
     "output_type": "execute_result"
    }
   ],
   "source": [
    "4 * 496"
   ]
  },
  {
   "cell_type": "markdown",
   "metadata": {
    "id": "yi6iylD_sFKd"
   },
   "source": [
    "It remains to add up the resulting numbers of combinations:"
   ]
  },
  {
   "cell_type": "code",
   "execution_count": null,
   "metadata": {
    "colab": {
     "base_uri": "https://localhost:8080/"
    },
    "id": "VKo6iTmLYR-b",
    "outputId": "868bfc55-ea63-41fc-c2b6-9fdd394d8d42"
   },
   "outputs": [
    {
     "data": {
      "text/plain": [
       "31744"
      ]
     },
     "execution_count": 15,
     "metadata": {
      "tags": []
     },
     "output_type": "execute_result"
    }
   ],
   "source": [
    "29760 + 1984"
   ]
  },
  {
   "cell_type": "markdown",
   "metadata": {
    "id": "OB_XrmOnsFKe"
   },
   "source": [
    "The number of combinations obtained using combinatorics formulas can be added \n",
    "and multiply. Adding in the example above corresponds to logical OR and multiplying to logical AND."
   ]
  },
  {
   "cell_type": "markdown",
   "metadata": {
    "id": "RRYel7rusFKg"
   },
   "source": [
    "**Conjoint and incompatible events**"
   ]
  },
  {
   "cell_type": "markdown",
   "metadata": {
    "id": "imCWlmlxsFKg"
   },
   "source": [
    "Joint events can happen in one trial, but incompatible events cannot. For example, when a dice is rolled once, the numbers 3 and 4 cannot be rolled at once - they are incompatible events. If two dice are rolled, one can roll a 4, and the other can roll a 5, these are joint events. The probabilities of the incompatible events can be added up:"
   ]
  },
  {
   "cell_type": "markdown",
   "metadata": {
    "id": "W8_QH9casFKh"
   },
   "source": [
    "$$P(A + B) = P(A) + P(B)$$"
   ]
  },
  {
   "cell_type": "markdown",
   "metadata": {
    "id": "7qOe2xgSsFKi"
   },
   "source": [
    "In the case of joint events, the sum-of-event formula is different: the probability of occurring together is subtracted from the sum of the probabilities of the individual events."
   ]
  },
  {
   "cell_type": "markdown",
   "metadata": {
    "id": "Ne6dLbmjsFKi"
   },
   "source": [
    "$$P(A + B) = P(A) + P(B) - P(AB)$$"
   ]
  },
  {
   "cell_type": "markdown",
   "metadata": {
    "id": "4J6cC6nOsFKj"
   },
   "source": [
    "**Probability of dependent and independent events**"
   ]
  },
  {
   "cell_type": "markdown",
   "metadata": {
    "id": "zj39tXYqsFKj"
   },
   "source": [
    "An *independent* event is when the occurrence of one event does not affect the occurrence of the other. The opposite is true of dependent events."
   ]
  },
  {
   "cell_type": "markdown",
   "metadata": {
    "id": "gGrtdYgisFKk"
   },
   "source": [
    "The probability of two independent events occurring simultaneously is calculated using the formula:"
   ]
  },
  {
   "cell_type": "markdown",
   "metadata": {
    "id": "Tl_jpB4HsFKk"
   },
   "source": [
    "$$P(A*B) = P(A) * P(B)$$"
   ]
  },
  {
   "cell_type": "markdown",
   "metadata": {
    "id": "YC0D9kqJsFKm"
   },
   "source": [
    "The probability of two dependent events occurring:"
   ]
  },
  {
   "cell_type": "markdown",
   "metadata": {
    "id": "gDRJ7jGfsFKm"
   },
   "source": [
    "$$P(A*B) = P(A) * P(B\\:|\\:A) = P(B) * P(A\\:|\\:B)$$"
   ]
  },
  {
   "cell_type": "markdown",
   "metadata": {
    "id": "CuERs6rIsFKn"
   },
   "source": [
    "**Example 9**"
   ]
  },
  {
   "cell_type": "markdown",
   "metadata": {
    "id": "aUsMeENFsFKn"
   },
   "source": [
    "Find the probability that when two dice are rolled, the first will roll an even number and the second a multiple of three. Let us first consider the probability of an even number on the first dice. There can be three such cases: these are the events when numbers 2, 4 and 6 fall out. The probability for each of them is 1/6.\n",
    "\n",
    "Since these three events are incompatible, the probability of their sum is equal to the sum of their probabilities:"
   ]
  },
  {
   "cell_type": "markdown",
   "metadata": {
    "id": "hpEskO7FsFKn"
   },
   "source": [
    "$$P(even) = \\frac{1}{6} + \\frac{1}{6} + \\frac{1}{6} = \\frac{3}{6} = \\frac{1}{2}$$"
   ]
  },
  {
   "cell_type": "markdown",
   "metadata": {
    "id": "5ts2EeuDsFKo"
   },
   "source": [
    "There are two matching events for the second dice: the numbers 3 and 6. These are also incompatible events, and we can add up their probabilities:"
   ]
  },
  {
   "cell_type": "markdown",
   "metadata": {
    "id": "q2lcEa-VsFKp"
   },
   "source": [
    "$$P(div. 3) = \\frac{1}{6} + \\frac{1}{6} = \\frac{2}{6} = \\frac{1}{3}$$"
   ]
  },
  {
   "cell_type": "markdown",
   "metadata": {
    "id": "C-NrYnV9sFKp"
   },
   "source": [
    "Given that a number on one die does not affect the result on the other - i.e. these events are independent - let's apply probability multiplication and get the final answer:"
   ]
  },
  {
   "cell_type": "markdown",
   "metadata": {
    "id": "yXQpCRTKsFKq"
   },
   "source": [
    "$$P = \\frac{1}{2} * \\frac{1}{3} = \\frac{1}{6}$$"
   ]
  },
  {
   "cell_type": "markdown",
   "metadata": {
    "id": "uQBgCxqBsFKr"
   },
   "source": [
    "**Full probability formula**"
   ]
  },
  {
   "cell_type": "markdown",
   "metadata": {
    "id": "lf4EHhsMsFKr"
   },
   "source": [
    "If event $A$ can only occur when events $B_1, B_2, \\dots, B_n$ form a complete group of incompatible events*, then the probability of $A$ is calculated using the formula:\n",
    "\n",
    "**Complete group of events** means that one of them is bound to occur in a single trial."
   ]
  },
  {
   "cell_type": "markdown",
   "metadata": {
    "id": "4WshmADxsFKt"
   },
   "source": [
    "$$P(A) = P(B_1) \\cdot P(A\\:|\\:B_1) + P(B_2) \\cdot P(A\\:|\\:B_2) \\; + ... + \\; P(B_n) \\cdot P(A\\:|\\:B_n)$$"
   ]
  },
  {
   "cell_type": "markdown",
   "metadata": {
    "id": "G1khs06KsFKu"
   },
   "source": [
    "The expression $P(B\\;|\\;A)$ means the probability of event $B$ occurring, assuming event $A$ has occurred."
   ]
  },
  {
   "cell_type": "markdown",
   "metadata": {
    "id": "sSTkdtuVsFKv"
   },
   "source": [
    "**Example 10**"
   ]
  },
  {
   "cell_type": "markdown",
   "metadata": {
    "id": "HDes28G0sFKv"
   },
   "source": [
    "There are three identical baskets. The first has three red and five green balls, the second has only red balls, and the third has only green balls. One basket is chosen at random and a ball is drawn from it at random. \n",
    "\n",
    "What is the probability that this ball is green?\n",
    "\n",
    "Solve this problem using the full probability formula. As event $A$ we will assume that the green ball is retrieved, and as event $B$ we will assume that a certain basket is chosen. The probability of choosing one of the three baskets will be 1/3.\n",
    "\n",
    "The probability of getting the green ball if the first basket is chosen is 5/(3 + 5), i.e. 5/8. If the second basket is chosen, the probability of getting the green ball is 0. In the case of the third basket, the probability is 1, since all the balls in it are green.\n",
    "\n",
    "Substitute these values into the total likelihood formula and get the final answer:"
   ]
  },
  {
   "cell_type": "markdown",
   "metadata": {
    "id": "EWPYRImssFKw"
   },
   "source": [
    "$$P(A) = \\frac{1}{3} \\cdot \\frac{5}{8} + \\frac{1}{3} \\cdot 0 + \\frac{1}{3} \\cdot 1 = \\frac{5}{24} + 0 + \\frac{1}{3} = \\frac{13}{24}$$"
   ]
  },
  {
   "cell_type": "markdown",
   "metadata": {
    "id": "7euBINZMsFKw"
   },
   "source": [
    "#### Bayes formula"
   ]
  },
  {
   "cell_type": "markdown",
   "metadata": {
    "collapsed": true,
    "id": "_5YeOFVOsFKx"
   },
   "source": [
    "To determine the probability of event $B$, assuming event $A$ has already occurred, use Bayes' formula:"
   ]
  },
  {
   "cell_type": "markdown",
   "metadata": {
    "id": "3hN0vJKIsFKy"
   },
   "source": [
    "$$P(B\\:|\\:A) = \\frac{P(B) \\cdot P(A\\:|\\:B)}{P(A)}$$"
   ]
  },
  {
   "cell_type": "markdown",
   "metadata": {
    "id": "4C9mz7ymsFKz"
   },
   "source": [
    "In this formula, the probability $P(B\\;|\\;A)$ is called a posteriori, that is, determined after the event $A$ has occurred. \n",
    "\n",
    "And the probability $P(B)$ is a priori, determined before the test."
   ]
  },
  {
   "cell_type": "markdown",
   "metadata": {
    "id": "5crVgwelsFKz"
   },
   "source": [
    "**Example 11**"
   ]
  },
  {
   "cell_type": "markdown",
   "metadata": {
    "id": "-Smvex-usFK0"
   },
   "source": [
    "A biathlon competition. One of the three athletes shoots and hits the target. \n",
    "\n",
    "The probability of this event is 0.2 for the first athlete, 0.4 for the second and 0.7 for the third.\n",
    "\n",
    "Problem: to find the probability that the shots are fired by the third athlete.\n",
    "\n",
    "Before we knew the result of the shot, we had only an a priori probability that the shot was fired, and it is equal to 1/3 - if we take into account that all the athletes have equal chances to shoot.\n",
    "\n",
    "Knowing the result of the shot, we can re-estimate the probabilities for each athlete - because their accuracy is different. These probabilities will be a posteriori, because they are obtained after we know that the shot was successful.\n",
    "\n",
    "The event $A$ is the target hit, and the events $B_1, B_2$ and $B_3$ are the first, second or third shooter:"
   ]
  },
  {
   "cell_type": "markdown",
   "metadata": {
    "id": "yKhoUtEnsFK0"
   },
   "source": [
    "$$P(A\\:|\\:B_1) = 0.2$$\n",
    "\n",
    "$$P(A\\:|\\:B_2) = 0.4$$\n",
    "\n",
    "$$P(A\\:|\\:B_3) = 0.7$$"
   ]
  },
  {
   "cell_type": "markdown",
   "metadata": {
    "id": "ULZ2jSissFK1"
   },
   "source": [
    "The probability that a third athlete fired - assuming the shot was successful - will be found using the formula:"
   ]
  },
  {
   "cell_type": "markdown",
   "metadata": {
    "id": "KmIcWtrbsFK2"
   },
   "source": [
    "$$P(B_3\\:|\\:A) = \\frac{P(B_3) \\cdot P(A\\:|\\:B_3)}{P(A)}$$\n",
    "\n",
    "---\n",
    "\n"
   ]
  },
  {
   "cell_type": "markdown",
   "metadata": {
    "id": "4CIYxbSisFK3"
   },
   "source": [
    "Все величины подставим из условия, а знаменатель дроби распишем по формуле полной вероятности:"
   ]
  },
  {
   "cell_type": "markdown",
   "metadata": {
    "id": "WENz51IbsFK4"
   },
   "source": [
    "$$P(B_3\\:|\\:A) = \\frac{\\frac{1}{3} \\cdot 0.7}{\\frac{1}{3} \\cdot 0.2 + \\frac{1}{3} \\cdot 0.4 + \\frac{1}{3} \\cdot 0.7} = \\frac{7}{13}$$"
   ]
  }
 ],
 "metadata": {
  "colab": {
   "collapsed_sections": [
    "sZKDq8ZWsFJ2",
    "dWGTf84XsFKA",
    "7euBINZMsFKw"
   ],
   "name": "Матстат - Урок 1.ipynb",
   "provenance": []
  },
  "kernelspec": {
   "display_name": "Python 3",
   "language": "python",
   "name": "python3"
  },
  "language_info": {
   "codemirror_mode": {
    "name": "ipython",
    "version": 3
   },
   "file_extension": ".py",
   "mimetype": "text/x-python",
   "name": "python",
   "nbconvert_exporter": "python",
   "pygments_lexer": "ipython3",
   "version": "3.8.5"
  }
 },
 "nbformat": 4,
 "nbformat_minor": 1
}
