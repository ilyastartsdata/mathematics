{
 "cells": [
  {
   "cell_type": "markdown",
   "metadata": {},
   "source": [
    "## Homework #4"
   ]
  },
  {
   "cell_type": "markdown",
   "metadata": {},
   "source": [
    "1. A random continuous variable A has a uniform distribution over the interval (200, 800).\n",
    "Find its mean and variance."
   ]
  },
  {
   "cell_type": "markdown",
   "metadata": {},
   "source": [
    "__Solution:__\n",
    "\n",
    "- Matostudy: $M(A) = \\frac{800+200}{2} = \\frac{1000}{2} = 500$\n",
    "- Variance: $D(A) = \\frac{(800-200)^2}{12} = \\frac{600^2}{12} = 30000$\n",
    "- Sigma: $\\sigma = \\sqrt{D(A)} = \\frac{800-200}{2-\\sqrt{3}} = \\frac{300}{\\sqrt{3}} = 173$"
   ]
  },
  {
   "cell_type": "markdown",
   "metadata": {},
   "source": [
    "2. A random continuous uniformly distributed variable B is known to have a variance of 0.2.\n",
    "Is it possible to find the right bound of B and its mean knowing that the left bound is 0.5?\n",
    "If so, find it."
   ]
  },
  {
   "cell_type": "markdown",
   "metadata": {},
   "source": [
    "__Solution:__\n",
    "\n",
    "$D(B)=0.2$, left border = 0.5, right border?\n",
    "\n",
    "$\\sigma = \\sqrt{D(B)} = 0.44$\n",
    "\n",
    "$D(B) = \\frac{(x - 0.5)^2}{12} = 0.5$\n",
    "\n",
    "$x_1 = -1.049$\n",
    "$x_2 = 2.049$\n",
    "\n",
    "A: правая граница = $2.049$; $\\sigma = 0.44$"
   ]
  },
  {
   "cell_type": "markdown",
   "metadata": {},
   "source": [
    "3. Непрерывная случайная величина X распределена нормально и задана плотностью распределения\n",
    "\n",
    "$f(x) = \\frac{1}{(4 * \\sqrt{2\\pi})}*\\exp^{-\\frac{(x+2)^2}{32}}$\n",
    "\n",
    "\n",
    "Найдите:\n",
    "а). M(X)\n",
    "б). D(X)\n",
    "в). std(X) (среднее квадратичное отклонение)"
   ]
  },
  {
   "cell_type": "markdown",
   "metadata": {},
   "source": [
    "__Решение:__\n",
    "\n",
    "- $a = -2 => M(X) = -2$\n",
    "\n",
    "- $\\sigma^2 = 16 => D(X) = 16$\n",
    "\n",
    "- $\\sigma = 4$"
   ]
  },
  {
   "cell_type": "markdown",
   "metadata": {},
   "source": [
    "4. Рост взрослого населения города X имеет нормальное распределение.\n",
    "Причем, средний рост равен 174 см, а среднее квадратичное отклонение равно 8 см.\n",
    "Какова вероятность того, что случайным образом выбранный взрослый человек имеет рост:\n",
    "    \n",
    "    \n",
    "а). больше 182 см\n",
    "\n",
    "б). больше 190 см \n",
    "\n",
    "в). от 166 см до 190 см\n",
    "\n",
    "г). от 166 см до 182 см\n",
    "\n",
    "д). от 158 см до 190 см\n",
    "\n",
    "е). не выше 150 см или не ниже 190 см\n",
    "\n",
    "ё). не выше 150 см или не ниже 198 см\n",
    "\n",
    "ж). ниже 166 см."
   ]
  },
  {
   "cell_type": "markdown",
   "metadata": {},
   "source": [
    "__Решение:__\n",
    "\n",
    "- $x > 182? - 16$%\n",
    "- $x > 190? - 2.3$%\n",
    "- $166 < x < 190 - 81.7$%\n",
    "- $166 < x < 182 - 68$%\n",
    "- $158 < x < 190 - 95.4$%\n",
    "- $150 < x < 190 - 97.5$%\n",
    "- $150 < x < 198 - 99.72$%\n",
    "- $x < 166 - 16$%"
   ]
  },
  {
   "cell_type": "markdown",
   "metadata": {},
   "source": [
    "5. На сколько сигм (средних квадратичных отклонений) отклоняется рост человека, равный 190 см, от\n",
    "математического ожидания роста в популяции, в которой M(X) = 178 см и D(X) = 25 кв.см?"
   ]
  },
  {
   "cell_type": "markdown",
   "metadata": {},
   "source": [
    ":(\n",
    "\n",
    "$\\sigma = \\sqrt{D(x)} = 5$"
   ]
  }
 ],
 "metadata": {
  "kernelspec": {
   "display_name": "Python 3",
   "language": "python",
   "name": "python3"
  },
  "language_info": {
   "codemirror_mode": {
    "name": "ipython",
    "version": 3
   },
   "file_extension": ".py",
   "mimetype": "text/x-python",
   "name": "python",
   "nbconvert_exporter": "python",
   "pygments_lexer": "ipython3",
   "version": "3.8.5"
  }
 },
 "nbformat": 4,
 "nbformat_minor": 4
}
