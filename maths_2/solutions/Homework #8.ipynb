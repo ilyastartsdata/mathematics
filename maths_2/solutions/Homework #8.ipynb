{
 "cells": [
  {
   "cell_type": "markdown",
   "metadata": {},
   "source": [
    "## Homework #8"
   ]
  },
  {
   "cell_type": "code",
   "execution_count": 1,
   "metadata": {},
   "outputs": [],
   "source": [
    "# Important libraries\n",
    "\n",
    "import pandas as pd\n",
    "import numpy as np"
   ]
  },
  {
   "cell_type": "markdown",
   "metadata": {},
   "source": [
    "1. Perform analysis of variance to determine whether there are differences in average height among adult footballers, hockey players and weightlifters. Height values in three groups of randomly selected athletes are given:\n",
    "\n",
    "Football: 173, 175, 180, 178, 177, 185, 183, 182. \n",
    "\n",
    "Hockey: 177, 179, 180, 188, 177, 172, 171, 184, 180. \n",
    "\n",
    "Weight: 172, 173, 169, 177, 166, 180, 178, 177, 172, 166, 170."
   ]
  },
  {
   "cell_type": "markdown",
   "metadata": {},
   "source": [
    "__Solution:__"
   ]
  },
  {
   "cell_type": "code",
   "execution_count": 3,
   "metadata": {},
   "outputs": [],
   "source": [
    "# Saving values\n",
    "\n",
    "football = np.array([173, 175, 180, 178, 177, 185, 183, 182])\n",
    "hockey = np.array([177, 179, 180, 188, 177, 172, 171, 184, 180])\n",
    "weight = np.array([172, 173, 169, 177, 166, 180, 178, 177, 172, 166, 170])"
   ]
  },
  {
   "cell_type": "markdown",
   "metadata": {},
   "source": [
    "*Mean height*"
   ]
  },
  {
   "cell_type": "code",
   "execution_count": 4,
   "metadata": {},
   "outputs": [
    {
     "name": "stdout",
     "output_type": "stream",
     "text": [
      "179.125 178.66666666666666 172.72727272727272\n"
     ]
    }
   ],
   "source": [
    "# Индивидуальные значения\n",
    "\n",
    "f_mean = football.mean()\n",
    "h_mean = hockey.mean()\n",
    "w_mean = weight.mean()\n",
    "\n",
    "print(f_mean, h_mean, w_mean)"
   ]
  },
  {
   "cell_type": "code",
   "execution_count": 5,
   "metadata": {},
   "outputs": [
    {
     "name": "stdout",
     "output_type": "stream",
     "text": [
      "176.46428571428572\n"
     ]
    }
   ],
   "source": [
    "# Общие значения\n",
    "\n",
    "total_height = np.hstack((football, hockey, weight))\n",
    "total_mean = total_height.mean()\n",
    "\n",
    "print(total_mean)"
   ]
  },
  {
   "cell_type": "code",
   "execution_count": 6,
   "metadata": {},
   "outputs": [
    {
     "name": "stdout",
     "output_type": "stream",
     "text": [
      "830.9642857142854\n"
     ]
    }
   ],
   "source": [
    "# Общий s2 \n",
    "\n",
    "total_s2 = np.sum((total_height - total_mean) ** 2)\n",
    "\n",
    "print(total_s2)"
   ]
  },
  {
   "cell_type": "code",
   "execution_count": 7,
   "metadata": {},
   "outputs": [
    {
     "name": "stdout",
     "output_type": "stream",
     "text": [
      "830.964285714286\n"
     ]
    }
   ],
   "source": [
    "# s2\n",
    "\n",
    "s2_f = (f_mean - total_mean) ** 2 * len(football) + (h_mean - total_mean) ** 2 * len(hockey) + (w_mean - total_mean) ** 2 * len(weight)\n",
    "\n",
    "s2_ost = np.sum((football - f_mean) ** 2) + np.sum((hockey - h_mean) ** 2) + np.sum((weight - w_mean) ** 2)\n",
    "\n",
    "result = s2_ost + s2_f\n",
    "\n",
    "print(result)"
   ]
  },
  {
   "cell_type": "markdown",
   "metadata": {},
   "source": [
    "*Общая дисперсия*"
   ]
  },
  {
   "cell_type": "code",
   "execution_count": 8,
   "metadata": {},
   "outputs": [
    {
     "name": "stdout",
     "output_type": "stream",
     "text": [
      "30.776455026455015\n"
     ]
    }
   ],
   "source": [
    "s2 = total_s2 / (len(total_height) - 1)\n",
    "\n",
    "print(s2)"
   ]
  },
  {
   "cell_type": "markdown",
   "metadata": {},
   "source": [
    "*Факторная дисперсия*"
   ]
  },
  {
   "cell_type": "code",
   "execution_count": 9,
   "metadata": {},
   "outputs": [
    {
     "name": "stdout",
     "output_type": "stream",
     "text": [
      "126.9537337662339\n"
     ]
    }
   ],
   "source": [
    "s2_factor = s2_f / (3 - 1)\n",
    "\n",
    "print(s2_factor)"
   ]
  },
  {
   "cell_type": "markdown",
   "metadata": {},
   "source": [
    "*Остаточная дисперсия*"
   ]
  },
  {
   "cell_type": "code",
   "execution_count": 10,
   "metadata": {},
   "outputs": [
    {
     "name": "stdout",
     "output_type": "stream",
     "text": [
      "23.08227272727273\n"
     ]
    }
   ],
   "source": [
    "s2_residual = s2_ost / (len(total_height) - 3)\n",
    "\n",
    "print(s2_residual)"
   ]
  },
  {
   "cell_type": "code",
   "execution_count": 11,
   "metadata": {},
   "outputs": [
    {
     "name": "stdout",
     "output_type": "stream",
     "text": [
      "5.500053450812598\n"
     ]
    }
   ],
   "source": [
    "F_h = s2_factor / s2_residual\n",
    "\n",
    "print(F_h)"
   ]
  },
  {
   "cell_type": "code",
   "execution_count": 12,
   "metadata": {},
   "outputs": [
    {
     "name": "stdout",
     "output_type": "stream",
     "text": [
      "2 25\n"
     ]
    }
   ],
   "source": [
    "# Проверка\n",
    "\n",
    "alpha = 0.05\n",
    "df_1 = 3 - 1\n",
    "df_2 = len(total_height) - 3\n",
    "\n",
    "print(df_1, df_2)"
   ]
  },
  {
   "cell_type": "code",
   "execution_count": 13,
   "metadata": {},
   "outputs": [
    {
     "data": {
      "text/plain": [
       "False"
      ]
     },
     "execution_count": 13,
     "metadata": {},
     "output_type": "execute_result"
    }
   ],
   "source": [
    "F_kr = 3.4928\n",
    "\n",
    "F_kr > F_h"
   ]
  },
  {
   "cell_type": "markdown",
   "metadata": {},
   "source": [
    "**Различие между выборками существенное**"
   ]
  }
 ],
 "metadata": {
  "kernelspec": {
   "display_name": "Python 3",
   "language": "python",
   "name": "python3"
  },
  "language_info": {
   "codemirror_mode": {
    "name": "ipython",
    "version": 3
   },
   "file_extension": ".py",
   "mimetype": "text/x-python",
   "name": "python",
   "nbconvert_exporter": "python",
   "pygments_lexer": "ipython3",
   "version": "3.8.5"
  }
 },
 "nbformat": 4,
 "nbformat_minor": 4
}
