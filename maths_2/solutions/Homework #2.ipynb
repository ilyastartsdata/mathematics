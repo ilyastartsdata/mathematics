{
 "cells": [
  {
   "cell_type": "markdown",
   "metadata": {},
   "source": [
    "## Homework #2"
   ]
  },
  {
   "cell_type": "code",
   "execution_count": 5,
   "metadata": {},
   "outputs": [],
   "source": [
    "# Identify a few formulas to help with the solution\n",
    "\n",
    "# Important libraries\n",
    "import numpy as np\n",
    "from math import factorial as f\n",
    "\n",
    "# C\n",
    "def c_kn(n, k):\n",
    "    result = f(n) / (f(k) * f(n-k))\n",
    "    return result\n",
    "\n",
    "# Bern\n",
    "def bern_pnk(p, n, k):\n",
    "    result = c_kn(n, k) * p**(k) * (1 - p)**(n - k)\n",
    "    return result\n",
    "\n",
    "# Puasson\n",
    "def pu_lm(l, m):\n",
    "    result = l**m/f(m)*np.exp(-l)\n",
    "    return result"
   ]
  },
  {
   "cell_type": "markdown",
   "metadata": {},
   "source": [
    "1. The probability that the shooter hits the target by firing once is 0.8. The shooter has shot 100 times. Find the probability that the shooter will hit the target exactly 85 times."
   ]
  },
  {
   "cell_type": "markdown",
   "metadata": {},
   "source": [
    "__Solution:__\n",
    "\n",
    "$p = C_{100}^{85}*0.8^{85}*0.2^{15}$"
   ]
  },
  {
   "cell_type": "code",
   "execution_count": 3,
   "metadata": {},
   "outputs": [
    {
     "data": {
      "text/plain": [
       "0.048061793700746355"
      ]
     },
     "execution_count": 3,
     "metadata": {},
     "output_type": "execute_result"
    }
   ],
   "source": [
    "bern_pnk(0.8, 100, 85)"
   ]
  },
  {
   "cell_type": "markdown",
   "metadata": {},
   "source": [
    "2. The probability that a light bulb burns out during the first day of use is 0.0004. In an apartment complex, 5,000 new light bulbs have been switched on in one day after renovation. What is the probability that none of them will burn out on the first day? What is the probability that exactly two will burn out?"
   ]
  },
  {
   "cell_type": "markdown",
   "metadata": {},
   "source": [
    "__Solution:__\n",
    "\n",
    "$p = \\frac{\\lambda^m}{m!}*\\exp^{-\\lambda}$"
   ]
  },
  {
   "cell_type": "code",
   "execution_count": 6,
   "metadata": {},
   "outputs": [
    {
     "data": {
      "text/plain": [
       "0.1353352832366127"
      ]
     },
     "execution_count": 6,
     "metadata": {},
     "output_type": "execute_result"
    }
   ],
   "source": [
    "# None will burn out on the first day\n",
    "\n",
    "# lambda\n",
    "\n",
    "l = 5000 * 0.0004\n",
    "m = 0\n",
    "\n",
    "# Puasson \n",
    "\n",
    "pu_lm(l, m)"
   ]
  },
  {
   "cell_type": "code",
   "execution_count": 7,
   "metadata": {},
   "outputs": [
    {
     "data": {
      "text/plain": [
       "0.2706705664732254"
      ]
     },
     "execution_count": 7,
     "metadata": {},
     "output_type": "execute_result"
    }
   ],
   "source": [
    "# Burn out exactly 2\n",
    "\n",
    "# lambda\n",
    "\n",
    "l = 5000 * 0.0004\n",
    "m = 2\n",
    "\n",
    "# Puasson\n",
    "\n",
    "pu_lm(l, m)"
   ]
  },
  {
   "cell_type": "markdown",
   "metadata": {},
   "source": [
    "3. Монету подбросили 144 раза. Какова вероятность, что орел выпадет ровно 70 раз?"
   ]
  },
  {
   "cell_type": "markdown",
   "metadata": {},
   "source": [
    "__Решение:__\n",
    "\n",
    "$p = 0.5$\n",
    "\n",
    "$n = 144$\n",
    "\n",
    "$k = 70$"
   ]
  },
  {
   "cell_type": "code",
   "execution_count": 8,
   "metadata": {},
   "outputs": [
    {
     "data": {
      "text/plain": [
       "0.06281178035144776"
      ]
     },
     "execution_count": 8,
     "metadata": {},
     "output_type": "execute_result"
    }
   ],
   "source": [
    "bern_pnk(0.5, 144, 70)"
   ]
  },
  {
   "cell_type": "markdown",
   "metadata": {},
   "source": [
    "4. В первом ящике находится 10 мячей, из которых 7 - белые. Во втором ящике - 11 мячей, из которых 9 белых. Из каждого ящика вытаскивают случайным образом по два мяча. Какова вероятность того, что все мячи белые? Какова вероятность того, что ровно два мяча белые? Какова вероятность того, что хотя бы один мяч белый?"
   ]
  },
  {
   "cell_type": "markdown",
   "metadata": {},
   "source": [
    "__Решение:__"
   ]
  },
  {
   "cell_type": "code",
   "execution_count": 9,
   "metadata": {},
   "outputs": [
    {
     "data": {
      "text/plain": [
       "0.3054545454545455"
      ]
     },
     "execution_count": 9,
     "metadata": {},
     "output_type": "execute_result"
    }
   ],
   "source": [
    "# Все мячи белые\n",
    "\n",
    "(7*6*9*8)/(10*9*11*10)"
   ]
  },
  {
   "cell_type": "code",
   "execution_count": 10,
   "metadata": {},
   "outputs": [
    {
     "data": {
      "text/plain": [
       "0.20484848484848484"
      ]
     },
     "execution_count": 10,
     "metadata": {},
     "output_type": "execute_result"
    }
   ],
   "source": [
    "# Ровно два мяча белые\n",
    "\n",
    "(7/10)*(6/9)*(2/11)*(1/10) + (7/10)*(3/9)*(9/11)*(2/10) + (7/10)*(3/9)*(2/11)*(9/10) + \\\n",
    "(3/10)*(7/9)*(9/11)*(2/10) + (3/10)*(7/9)*(2/11)*(9/10) + (3/10)*(2/9)*(9/11)*(8/10)"
   ]
  },
  {
   "cell_type": "code",
   "execution_count": 11,
   "metadata": {},
   "outputs": [
    {
     "data": {
      "text/plain": [
       "0.9987878787878788"
      ]
     },
     "execution_count": 11,
     "metadata": {},
     "output_type": "execute_result"
    }
   ],
   "source": [
    "# Вероятность того, что хотя бы один мяч белый?\n",
    "\n",
    "1 - (3/10*2/9*2/11*1/10)"
   ]
  }
 ],
 "metadata": {
  "kernelspec": {
   "display_name": "Python 3",
   "language": "python",
   "name": "python3"
  },
  "language_info": {
   "codemirror_mode": {
    "name": "ipython",
    "version": 3
   },
   "file_extension": ".py",
   "mimetype": "text/x-python",
   "name": "python",
   "nbconvert_exporter": "python",
   "pygments_lexer": "ipython3",
   "version": "3.8.5"
  }
 },
 "nbformat": 4,
 "nbformat_minor": 4
}
