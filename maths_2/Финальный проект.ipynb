{
 "cells": [
  {
   "cell_type": "markdown",
   "metadata": {},
   "source": [
    "# Финальный проект\n",
    "\n",
    "## Анализ датасета о размере мозга"
   ]
  },
  {
   "cell_type": "markdown",
   "metadata": {},
   "source": [
    "**Оглавление**\n",
    "\n",
    "1. Теория\n",
    "2. Односторонний t-тест\n",
    "3. Двусторонний t-тест\n",
    "4. Парный t-тест\n",
    "5. Вывод"
   ]
  },
  {
   "cell_type": "markdown",
   "metadata": {},
   "source": [
    "### Загрузка необходимых библиотек и данных"
   ]
  },
  {
   "cell_type": "code",
   "execution_count": 29,
   "metadata": {},
   "outputs": [],
   "source": [
    "# Основные библиотеки\n",
    "\n",
    "import pandas as pd\n",
    "import numpy as np\n",
    "\n",
    "# Тестирование гипотез\n",
    "\n",
    "from scipy import stats\n",
    "from statsmodels.formula.api import ols\n",
    "\n",
    "# Графики\n",
    "\n",
    "import matplotlib.pyplot as plt"
   ]
  },
  {
   "cell_type": "code",
   "execution_count": 2,
   "metadata": {},
   "outputs": [],
   "source": [
    "# Путь к файлу\n",
    "\n",
    "file = 'brain_size.csv'"
   ]
  },
  {
   "cell_type": "code",
   "execution_count": 4,
   "metadata": {},
   "outputs": [],
   "source": [
    "# Загрузка данных в таблицу\n",
    "\n",
    "df = pd.read_csv(file, sep = ';', na_values = \".\")"
   ]
  },
  {
   "cell_type": "code",
   "execution_count": 5,
   "metadata": {},
   "outputs": [
    {
     "data": {
      "text/html": [
       "<div>\n",
       "<style scoped>\n",
       "    .dataframe tbody tr th:only-of-type {\n",
       "        vertical-align: middle;\n",
       "    }\n",
       "\n",
       "    .dataframe tbody tr th {\n",
       "        vertical-align: top;\n",
       "    }\n",
       "\n",
       "    .dataframe thead th {\n",
       "        text-align: right;\n",
       "    }\n",
       "</style>\n",
       "<table border=\"1\" class=\"dataframe\">\n",
       "  <thead>\n",
       "    <tr style=\"text-align: right;\">\n",
       "      <th></th>\n",
       "      <th>Unnamed: 0</th>\n",
       "      <th>Gender</th>\n",
       "      <th>FSIQ</th>\n",
       "      <th>VIQ</th>\n",
       "      <th>PIQ</th>\n",
       "      <th>Weight</th>\n",
       "      <th>Height</th>\n",
       "      <th>MRI_Count</th>\n",
       "    </tr>\n",
       "  </thead>\n",
       "  <tbody>\n",
       "    <tr>\n",
       "      <th>0</th>\n",
       "      <td>1</td>\n",
       "      <td>Female</td>\n",
       "      <td>133</td>\n",
       "      <td>132</td>\n",
       "      <td>124</td>\n",
       "      <td>118.0</td>\n",
       "      <td>64.5</td>\n",
       "      <td>816932</td>\n",
       "    </tr>\n",
       "    <tr>\n",
       "      <th>1</th>\n",
       "      <td>2</td>\n",
       "      <td>Male</td>\n",
       "      <td>140</td>\n",
       "      <td>150</td>\n",
       "      <td>124</td>\n",
       "      <td>NaN</td>\n",
       "      <td>72.5</td>\n",
       "      <td>1001121</td>\n",
       "    </tr>\n",
       "    <tr>\n",
       "      <th>2</th>\n",
       "      <td>3</td>\n",
       "      <td>Male</td>\n",
       "      <td>139</td>\n",
       "      <td>123</td>\n",
       "      <td>150</td>\n",
       "      <td>143.0</td>\n",
       "      <td>73.3</td>\n",
       "      <td>1038437</td>\n",
       "    </tr>\n",
       "    <tr>\n",
       "      <th>3</th>\n",
       "      <td>4</td>\n",
       "      <td>Male</td>\n",
       "      <td>133</td>\n",
       "      <td>129</td>\n",
       "      <td>128</td>\n",
       "      <td>172.0</td>\n",
       "      <td>68.8</td>\n",
       "      <td>965353</td>\n",
       "    </tr>\n",
       "    <tr>\n",
       "      <th>4</th>\n",
       "      <td>5</td>\n",
       "      <td>Female</td>\n",
       "      <td>137</td>\n",
       "      <td>132</td>\n",
       "      <td>134</td>\n",
       "      <td>147.0</td>\n",
       "      <td>65.0</td>\n",
       "      <td>951545</td>\n",
       "    </tr>\n",
       "    <tr>\n",
       "      <th>5</th>\n",
       "      <td>6</td>\n",
       "      <td>Female</td>\n",
       "      <td>99</td>\n",
       "      <td>90</td>\n",
       "      <td>110</td>\n",
       "      <td>146.0</td>\n",
       "      <td>69.0</td>\n",
       "      <td>928799</td>\n",
       "    </tr>\n",
       "    <tr>\n",
       "      <th>6</th>\n",
       "      <td>7</td>\n",
       "      <td>Female</td>\n",
       "      <td>138</td>\n",
       "      <td>136</td>\n",
       "      <td>131</td>\n",
       "      <td>138.0</td>\n",
       "      <td>64.5</td>\n",
       "      <td>991305</td>\n",
       "    </tr>\n",
       "    <tr>\n",
       "      <th>7</th>\n",
       "      <td>8</td>\n",
       "      <td>Female</td>\n",
       "      <td>92</td>\n",
       "      <td>90</td>\n",
       "      <td>98</td>\n",
       "      <td>175.0</td>\n",
       "      <td>66.0</td>\n",
       "      <td>854258</td>\n",
       "    </tr>\n",
       "    <tr>\n",
       "      <th>8</th>\n",
       "      <td>9</td>\n",
       "      <td>Male</td>\n",
       "      <td>89</td>\n",
       "      <td>93</td>\n",
       "      <td>84</td>\n",
       "      <td>134.0</td>\n",
       "      <td>66.3</td>\n",
       "      <td>904858</td>\n",
       "    </tr>\n",
       "    <tr>\n",
       "      <th>9</th>\n",
       "      <td>10</td>\n",
       "      <td>Male</td>\n",
       "      <td>133</td>\n",
       "      <td>114</td>\n",
       "      <td>147</td>\n",
       "      <td>172.0</td>\n",
       "      <td>68.8</td>\n",
       "      <td>955466</td>\n",
       "    </tr>\n",
       "  </tbody>\n",
       "</table>\n",
       "</div>"
      ],
      "text/plain": [
       "   Unnamed: 0  Gender  FSIQ  VIQ  PIQ  Weight  Height  MRI_Count\n",
       "0           1  Female   133  132  124   118.0    64.5     816932\n",
       "1           2    Male   140  150  124     NaN    72.5    1001121\n",
       "2           3    Male   139  123  150   143.0    73.3    1038437\n",
       "3           4    Male   133  129  128   172.0    68.8     965353\n",
       "4           5  Female   137  132  134   147.0    65.0     951545\n",
       "5           6  Female    99   90  110   146.0    69.0     928799\n",
       "6           7  Female   138  136  131   138.0    64.5     991305\n",
       "7           8  Female    92   90   98   175.0    66.0     854258\n",
       "8           9    Male    89   93   84   134.0    66.3     904858\n",
       "9          10    Male   133  114  147   172.0    68.8     955466"
      ]
     },
     "execution_count": 5,
     "metadata": {},
     "output_type": "execute_result"
    }
   ],
   "source": [
    "# Проверка результата\n",
    "\n",
    "df.head(10)"
   ]
  },
  {
   "cell_type": "code",
   "execution_count": 11,
   "metadata": {},
   "outputs": [],
   "source": [
    "# Удаление столбца Unnamed\n",
    "\n",
    "df = df.drop(['Unnamed: 0'], axis = 1)"
   ]
  },
  {
   "cell_type": "markdown",
   "metadata": {},
   "source": [
    "---"
   ]
  },
  {
   "cell_type": "markdown",
   "metadata": {},
   "source": [
    "### Исследование данных"
   ]
  },
  {
   "cell_type": "code",
   "execution_count": 12,
   "metadata": {},
   "outputs": [
    {
     "data": {
      "text/plain": [
       "(40, 7)"
      ]
     },
     "execution_count": 12,
     "metadata": {},
     "output_type": "execute_result"
    }
   ],
   "source": [
    "# Размер таблицы\n",
    "\n",
    "df.shape"
   ]
  },
  {
   "cell_type": "code",
   "execution_count": 27,
   "metadata": {},
   "outputs": [
    {
     "data": {
      "text/plain": [
       "<bound method NDFrame.describe of     Gender  FSIQ  VIQ  PIQ  Weight  Height  MRI_Count\n",
       "0   Female   133  132  124   118.0    64.5     816932\n",
       "1     Male   140  150  124     NaN    72.5    1001121\n",
       "2     Male   139  123  150   143.0    73.3    1038437\n",
       "3     Male   133  129  128   172.0    68.8     965353\n",
       "4   Female   137  132  134   147.0    65.0     951545\n",
       "5   Female    99   90  110   146.0    69.0     928799\n",
       "6   Female   138  136  131   138.0    64.5     991305\n",
       "7   Female    92   90   98   175.0    66.0     854258\n",
       "8     Male    89   93   84   134.0    66.3     904858\n",
       "9     Male   133  114  147   172.0    68.8     955466\n",
       "10  Female   132  129  124   118.0    64.5     833868\n",
       "11    Male   141  150  128   151.0    70.0    1079549\n",
       "12    Male   135  129  124   155.0    69.0     924059\n",
       "13  Female   140  120  147   155.0    70.5     856472\n",
       "14  Female    96  100   90   146.0    66.0     878897\n",
       "15  Female    83   71   96   135.0    68.0     865363\n",
       "16  Female   132  132  120   127.0    68.5     852244\n",
       "17    Male   100   96  102   178.0    73.5     945088\n",
       "18  Female   101  112   84   136.0    66.3     808020\n",
       "19    Male    80   77   86   180.0    70.0     889083\n",
       "20    Male    83   83   86     NaN     NaN     892420\n",
       "21    Male    97  107   84   186.0    76.5     905940\n",
       "22  Female   135  129  134   122.0    62.0     790619\n",
       "23    Male   139  145  128   132.0    68.0     955003\n",
       "24  Female    91   86  102   114.0    63.0     831772\n",
       "25    Male   141  145  131   171.0    72.0     935494\n",
       "26  Female    85   90   84   140.0    68.0     798612\n",
       "27    Male   103   96  110   187.0    77.0    1062462\n",
       "28  Female    77   83   72   106.0    63.0     793549\n",
       "29  Female   130  126  124   159.0    66.5     866662\n",
       "30  Female   133  126  132   127.0    62.5     857782\n",
       "31    Male   144  145  137   191.0    67.0     949589\n",
       "32    Male   103   96  110   192.0    75.5     997925\n",
       "33    Male    90   96   86   181.0    69.0     879987\n",
       "34  Female    83   90   81   143.0    66.5     834344\n",
       "35  Female   133  129  128   153.0    66.5     948066\n",
       "36    Male   140  150  124   144.0    70.5     949395\n",
       "37  Female    88   86   94   139.0    64.5     893983\n",
       "38    Male    81   90   74   148.0    74.0     930016\n",
       "39    Male    89   91   89   179.0    75.5     935863>"
      ]
     },
     "execution_count": 27,
     "metadata": {},
     "output_type": "execute_result"
    }
   ],
   "source": [
    "df.describe"
   ]
  },
  {
   "cell_type": "code",
   "execution_count": 14,
   "metadata": {},
   "outputs": [
    {
     "data": {
      "text/plain": [
       "Index(['Gender', 'FSIQ', 'VIQ', 'PIQ', 'Weight', 'Height', 'MRI_Count'], dtype='object')"
      ]
     },
     "execution_count": 14,
     "metadata": {},
     "output_type": "execute_result"
    }
   ],
   "source": [
    "# Столбцы\n",
    "\n",
    "df.columns"
   ]
  },
  {
   "cell_type": "markdown",
   "metadata": {},
   "source": [
    "**Описание столбцов таблицы:**\n",
    "\n",
    "- **Gender** - пол\n",
    "- **FSIQ** - полномасштабный коэффициент интеллекта (когнитивные способности)\n",
    "- **VIQ** - коэффициент вербального интеллекта\n",
    "- **PIQ** - коэффициент интеллекта производительности\n",
    "- **Weight** - вес\n",
    "- **Height** - рост\n",
    "- **MRI_Count** - МРТ (магнитные поля и радиоволны)"
   ]
  },
  {
   "cell_type": "code",
   "execution_count": 22,
   "metadata": {},
   "outputs": [
    {
     "data": {
      "image/png": "[encoded data removed]",
      "text/plain": [
       "<Figure size 432x288 with 2 Axes>"
      ]
     },
     "metadata": {
      "needs_background": "light"
     },
     "output_type": "display_data"
    }
   ],
   "source": [
    "# Распределение FSIQ, VIQ, PIQ в зависимости от пола\n",
    "\n",
    "gender_group = df.groupby('Gender')\n",
    "\n",
    "gender_group.boxplot(column = ['FSIQ', 'VIQ', 'PIQ'])\n",
    "plt.show()"
   ]
  },
  {
   "cell_type": "markdown",
   "metadata": {},
   "source": [
    "---"
   ]
  },
  {
   "cell_type": "markdown",
   "metadata": {},
   "source": [
    "### t-Тест Стьюдента"
   ]
  },
  {
   "cell_type": "markdown",
   "metadata": {},
   "source": [
    "**Односторонний тест**\n",
    "\n",
    "Если среднее значение по популяции, скорее всего, будет равно заданному значению. Возвращает Т-статистику и р-значение"
   ]
  },
  {
   "cell_type": "code",
   "execution_count": 25,
   "metadata": {},
   "outputs": [
    {
     "data": {
      "text/plain": [
       "Ttest_1sampResult(statistic=30.088099970849328, pvalue=1.3289196468728067e-28)"
      ]
     },
     "execution_count": 25,
     "metadata": {},
     "output_type": "execute_result"
    }
   ],
   "source": [
    "# Среднее значение по VIQ равно 0?\n",
    "\n",
    "stats.ttest_1samp(df['VIQ'], 0)"
   ]
  },
  {
   "cell_type": "markdown",
   "metadata": {},
   "source": [
    "**Двусторонний тест**\n",
    "\n",
    "Тестирование на разницу между популяциями"
   ]
  },
  {
   "cell_type": "code",
   "execution_count": 26,
   "metadata": {},
   "outputs": [
    {
     "data": {
      "text/plain": [
       "Ttest_indResult(statistic=-0.7726161723275011, pvalue=0.44452876778583217)"
      ]
     },
     "execution_count": 26,
     "metadata": {},
     "output_type": "execute_result"
    }
   ],
   "source": [
    "# Выборки\n",
    "\n",
    "f_viq = df[df['Gender'] == 'Female']['VIQ']\n",
    "m_viq = df[df['Gender'] == 'Male']['VIQ']\n",
    "\n",
    "# Тест\n",
    "\n",
    "stats.ttest_ind(f_viq, m_viq) "
   ]
  },
  {
   "cell_type": "markdown",
   "metadata": {},
   "source": [
    "**Ошибки**\n",
    "\n",
    "t-тесты предполагают гауссовские ошибки"
   ]
  },
  {
   "cell_type": "code",
   "execution_count": 28,
   "metadata": {},
   "outputs": [
    {
     "data": {
      "text/plain": [
       "WilcoxonResult(statistic=274.5, pvalue=0.10659492713506856)"
      ]
     },
     "execution_count": 28,
     "metadata": {},
     "output_type": "execute_result"
    }
   ],
   "source": [
    "stats.wilcoxon(df['FSIQ'], df['PIQ'])"
   ]
  },
  {
   "cell_type": "markdown",
   "metadata": {},
   "source": [
    "**Результат:**\n",
    "Данные не поддерживают гипотезу о том, что представители мужского и женского рода имеют разные VIQ"
   ]
  },
  {
   "cell_type": "markdown",
   "metadata": {},
   "source": [
    "---"
   ]
  },
  {
   "cell_type": "markdown",
   "metadata": {},
   "source": [
    "### Статистическая модель OLS"
   ]
  },
  {
   "cell_type": "markdown",
   "metadata": {},
   "source": [
    "Сравнение между IQ мужчин и женщин используя OLS (линейная модель)"
   ]
  },
  {
   "cell_type": "code",
   "execution_count": 30,
   "metadata": {},
   "outputs": [],
   "source": [
    "# Загрузка модели данными\n",
    "\n",
    "model = ols(\"VIQ ~ Gender + 1\", df).fit()"
   ]
  },
  {
   "cell_type": "code",
   "execution_count": 31,
   "metadata": {},
   "outputs": [
    {
     "name": "stdout",
     "output_type": "stream",
     "text": [
      "                            OLS Regression Results                            \n",
      "==============================================================================\n",
      "Dep. Variable:                    VIQ   R-squared:                       0.015\n",
      "Model:                            OLS   Adj. R-squared:                 -0.010\n",
      "Method:                 Least Squares   F-statistic:                    0.5969\n",
      "Date:                Mon, 19 Apr 2021   Prob (F-statistic):              0.445\n",
      "Time:                        15:31:58   Log-Likelihood:                -182.42\n",
      "No. Observations:                  40   AIC:                             368.8\n",
      "Df Residuals:                      38   BIC:                             372.2\n",
      "Df Model:                           1                                         \n",
      "Covariance Type:            nonrobust                                         \n",
      "==================================================================================\n",
      "                     coef    std err          t      P>|t|      [0.025      0.975]\n",
      "----------------------------------------------------------------------------------\n",
      "Intercept        109.4500      5.308     20.619      0.000      98.704     120.196\n",
      "Gender[T.Male]     5.8000      7.507      0.773      0.445      -9.397      20.997\n",
      "==============================================================================\n",
      "Omnibus:                       26.188   Durbin-Watson:                   1.709\n",
      "Prob(Omnibus):                  0.000   Jarque-Bera (JB):                3.703\n",
      "Skew:                           0.010   Prob(JB):                        0.157\n",
      "Kurtosis:                       1.510   Cond. No.                         2.62\n",
      "==============================================================================\n",
      "\n",
      "Notes:\n",
      "[1] Standard Errors assume that the covariance matrix of the errors is correctly specified.\n"
     ]
    }
   ],
   "source": [
    "# Проверка результата\n",
    "\n",
    "print(model.summary())"
   ]
  },
  {
   "cell_type": "markdown",
   "metadata": {},
   "source": [
    "**Интерпретация (значимых) результатов**\n",
    "\n",
    "- **R-squared** - означает \"процентное изменение зависимости, которое объясняется независимыми переменными\". Здесь 1,5%. Эта статистика имеет недостаток, она увеличивается с увеличением количества предикторов (зависимых переменных). Следовательно, она становится неубедительной в случае, когда принимается решение о добавлении дополнительной переменной к предсказуемости регрессии.\n",
    "\n",
    "\n",
    "- **Adj.R-squared** - модифицированная версия R-squared, которая корректируется на количество переменных в регрессии. Она увеличивается только тогда, когда дополнительная переменная добавляется к объяснительной силе регрессии.\n",
    "\n",
    "\n",
    "- **Prob(F-Statistic)** - говорит об общей значимости регрессии. Это позволяет оценить уровень значимости всех переменных вместе, в отличие от t-статистики, измеряющей его для отдельных переменных. Нулевой гипотезой при этом является \"все коэффициенты регрессии равны нулю\". Prob(F-Statistic) отображает вероятность того, что нулевая гипотеза верна, в этом случае 44.5%.\n",
    "\n",
    "\n",
    "- **AIC / BIC** - AIC расшифровывается как \"Информационные критерии Акайке\" и используется для подбора моделей. Он наказывает режим \"Ошибки\" в случае добавления новой переменной в уравнение регрессии. Вычисляется как количество параметров минус вероятность общей модели. Нижняя AIC подразумевает более качественную модель. В то время как BIC означает Байесовские информационные критерии и является вариантом AIC, в котором штрафные санкции делаются более строгими.\n",
    "\n",
    "\n",
    "- **Prob(Omnibus)** - одно из предположений OLS заключается в том, что ошибки распределены нормально. Для проверки этого выполняется многопрофильный тест. Здесь нулевая гипотеза заключается в том, что ошибки распределены нормально. Предполагается, что Prob(Омнибус) должен быть близок к 1, чтобы он удовлетворял предположению OLS. В этом случае Prob(Omnibus) равен 0.000, что означает, что предположение OLS не удовлетворяет. В связи с этим оцененные из него коэффициенты не являются лучшими линейными несмещенными оценщиками (BLUE).\n",
    "\n",
    "\n",
    "- **Durbin-watson** - означает, что дисперсия ошибок постоянна. Предпочтительно значение от 1 до 2. Здесь ~1.7 означает, что результаты регрессии достоверны с интерпретационной стороны данной метрики.\n",
    "\n",
    "\n",
    "- **Prob(Jarque-Bera)** - соответствует тесту Omnibus. Он также выполняется для анализа распределения ошибок регрессии. Предполагается, что он согласуется с результатами теста Omnibus. Большое значение теста JB указывает на то, что ошибки распределены не нормально."
   ]
  },
  {
   "cell_type": "markdown",
   "metadata": {},
   "source": [
    "---"
   ]
  }
 ],
 "metadata": {
  "kernelspec": {
   "display_name": "Python 3",
   "language": "python",
   "name": "python3"
  },
  "language_info": {
   "codemirror_mode": {
    "name": "ipython",
    "version": 3
   },
   "file_extension": ".py",
   "mimetype": "text/x-python",
   "name": "python",
   "nbconvert_exporter": "python",
   "pygments_lexer": "ipython3",
   "version": "3.8.5"
  }
 },
 "nbformat": 4,
 "nbformat_minor": 4
}
